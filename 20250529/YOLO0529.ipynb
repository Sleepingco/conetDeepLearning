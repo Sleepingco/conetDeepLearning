{
  "cells": [
    {
      "cell_type": "code",
      "execution_count": 1,
      "metadata": {
        "colab": {
          "base_uri": "https://localhost:8080/"
        },
        "collapsed": true,
        "id": "zTxuD-ubBs9B",
        "outputId": "b7d61ca8-ad7b-45ed-ff01-f3bb5bd4802e"
      },
      "outputs": [
        {
          "name": "stdout",
          "output_type": "stream",
          "text": [
            "Collecting ultralytics\n",
            "  Downloading ultralytics-8.3.146-py3-none-any.whl.metadata (37 kB)\n",
            "Requirement already satisfied: numpy>=1.23.0 in /usr/local/lib/python3.11/dist-packages (from ultralytics) (2.0.2)\n",
            "Requirement already satisfied: matplotlib>=3.3.0 in /usr/local/lib/python3.11/dist-packages (from ultralytics) (3.10.0)\n",
            "Requirement already satisfied: opencv-python>=4.6.0 in /usr/local/lib/python3.11/dist-packages (from ultralytics) (4.11.0.86)\n",
            "Requirement already satisfied: pillow>=7.1.2 in /usr/local/lib/python3.11/dist-packages (from ultralytics) (11.2.1)\n",
            "Requirement already satisfied: pyyaml>=5.3.1 in /usr/local/lib/python3.11/dist-packages (from ultralytics) (6.0.2)\n",
            "Requirement already satisfied: requests>=2.23.0 in /usr/local/lib/python3.11/dist-packages (from ultralytics) (2.32.3)\n",
            "Requirement already satisfied: scipy>=1.4.1 in /usr/local/lib/python3.11/dist-packages (from ultralytics) (1.15.3)\n",
            "Requirement already satisfied: torch>=1.8.0 in /usr/local/lib/python3.11/dist-packages (from ultralytics) (2.6.0+cu124)\n",
            "Requirement already satisfied: torchvision>=0.9.0 in /usr/local/lib/python3.11/dist-packages (from ultralytics) (0.21.0+cu124)\n",
            "Requirement already satisfied: tqdm>=4.64.0 in /usr/local/lib/python3.11/dist-packages (from ultralytics) (4.67.1)\n",
            "Requirement already satisfied: psutil in /usr/local/lib/python3.11/dist-packages (from ultralytics) (5.9.5)\n",
            "Requirement already satisfied: py-cpuinfo in /usr/local/lib/python3.11/dist-packages (from ultralytics) (9.0.0)\n",
            "Requirement already satisfied: pandas>=1.1.4 in /usr/local/lib/python3.11/dist-packages (from ultralytics) (2.2.2)\n",
            "Collecting ultralytics-thop>=2.0.0 (from ultralytics)\n",
            "  Downloading ultralytics_thop-2.0.14-py3-none-any.whl.metadata (9.4 kB)\n",
            "Requirement already satisfied: contourpy>=1.0.1 in /usr/local/lib/python3.11/dist-packages (from matplotlib>=3.3.0->ultralytics) (1.3.2)\n",
            "Requirement already satisfied: cycler>=0.10 in /usr/local/lib/python3.11/dist-packages (from matplotlib>=3.3.0->ultralytics) (0.12.1)\n",
            "Requirement already satisfied: fonttools>=4.22.0 in /usr/local/lib/python3.11/dist-packages (from matplotlib>=3.3.0->ultralytics) (4.58.0)\n",
            "Requirement already satisfied: kiwisolver>=1.3.1 in /usr/local/lib/python3.11/dist-packages (from matplotlib>=3.3.0->ultralytics) (1.4.8)\n",
            "Requirement already satisfied: packaging>=20.0 in /usr/local/lib/python3.11/dist-packages (from matplotlib>=3.3.0->ultralytics) (24.2)\n",
            "Requirement already satisfied: pyparsing>=2.3.1 in /usr/local/lib/python3.11/dist-packages (from matplotlib>=3.3.0->ultralytics) (3.2.3)\n",
            "Requirement already satisfied: python-dateutil>=2.7 in /usr/local/lib/python3.11/dist-packages (from matplotlib>=3.3.0->ultralytics) (2.9.0.post0)\n",
            "Requirement already satisfied: pytz>=2020.1 in /usr/local/lib/python3.11/dist-packages (from pandas>=1.1.4->ultralytics) (2025.2)\n",
            "Requirement already satisfied: tzdata>=2022.7 in /usr/local/lib/python3.11/dist-packages (from pandas>=1.1.4->ultralytics) (2025.2)\n",
            "Requirement already satisfied: charset-normalizer<4,>=2 in /usr/local/lib/python3.11/dist-packages (from requests>=2.23.0->ultralytics) (3.4.2)\n",
            "Requirement already satisfied: idna<4,>=2.5 in /usr/local/lib/python3.11/dist-packages (from requests>=2.23.0->ultralytics) (3.10)\n",
            "Requirement already satisfied: urllib3<3,>=1.21.1 in /usr/local/lib/python3.11/dist-packages (from requests>=2.23.0->ultralytics) (2.4.0)\n",
            "Requirement already satisfied: certifi>=2017.4.17 in /usr/local/lib/python3.11/dist-packages (from requests>=2.23.0->ultralytics) (2025.4.26)\n",
            "Requirement already satisfied: filelock in /usr/local/lib/python3.11/dist-packages (from torch>=1.8.0->ultralytics) (3.18.0)\n",
            "Requirement already satisfied: typing-extensions>=4.10.0 in /usr/local/lib/python3.11/dist-packages (from torch>=1.8.0->ultralytics) (4.13.2)\n",
            "Requirement already satisfied: networkx in /usr/local/lib/python3.11/dist-packages (from torch>=1.8.0->ultralytics) (3.4.2)\n",
            "Requirement already satisfied: jinja2 in /usr/local/lib/python3.11/dist-packages (from torch>=1.8.0->ultralytics) (3.1.6)\n",
            "Requirement already satisfied: fsspec in /usr/local/lib/python3.11/dist-packages (from torch>=1.8.0->ultralytics) (2025.3.2)\n",
            "Collecting nvidia-cuda-nvrtc-cu12==12.4.127 (from torch>=1.8.0->ultralytics)\n",
            "  Downloading nvidia_cuda_nvrtc_cu12-12.4.127-py3-none-manylinux2014_x86_64.whl.metadata (1.5 kB)\n",
            "Collecting nvidia-cuda-runtime-cu12==12.4.127 (from torch>=1.8.0->ultralytics)\n",
            "  Downloading nvidia_cuda_runtime_cu12-12.4.127-py3-none-manylinux2014_x86_64.whl.metadata (1.5 kB)\n",
            "Collecting nvidia-cuda-cupti-cu12==12.4.127 (from torch>=1.8.0->ultralytics)\n",
            "  Downloading nvidia_cuda_cupti_cu12-12.4.127-py3-none-manylinux2014_x86_64.whl.metadata (1.6 kB)\n",
            "Collecting nvidia-cudnn-cu12==9.1.0.70 (from torch>=1.8.0->ultralytics)\n",
            "  Downloading nvidia_cudnn_cu12-9.1.0.70-py3-none-manylinux2014_x86_64.whl.metadata (1.6 kB)\n",
            "Collecting nvidia-cublas-cu12==12.4.5.8 (from torch>=1.8.0->ultralytics)\n",
            "  Downloading nvidia_cublas_cu12-12.4.5.8-py3-none-manylinux2014_x86_64.whl.metadata (1.5 kB)\n",
            "Collecting nvidia-cufft-cu12==11.2.1.3 (from torch>=1.8.0->ultralytics)\n",
            "  Downloading nvidia_cufft_cu12-11.2.1.3-py3-none-manylinux2014_x86_64.whl.metadata (1.5 kB)\n",
            "Collecting nvidia-curand-cu12==10.3.5.147 (from torch>=1.8.0->ultralytics)\n",
            "  Downloading nvidia_curand_cu12-10.3.5.147-py3-none-manylinux2014_x86_64.whl.metadata (1.5 kB)\n",
            "Collecting nvidia-cusolver-cu12==11.6.1.9 (from torch>=1.8.0->ultralytics)\n",
            "  Downloading nvidia_cusolver_cu12-11.6.1.9-py3-none-manylinux2014_x86_64.whl.metadata (1.6 kB)\n",
            "Collecting nvidia-cusparse-cu12==12.3.1.170 (from torch>=1.8.0->ultralytics)\n",
            "  Downloading nvidia_cusparse_cu12-12.3.1.170-py3-none-manylinux2014_x86_64.whl.metadata (1.6 kB)\n",
            "Requirement already satisfied: nvidia-cusparselt-cu12==0.6.2 in /usr/local/lib/python3.11/dist-packages (from torch>=1.8.0->ultralytics) (0.6.2)\n",
            "Requirement already satisfied: nvidia-nccl-cu12==2.21.5 in /usr/local/lib/python3.11/dist-packages (from torch>=1.8.0->ultralytics) (2.21.5)\n",
            "Requirement already satisfied: nvidia-nvtx-cu12==12.4.127 in /usr/local/lib/python3.11/dist-packages (from torch>=1.8.0->ultralytics) (12.4.127)\n",
            "Collecting nvidia-nvjitlink-cu12==12.4.127 (from torch>=1.8.0->ultralytics)\n",
            "  Downloading nvidia_nvjitlink_cu12-12.4.127-py3-none-manylinux2014_x86_64.whl.metadata (1.5 kB)\n",
            "Requirement already satisfied: triton==3.2.0 in /usr/local/lib/python3.11/dist-packages (from torch>=1.8.0->ultralytics) (3.2.0)\n",
            "Requirement already satisfied: sympy==1.13.1 in /usr/local/lib/python3.11/dist-packages (from torch>=1.8.0->ultralytics) (1.13.1)\n",
            "Requirement already satisfied: mpmath<1.4,>=1.1.0 in /usr/local/lib/python3.11/dist-packages (from sympy==1.13.1->torch>=1.8.0->ultralytics) (1.3.0)\n",
            "Requirement already satisfied: six>=1.5 in /usr/local/lib/python3.11/dist-packages (from python-dateutil>=2.7->matplotlib>=3.3.0->ultralytics) (1.17.0)\n",
            "Requirement already satisfied: MarkupSafe>=2.0 in /usr/local/lib/python3.11/dist-packages (from jinja2->torch>=1.8.0->ultralytics) (3.0.2)\n",
            "Downloading ultralytics-8.3.146-py3-none-any.whl (1.0 MB)\n",
            "\u001b[2K   \u001b[90m━━━━━━━━━━━━━━━━━━━━━━━━━━━━━━━━━━━━━━━━\u001b[0m \u001b[32m1.0/1.0 MB\u001b[0m \u001b[31m50.4 MB/s\u001b[0m eta \u001b[36m0:00:00\u001b[0m\n",
            "\u001b[?25hDownloading nvidia_cublas_cu12-12.4.5.8-py3-none-manylinux2014_x86_64.whl (363.4 MB)\n",
            "\u001b[2K   \u001b[90m━━━━━━━━━━━━━━━━━━━━━━━━━━━━━━━━━━━━━━━━\u001b[0m \u001b[32m363.4/363.4 MB\u001b[0m \u001b[31m2.7 MB/s\u001b[0m eta \u001b[36m0:00:00\u001b[0m\n",
            "\u001b[?25hDownloading nvidia_cuda_cupti_cu12-12.4.127-py3-none-manylinux2014_x86_64.whl (13.8 MB)\n",
            "\u001b[2K   \u001b[90m━━━━━━━━━━━━━━━━━━━━━━━━━━━━━━━━━━━━━━━━\u001b[0m \u001b[32m13.8/13.8 MB\u001b[0m \u001b[31m124.1 MB/s\u001b[0m eta \u001b[36m0:00:00\u001b[0m\n",
            "\u001b[?25hDownloading nvidia_cuda_nvrtc_cu12-12.4.127-py3-none-manylinux2014_x86_64.whl (24.6 MB)\n",
            "\u001b[2K   \u001b[90m━━━━━━━━━━━━━━━━━━━━━━━━━━━━━━━━━━━━━━━━\u001b[0m \u001b[32m24.6/24.6 MB\u001b[0m \u001b[31m94.8 MB/s\u001b[0m eta \u001b[36m0:00:00\u001b[0m\n",
            "\u001b[?25hDownloading nvidia_cuda_runtime_cu12-12.4.127-py3-none-manylinux2014_x86_64.whl (883 kB)\n",
            "\u001b[2K   \u001b[90m━━━━━━━━━━━━━━━━━━━━━━━━━━━━━━━━━━━━━━━━\u001b[0m \u001b[32m883.7/883.7 kB\u001b[0m \u001b[31m58.5 MB/s\u001b[0m eta \u001b[36m0:00:00\u001b[0m\n",
            "\u001b[?25hDownloading nvidia_cudnn_cu12-9.1.0.70-py3-none-manylinux2014_x86_64.whl (664.8 MB)\n",
            "\u001b[2K   \u001b[90m━━━━━━━━━━━━━━━━━━━━━━━━━━━━━━━━━━━━━━━━\u001b[0m \u001b[32m664.8/664.8 MB\u001b[0m \u001b[31m2.1 MB/s\u001b[0m eta \u001b[36m0:00:00\u001b[0m\n",
            "\u001b[?25hDownloading nvidia_cufft_cu12-11.2.1.3-py3-none-manylinux2014_x86_64.whl (211.5 MB)\n",
            "\u001b[2K   \u001b[90m━━━━━━━━━━━━━━━━━━━━━━━━━━━━━━━━━━━━━━━━\u001b[0m \u001b[32m211.5/211.5 MB\u001b[0m \u001b[31m5.1 MB/s\u001b[0m eta \u001b[36m0:00:00\u001b[0m\n",
            "\u001b[?25hDownloading nvidia_curand_cu12-10.3.5.147-py3-none-manylinux2014_x86_64.whl (56.3 MB)\n",
            "\u001b[2K   \u001b[90m━━━━━━━━━━━━━━━━━━━━━━━━━━━━━━━━━━━━━━━━\u001b[0m \u001b[32m56.3/56.3 MB\u001b[0m \u001b[31m16.8 MB/s\u001b[0m eta \u001b[36m0:00:00\u001b[0m\n",
            "\u001b[?25hDownloading nvidia_cusolver_cu12-11.6.1.9-py3-none-manylinux2014_x86_64.whl (127.9 MB)\n",
            "\u001b[2K   \u001b[90m━━━━━━━━━━━━━━━━━━━━━━━━━━━━━━━━━━━━━━━━\u001b[0m \u001b[32m127.9/127.9 MB\u001b[0m \u001b[31m7.2 MB/s\u001b[0m eta \u001b[36m0:00:00\u001b[0m\n",
            "\u001b[?25hDownloading nvidia_cusparse_cu12-12.3.1.170-py3-none-manylinux2014_x86_64.whl (207.5 MB)\n",
            "\u001b[2K   \u001b[90m━━━━━━━━━━━━━━━━━━━━━━━━━━━━━━━━━━━━━━━━\u001b[0m \u001b[32m207.5/207.5 MB\u001b[0m \u001b[31m5.8 MB/s\u001b[0m eta \u001b[36m0:00:00\u001b[0m\n",
            "\u001b[?25hDownloading nvidia_nvjitlink_cu12-12.4.127-py3-none-manylinux2014_x86_64.whl (21.1 MB)\n",
            "\u001b[2K   \u001b[90m━━━━━━━━━━━━━━━━━━━━━━━━━━━━━━━━━━━━━━━━\u001b[0m \u001b[32m21.1/21.1 MB\u001b[0m \u001b[31m43.8 MB/s\u001b[0m eta \u001b[36m0:00:00\u001b[0m\n",
            "\u001b[?25hDownloading ultralytics_thop-2.0.14-py3-none-any.whl (26 kB)\n",
            "Installing collected packages: nvidia-nvjitlink-cu12, nvidia-curand-cu12, nvidia-cufft-cu12, nvidia-cuda-runtime-cu12, nvidia-cuda-nvrtc-cu12, nvidia-cuda-cupti-cu12, nvidia-cublas-cu12, nvidia-cusparse-cu12, nvidia-cudnn-cu12, nvidia-cusolver-cu12, ultralytics-thop, ultralytics\n",
            "  Attempting uninstall: nvidia-nvjitlink-cu12\n",
            "    Found existing installation: nvidia-nvjitlink-cu12 12.5.82\n",
            "    Uninstalling nvidia-nvjitlink-cu12-12.5.82:\n",
            "      Successfully uninstalled nvidia-nvjitlink-cu12-12.5.82\n",
            "  Attempting uninstall: nvidia-curand-cu12\n",
            "    Found existing installation: nvidia-curand-cu12 10.3.6.82\n",
            "    Uninstalling nvidia-curand-cu12-10.3.6.82:\n",
            "      Successfully uninstalled nvidia-curand-cu12-10.3.6.82\n",
            "  Attempting uninstall: nvidia-cufft-cu12\n",
            "    Found existing installation: nvidia-cufft-cu12 11.2.3.61\n",
            "    Uninstalling nvidia-cufft-cu12-11.2.3.61:\n",
            "      Successfully uninstalled nvidia-cufft-cu12-11.2.3.61\n",
            "  Attempting uninstall: nvidia-cuda-runtime-cu12\n",
            "    Found existing installation: nvidia-cuda-runtime-cu12 12.5.82\n",
            "    Uninstalling nvidia-cuda-runtime-cu12-12.5.82:\n",
            "      Successfully uninstalled nvidia-cuda-runtime-cu12-12.5.82\n",
            "  Attempting uninstall: nvidia-cuda-nvrtc-cu12\n",
            "    Found existing installation: nvidia-cuda-nvrtc-cu12 12.5.82\n",
            "    Uninstalling nvidia-cuda-nvrtc-cu12-12.5.82:\n",
            "      Successfully uninstalled nvidia-cuda-nvrtc-cu12-12.5.82\n",
            "  Attempting uninstall: nvidia-cuda-cupti-cu12\n",
            "    Found existing installation: nvidia-cuda-cupti-cu12 12.5.82\n",
            "    Uninstalling nvidia-cuda-cupti-cu12-12.5.82:\n",
            "      Successfully uninstalled nvidia-cuda-cupti-cu12-12.5.82\n",
            "  Attempting uninstall: nvidia-cublas-cu12\n",
            "    Found existing installation: nvidia-cublas-cu12 12.5.3.2\n",
            "    Uninstalling nvidia-cublas-cu12-12.5.3.2:\n",
            "      Successfully uninstalled nvidia-cublas-cu12-12.5.3.2\n",
            "  Attempting uninstall: nvidia-cusparse-cu12\n",
            "    Found existing installation: nvidia-cusparse-cu12 12.5.1.3\n",
            "    Uninstalling nvidia-cusparse-cu12-12.5.1.3:\n",
            "      Successfully uninstalled nvidia-cusparse-cu12-12.5.1.3\n",
            "  Attempting uninstall: nvidia-cudnn-cu12\n",
            "    Found existing installation: nvidia-cudnn-cu12 9.3.0.75\n",
            "    Uninstalling nvidia-cudnn-cu12-9.3.0.75:\n",
            "      Successfully uninstalled nvidia-cudnn-cu12-9.3.0.75\n",
            "  Attempting uninstall: nvidia-cusolver-cu12\n",
            "    Found existing installation: nvidia-cusolver-cu12 11.6.3.83\n",
            "    Uninstalling nvidia-cusolver-cu12-11.6.3.83:\n",
            "      Successfully uninstalled nvidia-cusolver-cu12-11.6.3.83\n",
            "Successfully installed nvidia-cublas-cu12-12.4.5.8 nvidia-cuda-cupti-cu12-12.4.127 nvidia-cuda-nvrtc-cu12-12.4.127 nvidia-cuda-runtime-cu12-12.4.127 nvidia-cudnn-cu12-9.1.0.70 nvidia-cufft-cu12-11.2.1.3 nvidia-curand-cu12-10.3.5.147 nvidia-cusolver-cu12-11.6.1.9 nvidia-cusparse-cu12-12.3.1.170 nvidia-nvjitlink-cu12-12.4.127 ultralytics-8.3.146 ultralytics-thop-2.0.14\n"
          ]
        }
      ],
      "source": [
        "!pip install ultralytics"
      ]
    },
    {
      "cell_type": "code",
      "execution_count": 2,
      "metadata": {
        "colab": {
          "base_uri": "https://localhost:8080/"
        },
        "collapsed": true,
        "id": "vHUzqRJeCaKj",
        "outputId": "db9fb49b-549e-4ee5-a079-0e61f20273a7"
      },
      "outputs": [
        {
          "name": "stdout",
          "output_type": "stream",
          "text": [
            "Creating new Ultralytics Settings v0.0.6 file ✅ \n",
            "View Ultralytics Settings with 'yolo settings' or at '/root/.config/Ultralytics/settings.json'\n",
            "Update Settings with 'yolo settings key=value', i.e. 'yolo settings runs_dir=path/to/dir'. For help see https://docs.ultralytics.com/quickstart/#ultralytics-settings.\n",
            "Downloading https://github.com/ultralytics/assets/releases/download/v8.3.0/yolov8n.pt to 'yolov8n.pt'...\n"
          ]
        },
        {
          "name": "stderr",
          "output_type": "stream",
          "text": [
            "100%|██████████| 6.25M/6.25M [00:00<00:00, 324MB/s]"
          ]
        },
        {
          "name": "stdout",
          "output_type": "stream",
          "text": [
            "WARNING ⚠️ Environment does not support cv2.imshow() or PIL Image.show()\n",
            "\n"
          ]
        },
        {
          "name": "stderr",
          "output_type": "stream",
          "text": [
            "\n"
          ]
        },
        {
          "name": "stdout",
          "output_type": "stream",
          "text": [
            "\n",
            "image 1/1 /content/man_car_cat.jpg: 640x480 30 persons, 10 cars, 1 cat, 4 dogs, 9 chairs, 1 potted plant, 8 dining tables, 52.7ms\n",
            "Speed: 21.1ms preprocess, 52.7ms inference, 546.4ms postprocess per image at shape (1, 3, 640, 480)\n",
            "Results saved to \u001b[1mruns/detect/predict\u001b[0m\n",
            "Image predict result: [ultralytics.engine.results.Results object with attributes:\n",
            "\n",
            "boxes: ultralytics.engine.results.Boxes object\n",
            "keypoints: None\n",
            "masks: None\n",
            "names: {0: 'person', 1: 'bicycle', 2: 'car', 3: 'motorcycle', 4: 'airplane', 5: 'bus', 6: 'train', 7: 'truck', 8: 'boat', 9: 'traffic light', 10: 'fire hydrant', 11: 'stop sign', 12: 'parking meter', 13: 'bench', 14: 'bird', 15: 'cat', 16: 'dog', 17: 'horse', 18: 'sheep', 19: 'cow', 20: 'elephant', 21: 'bear', 22: 'zebra', 23: 'giraffe', 24: 'backpack', 25: 'umbrella', 26: 'handbag', 27: 'tie', 28: 'suitcase', 29: 'frisbee', 30: 'skis', 31: 'snowboard', 32: 'sports ball', 33: 'kite', 34: 'baseball bat', 35: 'baseball glove', 36: 'skateboard', 37: 'surfboard', 38: 'tennis racket', 39: 'bottle', 40: 'wine glass', 41: 'cup', 42: 'fork', 43: 'knife', 44: 'spoon', 45: 'bowl', 46: 'banana', 47: 'apple', 48: 'sandwich', 49: 'orange', 50: 'broccoli', 51: 'carrot', 52: 'hot dog', 53: 'pizza', 54: 'donut', 55: 'cake', 56: 'chair', 57: 'couch', 58: 'potted plant', 59: 'bed', 60: 'dining table', 61: 'toilet', 62: 'tv', 63: 'laptop', 64: 'mouse', 65: 'remote', 66: 'keyboard', 67: 'cell phone', 68: 'microwave', 69: 'oven', 70: 'toaster', 71: 'sink', 72: 'refrigerator', 73: 'book', 74: 'clock', 75: 'vase', 76: 'scissors', 77: 'teddy bear', 78: 'hair drier', 79: 'toothbrush'}\n",
            "obb: None\n",
            "orig_img: array([[[ 37,  35,  35],\n",
            "        [ 29,  27,  27],\n",
            "        [ 24,  22,  22],\n",
            "        ...,\n",
            "        [ 37,  70,  56],\n",
            "        [ 52,  82,  71],\n",
            "        [ 49,  79,  68]],\n",
            "\n",
            "       [[ 42,  40,  40],\n",
            "        [ 34,  32,  32],\n",
            "        [ 29,  27,  27],\n",
            "        ...,\n",
            "        [ 44,  77,  63],\n",
            "        [ 43,  73,  62],\n",
            "        [ 25,  55,  44]],\n",
            "\n",
            "       [[ 43,  41,  41],\n",
            "        [ 37,  35,  35],\n",
            "        [ 33,  31,  31],\n",
            "        ...,\n",
            "        [ 38,  68,  55],\n",
            "        [ 33,  63,  52],\n",
            "        [ 31,  61,  50]],\n",
            "\n",
            "       ...,\n",
            "\n",
            "       [[ 86,  74,  70],\n",
            "        [ 88,  76,  72],\n",
            "        [ 90,  78,  74],\n",
            "        ...,\n",
            "        [115, 110, 109],\n",
            "        [117, 112, 111],\n",
            "        [119, 114, 113]],\n",
            "\n",
            "       [[ 85,  73,  69],\n",
            "        [ 88,  76,  72],\n",
            "        [ 91,  79,  75],\n",
            "        ...,\n",
            "        [115, 110, 109],\n",
            "        [117, 112, 111],\n",
            "        [120, 115, 114]],\n",
            "\n",
            "       [[ 84,  72,  68],\n",
            "        [ 88,  76,  72],\n",
            "        [ 91,  79,  75],\n",
            "        ...,\n",
            "        [115, 110, 109],\n",
            "        [118, 113, 112],\n",
            "        [121, 116, 115]]], dtype=uint8)\n",
            "orig_shape: (918, 688)\n",
            "path: '/content/man_car_cat.jpg'\n",
            "probs: None\n",
            "save_dir: 'runs/detect/predict'\n",
            "speed: {'preprocess': 21.133305000034852, 'inference': 52.74631700001464, 'postprocess': 546.4354989999265}]\n"
          ]
        }
      ],
      "source": [
        "from ultralytics import YOLO\n",
        "\n",
        "# 모델 로딩\n",
        "model = YOLO('yolov8n.pt')\n",
        "\n",
        "# 이미지 경로 지정\n",
        "image_path = '/content/man_car_cat.jpg'\n",
        "\n",
        "# 예측 수행 (오타 수정!)\n",
        "result_image = model.predict(source=image_path, save=True, show=True)\n",
        "\n",
        "# 결과 출력\n",
        "print(\"Image predict result:\", result_image)\n"
      ]
    },
    {
      "cell_type": "code",
      "execution_count": 3,
      "metadata": {
        "colab": {
          "base_uri": "https://localhost:8080/"
        },
        "id": "lYUNZZ6ACs-3",
        "outputId": "6b1865b7-1b90-458a-d261-249ca0788ada"
      },
      "outputs": [
        {
          "name": "stdout",
          "output_type": "stream",
          "text": [
            "<class 'dict'> 80\n",
            "{0: 'person', 1: 'bicycle', 2: 'car', 3: 'motorcycle', 4: 'airplane', 5: 'bus', 6: 'train', 7: 'truck', 8: 'boat', 9: 'traffic light', 10: 'fire hydrant', 11: 'stop sign', 12: 'parking meter', 13: 'bench', 14: 'bird', 15: 'cat', 16: 'dog', 17: 'horse', 18: 'sheep', 19: 'cow', 20: 'elephant', 21: 'bear', 22: 'zebra', 23: 'giraffe', 24: 'backpack', 25: 'umbrella', 26: 'handbag', 27: 'tie', 28: 'suitcase', 29: 'frisbee', 30: 'skis', 31: 'snowboard', 32: 'sports ball', 33: 'kite', 34: 'baseball bat', 35: 'baseball glove', 36: 'skateboard', 37: 'surfboard', 38: 'tennis racket', 39: 'bottle', 40: 'wine glass', 41: 'cup', 42: 'fork', 43: 'knife', 44: 'spoon', 45: 'bowl', 46: 'banana', 47: 'apple', 48: 'sandwich', 49: 'orange', 50: 'broccoli', 51: 'carrot', 52: 'hot dog', 53: 'pizza', 54: 'donut', 55: 'cake', 56: 'chair', 57: 'couch', 58: 'potted plant', 59: 'bed', 60: 'dining table', 61: 'toilet', 62: 'tv', 63: 'laptop', 64: 'mouse', 65: 'remote', 66: 'keyboard', 67: 'cell phone', 68: 'microwave', 69: 'oven', 70: 'toaster', 71: 'sink', 72: 'refrigerator', 73: 'book', 74: 'clock', 75: 'vase', 76: 'scissors', 77: 'teddy bear', 78: 'hair drier', 79: 'toothbrush'}\n"
          ]
        }
      ],
      "source": [
        "print(type(model.names),len(model.names))\n",
        "print(model.names)"
      ]
    },
    {
      "cell_type": "code",
      "execution_count": 4,
      "metadata": {
        "colab": {
          "base_uri": "https://localhost:8080/"
        },
        "id": "QGlzjvs9EjRJ",
        "outputId": "9ade723f-ca72-421b-c694-233684ee0991"
      },
      "outputs": [
        {
          "name": "stdout",
          "output_type": "stream",
          "text": [
            "웹캠 연결 문제!\n"
          ]
        }
      ],
      "source": [
        "import cv2\n",
        "cap = cv2.VideoCapture(0)\n",
        "ret, frame = cap.read()\n",
        "if ret:\n",
        "    print(\"웹캠 작동 OK!\")\n",
        "else:\n",
        "    print(\"웹캠 연결 문제!\")\n",
        "cap.release()"
      ]
    },
    {
      "cell_type": "code",
      "execution_count": 5,
      "metadata": {
        "colab": {
          "base_uri": "https://localhost:8080/"
        },
        "collapsed": true,
        "id": "y444H6QGHNkL",
        "outputId": "5f977b0e-f2cb-4ac1-99e0-0276cabebc32"
      },
      "outputs": [
        {
          "name": "stdout",
          "output_type": "stream",
          "text": [
            "  % Total    % Received % Xferd  Average Speed   Time    Time     Time  Current\n",
            "                                 Dload  Upload   Total   Spent    Left  Speed\n",
            "100   903  100   903    0     0   1330      0 --:--:-- --:--:-- --:--:--  1329\n",
            "100 66.9M  100 66.9M    0     0  11.3M      0  0:00:05  0:00:05 --:--:-- 15.2M\n",
            "Archive:  roboflow.zip\n",
            " extracting: README.dataset.txt      \n",
            " extracting: README.roboflow.txt     \n",
            " extracting: data.yaml               \n",
            "   creating: test/\n",
            "   creating: test/images/\n",
            " extracting: test/images/IMG_2289_jpeg_jpg.rf.fe2a7a149e7b11f2313f5a7b30386e85.jpg  \n",
            " extracting: test/images/IMG_2301_jpeg_jpg.rf.2c19ae5efbd1f8611b5578125f001695.jpg  \n",
            " extracting: test/images/IMG_2319_jpeg_jpg.rf.6e20bf97d17b74a8948aa48776c40454.jpg  \n",
            " extracting: test/images/IMG_2347_jpeg_jpg.rf.7c71ac4b9301eb358cd4a832844dedcb.jpg  \n",
            " extracting: test/images/IMG_2354_jpeg_jpg.rf.396e872c7fb0a95e911806986995ee7a.jpg  \n",
            " extracting: test/images/IMG_2371_jpeg_jpg.rf.54505f60b6706da151c164188c305849.jpg  \n",
            " extracting: test/images/IMG_2379_jpeg_jpg.rf.7dc3160c937072d26d4624c6c48e904d.jpg  \n",
            " extracting: test/images/IMG_2380_jpeg_jpg.rf.a23809682eb1466c1136ca0f55de8fb5.jpg  \n",
            " extracting: test/images/IMG_2387_jpeg_jpg.rf.09b38bacfab0922a3a6b66480f01b719.jpg  \n",
            " extracting: test/images/IMG_2395_jpeg_jpg.rf.9f1503ad3b7a7c7938daed057cc4e9bc.jpg  \n",
            " extracting: test/images/IMG_2423_jpeg_jpg.rf.1c0901882e71d5ebd26f036f4e22da65.jpg  \n",
            " extracting: test/images/IMG_2434_jpeg_jpg.rf.8b20d3270d4fbc497c64125273f46ecb.jpg  \n",
            " extracting: test/images/IMG_2446_jpeg_jpg.rf.06ee05e92df8e3c33073147d8f595211.jpg  \n",
            " extracting: test/images/IMG_2448_jpeg_jpg.rf.28ce79dab47ad525751d5407be09bc3d.jpg  \n",
            " extracting: test/images/IMG_2450_jpeg_jpg.rf.ff673921373de3bfc275863e3befeefe.jpg  \n",
            " extracting: test/images/IMG_2465_jpeg_jpg.rf.7e699ec1d2e373d93dac32cd02db9438.jpg  \n",
            " extracting: test/images/IMG_2466_jpeg_jpg.rf.53886abb9947ec4e47405957b30fe314.jpg  \n",
            " extracting: test/images/IMG_2468_jpeg_jpg.rf.c933cc14c99b11a90413a1490d4556db.jpg  \n",
            " extracting: test/images/IMG_2470_jpeg_jpg.rf.75b359c8baa6866bfecf07a0e4e8c33d.jpg  \n",
            " extracting: test/images/IMG_2473_jpeg_jpg.rf.6284677f9c781b0cfeec54981a17d573.jpg  \n",
            " extracting: test/images/IMG_2477_jpeg_jpg.rf.7b2692f142d53c16ad477065f1f8ae6d.jpg  \n",
            " extracting: test/images/IMG_2496_jpeg_jpg.rf.3f91e7f18502074c89fa720a11926fab.jpg  \n",
            " extracting: test/images/IMG_2499_jpeg_jpg.rf.6cbab3719b9063388b5ab3ab826d7bd3.jpg  \n",
            " extracting: test/images/IMG_2514_jpeg_jpg.rf.6ccb3859d75fc5cfe053b1c1474254b2.jpg  \n",
            " extracting: test/images/IMG_2526_jpeg_jpg.rf.003e1d1d41bcd204df731b85cea68781.jpg  \n",
            " extracting: test/images/IMG_2532_jpeg_jpg.rf.2afeb76e5d9372dbbd6fbc53d5b75675.jpg  \n",
            " extracting: test/images/IMG_2544_jpeg_jpg.rf.03f51bb9e1c57fb9cd62f8cbdca14e90.jpg  \n",
            " extracting: test/images/IMG_2547_jpeg_jpg.rf.9406b6f1a9fad2292c4abd28f712baaf.jpg  \n",
            " extracting: test/images/IMG_2570_jpeg_jpg.rf.ed40900b657a5b23d92cb2d296ad2dbc.jpg  \n",
            " extracting: test/images/IMG_2574_jpeg_jpg.rf.ca0c3ad32384309a61e92d9a8bef87b9.jpg  \n",
            " extracting: test/images/IMG_2582_jpeg_jpg.rf.14f175066ce74b470bf31fa0c7a096cd.jpg  \n",
            " extracting: test/images/IMG_2588_jpeg_jpg.rf.cb9cea8f05891cfd55a3e93f2908201f.jpg  \n",
            " extracting: test/images/IMG_2630_jpeg_jpg.rf.310f0c986a72be46b80ce31c2d00e46d.jpg  \n",
            " extracting: test/images/IMG_2632_jpeg_jpg.rf.f44037edca490b16cbf06427e28ea946.jpg  \n",
            " extracting: test/images/IMG_2651_jpeg_jpg.rf.84b3930aa80b610cc97bf1c176763940.jpg  \n",
            " extracting: test/images/IMG_3129_jpeg_jpg.rf.90c472dcdf9b6713ec767cc97560ceca.jpg  \n",
            " extracting: test/images/IMG_3134_jpeg_jpg.rf.50750ca778773042a3c46a1d3e480132.jpg  \n",
            " extracting: test/images/IMG_3136_jpeg_jpg.rf.0d8fef73d4cc5e1c35ce424444d9e44b.jpg  \n",
            " extracting: test/images/IMG_3144_jpeg_jpg.rf.f29a36360174dc83ecef93275ed8f02e.jpg  \n",
            " extracting: test/images/IMG_3154_jpeg_jpg.rf.5f429a366c02d38bc9e2217f4508c3e0.jpg  \n",
            " extracting: test/images/IMG_3164_jpeg_jpg.rf.06637eee0b72df791aa729807ca45c4d.jpg  \n",
            " extracting: test/images/IMG_3173_jpeg_jpg.rf.6f05acaa0b22d410a5df3ea3286e227d.jpg  \n",
            " extracting: test/images/IMG_3175_jpeg_jpg.rf.686c7d36e049eea974a363e99bf0bee0.jpg  \n",
            " extracting: test/images/IMG_8331_jpg.rf.ec024bdf1e9de02b020b5e6505c1c58b.jpg  \n",
            " extracting: test/images/IMG_8343_jpg.rf.2d88000497d74d72aedc118b125a0c07.jpg  \n",
            " extracting: test/images/IMG_8395_jpg.rf.3bebece033961c9f665571644a14261f.jpg  \n",
            " extracting: test/images/IMG_8396_jpg.rf.106a6ced5c649ea81f0de8ecaa4ff3b8.jpg  \n",
            " extracting: test/images/IMG_8404_jpg.rf.265b89e862a375f6b89f781ea60ed480.jpg  \n",
            " extracting: test/images/IMG_8420_jpg.rf.31f1d5f1440e48ccf1dee988b565911b.jpg  \n",
            " extracting: test/images/IMG_8452_jpg.rf.6bbff701ab93e29553b3a70137fd4e66.jpg  \n",
            " extracting: test/images/IMG_8490_jpg.rf.1836542cf054c6d303a2dd05d4194d7f.jpg  \n",
            " extracting: test/images/IMG_8497_MOV-0_jpg.rf.5c59bd1bf7d8fd7a20999d51a79a12c0.jpg  \n",
            " extracting: test/images/IMG_8497_MOV-3_jpg.rf.fd813e14681c8b41e709a500748ce46a.jpg  \n",
            " extracting: test/images/IMG_8497_MOV-5_jpg.rf.3deffb208d656b7845661c5e33dd1afb.jpg  \n",
            " extracting: test/images/IMG_8513_MOV-0_jpg.rf.2a2f77e3f73630b60aaf6ad3ca4ed130.jpg  \n",
            " extracting: test/images/IMG_8515_jpg.rf.98a9daca7c5a5bad9872bd7fb2d4f198.jpg  \n",
            " extracting: test/images/IMG_8582_MOV-0_jpg.rf.aa8304d7a5112d63c8841d96160d42cd.jpg  \n",
            " extracting: test/images/IMG_8582_MOV-3_jpg.rf.c7dde0639837077f76428d70223368a4.jpg  \n",
            " extracting: test/images/IMG_8582_MOV-5_jpg.rf.9d7a26fbf145ce39ab0831b4e6bc1f1e.jpg  \n",
            " extracting: test/images/IMG_8590_MOV-2_jpg.rf.2136fdb5dcbcd58a1dc456bb3e5bf476.jpg  \n",
            " extracting: test/images/IMG_8590_MOV-5_jpg.rf.074e6d8acdd3fcad16d866c341b43769.jpg  \n",
            " extracting: test/images/IMG_8595_MOV-0_jpg.rf.312ab0b8b9fca18134aee88044f45a06.jpg  \n",
            " extracting: test/images/IMG_8599_MOV-3_jpg.rf.412ebb16ea80e964b4464c50e757df0e.jpg  \n",
            "   creating: test/labels/\n",
            " extracting: test/labels/IMG_2289_jpeg_jpg.rf.fe2a7a149e7b11f2313f5a7b30386e85.txt  \n",
            " extracting: test/labels/IMG_2301_jpeg_jpg.rf.2c19ae5efbd1f8611b5578125f001695.txt  \n",
            " extracting: test/labels/IMG_2319_jpeg_jpg.rf.6e20bf97d17b74a8948aa48776c40454.txt  \n",
            " extracting: test/labels/IMG_2347_jpeg_jpg.rf.7c71ac4b9301eb358cd4a832844dedcb.txt  \n",
            " extracting: test/labels/IMG_2354_jpeg_jpg.rf.396e872c7fb0a95e911806986995ee7a.txt  \n",
            " extracting: test/labels/IMG_2371_jpeg_jpg.rf.54505f60b6706da151c164188c305849.txt  \n",
            " extracting: test/labels/IMG_2379_jpeg_jpg.rf.7dc3160c937072d26d4624c6c48e904d.txt  \n",
            " extracting: test/labels/IMG_2380_jpeg_jpg.rf.a23809682eb1466c1136ca0f55de8fb5.txt  \n",
            " extracting: test/labels/IMG_2387_jpeg_jpg.rf.09b38bacfab0922a3a6b66480f01b719.txt  \n",
            " extracting: test/labels/IMG_2395_jpeg_jpg.rf.9f1503ad3b7a7c7938daed057cc4e9bc.txt  \n",
            " extracting: test/labels/IMG_2423_jpeg_jpg.rf.1c0901882e71d5ebd26f036f4e22da65.txt  \n",
            " extracting: test/labels/IMG_2434_jpeg_jpg.rf.8b20d3270d4fbc497c64125273f46ecb.txt  \n",
            " extracting: test/labels/IMG_2446_jpeg_jpg.rf.06ee05e92df8e3c33073147d8f595211.txt  \n",
            " extracting: test/labels/IMG_2448_jpeg_jpg.rf.28ce79dab47ad525751d5407be09bc3d.txt  \n",
            " extracting: test/labels/IMG_2450_jpeg_jpg.rf.ff673921373de3bfc275863e3befeefe.txt  \n",
            " extracting: test/labels/IMG_2465_jpeg_jpg.rf.7e699ec1d2e373d93dac32cd02db9438.txt  \n",
            " extracting: test/labels/IMG_2466_jpeg_jpg.rf.53886abb9947ec4e47405957b30fe314.txt  \n",
            " extracting: test/labels/IMG_2468_jpeg_jpg.rf.c933cc14c99b11a90413a1490d4556db.txt  \n",
            " extracting: test/labels/IMG_2470_jpeg_jpg.rf.75b359c8baa6866bfecf07a0e4e8c33d.txt  \n",
            " extracting: test/labels/IMG_2473_jpeg_jpg.rf.6284677f9c781b0cfeec54981a17d573.txt  \n",
            " extracting: test/labels/IMG_2477_jpeg_jpg.rf.7b2692f142d53c16ad477065f1f8ae6d.txt  \n",
            " extracting: test/labels/IMG_2496_jpeg_jpg.rf.3f91e7f18502074c89fa720a11926fab.txt  \n",
            " extracting: test/labels/IMG_2499_jpeg_jpg.rf.6cbab3719b9063388b5ab3ab826d7bd3.txt  \n",
            " extracting: test/labels/IMG_2514_jpeg_jpg.rf.6ccb3859d75fc5cfe053b1c1474254b2.txt  \n",
            " extracting: test/labels/IMG_2526_jpeg_jpg.rf.003e1d1d41bcd204df731b85cea68781.txt  \n",
            " extracting: test/labels/IMG_2532_jpeg_jpg.rf.2afeb76e5d9372dbbd6fbc53d5b75675.txt  \n",
            " extracting: test/labels/IMG_2544_jpeg_jpg.rf.03f51bb9e1c57fb9cd62f8cbdca14e90.txt  \n",
            " extracting: test/labels/IMG_2547_jpeg_jpg.rf.9406b6f1a9fad2292c4abd28f712baaf.txt  \n",
            " extracting: test/labels/IMG_2570_jpeg_jpg.rf.ed40900b657a5b23d92cb2d296ad2dbc.txt  \n",
            " extracting: test/labels/IMG_2574_jpeg_jpg.rf.ca0c3ad32384309a61e92d9a8bef87b9.txt  \n",
            " extracting: test/labels/IMG_2582_jpeg_jpg.rf.14f175066ce74b470bf31fa0c7a096cd.txt  \n",
            " extracting: test/labels/IMG_2588_jpeg_jpg.rf.cb9cea8f05891cfd55a3e93f2908201f.txt  \n",
            " extracting: test/labels/IMG_2630_jpeg_jpg.rf.310f0c986a72be46b80ce31c2d00e46d.txt  \n",
            " extracting: test/labels/IMG_2632_jpeg_jpg.rf.f44037edca490b16cbf06427e28ea946.txt  \n",
            " extracting: test/labels/IMG_2651_jpeg_jpg.rf.84b3930aa80b610cc97bf1c176763940.txt  \n",
            " extracting: test/labels/IMG_3129_jpeg_jpg.rf.90c472dcdf9b6713ec767cc97560ceca.txt  \n",
            " extracting: test/labels/IMG_3134_jpeg_jpg.rf.50750ca778773042a3c46a1d3e480132.txt  \n",
            " extracting: test/labels/IMG_3136_jpeg_jpg.rf.0d8fef73d4cc5e1c35ce424444d9e44b.txt  \n",
            " extracting: test/labels/IMG_3144_jpeg_jpg.rf.f29a36360174dc83ecef93275ed8f02e.txt  \n",
            " extracting: test/labels/IMG_3154_jpeg_jpg.rf.5f429a366c02d38bc9e2217f4508c3e0.txt  \n",
            " extracting: test/labels/IMG_3164_jpeg_jpg.rf.06637eee0b72df791aa729807ca45c4d.txt  \n",
            " extracting: test/labels/IMG_3173_jpeg_jpg.rf.6f05acaa0b22d410a5df3ea3286e227d.txt  \n",
            " extracting: test/labels/IMG_3175_jpeg_jpg.rf.686c7d36e049eea974a363e99bf0bee0.txt  \n",
            " extracting: test/labels/IMG_8331_jpg.rf.ec024bdf1e9de02b020b5e6505c1c58b.txt  \n",
            " extracting: test/labels/IMG_8343_jpg.rf.2d88000497d74d72aedc118b125a0c07.txt  \n",
            " extracting: test/labels/IMG_8395_jpg.rf.3bebece033961c9f665571644a14261f.txt  \n",
            " extracting: test/labels/IMG_8396_jpg.rf.106a6ced5c649ea81f0de8ecaa4ff3b8.txt  \n",
            " extracting: test/labels/IMG_8404_jpg.rf.265b89e862a375f6b89f781ea60ed480.txt  \n",
            " extracting: test/labels/IMG_8420_jpg.rf.31f1d5f1440e48ccf1dee988b565911b.txt  \n",
            " extracting: test/labels/IMG_8452_jpg.rf.6bbff701ab93e29553b3a70137fd4e66.txt  \n",
            " extracting: test/labels/IMG_8490_jpg.rf.1836542cf054c6d303a2dd05d4194d7f.txt  \n",
            " extracting: test/labels/IMG_8497_MOV-0_jpg.rf.5c59bd1bf7d8fd7a20999d51a79a12c0.txt  \n",
            " extracting: test/labels/IMG_8497_MOV-3_jpg.rf.fd813e14681c8b41e709a500748ce46a.txt  \n",
            " extracting: test/labels/IMG_8497_MOV-5_jpg.rf.3deffb208d656b7845661c5e33dd1afb.txt  \n",
            " extracting: test/labels/IMG_8513_MOV-0_jpg.rf.2a2f77e3f73630b60aaf6ad3ca4ed130.txt  \n",
            " extracting: test/labels/IMG_8515_jpg.rf.98a9daca7c5a5bad9872bd7fb2d4f198.txt  \n",
            " extracting: test/labels/IMG_8582_MOV-0_jpg.rf.aa8304d7a5112d63c8841d96160d42cd.txt  \n",
            " extracting: test/labels/IMG_8582_MOV-3_jpg.rf.c7dde0639837077f76428d70223368a4.txt  \n",
            " extracting: test/labels/IMG_8582_MOV-5_jpg.rf.9d7a26fbf145ce39ab0831b4e6bc1f1e.txt  \n",
            " extracting: test/labels/IMG_8590_MOV-2_jpg.rf.2136fdb5dcbcd58a1dc456bb3e5bf476.txt  \n",
            " extracting: test/labels/IMG_8590_MOV-5_jpg.rf.074e6d8acdd3fcad16d866c341b43769.txt  \n",
            " extracting: test/labels/IMG_8595_MOV-0_jpg.rf.312ab0b8b9fca18134aee88044f45a06.txt  \n",
            " extracting: test/labels/IMG_8599_MOV-3_jpg.rf.412ebb16ea80e964b4464c50e757df0e.txt  \n",
            "   creating: train/\n",
            "   creating: train/images/\n",
            " extracting: train/images/IMG_2274_jpeg_jpg.rf.2f319e949748145fb22dcb52bb325a0c.jpg  \n",
            " extracting: train/images/IMG_2275_jpeg_jpg.rf.66355520a49ba7fb7082052f7ca6fee0.jpg  \n",
            " extracting: train/images/IMG_2276_jpeg_jpg.rf.7411b1902c81bad8cdefd2cc4eb3a97b.jpg  \n",
            " extracting: train/images/IMG_2280_jpeg_jpg.rf.5abcce5be523f6507bbaf731dd671226.jpg  \n",
            " extracting: train/images/IMG_2282_jpeg_jpg.rf.510f3bc14c3e0aa378b192199d01cae6.jpg  \n",
            " extracting: train/images/IMG_2283_jpeg_jpg.rf.4f28032102ddc4534410f9bf474ef1d0.jpg  \n",
            " extracting: train/images/IMG_2284_jpeg_jpg.rf.99de11cb5727748bd3eae3afe7b415e6.jpg  \n",
            " extracting: train/images/IMG_2285_jpeg_jpg.rf.4a93d99b9f0b6cccfb27bf2f4a13b99e.jpg  \n",
            " extracting: train/images/IMG_2286_jpeg_jpg.rf.bbcb2046dedb8e1fb3a9519848c1a4c2.jpg  \n",
            " extracting: train/images/IMG_2287_jpeg_jpg.rf.cce12b7bb4e49aa145398504aef84c99.jpg  \n",
            " extracting: train/images/IMG_2290_jpeg_jpg.rf.3698fd48defd03b2550f7ba8b68314ee.jpg  \n",
            " extracting: train/images/IMG_2291_jpeg_jpg.rf.78e908bd2cc12eafc40a5bf3101b8b39.jpg  \n",
            " extracting: train/images/IMG_2292_jpeg_jpg.rf.122a0051d4d65d8651089a2ebbc2ed85.jpg  \n",
            " extracting: train/images/IMG_2293_jpeg_jpg.rf.0a25194b094d64e91068eaa7fcaf4feb.jpg  \n",
            " extracting: train/images/IMG_2294_jpeg_jpg.rf.be432d5740148075ba72a4194c788a0c.jpg  \n",
            " extracting: train/images/IMG_2295_jpeg_jpg.rf.498a525f58666743ef5d65b7f6438adc.jpg  \n",
            " extracting: train/images/IMG_2296_jpeg_jpg.rf.56a86afeeeb9a6c12746f77b7346ff19.jpg  \n",
            " extracting: train/images/IMG_2298_jpeg_jpg.rf.45a350037d7622eacf2a1a188b28fb54.jpg  \n",
            " extracting: train/images/IMG_2299_jpeg_jpg.rf.19c4728e89a506c9a7dcbb2509d6a134.jpg  \n",
            " extracting: train/images/IMG_2302_jpeg_jpg.rf.aa8d7da0c33370589f2b441c7ca26450.jpg  \n",
            " extracting: train/images/IMG_2303_jpeg_jpg.rf.0c70be2d073ae94feeb463b79babaab8.jpg  \n",
            " extracting: train/images/IMG_2304_jpeg_jpg.rf.87ed7625b3869f06caf5a9ca5720f3f4.jpg  \n",
            " extracting: train/images/IMG_2306_jpeg_jpg.rf.9bba6ce48724517b19474b85178391c1.jpg  \n",
            " extracting: train/images/IMG_2307_jpeg_jpg.rf.cdea03288eac0ee043c709d25aae71a7.jpg  \n",
            " extracting: train/images/IMG_2308_jpeg_jpg.rf.7f5bc9634b415d515784dc7ae7a83532.jpg  \n",
            " extracting: train/images/IMG_2309_jpeg_jpg.rf.088f73ff0b07c30ce6212eb4e3013708.jpg  \n",
            " extracting: train/images/IMG_2310_jpeg_jpg.rf.89adac79fea2745dae17668703c85ba2.jpg  \n",
            " extracting: train/images/IMG_2311_jpeg_jpg.rf.69797c0319ca881b5c5bc7637e9e7aa7.jpg  \n",
            " extracting: train/images/IMG_2312_jpeg_jpg.rf.92a094761408320b749e7fd4e4b98b91.jpg  \n",
            " extracting: train/images/IMG_2313_jpeg_jpg.rf.c493f660b195b8edec3ee3fa0c626868.jpg  \n",
            " extracting: train/images/IMG_2314_jpeg_jpg.rf.5772ea6330e776b72648b7044aeeda06.jpg  \n",
            " extracting: train/images/IMG_2315_jpeg_jpg.rf.299629b833341515cbe594fbe0b0b386.jpg  \n",
            " extracting: train/images/IMG_2316_jpeg_jpg.rf.bb8de66895ac8751f348c5df631f46ad.jpg  \n",
            " extracting: train/images/IMG_2320_jpeg_jpg.rf.4ba216e1f004fd1182ca0dfb53ccce19.jpg  \n",
            " extracting: train/images/IMG_2321_jpeg_jpg.rf.77da5a058425f06403464142d4561096.jpg  \n",
            " extracting: train/images/IMG_2322_jpeg_jpg.rf.5cfbfdaf229269a0def35f967002aee3.jpg  \n",
            " extracting: train/images/IMG_2324_jpeg_jpg.rf.1f5efa1adc71c46d5037bdcd281056b9.jpg  \n",
            " extracting: train/images/IMG_2326_jpeg_jpg.rf.37dc74670ccbc94d720a39e2cd046ace.jpg  \n",
            " extracting: train/images/IMG_2327_jpeg_jpg.rf.23ca4add8919548516415c9fe02eedf6.jpg  \n",
            " extracting: train/images/IMG_2328_jpeg_jpg.rf.ee3309e0a5ab09d96d9ed30bc1c1115f.jpg  \n",
            " extracting: train/images/IMG_2330_jpeg_jpg.rf.5d358782dd868884a99f4f88841d2287.jpg  \n",
            " extracting: train/images/IMG_2331_jpeg_jpg.rf.430bebeabaa960aedfce00821dbf1823.jpg  \n",
            " extracting: train/images/IMG_2332_jpeg_jpg.rf.6987566de99decbc96cf8b50269eec32.jpg  \n",
            " extracting: train/images/IMG_2335_jpeg_jpg.rf.fee7aabbe3a95b58fa737bf4537ded6f.jpg  \n",
            " extracting: train/images/IMG_2336_jpeg_jpg.rf.46f0754f98f042408a12adc0bfd57650.jpg  \n",
            " extracting: train/images/IMG_2338_jpeg_jpg.rf.e7ed2b02a8b79ecfbf78d943ab27d48c.jpg  \n",
            " extracting: train/images/IMG_2341_jpeg_jpg.rf.6cd8aa27674201fa6e367b4798388b61.jpg  \n",
            " extracting: train/images/IMG_2343_jpeg_jpg.rf.d9093ca915071e649e4771462b164802.jpg  \n",
            " extracting: train/images/IMG_2344_jpeg_jpg.rf.d0315ce107744b21a51c03a5a3e046af.jpg  \n",
            " extracting: train/images/IMG_2346_jpeg_jpg.rf.beefcd27f4f07657c99d128ead21bf91.jpg  \n",
            " extracting: train/images/IMG_2349_jpeg_jpg.rf.743d7a69284c7ee65b40548c2803bd34.jpg  \n",
            " extracting: train/images/IMG_2350_jpeg_jpg.rf.c77c8bea4bbacefbccb48673c5f40171.jpg  \n",
            " extracting: train/images/IMG_2351_jpeg_jpg.rf.edf3aaeca6e2355052e41c0cc57f9cb6.jpg  \n",
            " extracting: train/images/IMG_2352_jpeg_jpg.rf.b91c732f98fab8234ac4ec50f25a7c32.jpg  \n",
            " extracting: train/images/IMG_2358_jpeg_jpg.rf.efdef53aafee680685b00990131e1442.jpg  \n",
            " extracting: train/images/IMG_2359_jpeg_jpg.rf.9a22271fa084fd7ba13ffe880215c8f4.jpg  \n",
            " extracting: train/images/IMG_2360_jpeg_jpg.rf.1f04ed9c5472f410de3263510a5de6dd.jpg  \n",
            " extracting: train/images/IMG_2361_jpeg_jpg.rf.02195fab4639c0b58bef41a6944fda9d.jpg  \n",
            " extracting: train/images/IMG_2362_jpeg_jpg.rf.a1ac6ab5801ffa496d0fbd6038ebf034.jpg  \n",
            " extracting: train/images/IMG_2363_jpeg_jpg.rf.c646c1cefead3cafbda9956f065dbe6a.jpg  \n",
            " extracting: train/images/IMG_2364_jpeg_jpg.rf.28f37990b12a2ca62cd367362cf202d4.jpg  \n",
            " extracting: train/images/IMG_2365_jpeg_jpg.rf.9091a7e8b24fcf1d8493c5a4dd1310d1.jpg  \n",
            " extracting: train/images/IMG_2368_jpeg_jpg.rf.4f2acbd69ebf32d532fe6ed7d236cfaf.jpg  \n",
            " extracting: train/images/IMG_2369_jpeg_jpg.rf.9cae2a081c00b8db2b2998919e65d420.jpg  \n",
            " extracting: train/images/IMG_2370_jpeg_jpg.rf.d5bdf9d889fa01a687af0038c3ede236.jpg  \n",
            " extracting: train/images/IMG_2372_jpeg_jpg.rf.ea92b226d1699c4cb4276758024ffb3a.jpg  \n",
            " extracting: train/images/IMG_2373_jpeg_jpg.rf.6b8f32a68ab7d25ff0cd7f977bd187fc.jpg  \n",
            " extracting: train/images/IMG_2374_jpeg_jpg.rf.13a3afe5fa27f706d031758c74d64dae.jpg  \n",
            " extracting: train/images/IMG_2375_jpeg_jpg.rf.ed73b2179f3b96fe3088456fc43a2cf5.jpg  \n",
            " extracting: train/images/IMG_2376_jpeg_jpg.rf.238955f6c2fbed6cd8b508f1b61f84de.jpg  \n",
            " extracting: train/images/IMG_2377_jpeg_jpg.rf.058bc10292405404b78e4d6ec8315b44.jpg  \n",
            " extracting: train/images/IMG_2378_jpeg_jpg.rf.9a7993c75521d4b5383257936c7ab263.jpg  \n",
            " extracting: train/images/IMG_2382_jpeg_jpg.rf.b431ad0ed94761ef82281dbe844170cc.jpg  \n",
            " extracting: train/images/IMG_2383_jpeg_jpg.rf.fd376436d382e985e3c0e6936860212f.jpg  \n",
            " extracting: train/images/IMG_2384_jpeg_jpg.rf.a094269cf1f5522f894b6a2cfc636a8d.jpg  \n",
            " extracting: train/images/IMG_2385_jpeg_jpg.rf.401926de349287bb4d9152d065e9a822.jpg  \n",
            " extracting: train/images/IMG_2386_jpeg_jpg.rf.24ef35f21ff0b936ede4bb3a50c0886e.jpg  \n",
            " extracting: train/images/IMG_2389_jpeg_jpg.rf.3659b6446ca8e6cc9caea6f862cb7c64.jpg  \n",
            " extracting: train/images/IMG_2390_jpeg_jpg.rf.64fe0a0c9bb0459e06335b75d455ffb2.jpg  \n",
            " extracting: train/images/IMG_2393_jpeg_jpg.rf.51a3d165da3aac4466f89c834fa6532e.jpg  \n",
            " extracting: train/images/IMG_2394_jpeg_jpg.rf.3994f29b2f24a3104ed3404617128485.jpg  \n",
            " extracting: train/images/IMG_2399_jpeg_jpg.rf.13370408785f27bea59424ce8d46dbca.jpg  \n",
            " extracting: train/images/IMG_2400_jpeg_jpg.rf.70540f43bd58c832e6dad61e456ee889.jpg  \n",
            " extracting: train/images/IMG_2401_jpeg_jpg.rf.9c2bfe2fea5904ab85682c15ea13eeac.jpg  \n",
            " extracting: train/images/IMG_2402_jpeg_jpg.rf.ff2e5af0a2d1693c155a01d7494fc8e4.jpg  \n",
            " extracting: train/images/IMG_2403_jpeg_jpg.rf.fc3a8f234fe9214577fc7f5d2df940b6.jpg  \n",
            " extracting: train/images/IMG_2405_jpeg_jpg.rf.a2556645dee0dd9c64327b09b4a4f6f8.jpg  \n",
            " extracting: train/images/IMG_2406_jpeg_jpg.rf.1188b08782ffbc29af95b22721ca6015.jpg  \n",
            " extracting: train/images/IMG_2408_jpeg_jpg.rf.e0e6c527f73aed3fdbdd2cabeea44fe0.jpg  \n",
            " extracting: train/images/IMG_2409_jpeg_jpg.rf.2de52b31d07502007ce8e96350212d7c.jpg  \n",
            " extracting: train/images/IMG_2410_jpeg_jpg.rf.28e599148c43192990cc399a4940f016.jpg  \n",
            " extracting: train/images/IMG_2412_jpeg_jpg.rf.31034ae005fc4ba75a20f94f91e4bbc5.jpg  \n",
            " extracting: train/images/IMG_2413_jpeg_jpg.rf.695815e23abdea80c043bb1cfd5a8a73.jpg  \n",
            " extracting: train/images/IMG_2414_jpeg_jpg.rf.980c706f21682aa6d010cc7a43f9f12c.jpg  \n",
            " extracting: train/images/IMG_2415_jpeg_jpg.rf.ebf0f6afed62125f3a07b177ff1eb41b.jpg  \n",
            " extracting: train/images/IMG_2417_jpeg_jpg.rf.3126d833b440a93a98942375d5de1a91.jpg  \n",
            " extracting: train/images/IMG_2418_jpeg_jpg.rf.ef54d0d053b69b90a077ff1e7caa8937.jpg  \n",
            " extracting: train/images/IMG_2419_jpeg_jpg.rf.b45ff8e98d7a369bd43eda658dccce9e.jpg  \n",
            " extracting: train/images/IMG_2420_jpeg_jpg.rf.2c9b62657f067185cfd553339210ae48.jpg  \n",
            " extracting: train/images/IMG_2421_jpeg_jpg.rf.18cf9dc78b3af40e540c4e76393642ef.jpg  \n",
            " extracting: train/images/IMG_2422_jpeg_jpg.rf.47bfe242cb40465122daa7d1189c8909.jpg  \n",
            " extracting: train/images/IMG_2426_jpeg_jpg.rf.50808902673305d18d0d44531b5a8bfb.jpg  \n",
            " extracting: train/images/IMG_2427_jpeg_jpg.rf.4376ff1caed40be5f9e36ae22136c2a5.jpg  \n",
            " extracting: train/images/IMG_2429_jpeg_jpg.rf.a587ba43a6cf6d5e0f42cd295650dcb0.jpg  \n",
            " extracting: train/images/IMG_2430_jpeg_jpg.rf.ea942e540d2202770b60388e01246c92.jpg  \n",
            " extracting: train/images/IMG_2432_jpeg_jpg.rf.b0839d3e7f6a6fbc8f15a4e0ef385b7f.jpg  \n",
            " extracting: train/images/IMG_2433_jpeg_jpg.rf.22485b09320c5d7924c4c86641f4826c.jpg  \n",
            " extracting: train/images/IMG_2435_jpeg_jpg.rf.90d0f2a9a2603d0d00e44c54ea34d8a1.jpg  \n",
            " extracting: train/images/IMG_2436_jpeg_jpg.rf.e2657a48d78d7c26aa1d93edd0af9130.jpg  \n",
            " extracting: train/images/IMG_2437_jpeg_jpg.rf.9d3ddc928ee1ce44d6b625f3de4baefe.jpg  \n",
            " extracting: train/images/IMG_2438_jpeg_jpg.rf.d34e9d39297e8636b6bd5458d3b6bc1a.jpg  \n",
            " extracting: train/images/IMG_2439_jpeg_jpg.rf.b716ecc9923088908de67457af446693.jpg  \n",
            " extracting: train/images/IMG_2440_jpeg_jpg.rf.fbf8154be50fdc05cf5c49e452c8889a.jpg  \n",
            " extracting: train/images/IMG_2441_jpeg_jpg.rf.7cb24c87feb8f1f9c4cba9cb4f1ce0db.jpg  \n",
            " extracting: train/images/IMG_2443_jpeg_jpg.rf.fbca75ce6c1f6f9a3ebaa0dc2dc58d3a.jpg  \n",
            " extracting: train/images/IMG_2444_jpeg_jpg.rf.cbd4c00116cf7dd7f0ea905031ea8774.jpg  \n",
            " extracting: train/images/IMG_2445_jpeg_jpg.rf.4322ba9de4afd56e2d585cbe4b2d542f.jpg  \n",
            " extracting: train/images/IMG_2447_jpeg_jpg.rf.3c11aace74e70dbb007eb2e597f78ebb.jpg  \n",
            " extracting: train/images/IMG_2449_jpeg_jpg.rf.66b68f9b04aae5ef7a5c1c52f27da23f.jpg  \n",
            " extracting: train/images/IMG_2451_jpeg_jpg.rf.6cc1dc705b21921c89c4e925ff86c5d6.jpg  \n",
            " extracting: train/images/IMG_2452_jpeg_jpg.rf.2966d2cb12c00bcd17c3e56890ae90d0.jpg  \n",
            " extracting: train/images/IMG_2456_jpeg_jpg.rf.7ea8891568b40b0618d829c3810ec332.jpg  \n",
            " extracting: train/images/IMG_2458_jpeg_jpg.rf.e4f518a021aa886cc248b50bfaff6f4e.jpg  \n",
            " extracting: train/images/IMG_2459_jpeg_jpg.rf.c6a60bf7e4518c5c2733727264ef32c8.jpg  \n",
            " extracting: train/images/IMG_2460_jpeg_jpg.rf.62b0d4966ce2243f71278e6f306c969a.jpg  \n",
            " extracting: train/images/IMG_2461_jpeg_jpg.rf.a9a7293e2e45a5e3b9d7cc10d45c37dd.jpg  \n",
            " extracting: train/images/IMG_2462_jpeg_jpg.rf.996656c68077c9d9e7ec2c4928a5c4d1.jpg  \n",
            " extracting: train/images/IMG_2463_jpeg_jpg.rf.da774058e67ba22ec38a84ac948b4014.jpg  \n",
            " extracting: train/images/IMG_2467_jpeg_jpg.rf.50fbe34360e324a8ebb9c0ed262373c1.jpg  \n",
            " extracting: train/images/IMG_2471_jpeg_jpg.rf.80259312a2c1b317d5b48f1937e53a07.jpg  \n",
            " extracting: train/images/IMG_2472_jpeg_jpg.rf.57b8e38dd12bf9a9b8cb87e5f49b072d.jpg  \n",
            " extracting: train/images/IMG_2475_jpeg_jpg.rf.46e62539bfeb76e003100176a5818f0b.jpg  \n",
            " extracting: train/images/IMG_2476_jpeg_jpg.rf.8ccde2bbb1a8cc7205cbf4c0343ac96b.jpg  \n",
            " extracting: train/images/IMG_2478_jpeg_jpg.rf.ae27bba94db775902a3683bc5c469029.jpg  \n",
            " extracting: train/images/IMG_2480_jpeg_jpg.rf.65112653d4f14fcd3431eed42833146e.jpg  \n",
            " extracting: train/images/IMG_2481_jpeg_jpg.rf.00a2836323b67c925752c28bccc26ea4.jpg  \n",
            " extracting: train/images/IMG_2482_jpeg_jpg.rf.e49b8fe3d265732ff3c0eb8172bd66ee.jpg  \n",
            " extracting: train/images/IMG_2483_jpeg_jpg.rf.4cce5bab03a29d47dde28e0ffa71a3a0.jpg  \n",
            " extracting: train/images/IMG_2485_jpeg_jpg.rf.dabd7a2e30e0c47b2bc750eb2395da11.jpg  \n",
            " extracting: train/images/IMG_2486_jpeg_jpg.rf.b2d1224d293b2659b71f5fb83aae5e20.jpg  \n",
            " extracting: train/images/IMG_2487_jpeg_jpg.rf.e2c008ecf06dc7f3159ab28903bc5275.jpg  \n",
            " extracting: train/images/IMG_2488_jpeg_jpg.rf.e3511d1d2df484d56e7eb9a667299acd.jpg  \n",
            " extracting: train/images/IMG_2489_jpeg_jpg.rf.ffb357957a29cdef43f3fdfb2a13c417.jpg  \n",
            " extracting: train/images/IMG_2490_jpeg_jpg.rf.8b825f810f53bc5141c576b0d83e778d.jpg  \n",
            " extracting: train/images/IMG_2493_jpeg_jpg.rf.5ea3fbb437ab94fbd23f187d270b9a5f.jpg  \n",
            " extracting: train/images/IMG_2494_jpeg_jpg.rf.2d7d4d727fe0cb18fb12fe87f23f4e9c.jpg  \n",
            " extracting: train/images/IMG_2495_jpeg_jpg.rf.b0c357674c9856576d1561581f186c5b.jpg  \n",
            " extracting: train/images/IMG_2497_jpeg_jpg.rf.ab5601591a6d9d4db72d08c480454253.jpg  \n",
            " extracting: train/images/IMG_2498_jpeg_jpg.rf.fb8d5cb2ea8c29c710ef2240cf19918f.jpg  \n",
            " extracting: train/images/IMG_2500_jpeg_jpg.rf.ce4f27a931c371f5a780f3ebb9c098e0.jpg  \n",
            " extracting: train/images/IMG_2501_jpeg_jpg.rf.86cc23ef99a01b5a863f6dbc7f8faa10.jpg  \n",
            " extracting: train/images/IMG_2502_jpeg_jpg.rf.d641755e6af1f9a46f138c1a00ecfc23.jpg  \n",
            " extracting: train/images/IMG_2503_jpeg_jpg.rf.726342a02d92d30abc147f6e71fe3baf.jpg  \n",
            " extracting: train/images/IMG_2504_jpeg_jpg.rf.6319bf044a6c11112e69a100f1505d41.jpg  \n",
            " extracting: train/images/IMG_2506_jpeg_jpg.rf.5b0e0ae2d8038056ce3a19b260b9ed55.jpg  \n",
            " extracting: train/images/IMG_2507_jpeg_jpg.rf.51612d3065ddd5d951909ca543e84bb7.jpg  \n",
            " extracting: train/images/IMG_2508_jpeg_jpg.rf.6341e9035957fcc1420ec41cd9176b7a.jpg  \n",
            " extracting: train/images/IMG_2509_jpeg_jpg.rf.0c8d6158f08975bd24497a5fb02572d2.jpg  \n",
            " extracting: train/images/IMG_2511_jpeg_jpg.rf.4593a8e1ea4e285da455b895a36fa2c7.jpg  \n",
            " extracting: train/images/IMG_2513_jpeg_jpg.rf.1c33f6aee29f24622179b3c188effe59.jpg  \n",
            " extracting: train/images/IMG_2515_jpeg_jpg.rf.c7255981abc23128903ac9ece1b4d8b5.jpg  \n",
            " extracting: train/images/IMG_2516_jpeg_jpg.rf.6f719df754865fe6166afd0a3a78d60f.jpg  \n",
            " extracting: train/images/IMG_2518_jpeg_jpg.rf.5f4e0d8f980eaa632ff94853995eff9e.jpg  \n",
            " extracting: train/images/IMG_2520_jpeg_jpg.rf.4cab9c74da59c93865ed205f4dcf8c46.jpg  \n",
            " extracting: train/images/IMG_2521_jpeg_jpg.rf.dde07699f153cc149b5d057924e983c5.jpg  \n",
            " extracting: train/images/IMG_2524_jpeg_jpg.rf.87f4a069ac66bc31523d434d04f9d2d6.jpg  \n",
            " extracting: train/images/IMG_2527_jpeg_jpg.rf.3de0e3c95781ea109647310c017ca1fc.jpg  \n",
            " extracting: train/images/IMG_2528_jpeg_jpg.rf.2bd17b3a6751de79eab0f91356230d98.jpg  \n",
            " extracting: train/images/IMG_2529_jpeg_jpg.rf.16e64348ddac68d55ee82e98b0258080.jpg  \n",
            " extracting: train/images/IMG_2530_jpeg_jpg.rf.a6c13c1f49a45439e1e4328c13660525.jpg  \n",
            " extracting: train/images/IMG_2533_jpeg_jpg.rf.72d535afd3ce3d8847a3905e737493f4.jpg  \n",
            " extracting: train/images/IMG_2536_jpeg_jpg.rf.89879f0a6436d7634771fd7de97784f8.jpg  \n",
            " extracting: train/images/IMG_2537_jpeg_jpg.rf.2b9143514d53e64f7a1dd5504ded197a.jpg  \n",
            " extracting: train/images/IMG_2538_jpeg_jpg.rf.7116cb3e914a23960371143381cd5e15.jpg  \n",
            " extracting: train/images/IMG_2539_jpeg_jpg.rf.74889d874e69af524f714f420772ecc7.jpg  \n",
            " extracting: train/images/IMG_2540_jpeg_jpg.rf.648b31d1066b616be81fb9447de85358.jpg  \n",
            " extracting: train/images/IMG_2541_jpeg_jpg.rf.fc997b87790e715d47ce1cc83edf79c2.jpg  \n",
            " extracting: train/images/IMG_2542_jpeg_jpg.rf.1986fa80da6bc8506a8dc1c918b82b03.jpg  \n",
            " extracting: train/images/IMG_2543_jpeg_jpg.rf.a5b21db3b8925f4f5d1f71a7ab39453d.jpg  \n",
            " extracting: train/images/IMG_2545_jpeg_jpg.rf.be6ed99fa1fb8d17c5d54d7f09cc5d89.jpg  \n",
            " extracting: train/images/IMG_2548_jpeg_jpg.rf.b9a775702d3c300735ef690866a1c7cc.jpg  \n",
            " extracting: train/images/IMG_2549_jpeg_jpg.rf.d9307c4549bb67163bb43c81fb771cd8.jpg  \n",
            " extracting: train/images/IMG_2550_jpeg_jpg.rf.d8b525b14483fc250303ce4be356b57c.jpg  \n",
            " extracting: train/images/IMG_2551_jpeg_jpg.rf.23441fda11b9de7fa39fb0a2ea3e7f4a.jpg  \n",
            " extracting: train/images/IMG_2552_jpeg_jpg.rf.2bfc6840f21295db87e9e56956f16e76.jpg  \n",
            " extracting: train/images/IMG_2553_jpeg_jpg.rf.631441b6872f3849ab9f75da6176af0a.jpg  \n",
            " extracting: train/images/IMG_2554_jpeg_jpg.rf.1ac30f27b030d31a31ec6b2ecdcb9025.jpg  \n",
            " extracting: train/images/IMG_2556_jpeg_jpg.rf.95be135e1024945e03cb4e03910ce8fd.jpg  \n",
            " extracting: train/images/IMG_2558_jpeg_jpg.rf.f98546f54e44d64d7284e1116d7ca99d.jpg  \n",
            " extracting: train/images/IMG_2559_jpeg_jpg.rf.d6b96bbf178cf8d38b1aff35560ed916.jpg  \n",
            " extracting: train/images/IMG_2560_jpeg_jpg.rf.121b55027c132565ca11f89e21ea6722.jpg  \n",
            " extracting: train/images/IMG_2561_jpeg_jpg.rf.f50a9915e352436894ae2749e4df115a.jpg  \n",
            " extracting: train/images/IMG_2562_jpeg_jpg.rf.e0aae69f0d7b040fce1d8099e31427b1.jpg  \n",
            " extracting: train/images/IMG_2563_jpeg_jpg.rf.a5bfbdba4fbd07a7e5a65af1c3df8d14.jpg  \n",
            " extracting: train/images/IMG_2564_jpeg_jpg.rf.9408f71747791414c81ea69f05c758f4.jpg  \n",
            " extracting: train/images/IMG_2565_jpeg_jpg.rf.5e9644aca24248d1bd9d06836921783f.jpg  \n",
            " extracting: train/images/IMG_2566_jpeg_jpg.rf.8f6fd7144a30307e3f577604b587d0ff.jpg  \n",
            " extracting: train/images/IMG_2568_jpeg_jpg.rf.97af3e8a02e5b4ed4f65d38560934812.jpg  \n",
            " extracting: train/images/IMG_2571_jpeg_jpg.rf.d26821c850b04ab5dc79a9b1fdcbea2b.jpg  \n",
            " extracting: train/images/IMG_2572_jpeg_jpg.rf.5a3356eac09c160bd2956aaed8a9ed00.jpg  \n",
            " extracting: train/images/IMG_2573_jpeg_jpg.rf.b7884c20265e0dd7cefe21da58643216.jpg  \n",
            " extracting: train/images/IMG_2575_jpeg_jpg.rf.8736d619bdee1d73390ae7476c9d4931.jpg  \n",
            " extracting: train/images/IMG_2576_jpeg_jpg.rf.4d42383c9a9d3043ca31f8f709d124ba.jpg  \n",
            " extracting: train/images/IMG_2578_jpeg_jpg.rf.63adda94658b934843ed3ab53fb52b7d.jpg  \n",
            " extracting: train/images/IMG_2579_jpeg_jpg.rf.f97bf5ef3a5d582dee0db46605c7e112.jpg  \n",
            " extracting: train/images/IMG_2580_jpeg_jpg.rf.34c625d5109a60b04f9e654910efae26.jpg  \n",
            " extracting: train/images/IMG_2581_jpeg_jpg.rf.c89374a5bd6b1b62c5c0598359913dad.jpg  \n",
            " extracting: train/images/IMG_2584_jpeg_jpg.rf.fdf498ef5b1b000a6c51d15dc29ad33a.jpg  \n",
            " extracting: train/images/IMG_2585_jpeg_jpg.rf.2b9b21609955bf5ce86fe467bb56f2a6.jpg  \n",
            " extracting: train/images/IMG_2587_jpeg_jpg.rf.c0f1bbe427c9f29eaf89fed6f6d03471.jpg  \n",
            " extracting: train/images/IMG_2589_jpeg_jpg.rf.0796c64369ea29d7e50fc1f7a36fb25b.jpg  \n",
            " extracting: train/images/IMG_2590_jpeg_jpg.rf.da9b68be20084cb37cdb80fa8747a076.jpg  \n",
            " extracting: train/images/IMG_2592_jpeg_jpg.rf.9c8ada079979c004ab05f15d6b66c902.jpg  \n",
            " extracting: train/images/IMG_2593_jpeg_jpg.rf.58aeb2909a359dbecf429949aeef4785.jpg  \n",
            " extracting: train/images/IMG_2594_jpeg_jpg.rf.40698b5028ec7d9443d65a38b58bec42.jpg  \n",
            " extracting: train/images/IMG_2595_jpeg_jpg.rf.1c8b482b1ad0ca6648e61b694ed4ee83.jpg  \n",
            " extracting: train/images/IMG_2596_jpeg_jpg.rf.55aa05115a4c3f538df4e9941af1396d.jpg  \n",
            " extracting: train/images/IMG_2597_jpeg_jpg.rf.0f07eb126fe35d31acdbec7adb23ed50.jpg  \n",
            " extracting: train/images/IMG_2598_jpeg_jpg.rf.5650ef75065f27a08cb74975840016a5.jpg  \n",
            " extracting: train/images/IMG_2600_jpeg_jpg.rf.a21b557f64e4a16ae3678de9aef1923a.jpg  \n",
            " extracting: train/images/IMG_2601_jpeg_jpg.rf.6db2e040b561c055befb49ca877632b3.jpg  \n",
            " extracting: train/images/IMG_2603_jpeg_jpg.rf.6d8a5a94a16c04784eae01d5d07f8cbe.jpg  \n",
            " extracting: train/images/IMG_2604_jpeg_jpg.rf.993c6667a03fd897ea35c645df9ee93d.jpg  \n",
            " extracting: train/images/IMG_2605_jpeg_jpg.rf.2d62821e1b21d2a61a98252c59a4042e.jpg  \n",
            " extracting: train/images/IMG_2606_jpeg_jpg.rf.27e5a373d43d2535a923e1089bf60051.jpg  \n",
            " extracting: train/images/IMG_2608_jpeg_jpg.rf.9ba9cc2485112df87a73dee448aad2bc.jpg  \n",
            " extracting: train/images/IMG_2609_jpeg_jpg.rf.812bb452a59431bc957f24c60300dfee.jpg  \n",
            " extracting: train/images/IMG_2610_jpeg_jpg.rf.4d5cf5cfdceb7dee102fe730fc1f6776.jpg  \n",
            " extracting: train/images/IMG_2611_jpeg_jpg.rf.dbd7d022107e21b1ff23e3b75b6f81ea.jpg  \n",
            " extracting: train/images/IMG_2612_jpeg_jpg.rf.4d3cb56bf5e65d1f8478142104a25cfb.jpg  \n",
            " extracting: train/images/IMG_2613_jpeg_jpg.rf.03a46725a60afa2d492d463de939b335.jpg  \n",
            " extracting: train/images/IMG_2614_jpeg_jpg.rf.3e97fad88a0f36e45bd32ecd13a34be6.jpg  \n",
            " extracting: train/images/IMG_2615_jpeg_jpg.rf.56aca06d65d38d33b02a5b8503c4b809.jpg  \n",
            " extracting: train/images/IMG_2617_jpeg_jpg.rf.0749a7644179240c7747ad03ae9999c0.jpg  \n",
            " extracting: train/images/IMG_2618_jpeg_jpg.rf.10bc0b28fb5d6b893602833d791c4dff.jpg  \n",
            " extracting: train/images/IMG_2619_jpeg_jpg.rf.62b48e73de77f2d89e512df79ebb3041.jpg  \n",
            " extracting: train/images/IMG_2620_jpeg_jpg.rf.b40034c707395cdd72e600eec10cf362.jpg  \n",
            " extracting: train/images/IMG_2621_jpeg_jpg.rf.ca93ee8489faff4b9040577dc6d21623.jpg  \n",
            " extracting: train/images/IMG_2623_jpeg_jpg.rf.0af1f3048c78df2f0f8dc887ff548198.jpg  \n",
            " extracting: train/images/IMG_2624_jpeg_jpg.rf.f10f557d310720d6c38739ba284918f8.jpg  \n",
            " extracting: train/images/IMG_2625_jpeg_jpg.rf.049cfca5fa7da90878060904a452975d.jpg  \n",
            " extracting: train/images/IMG_2627_jpeg_jpg.rf.71ea24ceb65b886d6f148dbd31f451d1.jpg  \n",
            " extracting: train/images/IMG_2628_jpeg_jpg.rf.c607a4280b054d5a636f5ee3398b886d.jpg  \n",
            " extracting: train/images/IMG_2629_jpeg_jpg.rf.123294d0d4c352dd3481382281ce7ab8.jpg  \n",
            " extracting: train/images/IMG_2631_jpeg_jpg.rf.96fbf4652e525919f27d48720cc706e0.jpg  \n",
            " extracting: train/images/IMG_2633_jpeg_jpg.rf.1874402ef6487354eb8cef83998b17f5.jpg  \n",
            " extracting: train/images/IMG_2634_jpeg_jpg.rf.b2c0aa352f4910f2d7c110e30f23b2cc.jpg  \n",
            " extracting: train/images/IMG_2638_jpeg_jpg.rf.e72c19e437b4a0a304ee07003a66280f.jpg  \n",
            " extracting: train/images/IMG_2639_jpeg_jpg.rf.44073e788a70dcd9df5e84d85f16a602.jpg  \n",
            " extracting: train/images/IMG_2640_jpeg_jpg.rf.3cc8a06471bb887f2ca3deea90e1f740.jpg  \n",
            " extracting: train/images/IMG_2641_jpeg_jpg.rf.3fc4fead3495733a8298ef199058794b.jpg  \n",
            " extracting: train/images/IMG_2642_jpeg_jpg.rf.3d4d0bd35e30e6c18388b3f50e699a4d.jpg  \n",
            " extracting: train/images/IMG_2643_jpeg_jpg.rf.5a7752897b56469837e946255d67337d.jpg  \n",
            " extracting: train/images/IMG_2644_jpeg_jpg.rf.5457f7caeb210ee8c00a94d640bb62e2.jpg  \n",
            " extracting: train/images/IMG_2646_jpeg_jpg.rf.f128f9fb09439406d8dc2abb9a1b74c7.jpg  \n",
            " extracting: train/images/IMG_2647_jpeg_jpg.rf.9b83da86e81bb2e5ba772305e2172d63.jpg  \n",
            " extracting: train/images/IMG_2648_jpeg_jpg.rf.122267403ea0ae066f642e62434ef2e3.jpg  \n",
            " extracting: train/images/IMG_2649_jpeg_jpg.rf.efd042de1468c6f1725e06af6b1d9ffd.jpg  \n",
            " extracting: train/images/IMG_2650_jpeg_jpg.rf.1afc879d751b50c9d8c935269e8995ff.jpg  \n",
            " extracting: train/images/IMG_2652_jpeg_jpg.rf.40e0f7177b75d8d66623db50d4bcc84d.jpg  \n",
            " extracting: train/images/IMG_2653_jpeg_jpg.rf.f5e2d0fb8b333ea049c7cba182d78725.jpg  \n",
            " extracting: train/images/IMG_2654_jpeg_jpg.rf.8c0b3ca2c7f729e5733f4d2f7bf9c693.jpg  \n",
            " extracting: train/images/IMG_2655_jpeg_jpg.rf.500bca587eb20e6e80acbea6f60ebd40.jpg  \n",
            " extracting: train/images/IMG_2656_jpeg_jpg.rf.a541b5b12110ebe4290c1c606ecb1f6a.jpg  \n",
            " extracting: train/images/IMG_2657_jpeg_jpg.rf.3a2d1183bd6a9c4b8a1a8b9808d46d15.jpg  \n",
            " extracting: train/images/IMG_3121_jpeg_jpg.rf.0868c7d1a4e32a0ca167c247eefea800.jpg  \n",
            " extracting: train/images/IMG_3122_jpeg_jpg.rf.e9a29910dc8281cd1709baad92212e23.jpg  \n",
            " extracting: train/images/IMG_3123_jpeg_jpg.rf.e76afbe597d98c497fcf2ac25c3d0fc7.jpg  \n",
            " extracting: train/images/IMG_3125_jpeg_jpg.rf.6c100391f99fd177741c11b928b7a61c.jpg  \n",
            " extracting: train/images/IMG_3127_jpeg_jpg.rf.1f29f97225daf147f37da45ccc3e9f5e.jpg  \n",
            " extracting: train/images/IMG_3128_jpeg_jpg.rf.68558c9a951e61ca99ae152b38026341.jpg  \n",
            " extracting: train/images/IMG_3130_jpeg_jpg.rf.b5b8d070c7b00dfecaf0564973e1f927.jpg  \n",
            " extracting: train/images/IMG_3131_jpeg_jpg.rf.fcf0ccd8dbf187344da242e29eeac0cb.jpg  \n",
            " extracting: train/images/IMG_3132_jpeg_jpg.rf.bc9492bc4b33309ca664cc27baa03a1b.jpg  \n",
            " extracting: train/images/IMG_3133_jpeg_jpg.rf.f439b9d382fd153b96f0a88cdf169172.jpg  \n",
            " extracting: train/images/IMG_3135_jpeg_jpg.rf.595f10fe0c7bb159a720ff872aa1d2c7.jpg  \n",
            " extracting: train/images/IMG_3137_jpeg_jpg.rf.f066fa3a50b9e2b392c9889bc3caaff8.jpg  \n",
            " extracting: train/images/IMG_3138_jpeg_jpg.rf.ff253449ce146d664f1c0fb5f7f25ef5.jpg  \n",
            " extracting: train/images/IMG_3140_jpeg_jpg.rf.dd52b96ae1602530456e88bc4b6ac7db.jpg  \n",
            " extracting: train/images/IMG_3141_jpeg_jpg.rf.c249d06d36488839bb413a9aea0dfdef.jpg  \n",
            " extracting: train/images/IMG_3142_jpeg_jpg.rf.a6c10fb5c976d1f187eea2ee29fd7fe0.jpg  \n",
            " extracting: train/images/IMG_3146_jpeg_jpg.rf.2a4d1b21ca18859f03d310845ee1a426.jpg  \n",
            " extracting: train/images/IMG_3147_jpeg_jpg.rf.fc4622004ff72e58b546635774372fe2.jpg  \n",
            " extracting: train/images/IMG_3148_jpeg_jpg.rf.daef4a62da020f684a31336a19f54ee8.jpg  \n",
            " extracting: train/images/IMG_3149_jpeg_jpg.rf.ec910aff6521c2af1a1bcbe5887b07f7.jpg  \n",
            " extracting: train/images/IMG_3151_jpeg_jpg.rf.6850702bb295c76afc9dd667b8d827dc.jpg  \n",
            " extracting: train/images/IMG_3152_jpeg_jpg.rf.e018fb206e9194f3536a290f0c649274.jpg  \n",
            " extracting: train/images/IMG_3155_jpeg_jpg.rf.126609905e993daff169f85e1846a21e.jpg  \n",
            " extracting: train/images/IMG_3156_jpeg_jpg.rf.330ea62dfe1c5108c408331acc17cd6a.jpg  \n",
            " extracting: train/images/IMG_3157_jpeg_jpg.rf.733ab479bba3333edf7a1cda5054a7e9.jpg  \n",
            " extracting: train/images/IMG_3158_jpeg_jpg.rf.0f2bac58bc2e3ca07172215f073a2dab.jpg  \n",
            " extracting: train/images/IMG_3159_jpeg_jpg.rf.f6e6e62d74debd64b3f1301ca0e00076.jpg  \n",
            " extracting: train/images/IMG_3160_jpeg_jpg.rf.05d38ee75197d98ea070e8aa03a5bfcb.jpg  \n",
            " extracting: train/images/IMG_3162_jpeg_jpg.rf.ca22f639cc30b9f768ad729155f6ad6e.jpg  \n",
            " extracting: train/images/IMG_3167_jpeg_jpg.rf.bfbb9755c1a35c202d4ae1eeaabc3cae.jpg  \n",
            " extracting: train/images/IMG_3168_jpeg_jpg.rf.c2409837e6459d9706aca4476ad19c3d.jpg  \n",
            " extracting: train/images/IMG_3169_jpeg_jpg.rf.00b985cb8ddf5da8964dc21435e1bd2c.jpg  \n",
            " extracting: train/images/IMG_3170_jpeg_jpg.rf.12acc73c5aaf986bf28d119f89015a10.jpg  \n",
            " extracting: train/images/IMG_3172_jpeg_jpg.rf.ce1a948fee49ecf8e542db885541bcab.jpg  \n",
            " extracting: train/images/IMG_3174_jpeg_jpg.rf.94153bec4eb7e39ce631323f8f126031.jpg  \n",
            " extracting: train/images/IMG_3176_jpeg_jpg.rf.d2ccf3978d7846c94fcb5d7700ea50dc.jpg  \n",
            " extracting: train/images/IMG_3177_jpeg_jpg.rf.21ff231136bee6d8d2d88475c2ca47ce.jpg  \n",
            " extracting: train/images/IMG_3181_jpeg_jpg.rf.c52b54494d4236e54b900fe60bd6565b.jpg  \n",
            " extracting: train/images/IMG_3182_jpeg_jpg.rf.3e85376545651810d891af33d25e6bcf.jpg  \n",
            " extracting: train/images/IMG_3186_jpeg_jpg.rf.27529a442577197646428640172a7920.jpg  \n",
            " extracting: train/images/IMG_3187_jpeg_jpg.rf.78bcf0210ca5e1fc46e9104fc27d60f7.jpg  \n",
            " extracting: train/images/IMG_3188_jpeg_jpg.rf.747520ca7cf3643faf40accc5db68c4d.jpg  \n",
            " extracting: train/images/IMG_8318_jpg.rf.ed4eeaebcf971e4f4a8f90bd351fb23c.jpg  \n",
            " extracting: train/images/IMG_8319_jpg.rf.d9c66db153b1293af6ce36c1e4f6455c.jpg  \n",
            " extracting: train/images/IMG_8327_jpg.rf.b859bdc46f8f4aaf4d1ff2b902e276df.jpg  \n",
            " extracting: train/images/IMG_8328_jpg.rf.c7cdca0b7dc7a6ac3c44254a11bd63cc.jpg  \n",
            " extracting: train/images/IMG_8329_jpg.rf.50153f721ac528f1e0025402e67d263e.jpg  \n",
            " extracting: train/images/IMG_8338_jpg.rf.8904d4055c1bfbe9b91a67e996bf28d7.jpg  \n",
            " extracting: train/images/IMG_8342_jpg.rf.783d618ba66fc9dd9d32656e6d5019ab.jpg  \n",
            " extracting: train/images/IMG_8344_jpg.rf.e4fd2a221aa52c4bed4676b3df3faf62.jpg  \n",
            " extracting: train/images/IMG_8356_jpg.rf.21bda4c8c2d11962747a54e41de650f8.jpg  \n",
            " extracting: train/images/IMG_8357_jpg.rf.e2bd534646a7aa8e2cc4a767e41786e1.jpg  \n",
            " extracting: train/images/IMG_8376_jpg.rf.f129d46d1c4ae234b8aebe69ea012d64.jpg  \n",
            " extracting: train/images/IMG_8378_jpg.rf.406b5fbdf5f05598549ed90bab244ad4.jpg  \n",
            " extracting: train/images/IMG_8382_jpg.rf.16103224694c615b4e9c51a6d30dca75.jpg  \n",
            " extracting: train/images/IMG_8383_jpg.rf.178ef0bbd25f288422fd08dff1524c3d.jpg  \n",
            " extracting: train/images/IMG_8386_jpg.rf.12f46bb864b93a578eb4a76e778dad9c.jpg  \n",
            " extracting: train/images/IMG_8387_jpg.rf.b78bafe78a498056c0b09436bb4ed84b.jpg  \n",
            " extracting: train/images/IMG_8392_jpg.rf.8f621f7d59dcc22204c1977e12890901.jpg  \n",
            " extracting: train/images/IMG_8393_jpg.rf.b15bb8dbd120bb9c9eb9eb6db83645b4.jpg  \n",
            " extracting: train/images/IMG_8394_jpg.rf.7d9dbe2003dcd63710cf358498231d23.jpg  \n",
            " extracting: train/images/IMG_8397_jpg.rf.80dfe9d2e5569e3e4355921014da1580.jpg  \n",
            " extracting: train/images/IMG_8398_jpg.rf.1f9989b02bab390abcc1c6651ae35690.jpg  \n",
            " extracting: train/images/IMG_8399_jpg.rf.98177022467f0f178f35070eba1faf92.jpg  \n",
            " extracting: train/images/IMG_8402_jpg.rf.3a5e6ef286c3710d8440da541aa82f18.jpg  \n",
            " extracting: train/images/IMG_8403_jpg.rf.eacd563b31d0cdecfb5f3b7e5c11c453.jpg  \n",
            " extracting: train/images/IMG_8405_jpg.rf.23d15e081e0f47fad6b27f18025e3774.jpg  \n",
            " extracting: train/images/IMG_8406_jpg.rf.fda4b68f345bda8047e7f15060f70e45.jpg  \n",
            " extracting: train/images/IMG_8408_jpg.rf.f0cdde37a7dbd43b55281d7d1475840e.jpg  \n",
            " extracting: train/images/IMG_8410_jpg.rf.080d0f9f09ffb56da86e800ed8e37df7.jpg  \n",
            " extracting: train/images/IMG_8411_jpg.rf.e97cd10f60bc011b5aa539fcc34dcfaa.jpg  \n",
            " extracting: train/images/IMG_8412_jpg.rf.a7669aef0d6247193978c21e8581e57f.jpg  \n",
            " extracting: train/images/IMG_8413_jpg.rf.6e17a573ccc98b664f2066f5d247944a.jpg  \n",
            " extracting: train/images/IMG_8416_jpg.rf.8702b4edbbda3768d7d820414ed7d4c3.jpg  \n",
            " extracting: train/images/IMG_8418_jpg.rf.1dab5e5914341afcc2be5987e1899086.jpg  \n",
            " extracting: train/images/IMG_8419_jpg.rf.ddef2ce9cf39b86e6937937c5d31f178.jpg  \n",
            " extracting: train/images/IMG_8421_jpg.rf.44b6c0392b3fe1aa9416567b3c3a5b70.jpg  \n",
            " extracting: train/images/IMG_8424_jpg.rf.b9642b8694d488c5067434422b13fdcf.jpg  \n",
            " extracting: train/images/IMG_8430_jpg.rf.710d601448bbe45e4e357906d7c73427.jpg  \n",
            " extracting: train/images/IMG_8434_jpg.rf.79f70b6f3f2cbce5ebe9a0aaaa0a2444.jpg  \n",
            " extracting: train/images/IMG_8436_jpg.rf.52c9029581b507fd31669163ec5a8faf.jpg  \n",
            " extracting: train/images/IMG_8439_jpg.rf.e784fd1e3cd2e38fb7c169e2e54ad91e.jpg  \n",
            " extracting: train/images/IMG_8443_jpg.rf.e635a944c002f8cd30aefb8ca18ea945.jpg  \n",
            " extracting: train/images/IMG_8445_jpg.rf.32413bef3cc793802de2e161f56f09d7.jpg  \n",
            " extracting: train/images/IMG_8450_jpg.rf.74fad5d85de1a80cabbf586c7eaef4d9.jpg  \n",
            " extracting: train/images/IMG_8451_jpg.rf.d7a20105b0a3945b7ea1c5a146adfe0c.jpg  \n",
            " extracting: train/images/IMG_8461_jpg.rf.c1f3ef25fac44501963625279e8ca614.jpg  \n",
            " extracting: train/images/IMG_8463_jpg.rf.f389f79adb1c5954105342441c289363.jpg  \n",
            " extracting: train/images/IMG_8464_jpg.rf.66c981dfb9cc89ff0bcb93ca11067c74.jpg  \n",
            " extracting: train/images/IMG_8466_jpg.rf.a7894bfef84804dcbbdb8b46870cb66b.jpg  \n",
            " extracting: train/images/IMG_8468_jpg.rf.6a748d130991418e3da8737f17ba5e73.jpg  \n",
            " extracting: train/images/IMG_8469_jpg.rf.7faf777e50196eee1e90df69e03fd778.jpg  \n",
            " extracting: train/images/IMG_8470_jpg.rf.5c11524bbae1866b8f848725d86d5142.jpg  \n",
            " extracting: train/images/IMG_8471_jpg.rf.ae5a71d679103fd7cba244719b0e3157.jpg  \n",
            " extracting: train/images/IMG_8476_jpg.rf.33248f8c26e878e8a1b3a1a85746f93d.jpg  \n",
            " extracting: train/images/IMG_8477_jpg.rf.e3f065c25272e57128a67a1b06a16631.jpg  \n",
            " extracting: train/images/IMG_8478_jpg.rf.965ef34d8eee7cbb5e48a5ce4f6cac17.jpg  \n",
            " extracting: train/images/IMG_8486_jpg.rf.3000bc7c3b4d2df476eea138b9682116.jpg  \n",
            " extracting: train/images/IMG_8493_jpg.rf.0f25b61a8d7ab12cbf5ae131582007d5.jpg  \n",
            " extracting: train/images/IMG_8494_jpg.rf.a68f75721ae7ee1a6bf2caa88aab6cc1.jpg  \n",
            " extracting: train/images/IMG_8495_jpg.rf.207e20fe66feab6da48e9bbf2e9aeb83.jpg  \n",
            " extracting: train/images/IMG_8496_MOV-0_jpg.rf.98652453afc7fb2316cf38fceba37730.jpg  \n",
            " extracting: train/images/IMG_8496_MOV-1_jpg.rf.bfb30108c5b8c7ebd0b92028435ba919.jpg  \n",
            " extracting: train/images/IMG_8496_MOV-3_jpg.rf.ace3fc49d60c36ebd061bf9136264aea.jpg  \n",
            " extracting: train/images/IMG_8496_MOV-4_jpg.rf.5a57e10d66c22e0dd54f16fc0d9ea2d8.jpg  \n",
            " extracting: train/images/IMG_8496_MOV-5_jpg.rf.eacca955182a03a262de9b2c4012ecc4.jpg  \n",
            " extracting: train/images/IMG_8496_MOV-6_jpg.rf.1a2f4660fc24ccab8c1f78b2aa6ca1d3.jpg  \n",
            " extracting: train/images/IMG_8497_MOV-1_jpg.rf.40946c619f2980cf22ef4e1414e9aaaf.jpg  \n",
            " extracting: train/images/IMG_8500_jpg.rf.95c3f3780b381dea7a27e2042ecea9c6.jpg  \n",
            " extracting: train/images/IMG_8502_jpg.rf.81783141b72ae29e514d677ca0f5082d.jpg  \n",
            " extracting: train/images/IMG_8509_jpg.rf.2c289b209622afd8e8aac913c35008d7.jpg  \n",
            " extracting: train/images/IMG_8510_jpg.rf.c6030dc16e5b84b2532aec1e07df4e50.jpg  \n",
            " extracting: train/images/IMG_8511_jpg.rf.0613c7cf6abb8e5201e65def1c22805c.jpg  \n",
            " extracting: train/images/IMG_8512_MOV-0_jpg.rf.44c1fce444824e3210a1d6bb59580432.jpg  \n",
            " extracting: train/images/IMG_8512_MOV-2_jpg.rf.00f06559a0df06b71002d0b3dbf1804c.jpg  \n",
            " extracting: train/images/IMG_8512_MOV-3_jpg.rf.3a2cf34e48d682a67a2e380ba574f417.jpg  \n",
            " extracting: train/images/IMG_8512_MOV-4_jpg.rf.e879ecc625c150dfb308030a737ff9c5.jpg  \n",
            " extracting: train/images/IMG_8512_MOV-6_jpg.rf.02aa66e66ae9d7a5756bd29399a39936.jpg  \n",
            " extracting: train/images/IMG_8516_jpg.rf.3538c4a9f231f528222981653f2c2b25.jpg  \n",
            " extracting: train/images/IMG_8517_MOV-0_jpg.rf.1cd69226c4111a502f5018a4ff6bd886.jpg  \n",
            " extracting: train/images/IMG_8517_MOV-1_jpg.rf.f38c10686e4a0e257b1f2d8f4bb5f4b1.jpg  \n",
            " extracting: train/images/IMG_8517_MOV-2_jpg.rf.448400031963649dfefa9534b568bf93.jpg  \n",
            " extracting: train/images/IMG_8517_MOV-3_jpg.rf.b6e2c680f3adfbedfe5b1bbed3920bb7.jpg  \n",
            " extracting: train/images/IMG_8517_MOV-4_jpg.rf.82cc2fd5812151d35ce655a5b25f5215.jpg  \n",
            " extracting: train/images/IMG_8517_MOV-5_jpg.rf.62a10beba8fe770a302dec33a3188215.jpg  \n",
            " extracting: train/images/IMG_8517_MOV-6_jpg.rf.951387a4d17ab16e6d56234d3046ddfd.jpg  \n",
            " extracting: train/images/IMG_8519_jpg.rf.d10cb6cac5fa5d2e660cfca7d0f9ed14.jpg  \n",
            " extracting: train/images/IMG_8520_jpg.rf.68bab0b4a111aa5bdad529f65b21edfd.jpg  \n",
            " extracting: train/images/IMG_8522_jpg.rf.de6f1dbe20d278d2b0052bc448aa93d8.jpg  \n",
            " extracting: train/images/IMG_8523_jpg.rf.b0834c4ac753865c2c89427a2bea0359.jpg  \n",
            " extracting: train/images/IMG_8527_jpg.rf.665beee325377633012877f4180dc95e.jpg  \n",
            " extracting: train/images/IMG_8531_jpg.rf.abe45b49de6d004d043f2e5bda2763bd.jpg  \n",
            " extracting: train/images/IMG_8533_jpg.rf.ee8fa720b130a97b1614421572fc2bb4.jpg  \n",
            " extracting: train/images/IMG_8534_jpg.rf.85886ccc87bbbd85796f4454f9851446.jpg  \n",
            " extracting: train/images/IMG_8535_MOV-2_jpg.rf.b38dd29d6e6a5f33ca469b61999c5c01.jpg  \n",
            " extracting: train/images/IMG_8535_MOV-3_jpg.rf.5b8daac9353f088bac733681586e1450.jpg  \n",
            " extracting: train/images/IMG_8536_jpg.rf.cead5d43fe445a3083e912b5423210c3.jpg  \n",
            " extracting: train/images/IMG_8537_jpg.rf.1f059c846fe8abe264f2b19d87dd449a.jpg  \n",
            " extracting: train/images/IMG_8538_jpg.rf.58ba4aa95d033ec5c8250dec676c5679.jpg  \n",
            " extracting: train/images/IMG_8541_jpg.rf.066c747a66e7275139820b42b4a84394.jpg  \n",
            " extracting: train/images/IMG_8544_jpg.rf.e4e5c8c67143fdcaa8e9da9400e8f3ee.jpg  \n",
            " extracting: train/images/IMG_8545_jpg.rf.ff50b7c81c0f9479325eec03e7ce2191.jpg  \n",
            " extracting: train/images/IMG_8546_jpg.rf.dfb175317253d2e8afe729282cb03fb7.jpg  \n",
            " extracting: train/images/IMG_8547_jpg.rf.193f12388061d49793b7742aae33dedb.jpg  \n",
            " extracting: train/images/IMG_8548_jpg.rf.a4d3450e14fbb48bf958673fb404548b.jpg  \n",
            " extracting: train/images/IMG_8549_jpg.rf.ee5f8f7fa2cae6f1e528e1b350ad4046.jpg  \n",
            " extracting: train/images/IMG_8550_jpg.rf.7f9f25d5d968b77bc0664fb82fc9a9c9.jpg  \n",
            " extracting: train/images/IMG_8551_MOV-0_jpg.rf.13c7f883c88334a6674eea274024d390.jpg  \n",
            " extracting: train/images/IMG_8551_MOV-2_jpg.rf.f1f22585ffc08ad0edef73faac0501a3.jpg  \n",
            " extracting: train/images/IMG_8551_MOV-3_jpg.rf.3505a2122c7e4b55a4332d088f57ab98.jpg  \n",
            " extracting: train/images/IMG_8551_MOV-4_jpg.rf.f3784ce90069a27a41d01dbc9f7d53cb.jpg  \n",
            " extracting: train/images/IMG_8552_jpg.rf.61ac5f24f64530252d883e103a66c807.jpg  \n",
            " extracting: train/images/IMG_8558_jpg.rf.f31804f23631236926f699aa7bea77c1.jpg  \n",
            " extracting: train/images/IMG_8560_jpg.rf.44a3f330855373c73485e4909aedabaa.jpg  \n",
            " extracting: train/images/IMG_8570_jpg.rf.22a9bfaa76e035e692aaac3a49df03b8.jpg  \n",
            " extracting: train/images/IMG_8571_MOV-0_jpg.rf.f4ca11babed3711ce449c6a066be33a5.jpg  \n",
            " extracting: train/images/IMG_8571_MOV-1_jpg.rf.b22e2df287efb2b9ecd33c88a607e31e.jpg  \n",
            " extracting: train/images/IMG_8571_MOV-2_jpg.rf.6620ac28d99d209e5681394478eb5993.jpg  \n",
            " extracting: train/images/IMG_8571_MOV-4_jpg.rf.d7b7c24c46f21df8cca7ae652464d2d1.jpg  \n",
            " extracting: train/images/IMG_8571_MOV-5_jpg.rf.c8b11ac37b7b57b79bba5e4aec07ad73.jpg  \n",
            " extracting: train/images/IMG_8572_MOV-0_jpg.rf.1a301d11ffdd3cb15653d44ea193ff1e.jpg  \n",
            " extracting: train/images/IMG_8572_MOV-2_jpg.rf.70025aa545c1d5039981b13562400636.jpg  \n",
            " extracting: train/images/IMG_8575_jpg.rf.1cf3080cdc0d1afae6f57dbd147c9e3c.jpg  \n",
            " extracting: train/images/IMG_8578_MOV-1_jpg.rf.7ba2500fc572cf5045ab9880ae2ed106.jpg  \n",
            " extracting: train/images/IMG_8578_MOV-2_jpg.rf.2e5101d836971fa36cc0876c718069bb.jpg  \n",
            " extracting: train/images/IMG_8580_jpg.rf.9b5f56c09ea8a7933c2c575f7e9a3f14.jpg  \n",
            " extracting: train/images/IMG_8581_MOV-0_jpg.rf.655f2e11059aeb33350230db32b7f927.jpg  \n",
            " extracting: train/images/IMG_8581_MOV-2_jpg.rf.8a021efa01d74e83787c1af4fd56c69b.jpg  \n",
            " extracting: train/images/IMG_8581_MOV-3_jpg.rf.186677ddac0ca95f01b07c0814c87171.jpg  \n",
            " extracting: train/images/IMG_8581_MOV-4_jpg.rf.1d8182747d4e43163f55b5bdbf36a8af.jpg  \n",
            " extracting: train/images/IMG_8582_MOV-1_jpg.rf.7aaeb1f509ee4b0ee1194f2d3f97ab7b.jpg  \n",
            " extracting: train/images/IMG_8590_MOV-1_jpg.rf.5e5c650f344f8d835e04f867c6496953.jpg  \n",
            " extracting: train/images/IMG_8590_MOV-3_jpg.rf.5acced567b7a3d53c4cf07768f40e770.jpg  \n",
            " extracting: train/images/IMG_8590_MOV-4_jpg.rf.1691f0958ffea266daa9011c203cd726.jpg  \n",
            " extracting: train/images/IMG_8591_MOV-0_jpg.rf.950e816e96ad35460046e2402c0f26a9.jpg  \n",
            " extracting: train/images/IMG_8591_MOV-2_jpg.rf.fb399b446ec6ccc12bea5b9321486b34.jpg  \n",
            " extracting: train/images/IMG_8593_MOV-0_jpg.rf.7af9eba367ddb825b99a4c314856cd80.jpg  \n",
            " extracting: train/images/IMG_8593_MOV-2_jpg.rf.e9995795a521680a6f70f03810142d58.jpg  \n",
            " extracting: train/images/IMG_8594_jpg.rf.c5476deec8c02b1ed2d106d5bb1a883d.jpg  \n",
            " extracting: train/images/IMG_8595_MOV-2_jpg.rf.055891706f32e5310829f3a0a46cec5e.jpg  \n",
            " extracting: train/images/IMG_8598_jpg.rf.761ffe2966ae3fae2a3f5615df36370e.jpg  \n",
            " extracting: train/images/IMG_8599_MOV-0_jpg.rf.3bd4fd78a244fdb4e48556896c70de74.jpg  \n",
            " extracting: train/images/IMG_8599_MOV-2_jpg.rf.0b2b0733befaae0b08c0e04b86f295b9.jpg  \n",
            "   creating: train/labels/\n",
            " extracting: train/labels/IMG_2274_jpeg_jpg.rf.2f319e949748145fb22dcb52bb325a0c.txt  \n",
            " extracting: train/labels/IMG_2275_jpeg_jpg.rf.66355520a49ba7fb7082052f7ca6fee0.txt  \n",
            " extracting: train/labels/IMG_2276_jpeg_jpg.rf.7411b1902c81bad8cdefd2cc4eb3a97b.txt  \n",
            " extracting: train/labels/IMG_2280_jpeg_jpg.rf.5abcce5be523f6507bbaf731dd671226.txt  \n",
            " extracting: train/labels/IMG_2282_jpeg_jpg.rf.510f3bc14c3e0aa378b192199d01cae6.txt  \n",
            " extracting: train/labels/IMG_2283_jpeg_jpg.rf.4f28032102ddc4534410f9bf474ef1d0.txt  \n",
            " extracting: train/labels/IMG_2284_jpeg_jpg.rf.99de11cb5727748bd3eae3afe7b415e6.txt  \n",
            " extracting: train/labels/IMG_2285_jpeg_jpg.rf.4a93d99b9f0b6cccfb27bf2f4a13b99e.txt  \n",
            " extracting: train/labels/IMG_2286_jpeg_jpg.rf.bbcb2046dedb8e1fb3a9519848c1a4c2.txt  \n",
            " extracting: train/labels/IMG_2287_jpeg_jpg.rf.cce12b7bb4e49aa145398504aef84c99.txt  \n",
            " extracting: train/labels/IMG_2290_jpeg_jpg.rf.3698fd48defd03b2550f7ba8b68314ee.txt  \n",
            " extracting: train/labels/IMG_2291_jpeg_jpg.rf.78e908bd2cc12eafc40a5bf3101b8b39.txt  \n",
            " extracting: train/labels/IMG_2292_jpeg_jpg.rf.122a0051d4d65d8651089a2ebbc2ed85.txt  \n",
            " extracting: train/labels/IMG_2293_jpeg_jpg.rf.0a25194b094d64e91068eaa7fcaf4feb.txt  \n",
            " extracting: train/labels/IMG_2294_jpeg_jpg.rf.be432d5740148075ba72a4194c788a0c.txt  \n",
            " extracting: train/labels/IMG_2295_jpeg_jpg.rf.498a525f58666743ef5d65b7f6438adc.txt  \n",
            " extracting: train/labels/IMG_2296_jpeg_jpg.rf.56a86afeeeb9a6c12746f77b7346ff19.txt  \n",
            " extracting: train/labels/IMG_2298_jpeg_jpg.rf.45a350037d7622eacf2a1a188b28fb54.txt  \n",
            " extracting: train/labels/IMG_2299_jpeg_jpg.rf.19c4728e89a506c9a7dcbb2509d6a134.txt  \n",
            " extracting: train/labels/IMG_2302_jpeg_jpg.rf.aa8d7da0c33370589f2b441c7ca26450.txt  \n",
            " extracting: train/labels/IMG_2303_jpeg_jpg.rf.0c70be2d073ae94feeb463b79babaab8.txt  \n",
            " extracting: train/labels/IMG_2304_jpeg_jpg.rf.87ed7625b3869f06caf5a9ca5720f3f4.txt  \n",
            " extracting: train/labels/IMG_2306_jpeg_jpg.rf.9bba6ce48724517b19474b85178391c1.txt  \n",
            " extracting: train/labels/IMG_2307_jpeg_jpg.rf.cdea03288eac0ee043c709d25aae71a7.txt  \n",
            " extracting: train/labels/IMG_2308_jpeg_jpg.rf.7f5bc9634b415d515784dc7ae7a83532.txt  \n",
            " extracting: train/labels/IMG_2309_jpeg_jpg.rf.088f73ff0b07c30ce6212eb4e3013708.txt  \n",
            " extracting: train/labels/IMG_2310_jpeg_jpg.rf.89adac79fea2745dae17668703c85ba2.txt  \n",
            " extracting: train/labels/IMG_2311_jpeg_jpg.rf.69797c0319ca881b5c5bc7637e9e7aa7.txt  \n",
            " extracting: train/labels/IMG_2312_jpeg_jpg.rf.92a094761408320b749e7fd4e4b98b91.txt  \n",
            " extracting: train/labels/IMG_2313_jpeg_jpg.rf.c493f660b195b8edec3ee3fa0c626868.txt  \n",
            " extracting: train/labels/IMG_2314_jpeg_jpg.rf.5772ea6330e776b72648b7044aeeda06.txt  \n",
            " extracting: train/labels/IMG_2315_jpeg_jpg.rf.299629b833341515cbe594fbe0b0b386.txt  \n",
            " extracting: train/labels/IMG_2316_jpeg_jpg.rf.bb8de66895ac8751f348c5df631f46ad.txt  \n",
            " extracting: train/labels/IMG_2320_jpeg_jpg.rf.4ba216e1f004fd1182ca0dfb53ccce19.txt  \n",
            " extracting: train/labels/IMG_2321_jpeg_jpg.rf.77da5a058425f06403464142d4561096.txt  \n",
            " extracting: train/labels/IMG_2322_jpeg_jpg.rf.5cfbfdaf229269a0def35f967002aee3.txt  \n",
            " extracting: train/labels/IMG_2324_jpeg_jpg.rf.1f5efa1adc71c46d5037bdcd281056b9.txt  \n",
            " extracting: train/labels/IMG_2326_jpeg_jpg.rf.37dc74670ccbc94d720a39e2cd046ace.txt  \n",
            " extracting: train/labels/IMG_2327_jpeg_jpg.rf.23ca4add8919548516415c9fe02eedf6.txt  \n",
            " extracting: train/labels/IMG_2328_jpeg_jpg.rf.ee3309e0a5ab09d96d9ed30bc1c1115f.txt  \n",
            " extracting: train/labels/IMG_2330_jpeg_jpg.rf.5d358782dd868884a99f4f88841d2287.txt  \n",
            " extracting: train/labels/IMG_2331_jpeg_jpg.rf.430bebeabaa960aedfce00821dbf1823.txt  \n",
            " extracting: train/labels/IMG_2332_jpeg_jpg.rf.6987566de99decbc96cf8b50269eec32.txt  \n",
            " extracting: train/labels/IMG_2335_jpeg_jpg.rf.fee7aabbe3a95b58fa737bf4537ded6f.txt  \n",
            " extracting: train/labels/IMG_2336_jpeg_jpg.rf.46f0754f98f042408a12adc0bfd57650.txt  \n",
            " extracting: train/labels/IMG_2338_jpeg_jpg.rf.e7ed2b02a8b79ecfbf78d943ab27d48c.txt  \n",
            " extracting: train/labels/IMG_2341_jpeg_jpg.rf.6cd8aa27674201fa6e367b4798388b61.txt  \n",
            " extracting: train/labels/IMG_2343_jpeg_jpg.rf.d9093ca915071e649e4771462b164802.txt  \n",
            " extracting: train/labels/IMG_2344_jpeg_jpg.rf.d0315ce107744b21a51c03a5a3e046af.txt  \n",
            " extracting: train/labels/IMG_2346_jpeg_jpg.rf.beefcd27f4f07657c99d128ead21bf91.txt  \n",
            " extracting: train/labels/IMG_2349_jpeg_jpg.rf.743d7a69284c7ee65b40548c2803bd34.txt  \n",
            " extracting: train/labels/IMG_2350_jpeg_jpg.rf.c77c8bea4bbacefbccb48673c5f40171.txt  \n",
            " extracting: train/labels/IMG_2351_jpeg_jpg.rf.edf3aaeca6e2355052e41c0cc57f9cb6.txt  \n",
            " extracting: train/labels/IMG_2352_jpeg_jpg.rf.b91c732f98fab8234ac4ec50f25a7c32.txt  \n",
            " extracting: train/labels/IMG_2358_jpeg_jpg.rf.efdef53aafee680685b00990131e1442.txt  \n",
            " extracting: train/labels/IMG_2359_jpeg_jpg.rf.9a22271fa084fd7ba13ffe880215c8f4.txt  \n",
            " extracting: train/labels/IMG_2360_jpeg_jpg.rf.1f04ed9c5472f410de3263510a5de6dd.txt  \n",
            " extracting: train/labels/IMG_2361_jpeg_jpg.rf.02195fab4639c0b58bef41a6944fda9d.txt  \n",
            " extracting: train/labels/IMG_2362_jpeg_jpg.rf.a1ac6ab5801ffa496d0fbd6038ebf034.txt  \n",
            " extracting: train/labels/IMG_2363_jpeg_jpg.rf.c646c1cefead3cafbda9956f065dbe6a.txt  \n",
            " extracting: train/labels/IMG_2364_jpeg_jpg.rf.28f37990b12a2ca62cd367362cf202d4.txt  \n",
            " extracting: train/labels/IMG_2365_jpeg_jpg.rf.9091a7e8b24fcf1d8493c5a4dd1310d1.txt  \n",
            " extracting: train/labels/IMG_2368_jpeg_jpg.rf.4f2acbd69ebf32d532fe6ed7d236cfaf.txt  \n",
            " extracting: train/labels/IMG_2369_jpeg_jpg.rf.9cae2a081c00b8db2b2998919e65d420.txt  \n",
            " extracting: train/labels/IMG_2370_jpeg_jpg.rf.d5bdf9d889fa01a687af0038c3ede236.txt  \n",
            " extracting: train/labels/IMG_2372_jpeg_jpg.rf.ea92b226d1699c4cb4276758024ffb3a.txt  \n",
            " extracting: train/labels/IMG_2373_jpeg_jpg.rf.6b8f32a68ab7d25ff0cd7f977bd187fc.txt  \n",
            " extracting: train/labels/IMG_2374_jpeg_jpg.rf.13a3afe5fa27f706d031758c74d64dae.txt  \n",
            " extracting: train/labels/IMG_2375_jpeg_jpg.rf.ed73b2179f3b96fe3088456fc43a2cf5.txt  \n",
            " extracting: train/labels/IMG_2376_jpeg_jpg.rf.238955f6c2fbed6cd8b508f1b61f84de.txt  \n",
            " extracting: train/labels/IMG_2377_jpeg_jpg.rf.058bc10292405404b78e4d6ec8315b44.txt  \n",
            " extracting: train/labels/IMG_2378_jpeg_jpg.rf.9a7993c75521d4b5383257936c7ab263.txt  \n",
            " extracting: train/labels/IMG_2382_jpeg_jpg.rf.b431ad0ed94761ef82281dbe844170cc.txt  \n",
            " extracting: train/labels/IMG_2383_jpeg_jpg.rf.fd376436d382e985e3c0e6936860212f.txt  \n",
            " extracting: train/labels/IMG_2384_jpeg_jpg.rf.a094269cf1f5522f894b6a2cfc636a8d.txt  \n",
            " extracting: train/labels/IMG_2385_jpeg_jpg.rf.401926de349287bb4d9152d065e9a822.txt  \n",
            " extracting: train/labels/IMG_2386_jpeg_jpg.rf.24ef35f21ff0b936ede4bb3a50c0886e.txt  \n",
            " extracting: train/labels/IMG_2389_jpeg_jpg.rf.3659b6446ca8e6cc9caea6f862cb7c64.txt  \n",
            " extracting: train/labels/IMG_2390_jpeg_jpg.rf.64fe0a0c9bb0459e06335b75d455ffb2.txt  \n",
            " extracting: train/labels/IMG_2393_jpeg_jpg.rf.51a3d165da3aac4466f89c834fa6532e.txt  \n",
            " extracting: train/labels/IMG_2394_jpeg_jpg.rf.3994f29b2f24a3104ed3404617128485.txt  \n",
            " extracting: train/labels/IMG_2399_jpeg_jpg.rf.13370408785f27bea59424ce8d46dbca.txt  \n",
            " extracting: train/labels/IMG_2400_jpeg_jpg.rf.70540f43bd58c832e6dad61e456ee889.txt  \n",
            " extracting: train/labels/IMG_2401_jpeg_jpg.rf.9c2bfe2fea5904ab85682c15ea13eeac.txt  \n",
            " extracting: train/labels/IMG_2402_jpeg_jpg.rf.ff2e5af0a2d1693c155a01d7494fc8e4.txt  \n",
            " extracting: train/labels/IMG_2403_jpeg_jpg.rf.fc3a8f234fe9214577fc7f5d2df940b6.txt  \n",
            " extracting: train/labels/IMG_2405_jpeg_jpg.rf.a2556645dee0dd9c64327b09b4a4f6f8.txt  \n",
            " extracting: train/labels/IMG_2406_jpeg_jpg.rf.1188b08782ffbc29af95b22721ca6015.txt  \n",
            " extracting: train/labels/IMG_2408_jpeg_jpg.rf.e0e6c527f73aed3fdbdd2cabeea44fe0.txt  \n",
            " extracting: train/labels/IMG_2409_jpeg_jpg.rf.2de52b31d07502007ce8e96350212d7c.txt  \n",
            " extracting: train/labels/IMG_2410_jpeg_jpg.rf.28e599148c43192990cc399a4940f016.txt  \n",
            " extracting: train/labels/IMG_2412_jpeg_jpg.rf.31034ae005fc4ba75a20f94f91e4bbc5.txt  \n",
            " extracting: train/labels/IMG_2413_jpeg_jpg.rf.695815e23abdea80c043bb1cfd5a8a73.txt  \n",
            " extracting: train/labels/IMG_2414_jpeg_jpg.rf.980c706f21682aa6d010cc7a43f9f12c.txt  \n",
            " extracting: train/labels/IMG_2415_jpeg_jpg.rf.ebf0f6afed62125f3a07b177ff1eb41b.txt  \n",
            " extracting: train/labels/IMG_2417_jpeg_jpg.rf.3126d833b440a93a98942375d5de1a91.txt  \n",
            " extracting: train/labels/IMG_2418_jpeg_jpg.rf.ef54d0d053b69b90a077ff1e7caa8937.txt  \n",
            " extracting: train/labels/IMG_2419_jpeg_jpg.rf.b45ff8e98d7a369bd43eda658dccce9e.txt  \n",
            " extracting: train/labels/IMG_2420_jpeg_jpg.rf.2c9b62657f067185cfd553339210ae48.txt  \n",
            " extracting: train/labels/IMG_2421_jpeg_jpg.rf.18cf9dc78b3af40e540c4e76393642ef.txt  \n",
            " extracting: train/labels/IMG_2422_jpeg_jpg.rf.47bfe242cb40465122daa7d1189c8909.txt  \n",
            " extracting: train/labels/IMG_2426_jpeg_jpg.rf.50808902673305d18d0d44531b5a8bfb.txt  \n",
            " extracting: train/labels/IMG_2427_jpeg_jpg.rf.4376ff1caed40be5f9e36ae22136c2a5.txt  \n",
            " extracting: train/labels/IMG_2429_jpeg_jpg.rf.a587ba43a6cf6d5e0f42cd295650dcb0.txt  \n",
            " extracting: train/labels/IMG_2430_jpeg_jpg.rf.ea942e540d2202770b60388e01246c92.txt  \n",
            " extracting: train/labels/IMG_2432_jpeg_jpg.rf.b0839d3e7f6a6fbc8f15a4e0ef385b7f.txt  \n",
            " extracting: train/labels/IMG_2433_jpeg_jpg.rf.22485b09320c5d7924c4c86641f4826c.txt  \n",
            " extracting: train/labels/IMG_2435_jpeg_jpg.rf.90d0f2a9a2603d0d00e44c54ea34d8a1.txt  \n",
            " extracting: train/labels/IMG_2436_jpeg_jpg.rf.e2657a48d78d7c26aa1d93edd0af9130.txt  \n",
            " extracting: train/labels/IMG_2437_jpeg_jpg.rf.9d3ddc928ee1ce44d6b625f3de4baefe.txt  \n",
            " extracting: train/labels/IMG_2438_jpeg_jpg.rf.d34e9d39297e8636b6bd5458d3b6bc1a.txt  \n",
            " extracting: train/labels/IMG_2439_jpeg_jpg.rf.b716ecc9923088908de67457af446693.txt  \n",
            " extracting: train/labels/IMG_2440_jpeg_jpg.rf.fbf8154be50fdc05cf5c49e452c8889a.txt  \n",
            " extracting: train/labels/IMG_2441_jpeg_jpg.rf.7cb24c87feb8f1f9c4cba9cb4f1ce0db.txt  \n",
            " extracting: train/labels/IMG_2443_jpeg_jpg.rf.fbca75ce6c1f6f9a3ebaa0dc2dc58d3a.txt  \n",
            " extracting: train/labels/IMG_2444_jpeg_jpg.rf.cbd4c00116cf7dd7f0ea905031ea8774.txt  \n",
            " extracting: train/labels/IMG_2445_jpeg_jpg.rf.4322ba9de4afd56e2d585cbe4b2d542f.txt  \n",
            " extracting: train/labels/IMG_2447_jpeg_jpg.rf.3c11aace74e70dbb007eb2e597f78ebb.txt  \n",
            " extracting: train/labels/IMG_2449_jpeg_jpg.rf.66b68f9b04aae5ef7a5c1c52f27da23f.txt  \n",
            " extracting: train/labels/IMG_2451_jpeg_jpg.rf.6cc1dc705b21921c89c4e925ff86c5d6.txt  \n",
            " extracting: train/labels/IMG_2452_jpeg_jpg.rf.2966d2cb12c00bcd17c3e56890ae90d0.txt  \n",
            " extracting: train/labels/IMG_2456_jpeg_jpg.rf.7ea8891568b40b0618d829c3810ec332.txt  \n",
            " extracting: train/labels/IMG_2458_jpeg_jpg.rf.e4f518a021aa886cc248b50bfaff6f4e.txt  \n",
            " extracting: train/labels/IMG_2459_jpeg_jpg.rf.c6a60bf7e4518c5c2733727264ef32c8.txt  \n",
            " extracting: train/labels/IMG_2460_jpeg_jpg.rf.62b0d4966ce2243f71278e6f306c969a.txt  \n",
            " extracting: train/labels/IMG_2461_jpeg_jpg.rf.a9a7293e2e45a5e3b9d7cc10d45c37dd.txt  \n",
            " extracting: train/labels/IMG_2462_jpeg_jpg.rf.996656c68077c9d9e7ec2c4928a5c4d1.txt  \n",
            " extracting: train/labels/IMG_2463_jpeg_jpg.rf.da774058e67ba22ec38a84ac948b4014.txt  \n",
            " extracting: train/labels/IMG_2467_jpeg_jpg.rf.50fbe34360e324a8ebb9c0ed262373c1.txt  \n",
            " extracting: train/labels/IMG_2471_jpeg_jpg.rf.80259312a2c1b317d5b48f1937e53a07.txt  \n",
            " extracting: train/labels/IMG_2472_jpeg_jpg.rf.57b8e38dd12bf9a9b8cb87e5f49b072d.txt  \n",
            " extracting: train/labels/IMG_2475_jpeg_jpg.rf.46e62539bfeb76e003100176a5818f0b.txt  \n",
            " extracting: train/labels/IMG_2476_jpeg_jpg.rf.8ccde2bbb1a8cc7205cbf4c0343ac96b.txt  \n",
            " extracting: train/labels/IMG_2478_jpeg_jpg.rf.ae27bba94db775902a3683bc5c469029.txt  \n",
            " extracting: train/labels/IMG_2480_jpeg_jpg.rf.65112653d4f14fcd3431eed42833146e.txt  \n",
            " extracting: train/labels/IMG_2481_jpeg_jpg.rf.00a2836323b67c925752c28bccc26ea4.txt  \n",
            " extracting: train/labels/IMG_2482_jpeg_jpg.rf.e49b8fe3d265732ff3c0eb8172bd66ee.txt  \n",
            " extracting: train/labels/IMG_2483_jpeg_jpg.rf.4cce5bab03a29d47dde28e0ffa71a3a0.txt  \n",
            " extracting: train/labels/IMG_2485_jpeg_jpg.rf.dabd7a2e30e0c47b2bc750eb2395da11.txt  \n",
            " extracting: train/labels/IMG_2486_jpeg_jpg.rf.b2d1224d293b2659b71f5fb83aae5e20.txt  \n",
            " extracting: train/labels/IMG_2487_jpeg_jpg.rf.e2c008ecf06dc7f3159ab28903bc5275.txt  \n",
            " extracting: train/labels/IMG_2488_jpeg_jpg.rf.e3511d1d2df484d56e7eb9a667299acd.txt  \n",
            " extracting: train/labels/IMG_2489_jpeg_jpg.rf.ffb357957a29cdef43f3fdfb2a13c417.txt  \n",
            " extracting: train/labels/IMG_2490_jpeg_jpg.rf.8b825f810f53bc5141c576b0d83e778d.txt  \n",
            " extracting: train/labels/IMG_2493_jpeg_jpg.rf.5ea3fbb437ab94fbd23f187d270b9a5f.txt  \n",
            " extracting: train/labels/IMG_2494_jpeg_jpg.rf.2d7d4d727fe0cb18fb12fe87f23f4e9c.txt  \n",
            " extracting: train/labels/IMG_2495_jpeg_jpg.rf.b0c357674c9856576d1561581f186c5b.txt  \n",
            " extracting: train/labels/IMG_2497_jpeg_jpg.rf.ab5601591a6d9d4db72d08c480454253.txt  \n",
            " extracting: train/labels/IMG_2498_jpeg_jpg.rf.fb8d5cb2ea8c29c710ef2240cf19918f.txt  \n",
            " extracting: train/labels/IMG_2500_jpeg_jpg.rf.ce4f27a931c371f5a780f3ebb9c098e0.txt  \n",
            " extracting: train/labels/IMG_2501_jpeg_jpg.rf.86cc23ef99a01b5a863f6dbc7f8faa10.txt  \n",
            " extracting: train/labels/IMG_2502_jpeg_jpg.rf.d641755e6af1f9a46f138c1a00ecfc23.txt  \n",
            " extracting: train/labels/IMG_2503_jpeg_jpg.rf.726342a02d92d30abc147f6e71fe3baf.txt  \n",
            " extracting: train/labels/IMG_2504_jpeg_jpg.rf.6319bf044a6c11112e69a100f1505d41.txt  \n",
            " extracting: train/labels/IMG_2506_jpeg_jpg.rf.5b0e0ae2d8038056ce3a19b260b9ed55.txt  \n",
            " extracting: train/labels/IMG_2507_jpeg_jpg.rf.51612d3065ddd5d951909ca543e84bb7.txt  \n",
            " extracting: train/labels/IMG_2508_jpeg_jpg.rf.6341e9035957fcc1420ec41cd9176b7a.txt  \n",
            " extracting: train/labels/IMG_2509_jpeg_jpg.rf.0c8d6158f08975bd24497a5fb02572d2.txt  \n",
            " extracting: train/labels/IMG_2511_jpeg_jpg.rf.4593a8e1ea4e285da455b895a36fa2c7.txt  \n",
            " extracting: train/labels/IMG_2513_jpeg_jpg.rf.1c33f6aee29f24622179b3c188effe59.txt  \n",
            " extracting: train/labels/IMG_2515_jpeg_jpg.rf.c7255981abc23128903ac9ece1b4d8b5.txt  \n",
            " extracting: train/labels/IMG_2516_jpeg_jpg.rf.6f719df754865fe6166afd0a3a78d60f.txt  \n",
            " extracting: train/labels/IMG_2518_jpeg_jpg.rf.5f4e0d8f980eaa632ff94853995eff9e.txt  \n",
            " extracting: train/labels/IMG_2520_jpeg_jpg.rf.4cab9c74da59c93865ed205f4dcf8c46.txt  \n",
            " extracting: train/labels/IMG_2521_jpeg_jpg.rf.dde07699f153cc149b5d057924e983c5.txt  \n",
            " extracting: train/labels/IMG_2524_jpeg_jpg.rf.87f4a069ac66bc31523d434d04f9d2d6.txt  \n",
            " extracting: train/labels/IMG_2527_jpeg_jpg.rf.3de0e3c95781ea109647310c017ca1fc.txt  \n",
            " extracting: train/labels/IMG_2528_jpeg_jpg.rf.2bd17b3a6751de79eab0f91356230d98.txt  \n",
            " extracting: train/labels/IMG_2529_jpeg_jpg.rf.16e64348ddac68d55ee82e98b0258080.txt  \n",
            " extracting: train/labels/IMG_2530_jpeg_jpg.rf.a6c13c1f49a45439e1e4328c13660525.txt  \n",
            " extracting: train/labels/IMG_2533_jpeg_jpg.rf.72d535afd3ce3d8847a3905e737493f4.txt  \n",
            " extracting: train/labels/IMG_2536_jpeg_jpg.rf.89879f0a6436d7634771fd7de97784f8.txt  \n",
            " extracting: train/labels/IMG_2537_jpeg_jpg.rf.2b9143514d53e64f7a1dd5504ded197a.txt  \n",
            " extracting: train/labels/IMG_2538_jpeg_jpg.rf.7116cb3e914a23960371143381cd5e15.txt  \n",
            " extracting: train/labels/IMG_2539_jpeg_jpg.rf.74889d874e69af524f714f420772ecc7.txt  \n",
            " extracting: train/labels/IMG_2540_jpeg_jpg.rf.648b31d1066b616be81fb9447de85358.txt  \n",
            " extracting: train/labels/IMG_2541_jpeg_jpg.rf.fc997b87790e715d47ce1cc83edf79c2.txt  \n",
            " extracting: train/labels/IMG_2542_jpeg_jpg.rf.1986fa80da6bc8506a8dc1c918b82b03.txt  \n",
            " extracting: train/labels/IMG_2543_jpeg_jpg.rf.a5b21db3b8925f4f5d1f71a7ab39453d.txt  \n",
            " extracting: train/labels/IMG_2545_jpeg_jpg.rf.be6ed99fa1fb8d17c5d54d7f09cc5d89.txt  \n",
            " extracting: train/labels/IMG_2548_jpeg_jpg.rf.b9a775702d3c300735ef690866a1c7cc.txt  \n",
            " extracting: train/labels/IMG_2549_jpeg_jpg.rf.d9307c4549bb67163bb43c81fb771cd8.txt  \n",
            " extracting: train/labels/IMG_2550_jpeg_jpg.rf.d8b525b14483fc250303ce4be356b57c.txt  \n",
            " extracting: train/labels/IMG_2551_jpeg_jpg.rf.23441fda11b9de7fa39fb0a2ea3e7f4a.txt  \n",
            " extracting: train/labels/IMG_2552_jpeg_jpg.rf.2bfc6840f21295db87e9e56956f16e76.txt  \n",
            " extracting: train/labels/IMG_2553_jpeg_jpg.rf.631441b6872f3849ab9f75da6176af0a.txt  \n",
            " extracting: train/labels/IMG_2554_jpeg_jpg.rf.1ac30f27b030d31a31ec6b2ecdcb9025.txt  \n",
            " extracting: train/labels/IMG_2556_jpeg_jpg.rf.95be135e1024945e03cb4e03910ce8fd.txt  \n",
            " extracting: train/labels/IMG_2558_jpeg_jpg.rf.f98546f54e44d64d7284e1116d7ca99d.txt  \n",
            " extracting: train/labels/IMG_2559_jpeg_jpg.rf.d6b96bbf178cf8d38b1aff35560ed916.txt  \n",
            " extracting: train/labels/IMG_2560_jpeg_jpg.rf.121b55027c132565ca11f89e21ea6722.txt  \n",
            " extracting: train/labels/IMG_2561_jpeg_jpg.rf.f50a9915e352436894ae2749e4df115a.txt  \n",
            " extracting: train/labels/IMG_2562_jpeg_jpg.rf.e0aae69f0d7b040fce1d8099e31427b1.txt  \n",
            " extracting: train/labels/IMG_2563_jpeg_jpg.rf.a5bfbdba4fbd07a7e5a65af1c3df8d14.txt  \n",
            " extracting: train/labels/IMG_2564_jpeg_jpg.rf.9408f71747791414c81ea69f05c758f4.txt  \n",
            " extracting: train/labels/IMG_2565_jpeg_jpg.rf.5e9644aca24248d1bd9d06836921783f.txt  \n",
            " extracting: train/labels/IMG_2566_jpeg_jpg.rf.8f6fd7144a30307e3f577604b587d0ff.txt  \n",
            " extracting: train/labels/IMG_2568_jpeg_jpg.rf.97af3e8a02e5b4ed4f65d38560934812.txt  \n",
            " extracting: train/labels/IMG_2571_jpeg_jpg.rf.d26821c850b04ab5dc79a9b1fdcbea2b.txt  \n",
            " extracting: train/labels/IMG_2572_jpeg_jpg.rf.5a3356eac09c160bd2956aaed8a9ed00.txt  \n",
            " extracting: train/labels/IMG_2573_jpeg_jpg.rf.b7884c20265e0dd7cefe21da58643216.txt  \n",
            " extracting: train/labels/IMG_2575_jpeg_jpg.rf.8736d619bdee1d73390ae7476c9d4931.txt  \n",
            " extracting: train/labels/IMG_2576_jpeg_jpg.rf.4d42383c9a9d3043ca31f8f709d124ba.txt  \n",
            " extracting: train/labels/IMG_2578_jpeg_jpg.rf.63adda94658b934843ed3ab53fb52b7d.txt  \n",
            " extracting: train/labels/IMG_2579_jpeg_jpg.rf.f97bf5ef3a5d582dee0db46605c7e112.txt  \n",
            " extracting: train/labels/IMG_2580_jpeg_jpg.rf.34c625d5109a60b04f9e654910efae26.txt  \n",
            " extracting: train/labels/IMG_2581_jpeg_jpg.rf.c89374a5bd6b1b62c5c0598359913dad.txt  \n",
            " extracting: train/labels/IMG_2584_jpeg_jpg.rf.fdf498ef5b1b000a6c51d15dc29ad33a.txt  \n",
            " extracting: train/labels/IMG_2585_jpeg_jpg.rf.2b9b21609955bf5ce86fe467bb56f2a6.txt  \n",
            " extracting: train/labels/IMG_2587_jpeg_jpg.rf.c0f1bbe427c9f29eaf89fed6f6d03471.txt  \n",
            " extracting: train/labels/IMG_2589_jpeg_jpg.rf.0796c64369ea29d7e50fc1f7a36fb25b.txt  \n",
            " extracting: train/labels/IMG_2590_jpeg_jpg.rf.da9b68be20084cb37cdb80fa8747a076.txt  \n",
            " extracting: train/labels/IMG_2592_jpeg_jpg.rf.9c8ada079979c004ab05f15d6b66c902.txt  \n",
            " extracting: train/labels/IMG_2593_jpeg_jpg.rf.58aeb2909a359dbecf429949aeef4785.txt  \n",
            " extracting: train/labels/IMG_2594_jpeg_jpg.rf.40698b5028ec7d9443d65a38b58bec42.txt  \n",
            " extracting: train/labels/IMG_2595_jpeg_jpg.rf.1c8b482b1ad0ca6648e61b694ed4ee83.txt  \n",
            " extracting: train/labels/IMG_2596_jpeg_jpg.rf.55aa05115a4c3f538df4e9941af1396d.txt  \n",
            " extracting: train/labels/IMG_2597_jpeg_jpg.rf.0f07eb126fe35d31acdbec7adb23ed50.txt  \n",
            " extracting: train/labels/IMG_2598_jpeg_jpg.rf.5650ef75065f27a08cb74975840016a5.txt  \n",
            " extracting: train/labels/IMG_2600_jpeg_jpg.rf.a21b557f64e4a16ae3678de9aef1923a.txt  \n",
            " extracting: train/labels/IMG_2601_jpeg_jpg.rf.6db2e040b561c055befb49ca877632b3.txt  \n",
            " extracting: train/labels/IMG_2603_jpeg_jpg.rf.6d8a5a94a16c04784eae01d5d07f8cbe.txt  \n",
            " extracting: train/labels/IMG_2604_jpeg_jpg.rf.993c6667a03fd897ea35c645df9ee93d.txt  \n",
            " extracting: train/labels/IMG_2605_jpeg_jpg.rf.2d62821e1b21d2a61a98252c59a4042e.txt  \n",
            " extracting: train/labels/IMG_2606_jpeg_jpg.rf.27e5a373d43d2535a923e1089bf60051.txt  \n",
            " extracting: train/labels/IMG_2608_jpeg_jpg.rf.9ba9cc2485112df87a73dee448aad2bc.txt  \n",
            " extracting: train/labels/IMG_2609_jpeg_jpg.rf.812bb452a59431bc957f24c60300dfee.txt  \n",
            " extracting: train/labels/IMG_2610_jpeg_jpg.rf.4d5cf5cfdceb7dee102fe730fc1f6776.txt  \n",
            " extracting: train/labels/IMG_2611_jpeg_jpg.rf.dbd7d022107e21b1ff23e3b75b6f81ea.txt  \n",
            " extracting: train/labels/IMG_2612_jpeg_jpg.rf.4d3cb56bf5e65d1f8478142104a25cfb.txt  \n",
            " extracting: train/labels/IMG_2613_jpeg_jpg.rf.03a46725a60afa2d492d463de939b335.txt  \n",
            " extracting: train/labels/IMG_2614_jpeg_jpg.rf.3e97fad88a0f36e45bd32ecd13a34be6.txt  \n",
            " extracting: train/labels/IMG_2615_jpeg_jpg.rf.56aca06d65d38d33b02a5b8503c4b809.txt  \n",
            " extracting: train/labels/IMG_2617_jpeg_jpg.rf.0749a7644179240c7747ad03ae9999c0.txt  \n",
            " extracting: train/labels/IMG_2618_jpeg_jpg.rf.10bc0b28fb5d6b893602833d791c4dff.txt  \n",
            " extracting: train/labels/IMG_2619_jpeg_jpg.rf.62b48e73de77f2d89e512df79ebb3041.txt  \n",
            " extracting: train/labels/IMG_2620_jpeg_jpg.rf.b40034c707395cdd72e600eec10cf362.txt  \n",
            " extracting: train/labels/IMG_2621_jpeg_jpg.rf.ca93ee8489faff4b9040577dc6d21623.txt  \n",
            " extracting: train/labels/IMG_2623_jpeg_jpg.rf.0af1f3048c78df2f0f8dc887ff548198.txt  \n",
            " extracting: train/labels/IMG_2624_jpeg_jpg.rf.f10f557d310720d6c38739ba284918f8.txt  \n",
            " extracting: train/labels/IMG_2625_jpeg_jpg.rf.049cfca5fa7da90878060904a452975d.txt  \n",
            " extracting: train/labels/IMG_2627_jpeg_jpg.rf.71ea24ceb65b886d6f148dbd31f451d1.txt  \n",
            " extracting: train/labels/IMG_2628_jpeg_jpg.rf.c607a4280b054d5a636f5ee3398b886d.txt  \n",
            " extracting: train/labels/IMG_2629_jpeg_jpg.rf.123294d0d4c352dd3481382281ce7ab8.txt  \n",
            " extracting: train/labels/IMG_2631_jpeg_jpg.rf.96fbf4652e525919f27d48720cc706e0.txt  \n",
            " extracting: train/labels/IMG_2633_jpeg_jpg.rf.1874402ef6487354eb8cef83998b17f5.txt  \n",
            " extracting: train/labels/IMG_2634_jpeg_jpg.rf.b2c0aa352f4910f2d7c110e30f23b2cc.txt  \n",
            " extracting: train/labels/IMG_2638_jpeg_jpg.rf.e72c19e437b4a0a304ee07003a66280f.txt  \n",
            " extracting: train/labels/IMG_2639_jpeg_jpg.rf.44073e788a70dcd9df5e84d85f16a602.txt  \n",
            " extracting: train/labels/IMG_2640_jpeg_jpg.rf.3cc8a06471bb887f2ca3deea90e1f740.txt  \n",
            " extracting: train/labels/IMG_2641_jpeg_jpg.rf.3fc4fead3495733a8298ef199058794b.txt  \n",
            " extracting: train/labels/IMG_2642_jpeg_jpg.rf.3d4d0bd35e30e6c18388b3f50e699a4d.txt  \n",
            " extracting: train/labels/IMG_2643_jpeg_jpg.rf.5a7752897b56469837e946255d67337d.txt  \n",
            " extracting: train/labels/IMG_2644_jpeg_jpg.rf.5457f7caeb210ee8c00a94d640bb62e2.txt  \n",
            " extracting: train/labels/IMG_2646_jpeg_jpg.rf.f128f9fb09439406d8dc2abb9a1b74c7.txt  \n",
            " extracting: train/labels/IMG_2647_jpeg_jpg.rf.9b83da86e81bb2e5ba772305e2172d63.txt  \n",
            " extracting: train/labels/IMG_2648_jpeg_jpg.rf.122267403ea0ae066f642e62434ef2e3.txt  \n",
            " extracting: train/labels/IMG_2649_jpeg_jpg.rf.efd042de1468c6f1725e06af6b1d9ffd.txt  \n",
            " extracting: train/labels/IMG_2650_jpeg_jpg.rf.1afc879d751b50c9d8c935269e8995ff.txt  \n",
            " extracting: train/labels/IMG_2652_jpeg_jpg.rf.40e0f7177b75d8d66623db50d4bcc84d.txt  \n",
            " extracting: train/labels/IMG_2653_jpeg_jpg.rf.f5e2d0fb8b333ea049c7cba182d78725.txt  \n",
            " extracting: train/labels/IMG_2654_jpeg_jpg.rf.8c0b3ca2c7f729e5733f4d2f7bf9c693.txt  \n",
            " extracting: train/labels/IMG_2655_jpeg_jpg.rf.500bca587eb20e6e80acbea6f60ebd40.txt  \n",
            " extracting: train/labels/IMG_2656_jpeg_jpg.rf.a541b5b12110ebe4290c1c606ecb1f6a.txt  \n",
            " extracting: train/labels/IMG_2657_jpeg_jpg.rf.3a2d1183bd6a9c4b8a1a8b9808d46d15.txt  \n",
            " extracting: train/labels/IMG_3121_jpeg_jpg.rf.0868c7d1a4e32a0ca167c247eefea800.txt  \n",
            " extracting: train/labels/IMG_3122_jpeg_jpg.rf.e9a29910dc8281cd1709baad92212e23.txt  \n",
            " extracting: train/labels/IMG_3123_jpeg_jpg.rf.e76afbe597d98c497fcf2ac25c3d0fc7.txt  \n",
            " extracting: train/labels/IMG_3125_jpeg_jpg.rf.6c100391f99fd177741c11b928b7a61c.txt  \n",
            " extracting: train/labels/IMG_3127_jpeg_jpg.rf.1f29f97225daf147f37da45ccc3e9f5e.txt  \n",
            " extracting: train/labels/IMG_3128_jpeg_jpg.rf.68558c9a951e61ca99ae152b38026341.txt  \n",
            " extracting: train/labels/IMG_3130_jpeg_jpg.rf.b5b8d070c7b00dfecaf0564973e1f927.txt  \n",
            " extracting: train/labels/IMG_3131_jpeg_jpg.rf.fcf0ccd8dbf187344da242e29eeac0cb.txt  \n",
            " extracting: train/labels/IMG_3132_jpeg_jpg.rf.bc9492bc4b33309ca664cc27baa03a1b.txt  \n",
            " extracting: train/labels/IMG_3133_jpeg_jpg.rf.f439b9d382fd153b96f0a88cdf169172.txt  \n",
            " extracting: train/labels/IMG_3135_jpeg_jpg.rf.595f10fe0c7bb159a720ff872aa1d2c7.txt  \n",
            " extracting: train/labels/IMG_3137_jpeg_jpg.rf.f066fa3a50b9e2b392c9889bc3caaff8.txt  \n",
            " extracting: train/labels/IMG_3138_jpeg_jpg.rf.ff253449ce146d664f1c0fb5f7f25ef5.txt  \n",
            " extracting: train/labels/IMG_3140_jpeg_jpg.rf.dd52b96ae1602530456e88bc4b6ac7db.txt  \n",
            " extracting: train/labels/IMG_3141_jpeg_jpg.rf.c249d06d36488839bb413a9aea0dfdef.txt  \n",
            " extracting: train/labels/IMG_3142_jpeg_jpg.rf.a6c10fb5c976d1f187eea2ee29fd7fe0.txt  \n",
            " extracting: train/labels/IMG_3146_jpeg_jpg.rf.2a4d1b21ca18859f03d310845ee1a426.txt  \n",
            " extracting: train/labels/IMG_3147_jpeg_jpg.rf.fc4622004ff72e58b546635774372fe2.txt  \n",
            " extracting: train/labels/IMG_3148_jpeg_jpg.rf.daef4a62da020f684a31336a19f54ee8.txt  \n",
            " extracting: train/labels/IMG_3149_jpeg_jpg.rf.ec910aff6521c2af1a1bcbe5887b07f7.txt  \n",
            " extracting: train/labels/IMG_3151_jpeg_jpg.rf.6850702bb295c76afc9dd667b8d827dc.txt  \n",
            " extracting: train/labels/IMG_3152_jpeg_jpg.rf.e018fb206e9194f3536a290f0c649274.txt  \n",
            " extracting: train/labels/IMG_3155_jpeg_jpg.rf.126609905e993daff169f85e1846a21e.txt  \n",
            " extracting: train/labels/IMG_3156_jpeg_jpg.rf.330ea62dfe1c5108c408331acc17cd6a.txt  \n",
            " extracting: train/labels/IMG_3157_jpeg_jpg.rf.733ab479bba3333edf7a1cda5054a7e9.txt  \n",
            " extracting: train/labels/IMG_3158_jpeg_jpg.rf.0f2bac58bc2e3ca07172215f073a2dab.txt  \n",
            " extracting: train/labels/IMG_3159_jpeg_jpg.rf.f6e6e62d74debd64b3f1301ca0e00076.txt  \n",
            " extracting: train/labels/IMG_3160_jpeg_jpg.rf.05d38ee75197d98ea070e8aa03a5bfcb.txt  \n",
            " extracting: train/labels/IMG_3162_jpeg_jpg.rf.ca22f639cc30b9f768ad729155f6ad6e.txt  \n",
            " extracting: train/labels/IMG_3167_jpeg_jpg.rf.bfbb9755c1a35c202d4ae1eeaabc3cae.txt  \n",
            " extracting: train/labels/IMG_3168_jpeg_jpg.rf.c2409837e6459d9706aca4476ad19c3d.txt  \n",
            " extracting: train/labels/IMG_3169_jpeg_jpg.rf.00b985cb8ddf5da8964dc21435e1bd2c.txt  \n",
            " extracting: train/labels/IMG_3170_jpeg_jpg.rf.12acc73c5aaf986bf28d119f89015a10.txt  \n",
            " extracting: train/labels/IMG_3172_jpeg_jpg.rf.ce1a948fee49ecf8e542db885541bcab.txt  \n",
            " extracting: train/labels/IMG_3174_jpeg_jpg.rf.94153bec4eb7e39ce631323f8f126031.txt  \n",
            " extracting: train/labels/IMG_3176_jpeg_jpg.rf.d2ccf3978d7846c94fcb5d7700ea50dc.txt  \n",
            " extracting: train/labels/IMG_3177_jpeg_jpg.rf.21ff231136bee6d8d2d88475c2ca47ce.txt  \n",
            " extracting: train/labels/IMG_3181_jpeg_jpg.rf.c52b54494d4236e54b900fe60bd6565b.txt  \n",
            " extracting: train/labels/IMG_3182_jpeg_jpg.rf.3e85376545651810d891af33d25e6bcf.txt  \n",
            " extracting: train/labels/IMG_3186_jpeg_jpg.rf.27529a442577197646428640172a7920.txt  \n",
            " extracting: train/labels/IMG_3187_jpeg_jpg.rf.78bcf0210ca5e1fc46e9104fc27d60f7.txt  \n",
            " extracting: train/labels/IMG_3188_jpeg_jpg.rf.747520ca7cf3643faf40accc5db68c4d.txt  \n",
            " extracting: train/labels/IMG_8318_jpg.rf.ed4eeaebcf971e4f4a8f90bd351fb23c.txt  \n",
            " extracting: train/labels/IMG_8319_jpg.rf.d9c66db153b1293af6ce36c1e4f6455c.txt  \n",
            " extracting: train/labels/IMG_8327_jpg.rf.b859bdc46f8f4aaf4d1ff2b902e276df.txt  \n",
            " extracting: train/labels/IMG_8328_jpg.rf.c7cdca0b7dc7a6ac3c44254a11bd63cc.txt  \n",
            " extracting: train/labels/IMG_8329_jpg.rf.50153f721ac528f1e0025402e67d263e.txt  \n",
            " extracting: train/labels/IMG_8338_jpg.rf.8904d4055c1bfbe9b91a67e996bf28d7.txt  \n",
            " extracting: train/labels/IMG_8342_jpg.rf.783d618ba66fc9dd9d32656e6d5019ab.txt  \n",
            " extracting: train/labels/IMG_8344_jpg.rf.e4fd2a221aa52c4bed4676b3df3faf62.txt  \n",
            " extracting: train/labels/IMG_8356_jpg.rf.21bda4c8c2d11962747a54e41de650f8.txt  \n",
            " extracting: train/labels/IMG_8357_jpg.rf.e2bd534646a7aa8e2cc4a767e41786e1.txt  \n",
            " extracting: train/labels/IMG_8376_jpg.rf.f129d46d1c4ae234b8aebe69ea012d64.txt  \n",
            " extracting: train/labels/IMG_8378_jpg.rf.406b5fbdf5f05598549ed90bab244ad4.txt  \n",
            " extracting: train/labels/IMG_8382_jpg.rf.16103224694c615b4e9c51a6d30dca75.txt  \n",
            " extracting: train/labels/IMG_8383_jpg.rf.178ef0bbd25f288422fd08dff1524c3d.txt  \n",
            " extracting: train/labels/IMG_8386_jpg.rf.12f46bb864b93a578eb4a76e778dad9c.txt  \n",
            " extracting: train/labels/IMG_8387_jpg.rf.b78bafe78a498056c0b09436bb4ed84b.txt  \n",
            " extracting: train/labels/IMG_8392_jpg.rf.8f621f7d59dcc22204c1977e12890901.txt  \n",
            " extracting: train/labels/IMG_8393_jpg.rf.b15bb8dbd120bb9c9eb9eb6db83645b4.txt  \n",
            " extracting: train/labels/IMG_8394_jpg.rf.7d9dbe2003dcd63710cf358498231d23.txt  \n",
            " extracting: train/labels/IMG_8397_jpg.rf.80dfe9d2e5569e3e4355921014da1580.txt  \n",
            " extracting: train/labels/IMG_8398_jpg.rf.1f9989b02bab390abcc1c6651ae35690.txt  \n",
            " extracting: train/labels/IMG_8399_jpg.rf.98177022467f0f178f35070eba1faf92.txt  \n",
            " extracting: train/labels/IMG_8402_jpg.rf.3a5e6ef286c3710d8440da541aa82f18.txt  \n",
            " extracting: train/labels/IMG_8403_jpg.rf.eacd563b31d0cdecfb5f3b7e5c11c453.txt  \n",
            " extracting: train/labels/IMG_8405_jpg.rf.23d15e081e0f47fad6b27f18025e3774.txt  \n",
            " extracting: train/labels/IMG_8406_jpg.rf.fda4b68f345bda8047e7f15060f70e45.txt  \n",
            " extracting: train/labels/IMG_8408_jpg.rf.f0cdde37a7dbd43b55281d7d1475840e.txt  \n",
            " extracting: train/labels/IMG_8410_jpg.rf.080d0f9f09ffb56da86e800ed8e37df7.txt  \n",
            " extracting: train/labels/IMG_8411_jpg.rf.e97cd10f60bc011b5aa539fcc34dcfaa.txt  \n",
            " extracting: train/labels/IMG_8412_jpg.rf.a7669aef0d6247193978c21e8581e57f.txt  \n",
            " extracting: train/labels/IMG_8413_jpg.rf.6e17a573ccc98b664f2066f5d247944a.txt  \n",
            " extracting: train/labels/IMG_8416_jpg.rf.8702b4edbbda3768d7d820414ed7d4c3.txt  \n",
            " extracting: train/labels/IMG_8418_jpg.rf.1dab5e5914341afcc2be5987e1899086.txt  \n",
            " extracting: train/labels/IMG_8419_jpg.rf.ddef2ce9cf39b86e6937937c5d31f178.txt  \n",
            " extracting: train/labels/IMG_8421_jpg.rf.44b6c0392b3fe1aa9416567b3c3a5b70.txt  \n",
            " extracting: train/labels/IMG_8424_jpg.rf.b9642b8694d488c5067434422b13fdcf.txt  \n",
            " extracting: train/labels/IMG_8430_jpg.rf.710d601448bbe45e4e357906d7c73427.txt  \n",
            " extracting: train/labels/IMG_8434_jpg.rf.79f70b6f3f2cbce5ebe9a0aaaa0a2444.txt  \n",
            " extracting: train/labels/IMG_8436_jpg.rf.52c9029581b507fd31669163ec5a8faf.txt  \n",
            " extracting: train/labels/IMG_8439_jpg.rf.e784fd1e3cd2e38fb7c169e2e54ad91e.txt  \n",
            " extracting: train/labels/IMG_8443_jpg.rf.e635a944c002f8cd30aefb8ca18ea945.txt  \n",
            " extracting: train/labels/IMG_8445_jpg.rf.32413bef3cc793802de2e161f56f09d7.txt  \n",
            " extracting: train/labels/IMG_8450_jpg.rf.74fad5d85de1a80cabbf586c7eaef4d9.txt  \n",
            " extracting: train/labels/IMG_8451_jpg.rf.d7a20105b0a3945b7ea1c5a146adfe0c.txt  \n",
            " extracting: train/labels/IMG_8461_jpg.rf.c1f3ef25fac44501963625279e8ca614.txt  \n",
            " extracting: train/labels/IMG_8463_jpg.rf.f389f79adb1c5954105342441c289363.txt  \n",
            " extracting: train/labels/IMG_8464_jpg.rf.66c981dfb9cc89ff0bcb93ca11067c74.txt  \n",
            " extracting: train/labels/IMG_8466_jpg.rf.a7894bfef84804dcbbdb8b46870cb66b.txt  \n",
            " extracting: train/labels/IMG_8468_jpg.rf.6a748d130991418e3da8737f17ba5e73.txt  \n",
            " extracting: train/labels/IMG_8469_jpg.rf.7faf777e50196eee1e90df69e03fd778.txt  \n",
            " extracting: train/labels/IMG_8470_jpg.rf.5c11524bbae1866b8f848725d86d5142.txt  \n",
            " extracting: train/labels/IMG_8471_jpg.rf.ae5a71d679103fd7cba244719b0e3157.txt  \n",
            " extracting: train/labels/IMG_8476_jpg.rf.33248f8c26e878e8a1b3a1a85746f93d.txt  \n",
            " extracting: train/labels/IMG_8477_jpg.rf.e3f065c25272e57128a67a1b06a16631.txt  \n",
            " extracting: train/labels/IMG_8478_jpg.rf.965ef34d8eee7cbb5e48a5ce4f6cac17.txt  \n",
            " extracting: train/labels/IMG_8486_jpg.rf.3000bc7c3b4d2df476eea138b9682116.txt  \n",
            " extracting: train/labels/IMG_8493_jpg.rf.0f25b61a8d7ab12cbf5ae131582007d5.txt  \n",
            " extracting: train/labels/IMG_8494_jpg.rf.a68f75721ae7ee1a6bf2caa88aab6cc1.txt  \n",
            " extracting: train/labels/IMG_8495_jpg.rf.207e20fe66feab6da48e9bbf2e9aeb83.txt  \n",
            " extracting: train/labels/IMG_8496_MOV-0_jpg.rf.98652453afc7fb2316cf38fceba37730.txt  \n",
            " extracting: train/labels/IMG_8496_MOV-1_jpg.rf.bfb30108c5b8c7ebd0b92028435ba919.txt  \n",
            " extracting: train/labels/IMG_8496_MOV-3_jpg.rf.ace3fc49d60c36ebd061bf9136264aea.txt  \n",
            " extracting: train/labels/IMG_8496_MOV-4_jpg.rf.5a57e10d66c22e0dd54f16fc0d9ea2d8.txt  \n",
            " extracting: train/labels/IMG_8496_MOV-5_jpg.rf.eacca955182a03a262de9b2c4012ecc4.txt  \n",
            " extracting: train/labels/IMG_8496_MOV-6_jpg.rf.1a2f4660fc24ccab8c1f78b2aa6ca1d3.txt  \n",
            " extracting: train/labels/IMG_8497_MOV-1_jpg.rf.40946c619f2980cf22ef4e1414e9aaaf.txt  \n",
            " extracting: train/labels/IMG_8500_jpg.rf.95c3f3780b381dea7a27e2042ecea9c6.txt  \n",
            " extracting: train/labels/IMG_8502_jpg.rf.81783141b72ae29e514d677ca0f5082d.txt  \n",
            " extracting: train/labels/IMG_8509_jpg.rf.2c289b209622afd8e8aac913c35008d7.txt  \n",
            " extracting: train/labels/IMG_8510_jpg.rf.c6030dc16e5b84b2532aec1e07df4e50.txt  \n",
            " extracting: train/labels/IMG_8511_jpg.rf.0613c7cf6abb8e5201e65def1c22805c.txt  \n",
            " extracting: train/labels/IMG_8512_MOV-0_jpg.rf.44c1fce444824e3210a1d6bb59580432.txt  \n",
            " extracting: train/labels/IMG_8512_MOV-2_jpg.rf.00f06559a0df06b71002d0b3dbf1804c.txt  \n",
            " extracting: train/labels/IMG_8512_MOV-3_jpg.rf.3a2cf34e48d682a67a2e380ba574f417.txt  \n",
            " extracting: train/labels/IMG_8512_MOV-4_jpg.rf.e879ecc625c150dfb308030a737ff9c5.txt  \n",
            " extracting: train/labels/IMG_8512_MOV-6_jpg.rf.02aa66e66ae9d7a5756bd29399a39936.txt  \n",
            " extracting: train/labels/IMG_8516_jpg.rf.3538c4a9f231f528222981653f2c2b25.txt  \n",
            " extracting: train/labels/IMG_8517_MOV-0_jpg.rf.1cd69226c4111a502f5018a4ff6bd886.txt  \n",
            " extracting: train/labels/IMG_8517_MOV-1_jpg.rf.f38c10686e4a0e257b1f2d8f4bb5f4b1.txt  \n",
            " extracting: train/labels/IMG_8517_MOV-2_jpg.rf.448400031963649dfefa9534b568bf93.txt  \n",
            " extracting: train/labels/IMG_8517_MOV-3_jpg.rf.b6e2c680f3adfbedfe5b1bbed3920bb7.txt  \n",
            " extracting: train/labels/IMG_8517_MOV-4_jpg.rf.82cc2fd5812151d35ce655a5b25f5215.txt  \n",
            " extracting: train/labels/IMG_8517_MOV-5_jpg.rf.62a10beba8fe770a302dec33a3188215.txt  \n",
            " extracting: train/labels/IMG_8517_MOV-6_jpg.rf.951387a4d17ab16e6d56234d3046ddfd.txt  \n",
            " extracting: train/labels/IMG_8519_jpg.rf.d10cb6cac5fa5d2e660cfca7d0f9ed14.txt  \n",
            " extracting: train/labels/IMG_8520_jpg.rf.68bab0b4a111aa5bdad529f65b21edfd.txt  \n",
            " extracting: train/labels/IMG_8522_jpg.rf.de6f1dbe20d278d2b0052bc448aa93d8.txt  \n",
            " extracting: train/labels/IMG_8523_jpg.rf.b0834c4ac753865c2c89427a2bea0359.txt  \n",
            " extracting: train/labels/IMG_8527_jpg.rf.665beee325377633012877f4180dc95e.txt  \n",
            " extracting: train/labels/IMG_8531_jpg.rf.abe45b49de6d004d043f2e5bda2763bd.txt  \n",
            " extracting: train/labels/IMG_8533_jpg.rf.ee8fa720b130a97b1614421572fc2bb4.txt  \n",
            " extracting: train/labels/IMG_8534_jpg.rf.85886ccc87bbbd85796f4454f9851446.txt  \n",
            " extracting: train/labels/IMG_8535_MOV-2_jpg.rf.b38dd29d6e6a5f33ca469b61999c5c01.txt  \n",
            " extracting: train/labels/IMG_8535_MOV-3_jpg.rf.5b8daac9353f088bac733681586e1450.txt  \n",
            " extracting: train/labels/IMG_8536_jpg.rf.cead5d43fe445a3083e912b5423210c3.txt  \n",
            " extracting: train/labels/IMG_8537_jpg.rf.1f059c846fe8abe264f2b19d87dd449a.txt  \n",
            " extracting: train/labels/IMG_8538_jpg.rf.58ba4aa95d033ec5c8250dec676c5679.txt  \n",
            " extracting: train/labels/IMG_8541_jpg.rf.066c747a66e7275139820b42b4a84394.txt  \n",
            " extracting: train/labels/IMG_8544_jpg.rf.e4e5c8c67143fdcaa8e9da9400e8f3ee.txt  \n",
            " extracting: train/labels/IMG_8545_jpg.rf.ff50b7c81c0f9479325eec03e7ce2191.txt  \n",
            " extracting: train/labels/IMG_8546_jpg.rf.dfb175317253d2e8afe729282cb03fb7.txt  \n",
            " extracting: train/labels/IMG_8547_jpg.rf.193f12388061d49793b7742aae33dedb.txt  \n",
            " extracting: train/labels/IMG_8548_jpg.rf.a4d3450e14fbb48bf958673fb404548b.txt  \n",
            " extracting: train/labels/IMG_8549_jpg.rf.ee5f8f7fa2cae6f1e528e1b350ad4046.txt  \n",
            " extracting: train/labels/IMG_8550_jpg.rf.7f9f25d5d968b77bc0664fb82fc9a9c9.txt  \n",
            " extracting: train/labels/IMG_8551_MOV-0_jpg.rf.13c7f883c88334a6674eea274024d390.txt  \n",
            " extracting: train/labels/IMG_8551_MOV-2_jpg.rf.f1f22585ffc08ad0edef73faac0501a3.txt  \n",
            " extracting: train/labels/IMG_8551_MOV-3_jpg.rf.3505a2122c7e4b55a4332d088f57ab98.txt  \n",
            " extracting: train/labels/IMG_8551_MOV-4_jpg.rf.f3784ce90069a27a41d01dbc9f7d53cb.txt  \n",
            " extracting: train/labels/IMG_8552_jpg.rf.61ac5f24f64530252d883e103a66c807.txt  \n",
            " extracting: train/labels/IMG_8558_jpg.rf.f31804f23631236926f699aa7bea77c1.txt  \n",
            " extracting: train/labels/IMG_8560_jpg.rf.44a3f330855373c73485e4909aedabaa.txt  \n",
            " extracting: train/labels/IMG_8570_jpg.rf.22a9bfaa76e035e692aaac3a49df03b8.txt  \n",
            " extracting: train/labels/IMG_8571_MOV-0_jpg.rf.f4ca11babed3711ce449c6a066be33a5.txt  \n",
            " extracting: train/labels/IMG_8571_MOV-1_jpg.rf.b22e2df287efb2b9ecd33c88a607e31e.txt  \n",
            " extracting: train/labels/IMG_8571_MOV-2_jpg.rf.6620ac28d99d209e5681394478eb5993.txt  \n",
            " extracting: train/labels/IMG_8571_MOV-4_jpg.rf.d7b7c24c46f21df8cca7ae652464d2d1.txt  \n",
            " extracting: train/labels/IMG_8571_MOV-5_jpg.rf.c8b11ac37b7b57b79bba5e4aec07ad73.txt  \n",
            " extracting: train/labels/IMG_8572_MOV-0_jpg.rf.1a301d11ffdd3cb15653d44ea193ff1e.txt  \n",
            " extracting: train/labels/IMG_8572_MOV-2_jpg.rf.70025aa545c1d5039981b13562400636.txt  \n",
            " extracting: train/labels/IMG_8575_jpg.rf.1cf3080cdc0d1afae6f57dbd147c9e3c.txt  \n",
            " extracting: train/labels/IMG_8578_MOV-1_jpg.rf.7ba2500fc572cf5045ab9880ae2ed106.txt  \n",
            " extracting: train/labels/IMG_8578_MOV-2_jpg.rf.2e5101d836971fa36cc0876c718069bb.txt  \n",
            " extracting: train/labels/IMG_8580_jpg.rf.9b5f56c09ea8a7933c2c575f7e9a3f14.txt  \n",
            " extracting: train/labels/IMG_8581_MOV-0_jpg.rf.655f2e11059aeb33350230db32b7f927.txt  \n",
            " extracting: train/labels/IMG_8581_MOV-2_jpg.rf.8a021efa01d74e83787c1af4fd56c69b.txt  \n",
            " extracting: train/labels/IMG_8581_MOV-3_jpg.rf.186677ddac0ca95f01b07c0814c87171.txt  \n",
            " extracting: train/labels/IMG_8581_MOV-4_jpg.rf.1d8182747d4e43163f55b5bdbf36a8af.txt  \n",
            " extracting: train/labels/IMG_8582_MOV-1_jpg.rf.7aaeb1f509ee4b0ee1194f2d3f97ab7b.txt  \n",
            " extracting: train/labels/IMG_8590_MOV-1_jpg.rf.5e5c650f344f8d835e04f867c6496953.txt  \n",
            " extracting: train/labels/IMG_8590_MOV-3_jpg.rf.5acced567b7a3d53c4cf07768f40e770.txt  \n",
            " extracting: train/labels/IMG_8590_MOV-4_jpg.rf.1691f0958ffea266daa9011c203cd726.txt  \n",
            " extracting: train/labels/IMG_8591_MOV-0_jpg.rf.950e816e96ad35460046e2402c0f26a9.txt  \n",
            " extracting: train/labels/IMG_8591_MOV-2_jpg.rf.fb399b446ec6ccc12bea5b9321486b34.txt  \n",
            " extracting: train/labels/IMG_8593_MOV-0_jpg.rf.7af9eba367ddb825b99a4c314856cd80.txt  \n",
            " extracting: train/labels/IMG_8593_MOV-2_jpg.rf.e9995795a521680a6f70f03810142d58.txt  \n",
            " extracting: train/labels/IMG_8594_jpg.rf.c5476deec8c02b1ed2d106d5bb1a883d.txt  \n",
            " extracting: train/labels/IMG_8595_MOV-2_jpg.rf.055891706f32e5310829f3a0a46cec5e.txt  \n",
            " extracting: train/labels/IMG_8598_jpg.rf.761ffe2966ae3fae2a3f5615df36370e.txt  \n",
            " extracting: train/labels/IMG_8599_MOV-0_jpg.rf.3bd4fd78a244fdb4e48556896c70de74.txt  \n",
            " extracting: train/labels/IMG_8599_MOV-2_jpg.rf.0b2b0733befaae0b08c0e04b86f295b9.txt  \n",
            "   creating: valid/\n",
            "   creating: valid/images/\n",
            " extracting: valid/images/IMG_2277_jpeg_jpg.rf.86c72d6192da48d941ffa957f4780665.jpg  \n",
            " extracting: valid/images/IMG_2278_jpeg_jpg.rf.3c7006d683b0fc62b9b5d84a2868c31c.jpg  \n",
            " extracting: valid/images/IMG_2279_jpeg_jpg.rf.c93235205522529fc7e9626bf9175cba.jpg  \n",
            " extracting: valid/images/IMG_2288_jpeg_jpg.rf.18da58173e72084ebd73149bc8914ec1.jpg  \n",
            " extracting: valid/images/IMG_2297_jpeg_jpg.rf.a7b46f3c112b1c319d824598ee1aafd5.jpg  \n",
            " extracting: valid/images/IMG_2305_jpeg_jpg.rf.9590ed0a48add800dc5ea8d3f85d3469.jpg  \n",
            " extracting: valid/images/IMG_2317_jpeg_jpg.rf.f30ebbdde1be950767da30bd3fbc1493.jpg  \n",
            " extracting: valid/images/IMG_2318_jpeg_jpg.rf.f073a5ac61db9f821cc03d23f4a22ea6.jpg  \n",
            " extracting: valid/images/IMG_2323_jpeg_jpg.rf.035c5370cfa9efce40a515ce4ec72179.jpg  \n",
            " extracting: valid/images/IMG_2325_jpeg_jpg.rf.a8ebf587a5ae7d2f8c58f977583e344c.jpg  \n",
            " extracting: valid/images/IMG_2329_jpeg_jpg.rf.4a1c2bdd0841672f2b75310a8276bfdc.jpg  \n",
            " extracting: valid/images/IMG_2333_jpeg_jpg.rf.0dfdf7c17f438c4a2eacebdfef82bdeb.jpg  \n",
            " extracting: valid/images/IMG_2334_jpeg_jpg.rf.b545bdad952bf47fbadb8ee504e52c36.jpg  \n",
            " extracting: valid/images/IMG_2337_jpeg_jpg.rf.8c0fdb28fa8bfd6adf906153bb4c90a2.jpg  \n",
            " extracting: valid/images/IMG_2339_jpeg_jpg.rf.f31a698f6d75d00ce27b24801b6d88dd.jpg  \n",
            " extracting: valid/images/IMG_2342_jpeg_jpg.rf.f36e481b4e01c2e76e0b27e494682873.jpg  \n",
            " extracting: valid/images/IMG_2345_jpeg_jpg.rf.1c32346981ba9d501078eb82f2c63555.jpg  \n",
            " extracting: valid/images/IMG_2348_jpeg_jpg.rf.79943ee250febaea3c2faaca7f175a52.jpg  \n",
            " extracting: valid/images/IMG_2353_jpeg_jpg.rf.6f07383174c9ac1c07641f16ee637f33.jpg  \n",
            " extracting: valid/images/IMG_2366_jpeg_jpg.rf.62cf14267a26c941f480aedda57d14d2.jpg  \n",
            " extracting: valid/images/IMG_2367_jpeg_jpg.rf.0f66a0ca8366d9c38e41eb2936629bdb.jpg  \n",
            " extracting: valid/images/IMG_2381_jpeg_jpg.rf.fc0d53c3b03994926fe019493da66170.jpg  \n",
            " extracting: valid/images/IMG_2388_jpeg_jpg.rf.2ecbbaf2de399755ab51d3394ed79737.jpg  \n",
            " extracting: valid/images/IMG_2391_jpeg_jpg.rf.eda9c0bf094dff7589b8444e40526649.jpg  \n",
            " extracting: valid/images/IMG_2392_jpeg_jpg.rf.cd976c440775ded33b2b0d6046f3d627.jpg  \n",
            " extracting: valid/images/IMG_2396_jpeg_jpg.rf.b2b09051961c31a2c174197d01df0210.jpg  \n",
            " extracting: valid/images/IMG_2397_jpeg_jpg.rf.9c3738324145cfd94c923fb61830b953.jpg  \n",
            " extracting: valid/images/IMG_2398_jpeg_jpg.rf.000bc0bd92988307264de7019fca4b57.jpg  \n",
            " extracting: valid/images/IMG_2404_jpeg_jpg.rf.62c50bcc4cc361b1356dd080a94d25c2.jpg  \n",
            " extracting: valid/images/IMG_2407_jpeg_jpg.rf.e79d6d92249399ba43d29aefcb529c1d.jpg  \n",
            " extracting: valid/images/IMG_2411_jpeg_jpg.rf.f9d90552a05fa166a20d6633bb32e1fa.jpg  \n",
            " extracting: valid/images/IMG_2416_jpeg_jpg.rf.8dd9a8e466f7bb4de07b35b6efb7f986.jpg  \n",
            " extracting: valid/images/IMG_2424_jpeg_jpg.rf.16ecdfc5f663a44f0398b2dc270dc081.jpg  \n",
            " extracting: valid/images/IMG_2425_jpeg_jpg.rf.0aafba6bf303a4a30a66e0f8b654543f.jpg  \n",
            " extracting: valid/images/IMG_2428_jpeg_jpg.rf.881b56c9439316de011fca891d844af8.jpg  \n",
            " extracting: valid/images/IMG_2442_jpeg_jpg.rf.a0f2dc8165d94438935847bb4c9fa2d6.jpg  \n",
            " extracting: valid/images/IMG_2457_jpeg_jpg.rf.f1b7f69e7def0ae70a5aec3f288b0d0a.jpg  \n",
            " extracting: valid/images/IMG_2464_jpeg_jpg.rf.0121fe35073ca26afded76a7a51c9951.jpg  \n",
            " extracting: valid/images/IMG_2469_jpeg_jpg.rf.fca5db81cde8b6fe73b8f150e2e16a88.jpg  \n",
            " extracting: valid/images/IMG_2491_jpeg_jpg.rf.08eaf40d7092c90b6881c86afc04be60.jpg  \n",
            " extracting: valid/images/IMG_2492_jpeg_jpg.rf.7fdeedc3c5005ba50a3295f08f0b54d5.jpg  \n",
            " extracting: valid/images/IMG_2505_jpeg_jpg.rf.88d9f0c9901acb63314e5562ddfab535.jpg  \n",
            " extracting: valid/images/IMG_2510_jpeg_jpg.rf.59a31ea904f5281776c23bebaa22dd1c.jpg  \n",
            " extracting: valid/images/IMG_2512_jpeg_jpg.rf.cd694a81ad3286dee21119d102b59794.jpg  \n",
            " extracting: valid/images/IMG_2517_jpeg_jpg.rf.3f3fc94274355ee95214b0ca0c7b0734.jpg  \n",
            " extracting: valid/images/IMG_2519_jpeg_jpg.rf.1eafac87483bd91a226e3da2c6c9d914.jpg  \n",
            " extracting: valid/images/IMG_2522_jpeg_jpg.rf.fe97228c0f9f15d425a80236b522307b.jpg  \n",
            " extracting: valid/images/IMG_2523_jpeg_jpg.rf.efd9f79430fc015890b4a4ad5ddfe3ad.jpg  \n",
            " extracting: valid/images/IMG_2525_jpeg_jpg.rf.e9788896d11d85d89b81cae4cd20008a.jpg  \n",
            " extracting: valid/images/IMG_2531_jpeg_jpg.rf.ce645026141bc800747f674ad14fb270.jpg  \n",
            " extracting: valid/images/IMG_2534_jpeg_jpg.rf.009873a3457c50c740a39d733ef1cbe0.jpg  \n",
            " extracting: valid/images/IMG_2535_jpeg_jpg.rf.df0a31234ee5ec2f7e6a2ef197291e84.jpg  \n",
            " extracting: valid/images/IMG_2546_jpeg_jpg.rf.54d81da66b2c29f09250474cc2a101ad.jpg  \n",
            " extracting: valid/images/IMG_2555_jpeg_jpg.rf.793e6e95249f917b19ec56232ae76454.jpg  \n",
            " extracting: valid/images/IMG_2557_jpeg_jpg.rf.c98bb87f28e97a9f1a61826262880e40.jpg  \n",
            " extracting: valid/images/IMG_2567_jpeg_jpg.rf.b765b883d04f214807d468c5077f31ba.jpg  \n",
            " extracting: valid/images/IMG_2569_jpeg_jpg.rf.3eae12557d50da95ba481a576073e50b.jpg  \n",
            " extracting: valid/images/IMG_2577_jpeg_jpg.rf.3a5c906372d7e1dae2a5854a0a71f1d8.jpg  \n",
            " extracting: valid/images/IMG_2583_jpeg_jpg.rf.34328e103aca34f83b4c926e898dff42.jpg  \n",
            " extracting: valid/images/IMG_2586_jpeg_jpg.rf.421723e62d7468fc0a81f1c342431f9a.jpg  \n",
            " extracting: valid/images/IMG_2591_jpeg_jpg.rf.e73e43e7b15118fc1d63787da38e565b.jpg  \n",
            " extracting: valid/images/IMG_2599_jpeg_jpg.rf.88b1e110db566b217338891ffdb87ac3.jpg  \n",
            " extracting: valid/images/IMG_2602_jpeg_jpg.rf.9614bcb0af2cc0b4530c8859ba06e026.jpg  \n",
            " extracting: valid/images/IMG_2607_jpeg_jpg.rf.f969243b3db0c2242280e1aad0f4a0b8.jpg  \n",
            " extracting: valid/images/IMG_2616_jpeg_jpg.rf.836915e49219c315486f0d2dd83ad803.jpg  \n",
            " extracting: valid/images/IMG_2626_jpeg_jpg.rf.0cdce3e7341762e41c52756cf07b95d8.jpg  \n",
            " extracting: valid/images/IMG_2635_jpeg_jpg.rf.bd4a6e8c9eb88e58360107f19cb41204.jpg  \n",
            " extracting: valid/images/IMG_2636_jpeg_jpg.rf.75197e967fba5462d754b0e72e88fa80.jpg  \n",
            " extracting: valid/images/IMG_2637_jpeg_jpg.rf.fb8a2e97a480a468812b0217a6fc5ce0.jpg  \n",
            " extracting: valid/images/IMG_2645_jpeg_jpg.rf.95466fb2ccc8118fbd346f305b7d4319.jpg  \n",
            " extracting: valid/images/IMG_3120_jpeg_jpg.rf.05e302318ebf9502b3467828b1f1e45a.jpg  \n",
            " extracting: valid/images/IMG_3124_jpeg_jpg.rf.539a07bdc20ae24c50d185c747476b94.jpg  \n",
            " extracting: valid/images/IMG_3126_jpeg_jpg.rf.f9991ffcba599a478eb6cf04c69cdd73.jpg  \n",
            " extracting: valid/images/IMG_3139_jpeg_jpg.rf.0de4ff0e2cd3d35f89fc00152c3fbbcf.jpg  \n",
            " extracting: valid/images/IMG_3150_jpeg_jpg.rf.a071c16d39955726ece6734edc8fc173.jpg  \n",
            " extracting: valid/images/IMG_3153_jpeg_jpg.rf.bdb07feac6c2d6aaee9831d586876a82.jpg  \n",
            " extracting: valid/images/IMG_3161_jpeg_jpg.rf.c2175430b50dfb77e94db7d15b2cb3d0.jpg  \n",
            " extracting: valid/images/IMG_3163_jpeg_jpg.rf.e18bd135c64490fe794c1d3c0087b5a2.jpg  \n",
            " extracting: valid/images/IMG_3165_jpeg_jpg.rf.28611a811e02f404ba80d4a9fcedbec3.jpg  \n",
            " extracting: valid/images/IMG_3166_jpeg_jpg.rf.c5fefb7a79dec177bcbf4dc82770fbf3.jpg  \n",
            " extracting: valid/images/IMG_3171_jpeg_jpg.rf.8224cbd4b248c621e1c1fa66266b60cc.jpg  \n",
            " extracting: valid/images/IMG_3178_jpeg_jpg.rf.ac2bd83268ddfaa7d82bb77743bccc82.jpg  \n",
            " extracting: valid/images/IMG_3179_jpeg_jpg.rf.23e30f6b494cb6c2ff3ac42c450b0ee2.jpg  \n",
            " extracting: valid/images/IMG_3180_jpeg_jpg.rf.ab8c84e6f82bfb062f068c5d741dd6d7.jpg  \n",
            " extracting: valid/images/IMG_3183_jpeg_jpg.rf.342a406c147ecc3678bc2669b9d2f2b6.jpg  \n",
            " extracting: valid/images/IMG_3184_jpeg_jpg.rf.67485e67375b442b6ac3462554ccc816.jpg  \n",
            " extracting: valid/images/IMG_3185_jpeg_jpg.rf.82a017bce2929b7cb1e9104a0a22ffe7.jpg  \n",
            " extracting: valid/images/IMG_8317_jpg.rf.8692db77ddbc0e8a3c10a4202af99ced.jpg  \n",
            " extracting: valid/images/IMG_8330_jpg.rf.24eabbd6ee9e80a723acc0d1ef8208c6.jpg  \n",
            " extracting: valid/images/IMG_8340_jpg.rf.cff5cff087e3da4cf52c3aaf73ddf1df.jpg  \n",
            " extracting: valid/images/IMG_8341_jpg.rf.a378ec2a160e3537775b7232745ef9f3.jpg  \n",
            " extracting: valid/images/IMG_8348_jpg.rf.f98cd0dfc3a2c7693b77fb490d1405d1.jpg  \n",
            " extracting: valid/images/IMG_8379_jpg.rf.508f381df23405933378196381fd0949.jpg  \n",
            " extracting: valid/images/IMG_8384_jpg.rf.21b6079e4a1750b15c0ad33e455b0ed3.jpg  \n",
            " extracting: valid/images/IMG_8391_jpg.rf.c86804c2c59d47313c910ac80927da01.jpg  \n",
            " extracting: valid/images/IMG_8407_jpg.rf.c1c56f0c5b11da7c9f5075cb7f08d80c.jpg  \n",
            " extracting: valid/images/IMG_8448_jpg.rf.f0f8cdc741e2f94c9c8a2dbf8af6fb6a.jpg  \n",
            " extracting: valid/images/IMG_8460_jpg.rf.0b35f63073f0b4475ded61866164eb57.jpg  \n",
            " extracting: valid/images/IMG_8465_jpg.rf.4e9f92133e269119a82e502339b7981e.jpg  \n",
            " extracting: valid/images/IMG_8489_jpg.rf.e79ed773754ce88ed4a9a9042d98dca9.jpg  \n",
            " extracting: valid/images/IMG_8496_MOV-2_jpg.rf.a07bf41c4d61ee18223b3cf390c8fdda.jpg  \n",
            " extracting: valid/images/IMG_8497_MOV-2_jpg.rf.3b4c0871d43d7284969d7892961a3f69.jpg  \n",
            " extracting: valid/images/IMG_8497_MOV-4_jpg.rf.2acc65d2369cd13c88ab1e4307e4017e.jpg  \n",
            " extracting: valid/images/IMG_8512_MOV-1_jpg.rf.19292bbea43154570366aed3401fe70c.jpg  \n",
            " extracting: valid/images/IMG_8512_MOV-5_jpg.rf.417fc7eb3489c16db7ed1f6a63d46082.jpg  \n",
            " extracting: valid/images/IMG_8524_jpg.rf.f0ec4b125fa1460bf75940c9ab1d1a83.jpg  \n",
            " extracting: valid/images/IMG_8525_jpg.rf.79694f37cc584fbeb7ff0cc0e19427a2.jpg  \n",
            " extracting: valid/images/IMG_8526_jpg.rf.f371583278d1a5bb0d9352efe689fc33.jpg  \n",
            " extracting: valid/images/IMG_8528_jpg.rf.2b4f4faa5412fc350cc967990c6249c5.jpg  \n",
            " extracting: valid/images/IMG_8530_jpg.rf.a4abb3dc30e6984d6dd52f96b9f654f9.jpg  \n",
            " extracting: valid/images/IMG_8535_MOV-0_jpg.rf.bb8a782b58745c0c8a6b334ab75a6b4c.jpg  \n",
            " extracting: valid/images/IMG_8535_MOV-1_jpg.rf.1c1aa55d7b35e08b6760c9cc43d427d0.jpg  \n",
            " extracting: valid/images/IMG_8535_MOV-4_jpg.rf.62f0b5fc7765e5f9015a7c0281bd969a.jpg  \n",
            " extracting: valid/images/IMG_8535_MOV-5_jpg.rf.fe45012859267d87836726ec3fd4098f.jpg  \n",
            " extracting: valid/images/IMG_8551_MOV-1_jpg.rf.c5ec93fd2bf5fd05d5efd9d3798fec83.jpg  \n",
            " extracting: valid/images/IMG_8571_MOV-3_jpg.rf.dcfbae1a6996c6208f63e848e7947ec4.jpg  \n",
            " extracting: valid/images/IMG_8572_MOV-1_jpg.rf.1c182e819e3efef65b32f7ef780942f8.jpg  \n",
            " extracting: valid/images/IMG_8578_MOV-0_jpg.rf.259d80c0d67e3e88f2d04cd17df7f6a9.jpg  \n",
            " extracting: valid/images/IMG_8579_jpg.rf.1c60d2b975a7e600c88ec25f38c5b13d.jpg  \n",
            " extracting: valid/images/IMG_8581_MOV-1_jpg.rf.f5e474a5a6600f76112e98f60888d236.jpg  \n",
            " extracting: valid/images/IMG_8582_MOV-2_jpg.rf.857b3cd92ca74b0f75e812a380dc5f22.jpg  \n",
            " extracting: valid/images/IMG_8582_MOV-4_jpg.rf.3836024d5cae38ca6ba3512ee98ea3a3.jpg  \n",
            " extracting: valid/images/IMG_8590_MOV-0_jpg.rf.0ffbdc8627360449c3b1d94adab945c4.jpg  \n",
            " extracting: valid/images/IMG_8591_MOV-1_jpg.rf.a93070247a5bd3fae05926c0514b1b4c.jpg  \n",
            " extracting: valid/images/IMG_8593_MOV-1_jpg.rf.9aa3076a6322416b5ce1c892d97a102a.jpg  \n",
            " extracting: valid/images/IMG_8595_MOV-1_jpg.rf.7ec06740adf2a710a14c479f9bd8db5b.jpg  \n",
            " extracting: valid/images/IMG_8599_MOV-1_jpg.rf.8b8f5d9d4eacd671546a3025e6f52a0e.jpg  \n",
            "   creating: valid/labels/\n",
            " extracting: valid/labels/IMG_2277_jpeg_jpg.rf.86c72d6192da48d941ffa957f4780665.txt  \n",
            " extracting: valid/labels/IMG_2278_jpeg_jpg.rf.3c7006d683b0fc62b9b5d84a2868c31c.txt  \n",
            " extracting: valid/labels/IMG_2279_jpeg_jpg.rf.c93235205522529fc7e9626bf9175cba.txt  \n",
            " extracting: valid/labels/IMG_2288_jpeg_jpg.rf.18da58173e72084ebd73149bc8914ec1.txt  \n",
            " extracting: valid/labels/IMG_2297_jpeg_jpg.rf.a7b46f3c112b1c319d824598ee1aafd5.txt  \n",
            " extracting: valid/labels/IMG_2305_jpeg_jpg.rf.9590ed0a48add800dc5ea8d3f85d3469.txt  \n",
            " extracting: valid/labels/IMG_2317_jpeg_jpg.rf.f30ebbdde1be950767da30bd3fbc1493.txt  \n",
            " extracting: valid/labels/IMG_2318_jpeg_jpg.rf.f073a5ac61db9f821cc03d23f4a22ea6.txt  \n",
            " extracting: valid/labels/IMG_2323_jpeg_jpg.rf.035c5370cfa9efce40a515ce4ec72179.txt  \n",
            " extracting: valid/labels/IMG_2325_jpeg_jpg.rf.a8ebf587a5ae7d2f8c58f977583e344c.txt  \n",
            " extracting: valid/labels/IMG_2329_jpeg_jpg.rf.4a1c2bdd0841672f2b75310a8276bfdc.txt  \n",
            " extracting: valid/labels/IMG_2333_jpeg_jpg.rf.0dfdf7c17f438c4a2eacebdfef82bdeb.txt  \n",
            " extracting: valid/labels/IMG_2334_jpeg_jpg.rf.b545bdad952bf47fbadb8ee504e52c36.txt  \n",
            " extracting: valid/labels/IMG_2337_jpeg_jpg.rf.8c0fdb28fa8bfd6adf906153bb4c90a2.txt  \n",
            " extracting: valid/labels/IMG_2339_jpeg_jpg.rf.f31a698f6d75d00ce27b24801b6d88dd.txt  \n",
            " extracting: valid/labels/IMG_2342_jpeg_jpg.rf.f36e481b4e01c2e76e0b27e494682873.txt  \n",
            " extracting: valid/labels/IMG_2345_jpeg_jpg.rf.1c32346981ba9d501078eb82f2c63555.txt  \n",
            " extracting: valid/labels/IMG_2348_jpeg_jpg.rf.79943ee250febaea3c2faaca7f175a52.txt  \n",
            " extracting: valid/labels/IMG_2353_jpeg_jpg.rf.6f07383174c9ac1c07641f16ee637f33.txt  \n",
            " extracting: valid/labels/IMG_2366_jpeg_jpg.rf.62cf14267a26c941f480aedda57d14d2.txt  \n",
            " extracting: valid/labels/IMG_2367_jpeg_jpg.rf.0f66a0ca8366d9c38e41eb2936629bdb.txt  \n",
            " extracting: valid/labels/IMG_2381_jpeg_jpg.rf.fc0d53c3b03994926fe019493da66170.txt  \n",
            " extracting: valid/labels/IMG_2388_jpeg_jpg.rf.2ecbbaf2de399755ab51d3394ed79737.txt  \n",
            " extracting: valid/labels/IMG_2391_jpeg_jpg.rf.eda9c0bf094dff7589b8444e40526649.txt  \n",
            " extracting: valid/labels/IMG_2392_jpeg_jpg.rf.cd976c440775ded33b2b0d6046f3d627.txt  \n",
            " extracting: valid/labels/IMG_2396_jpeg_jpg.rf.b2b09051961c31a2c174197d01df0210.txt  \n",
            " extracting: valid/labels/IMG_2397_jpeg_jpg.rf.9c3738324145cfd94c923fb61830b953.txt  \n",
            " extracting: valid/labels/IMG_2398_jpeg_jpg.rf.000bc0bd92988307264de7019fca4b57.txt  \n",
            " extracting: valid/labels/IMG_2404_jpeg_jpg.rf.62c50bcc4cc361b1356dd080a94d25c2.txt  \n",
            " extracting: valid/labels/IMG_2407_jpeg_jpg.rf.e79d6d92249399ba43d29aefcb529c1d.txt  \n",
            " extracting: valid/labels/IMG_2411_jpeg_jpg.rf.f9d90552a05fa166a20d6633bb32e1fa.txt  \n",
            " extracting: valid/labels/IMG_2416_jpeg_jpg.rf.8dd9a8e466f7bb4de07b35b6efb7f986.txt  \n",
            " extracting: valid/labels/IMG_2424_jpeg_jpg.rf.16ecdfc5f663a44f0398b2dc270dc081.txt  \n",
            " extracting: valid/labels/IMG_2425_jpeg_jpg.rf.0aafba6bf303a4a30a66e0f8b654543f.txt  \n",
            " extracting: valid/labels/IMG_2428_jpeg_jpg.rf.881b56c9439316de011fca891d844af8.txt  \n",
            " extracting: valid/labels/IMG_2442_jpeg_jpg.rf.a0f2dc8165d94438935847bb4c9fa2d6.txt  \n",
            " extracting: valid/labels/IMG_2457_jpeg_jpg.rf.f1b7f69e7def0ae70a5aec3f288b0d0a.txt  \n",
            " extracting: valid/labels/IMG_2464_jpeg_jpg.rf.0121fe35073ca26afded76a7a51c9951.txt  \n",
            " extracting: valid/labels/IMG_2469_jpeg_jpg.rf.fca5db81cde8b6fe73b8f150e2e16a88.txt  \n",
            " extracting: valid/labels/IMG_2491_jpeg_jpg.rf.08eaf40d7092c90b6881c86afc04be60.txt  \n",
            " extracting: valid/labels/IMG_2492_jpeg_jpg.rf.7fdeedc3c5005ba50a3295f08f0b54d5.txt  \n",
            " extracting: valid/labels/IMG_2505_jpeg_jpg.rf.88d9f0c9901acb63314e5562ddfab535.txt  \n",
            " extracting: valid/labels/IMG_2510_jpeg_jpg.rf.59a31ea904f5281776c23bebaa22dd1c.txt  \n",
            " extracting: valid/labels/IMG_2512_jpeg_jpg.rf.cd694a81ad3286dee21119d102b59794.txt  \n",
            " extracting: valid/labels/IMG_2517_jpeg_jpg.rf.3f3fc94274355ee95214b0ca0c7b0734.txt  \n",
            " extracting: valid/labels/IMG_2519_jpeg_jpg.rf.1eafac87483bd91a226e3da2c6c9d914.txt  \n",
            " extracting: valid/labels/IMG_2522_jpeg_jpg.rf.fe97228c0f9f15d425a80236b522307b.txt  \n",
            " extracting: valid/labels/IMG_2523_jpeg_jpg.rf.efd9f79430fc015890b4a4ad5ddfe3ad.txt  \n",
            " extracting: valid/labels/IMG_2525_jpeg_jpg.rf.e9788896d11d85d89b81cae4cd20008a.txt  \n",
            " extracting: valid/labels/IMG_2531_jpeg_jpg.rf.ce645026141bc800747f674ad14fb270.txt  \n",
            " extracting: valid/labels/IMG_2534_jpeg_jpg.rf.009873a3457c50c740a39d733ef1cbe0.txt  \n",
            " extracting: valid/labels/IMG_2535_jpeg_jpg.rf.df0a31234ee5ec2f7e6a2ef197291e84.txt  \n",
            " extracting: valid/labels/IMG_2546_jpeg_jpg.rf.54d81da66b2c29f09250474cc2a101ad.txt  \n",
            " extracting: valid/labels/IMG_2555_jpeg_jpg.rf.793e6e95249f917b19ec56232ae76454.txt  \n",
            " extracting: valid/labels/IMG_2557_jpeg_jpg.rf.c98bb87f28e97a9f1a61826262880e40.txt  \n",
            " extracting: valid/labels/IMG_2567_jpeg_jpg.rf.b765b883d04f214807d468c5077f31ba.txt  \n",
            " extracting: valid/labels/IMG_2569_jpeg_jpg.rf.3eae12557d50da95ba481a576073e50b.txt  \n",
            " extracting: valid/labels/IMG_2577_jpeg_jpg.rf.3a5c906372d7e1dae2a5854a0a71f1d8.txt  \n",
            " extracting: valid/labels/IMG_2583_jpeg_jpg.rf.34328e103aca34f83b4c926e898dff42.txt  \n",
            " extracting: valid/labels/IMG_2586_jpeg_jpg.rf.421723e62d7468fc0a81f1c342431f9a.txt  \n",
            " extracting: valid/labels/IMG_2591_jpeg_jpg.rf.e73e43e7b15118fc1d63787da38e565b.txt  \n",
            " extracting: valid/labels/IMG_2599_jpeg_jpg.rf.88b1e110db566b217338891ffdb87ac3.txt  \n",
            " extracting: valid/labels/IMG_2602_jpeg_jpg.rf.9614bcb0af2cc0b4530c8859ba06e026.txt  \n",
            " extracting: valid/labels/IMG_2607_jpeg_jpg.rf.f969243b3db0c2242280e1aad0f4a0b8.txt  \n",
            " extracting: valid/labels/IMG_2616_jpeg_jpg.rf.836915e49219c315486f0d2dd83ad803.txt  \n",
            " extracting: valid/labels/IMG_2626_jpeg_jpg.rf.0cdce3e7341762e41c52756cf07b95d8.txt  \n",
            " extracting: valid/labels/IMG_2635_jpeg_jpg.rf.bd4a6e8c9eb88e58360107f19cb41204.txt  \n",
            " extracting: valid/labels/IMG_2636_jpeg_jpg.rf.75197e967fba5462d754b0e72e88fa80.txt  \n",
            " extracting: valid/labels/IMG_2637_jpeg_jpg.rf.fb8a2e97a480a468812b0217a6fc5ce0.txt  \n",
            " extracting: valid/labels/IMG_2645_jpeg_jpg.rf.95466fb2ccc8118fbd346f305b7d4319.txt  \n",
            " extracting: valid/labels/IMG_3120_jpeg_jpg.rf.05e302318ebf9502b3467828b1f1e45a.txt  \n",
            " extracting: valid/labels/IMG_3124_jpeg_jpg.rf.539a07bdc20ae24c50d185c747476b94.txt  \n",
            " extracting: valid/labels/IMG_3126_jpeg_jpg.rf.f9991ffcba599a478eb6cf04c69cdd73.txt  \n",
            " extracting: valid/labels/IMG_3139_jpeg_jpg.rf.0de4ff0e2cd3d35f89fc00152c3fbbcf.txt  \n",
            " extracting: valid/labels/IMG_3150_jpeg_jpg.rf.a071c16d39955726ece6734edc8fc173.txt  \n",
            " extracting: valid/labels/IMG_3153_jpeg_jpg.rf.bdb07feac6c2d6aaee9831d586876a82.txt  \n",
            " extracting: valid/labels/IMG_3161_jpeg_jpg.rf.c2175430b50dfb77e94db7d15b2cb3d0.txt  \n",
            " extracting: valid/labels/IMG_3163_jpeg_jpg.rf.e18bd135c64490fe794c1d3c0087b5a2.txt  \n",
            " extracting: valid/labels/IMG_3165_jpeg_jpg.rf.28611a811e02f404ba80d4a9fcedbec3.txt  \n",
            " extracting: valid/labels/IMG_3166_jpeg_jpg.rf.c5fefb7a79dec177bcbf4dc82770fbf3.txt  \n",
            " extracting: valid/labels/IMG_3171_jpeg_jpg.rf.8224cbd4b248c621e1c1fa66266b60cc.txt  \n",
            " extracting: valid/labels/IMG_3178_jpeg_jpg.rf.ac2bd83268ddfaa7d82bb77743bccc82.txt  \n",
            " extracting: valid/labels/IMG_3179_jpeg_jpg.rf.23e30f6b494cb6c2ff3ac42c450b0ee2.txt  \n",
            " extracting: valid/labels/IMG_3180_jpeg_jpg.rf.ab8c84e6f82bfb062f068c5d741dd6d7.txt  \n",
            " extracting: valid/labels/IMG_3183_jpeg_jpg.rf.342a406c147ecc3678bc2669b9d2f2b6.txt  \n",
            " extracting: valid/labels/IMG_3184_jpeg_jpg.rf.67485e67375b442b6ac3462554ccc816.txt  \n",
            " extracting: valid/labels/IMG_3185_jpeg_jpg.rf.82a017bce2929b7cb1e9104a0a22ffe7.txt  \n",
            " extracting: valid/labels/IMG_8317_jpg.rf.8692db77ddbc0e8a3c10a4202af99ced.txt  \n",
            " extracting: valid/labels/IMG_8330_jpg.rf.24eabbd6ee9e80a723acc0d1ef8208c6.txt  \n",
            " extracting: valid/labels/IMG_8340_jpg.rf.cff5cff087e3da4cf52c3aaf73ddf1df.txt  \n",
            " extracting: valid/labels/IMG_8341_jpg.rf.a378ec2a160e3537775b7232745ef9f3.txt  \n",
            " extracting: valid/labels/IMG_8348_jpg.rf.f98cd0dfc3a2c7693b77fb490d1405d1.txt  \n",
            " extracting: valid/labels/IMG_8379_jpg.rf.508f381df23405933378196381fd0949.txt  \n",
            " extracting: valid/labels/IMG_8384_jpg.rf.21b6079e4a1750b15c0ad33e455b0ed3.txt  \n",
            " extracting: valid/labels/IMG_8391_jpg.rf.c86804c2c59d47313c910ac80927da01.txt  \n",
            " extracting: valid/labels/IMG_8407_jpg.rf.c1c56f0c5b11da7c9f5075cb7f08d80c.txt  \n",
            " extracting: valid/labels/IMG_8448_jpg.rf.f0f8cdc741e2f94c9c8a2dbf8af6fb6a.txt  \n",
            " extracting: valid/labels/IMG_8460_jpg.rf.0b35f63073f0b4475ded61866164eb57.txt  \n",
            " extracting: valid/labels/IMG_8465_jpg.rf.4e9f92133e269119a82e502339b7981e.txt  \n",
            " extracting: valid/labels/IMG_8489_jpg.rf.e79ed773754ce88ed4a9a9042d98dca9.txt  \n",
            " extracting: valid/labels/IMG_8496_MOV-2_jpg.rf.a07bf41c4d61ee18223b3cf390c8fdda.txt  \n",
            " extracting: valid/labels/IMG_8497_MOV-2_jpg.rf.3b4c0871d43d7284969d7892961a3f69.txt  \n",
            " extracting: valid/labels/IMG_8497_MOV-4_jpg.rf.2acc65d2369cd13c88ab1e4307e4017e.txt  \n",
            " extracting: valid/labels/IMG_8512_MOV-1_jpg.rf.19292bbea43154570366aed3401fe70c.txt  \n",
            " extracting: valid/labels/IMG_8512_MOV-5_jpg.rf.417fc7eb3489c16db7ed1f6a63d46082.txt  \n",
            " extracting: valid/labels/IMG_8524_jpg.rf.f0ec4b125fa1460bf75940c9ab1d1a83.txt  \n",
            " extracting: valid/labels/IMG_8525_jpg.rf.79694f37cc584fbeb7ff0cc0e19427a2.txt  \n",
            " extracting: valid/labels/IMG_8526_jpg.rf.f371583278d1a5bb0d9352efe689fc33.txt  \n",
            " extracting: valid/labels/IMG_8528_jpg.rf.2b4f4faa5412fc350cc967990c6249c5.txt  \n",
            " extracting: valid/labels/IMG_8530_jpg.rf.a4abb3dc30e6984d6dd52f96b9f654f9.txt  \n",
            " extracting: valid/labels/IMG_8535_MOV-0_jpg.rf.bb8a782b58745c0c8a6b334ab75a6b4c.txt  \n",
            " extracting: valid/labels/IMG_8535_MOV-1_jpg.rf.1c1aa55d7b35e08b6760c9cc43d427d0.txt  \n",
            " extracting: valid/labels/IMG_8535_MOV-4_jpg.rf.62f0b5fc7765e5f9015a7c0281bd969a.txt  \n",
            " extracting: valid/labels/IMG_8535_MOV-5_jpg.rf.fe45012859267d87836726ec3fd4098f.txt  \n",
            " extracting: valid/labels/IMG_8551_MOV-1_jpg.rf.c5ec93fd2bf5fd05d5efd9d3798fec83.txt  \n",
            " extracting: valid/labels/IMG_8571_MOV-3_jpg.rf.dcfbae1a6996c6208f63e848e7947ec4.txt  \n",
            " extracting: valid/labels/IMG_8572_MOV-1_jpg.rf.1c182e819e3efef65b32f7ef780942f8.txt  \n",
            " extracting: valid/labels/IMG_8578_MOV-0_jpg.rf.259d80c0d67e3e88f2d04cd17df7f6a9.txt  \n",
            " extracting: valid/labels/IMG_8579_jpg.rf.1c60d2b975a7e600c88ec25f38c5b13d.txt  \n",
            " extracting: valid/labels/IMG_8581_MOV-1_jpg.rf.f5e474a5a6600f76112e98f60888d236.txt  \n",
            " extracting: valid/labels/IMG_8582_MOV-2_jpg.rf.857b3cd92ca74b0f75e812a380dc5f22.txt  \n",
            " extracting: valid/labels/IMG_8582_MOV-4_jpg.rf.3836024d5cae38ca6ba3512ee98ea3a3.txt  \n",
            " extracting: valid/labels/IMG_8590_MOV-0_jpg.rf.0ffbdc8627360449c3b1d94adab945c4.txt  \n",
            " extracting: valid/labels/IMG_8591_MOV-1_jpg.rf.a93070247a5bd3fae05926c0514b1b4c.txt  \n",
            " extracting: valid/labels/IMG_8593_MOV-1_jpg.rf.9aa3076a6322416b5ce1c892d97a102a.txt  \n",
            " extracting: valid/labels/IMG_8595_MOV-1_jpg.rf.7ec06740adf2a710a14c479f9bd8db5b.txt  \n",
            " extracting: valid/labels/IMG_8599_MOV-1_jpg.rf.8b8f5d9d4eacd671546a3025e6f52a0e.txt  \n"
          ]
        }
      ],
      "source": [
        "!curl -L \"https://public.roboflow.com/ds/c7SehbkfK4?key=5BCTbB5LTm\" > roboflow.zip; unzip roboflow.zip; rm roboflow.zip"
      ]
    },
    {
      "cell_type": "code",
      "execution_count": 6,
      "metadata": {
        "colab": {
          "base_uri": "https://localhost:8080/"
        },
        "id": "VCY4wBuiHT8c",
        "outputId": "9a8b65ec-29dd-46c7-f016-a6d018ef4fde"
      },
      "outputs": [
        {
          "name": "stdout",
          "output_type": "stream",
          "text": [
            "train: ../train/images\n",
            "val: ../valid/images\n",
            "test: ../test/images\n",
            "\n",
            "nc: 7\n",
            "names: ['fish', 'jellyfish', 'penguin', 'puffin', 'shark', 'starfish', 'stingray']\n",
            "\n",
            "roboflow:\n",
            "  workspace: brad-dwyer\n",
            "  project: aquarium-combined\n",
            "  version: 2\n",
            "  license: CC BY 4.0\n",
            "  url: https://universe.roboflow.com/brad-dwyer/aquarium-combined/dataset/2"
          ]
        }
      ],
      "source": [
        "!cat data.yaml"
      ]
    },
    {
      "cell_type": "code",
      "execution_count": 7,
      "metadata": {
        "colab": {
          "base_uri": "https://localhost:8080/"
        },
        "collapsed": true,
        "id": "066GaO71HcLG",
        "outputId": "75a52aaa-b5ca-4732-cbbb-809ee8a205cc"
      },
      "outputs": [
        {
          "name": "stdout",
          "output_type": "stream",
          "text": [
            "Ultralytics 8.3.146 🚀 Python-3.11.12 torch-2.6.0+cu124 CUDA:0 (Tesla T4, 15095MiB)\n",
            "\u001b[34m\u001b[1mengine/trainer: \u001b[0magnostic_nms=False, amp=True, augment=True, auto_augment=randaugment, batch=32, bgr=0.0, box=7.5, cache=False, cfg=None, classes=None, close_mosaic=10, cls=0.5, conf=None, copy_paste=0.0, copy_paste_mode=flip, cos_lr=False, cutmix=0.0, data=/content/data.yaml, degrees=0.0, deterministic=True, device=None, dfl=1.5, dnn=False, dropout=0.0, dynamic=False, embed=None, epochs=10, erasing=0.4, exist_ok=False, fliplr=0.5, flipud=0.0, format=torchscript, fraction=1.0, freeze=None, half=False, hsv_h=0.015, hsv_s=0.7, hsv_v=0.4, imgsz=640, int8=False, iou=0.7, keras=False, kobj=1.0, line_width=None, lr0=0.001, lrf=0.01, mask_ratio=4, max_det=300, mixup=0.0, mode=train, model=yolov8n.pt, momentum=0.937, mosaic=1.0, multi_scale=False, name=train, nbs=64, nms=False, opset=None, optimize=False, optimizer=auto, overlap_mask=True, patience=10, perspective=0.0, plots=True, pose=12.0, pretrained=True, profile=False, project=None, rect=False, resume=False, retina_masks=False, save=True, save_conf=False, save_crop=False, save_dir=runs/detect/train, save_frames=False, save_json=False, save_period=-1, save_txt=False, scale=0.5, seed=0, shear=0.0, show=False, show_boxes=True, show_conf=True, show_labels=True, simplify=True, single_cls=False, source=None, split=val, stream_buffer=False, task=detect, time=None, tracker=botsort.yaml, translate=0.1, val=True, verbose=True, vid_stride=1, visualize=False, warmup_bias_lr=0.1, warmup_epochs=3.0, warmup_momentum=0.8, weight_decay=0.0005, workers=8, workspace=None\n",
            "Downloading https://ultralytics.com/assets/Arial.ttf to '/root/.config/Ultralytics/Arial.ttf'...\n"
          ]
        },
        {
          "name": "stderr",
          "output_type": "stream",
          "text": [
            "100%|██████████| 755k/755k [00:00<00:00, 116MB/s]"
          ]
        },
        {
          "name": "stdout",
          "output_type": "stream",
          "text": [
            "Overriding model.yaml nc=80 with nc=7\n",
            "\n",
            "                   from  n    params  module                                       arguments                     \n",
            "  0                  -1  1       464  ultralytics.nn.modules.conv.Conv             [3, 16, 3, 2]                 \n",
            "  1                  -1  1      4672  ultralytics.nn.modules.conv.Conv             [16, 32, 3, 2]                \n",
            "  2                  -1  1      7360  ultralytics.nn.modules.block.C2f             [32, 32, 1, True]             \n",
            "  3                  -1  1     18560  ultralytics.nn.modules.conv.Conv             [32, 64, 3, 2]                \n",
            "  4                  -1  2     49664  ultralytics.nn.modules.block.C2f             [64, 64, 2, True]             \n",
            "  5                  -1  1     73984  ultralytics.nn.modules.conv.Conv             [64, 128, 3, 2]               \n",
            "  6                  -1  2    197632  ultralytics.nn.modules.block.C2f             [128, 128, 2, True]           \n",
            "  7                  -1  1    295424  ultralytics.nn.modules.conv.Conv             [128, 256, 3, 2]              \n",
            "  8                  -1  1    460288  ultralytics.nn.modules.block.C2f             [256, 256, 1, True]           \n",
            "  9                  -1  1    164608  ultralytics.nn.modules.block.SPPF            [256, 256, 5]                 \n",
            " 10                  -1  1         0  torch.nn.modules.upsampling.Upsample         [None, 2, 'nearest']          \n",
            " 11             [-1, 6]  1         0  ultralytics.nn.modules.conv.Concat           [1]                           \n",
            " 12                  -1  1    148224  ultralytics.nn.modules.block.C2f             [384, 128, 1]                 \n",
            " 13                  -1  1         0  torch.nn.modules.upsampling.Upsample         [None, 2, 'nearest']          \n",
            " 14             [-1, 4]  1         0  ultralytics.nn.modules.conv.Concat           [1]                           \n",
            " 15                  -1  1     37248  ultralytics.nn.modules.block.C2f             [192, 64, 1]                  \n",
            " 16                  -1  1     36992  ultralytics.nn.modules.conv.Conv             [64, 64, 3, 2]                \n",
            " 17            [-1, 12]  1         0  ultralytics.nn.modules.conv.Concat           [1]                           \n",
            " 18                  -1  1    123648  ultralytics.nn.modules.block.C2f             [192, 128, 1]                 \n",
            " 19                  -1  1    147712  ultralytics.nn.modules.conv.Conv             [128, 128, 3, 2]              \n",
            " 20             [-1, 9]  1         0  ultralytics.nn.modules.conv.Concat           [1]                           \n",
            " 21                  -1  1    493056  ultralytics.nn.modules.block.C2f             [384, 256, 1]                 \n",
            " 22        [15, 18, 21]  1    752677  ultralytics.nn.modules.head.Detect           [7, [64, 128, 256]]           \n"
          ]
        },
        {
          "name": "stderr",
          "output_type": "stream",
          "text": [
            "\n"
          ]
        },
        {
          "name": "stdout",
          "output_type": "stream",
          "text": [
            "Model summary: 129 layers, 3,012,213 parameters, 3,012,197 gradients, 8.2 GFLOPs\n",
            "\n",
            "Transferred 58/355 items from pretrained weights\n",
            "Freezing layer 'model.22.dfl.conv.weight'\n",
            "\u001b[34m\u001b[1mAMP: \u001b[0mrunning Automatic Mixed Precision (AMP) checks...\n",
            "Downloading https://github.com/ultralytics/assets/releases/download/v8.3.0/yolo11n.pt to 'yolo11n.pt'...\n"
          ]
        },
        {
          "name": "stderr",
          "output_type": "stream",
          "text": [
            "100%|██████████| 5.35M/5.35M [00:00<00:00, 278MB/s]\n"
          ]
        },
        {
          "name": "stdout",
          "output_type": "stream",
          "text": [
            "\u001b[34m\u001b[1mAMP: \u001b[0mchecks passed ✅\n",
            "\u001b[34m\u001b[1mtrain: \u001b[0mFast image access ✅ (ping: 0.0±0.0 ms, read: 1264.0±773.3 MB/s, size: 75.9 KB)\n"
          ]
        },
        {
          "name": "stderr",
          "output_type": "stream",
          "text": [
            "\u001b[34m\u001b[1mtrain: \u001b[0mScanning /content/train/labels... 448 images, 1 backgrounds, 0 corrupt: 100%|██████████| 448/448 [00:00<00:00, 1775.64it/s]"
          ]
        },
        {
          "name": "stdout",
          "output_type": "stream",
          "text": [
            "\u001b[34m\u001b[1mtrain: \u001b[0mNew cache created: /content/train/labels.cache\n"
          ]
        },
        {
          "name": "stderr",
          "output_type": "stream",
          "text": [
            "\n"
          ]
        },
        {
          "name": "stdout",
          "output_type": "stream",
          "text": [
            "\u001b[34m\u001b[1malbumentations: \u001b[0mBlur(p=0.01, blur_limit=(3, 7)), MedianBlur(p=0.01, blur_limit=(3, 7)), ToGray(p=0.01, method='weighted_average', num_output_channels=3), CLAHE(p=0.01, clip_limit=(1.0, 4.0), tile_grid_size=(8, 8))\n",
            "\u001b[34m\u001b[1mval: \u001b[0mFast image access ✅ (ping: 0.0±0.0 ms, read: 730.4±545.8 MB/s, size: 97.4 KB)\n"
          ]
        },
        {
          "name": "stderr",
          "output_type": "stream",
          "text": [
            "\u001b[34m\u001b[1mval: \u001b[0mScanning /content/valid/labels... 127 images, 0 backgrounds, 0 corrupt: 100%|██████████| 127/127 [00:00<00:00, 1360.17it/s]"
          ]
        },
        {
          "name": "stdout",
          "output_type": "stream",
          "text": [
            "\u001b[34m\u001b[1mval: \u001b[0mNew cache created: /content/valid/labels.cache\n"
          ]
        },
        {
          "name": "stderr",
          "output_type": "stream",
          "text": [
            "\n"
          ]
        },
        {
          "name": "stdout",
          "output_type": "stream",
          "text": [
            "Plotting labels to runs/detect/train/labels.jpg... \n",
            "\u001b[34m\u001b[1moptimizer:\u001b[0m 'optimizer=auto' found, ignoring 'lr0=0.001' and 'momentum=0.937' and determining best 'optimizer', 'lr0' and 'momentum' automatically... \n",
            "\u001b[34m\u001b[1moptimizer:\u001b[0m AdamW(lr=0.000909, momentum=0.9) with parameter groups 57 weight(decay=0.0), 64 weight(decay=0.0005), 63 bias(decay=0.0)\n",
            "Image sizes 640 train, 640 val\n",
            "Using 2 dataloader workers\n",
            "Logging results to \u001b[1mruns/detect/train\u001b[0m\n",
            "Starting training for 10 epochs...\n",
            "Closing dataloader mosaic\n",
            "\u001b[34m\u001b[1malbumentations: \u001b[0mBlur(p=0.01, blur_limit=(3, 7)), MedianBlur(p=0.01, blur_limit=(3, 7)), ToGray(p=0.01, method='weighted_average', num_output_channels=3), CLAHE(p=0.01, clip_limit=(1.0, 4.0), tile_grid_size=(8, 8))\n",
            "\n",
            "      Epoch    GPU_mem   box_loss   cls_loss   dfl_loss  Instances       Size\n"
          ]
        },
        {
          "name": "stderr",
          "output_type": "stream",
          "text": [
            "       1/10      4.57G      2.839      4.686      2.456        272        640: 100%|██████████| 14/14 [00:10<00:00,  1.31it/s]\n",
            "                 Class     Images  Instances      Box(P          R      mAP50  mAP50-95): 100%|██████████| 2/2 [00:03<00:00,  1.57s/it]"
          ]
        },
        {
          "name": "stdout",
          "output_type": "stream",
          "text": [
            "                   all        127        909   0.000827     0.0655    0.00333    0.00108\n"
          ]
        },
        {
          "name": "stderr",
          "output_type": "stream",
          "text": [
            "\n"
          ]
        },
        {
          "name": "stdout",
          "output_type": "stream",
          "text": [
            "\n",
            "      Epoch    GPU_mem   box_loss   cls_loss   dfl_loss  Instances       Size\n"
          ]
        },
        {
          "name": "stderr",
          "output_type": "stream",
          "text": [
            "       2/10      5.52G      2.431      3.972       2.08        229        640: 100%|██████████| 14/14 [00:07<00:00,  1.98it/s]\n",
            "                 Class     Images  Instances      Box(P          R      mAP50  mAP50-95): 100%|██████████| 2/2 [00:01<00:00,  1.29it/s]"
          ]
        },
        {
          "name": "stdout",
          "output_type": "stream",
          "text": [
            "                   all        127        909    0.00126     0.0997    0.00326    0.00125\n"
          ]
        },
        {
          "name": "stderr",
          "output_type": "stream",
          "text": [
            "\n"
          ]
        },
        {
          "name": "stdout",
          "output_type": "stream",
          "text": [
            "\n",
            "      Epoch    GPU_mem   box_loss   cls_loss   dfl_loss  Instances       Size\n"
          ]
        },
        {
          "name": "stderr",
          "output_type": "stream",
          "text": [
            "       3/10      5.54G      2.161      3.221      1.791        274        640: 100%|██████████| 14/14 [00:06<00:00,  2.03it/s]\n",
            "                 Class     Images  Instances      Box(P          R      mAP50  mAP50-95): 100%|██████████| 2/2 [00:02<00:00,  1.16s/it]"
          ]
        },
        {
          "name": "stdout",
          "output_type": "stream",
          "text": [
            "                   all        127        909    0.00217      0.106     0.0225     0.0119\n"
          ]
        },
        {
          "name": "stderr",
          "output_type": "stream",
          "text": [
            "\n"
          ]
        },
        {
          "name": "stdout",
          "output_type": "stream",
          "text": [
            "\n",
            "      Epoch    GPU_mem   box_loss   cls_loss   dfl_loss  Instances       Size\n"
          ]
        },
        {
          "name": "stderr",
          "output_type": "stream",
          "text": [
            "       4/10      5.55G      1.989       2.81      1.604        190        640: 100%|██████████| 14/14 [00:05<00:00,  2.44it/s]\n",
            "                 Class     Images  Instances      Box(P          R      mAP50  mAP50-95): 100%|██████████| 2/2 [00:02<00:00,  1.03s/it]"
          ]
        },
        {
          "name": "stdout",
          "output_type": "stream",
          "text": [
            "                   all        127        909      0.573     0.0523      0.105     0.0634\n"
          ]
        },
        {
          "name": "stderr",
          "output_type": "stream",
          "text": [
            "\n"
          ]
        },
        {
          "name": "stdout",
          "output_type": "stream",
          "text": [
            "\n",
            "      Epoch    GPU_mem   box_loss   cls_loss   dfl_loss  Instances       Size\n"
          ]
        },
        {
          "name": "stderr",
          "output_type": "stream",
          "text": [
            "       5/10      5.57G      1.886      2.627      1.558        242        640: 100%|██████████| 14/14 [00:06<00:00,  2.07it/s]\n",
            "                 Class     Images  Instances      Box(P          R      mAP50  mAP50-95): 100%|██████████| 2/2 [00:01<00:00,  1.08it/s]"
          ]
        },
        {
          "name": "stdout",
          "output_type": "stream",
          "text": [
            "                   all        127        909      0.435      0.132      0.167     0.0937\n"
          ]
        },
        {
          "name": "stderr",
          "output_type": "stream",
          "text": [
            "\n"
          ]
        },
        {
          "name": "stdout",
          "output_type": "stream",
          "text": [
            "\n",
            "      Epoch    GPU_mem   box_loss   cls_loss   dfl_loss  Instances       Size\n"
          ]
        },
        {
          "name": "stderr",
          "output_type": "stream",
          "text": [
            "       6/10      5.59G      1.808      2.432      1.498        337        640: 100%|██████████| 14/14 [00:06<00:00,  2.01it/s]\n",
            "                 Class     Images  Instances      Box(P          R      mAP50  mAP50-95): 100%|██████████| 2/2 [00:01<00:00,  1.03it/s]"
          ]
        },
        {
          "name": "stdout",
          "output_type": "stream",
          "text": [
            "                   all        127        909      0.327      0.247      0.224      0.127\n"
          ]
        },
        {
          "name": "stderr",
          "output_type": "stream",
          "text": [
            "\n"
          ]
        },
        {
          "name": "stdout",
          "output_type": "stream",
          "text": [
            "\n",
            "      Epoch    GPU_mem   box_loss   cls_loss   dfl_loss  Instances       Size\n"
          ]
        },
        {
          "name": "stderr",
          "output_type": "stream",
          "text": [
            "       7/10       5.6G      1.778      2.293      1.453        259        640: 100%|██████████| 14/14 [00:06<00:00,  2.23it/s]\n",
            "                 Class     Images  Instances      Box(P          R      mAP50  mAP50-95): 100%|██████████| 2/2 [00:02<00:00,  1.31s/it]"
          ]
        },
        {
          "name": "stdout",
          "output_type": "stream",
          "text": [
            "                   all        127        909      0.401      0.325      0.281      0.161\n"
          ]
        },
        {
          "name": "stderr",
          "output_type": "stream",
          "text": [
            "\n"
          ]
        },
        {
          "name": "stdout",
          "output_type": "stream",
          "text": [
            "\n",
            "      Epoch    GPU_mem   box_loss   cls_loss   dfl_loss  Instances       Size\n"
          ]
        },
        {
          "name": "stderr",
          "output_type": "stream",
          "text": [
            "       8/10      5.62G      1.729      2.239      1.418        226        640: 100%|██████████| 14/14 [00:05<00:00,  2.34it/s]\n",
            "                 Class     Images  Instances      Box(P          R      mAP50  mAP50-95): 100%|██████████| 2/2 [00:01<00:00,  1.05it/s]"
          ]
        },
        {
          "name": "stdout",
          "output_type": "stream",
          "text": [
            "                   all        127        909      0.373      0.351      0.352      0.195\n"
          ]
        },
        {
          "name": "stderr",
          "output_type": "stream",
          "text": [
            "\n"
          ]
        },
        {
          "name": "stdout",
          "output_type": "stream",
          "text": [
            "\n",
            "      Epoch    GPU_mem   box_loss   cls_loss   dfl_loss  Instances       Size\n"
          ]
        },
        {
          "name": "stderr",
          "output_type": "stream",
          "text": [
            "       9/10      5.64G      1.686      2.124      1.395        251        640: 100%|██████████| 14/14 [00:06<00:00,  2.03it/s]\n",
            "                 Class     Images  Instances      Box(P          R      mAP50  mAP50-95): 100%|██████████| 2/2 [00:02<00:00,  1.02s/it]"
          ]
        },
        {
          "name": "stdout",
          "output_type": "stream",
          "text": [
            "                   all        127        909      0.564       0.33      0.357      0.199\n"
          ]
        },
        {
          "name": "stderr",
          "output_type": "stream",
          "text": [
            "\n"
          ]
        },
        {
          "name": "stdout",
          "output_type": "stream",
          "text": [
            "\n",
            "      Epoch    GPU_mem   box_loss   cls_loss   dfl_loss  Instances       Size\n"
          ]
        },
        {
          "name": "stderr",
          "output_type": "stream",
          "text": [
            "      10/10      5.65G      1.706      2.084      1.395        246        640: 100%|██████████| 14/14 [00:06<00:00,  2.21it/s]\n",
            "                 Class     Images  Instances      Box(P          R      mAP50  mAP50-95): 100%|██████████| 2/2 [00:02<00:00,  1.46s/it]"
          ]
        },
        {
          "name": "stdout",
          "output_type": "stream",
          "text": [
            "                   all        127        909      0.424      0.381       0.37      0.203\n"
          ]
        },
        {
          "name": "stderr",
          "output_type": "stream",
          "text": [
            "\n"
          ]
        },
        {
          "name": "stdout",
          "output_type": "stream",
          "text": [
            "\n",
            "10 epochs completed in 0.027 hours.\n",
            "Optimizer stripped from runs/detect/train/weights/last.pt, 6.2MB\n",
            "Optimizer stripped from runs/detect/train/weights/best.pt, 6.2MB\n",
            "\n",
            "Validating runs/detect/train/weights/best.pt...\n",
            "Ultralytics 8.3.146 🚀 Python-3.11.12 torch-2.6.0+cu124 CUDA:0 (Tesla T4, 15095MiB)\n",
            "Model summary (fused): 72 layers, 3,007,013 parameters, 0 gradients, 8.1 GFLOPs\n"
          ]
        },
        {
          "name": "stderr",
          "output_type": "stream",
          "text": [
            "                 Class     Images  Instances      Box(P          R      mAP50  mAP50-95): 100%|██████████| 2/2 [00:03<00:00,  1.64s/it]\n"
          ]
        },
        {
          "name": "stdout",
          "output_type": "stream",
          "text": [
            "                   all        127        909      0.609      0.347      0.372      0.196\n",
            "                  fish         63        459      0.597      0.486      0.506      0.249\n",
            "             jellyfish          9        155      0.639      0.826      0.828      0.464\n",
            "               penguin         17        104        0.6      0.274      0.446      0.191\n",
            "                puffin         15         74      0.734     0.0751      0.155     0.0766\n",
            "                 shark         28         57      0.312      0.316      0.206      0.132\n",
            "              starfish         17         27          1          0      0.173     0.0831\n",
            "              stingray         23         33      0.383      0.455      0.292      0.179\n",
            "Speed: 0.2ms preprocess, 9.6ms inference, 0.0ms loss, 8.5ms postprocess per image\n",
            "Results saved to \u001b[1mruns/detect/train\u001b[0m\n"
          ]
        },
        {
          "data": {
            "text/plain": [
              "ultralytics.utils.metrics.DetMetrics object with attributes:\n",
              "\n",
              "ap_class_index: array([0, 1, 2, 3, 4, 5, 6])\n",
              "box: ultralytics.utils.metrics.Metric object\n",
              "confusion_matrix: <ultralytics.utils.metrics.ConfusionMatrix object at 0x7fe265864550>\n",
              "curves: ['Precision-Recall(B)', 'F1-Confidence(B)', 'Precision-Confidence(B)', 'Recall-Confidence(B)']\n",
              "curves_results: [[array([          0,    0.001001,    0.002002,    0.003003,    0.004004,    0.005005,    0.006006,    0.007007,    0.008008,    0.009009,     0.01001,    0.011011,    0.012012,    0.013013,    0.014014,    0.015015,    0.016016,    0.017017,    0.018018,    0.019019,     0.02002,    0.021021,    0.022022,    0.023023,\n",
              "          0.024024,    0.025025,    0.026026,    0.027027,    0.028028,    0.029029,     0.03003,    0.031031,    0.032032,    0.033033,    0.034034,    0.035035,    0.036036,    0.037037,    0.038038,    0.039039,     0.04004,    0.041041,    0.042042,    0.043043,    0.044044,    0.045045,    0.046046,    0.047047,\n",
              "          0.048048,    0.049049,     0.05005,    0.051051,    0.052052,    0.053053,    0.054054,    0.055055,    0.056056,    0.057057,    0.058058,    0.059059,     0.06006,    0.061061,    0.062062,    0.063063,    0.064064,    0.065065,    0.066066,    0.067067,    0.068068,    0.069069,     0.07007,    0.071071,\n",
              "          0.072072,    0.073073,    0.074074,    0.075075,    0.076076,    0.077077,    0.078078,    0.079079,     0.08008,    0.081081,    0.082082,    0.083083,    0.084084,    0.085085,    0.086086,    0.087087,    0.088088,    0.089089,     0.09009,    0.091091,    0.092092,    0.093093,    0.094094,    0.095095,\n",
              "          0.096096,    0.097097,    0.098098,    0.099099,      0.1001,      0.1011,      0.1021,      0.1031,      0.1041,     0.10511,     0.10611,     0.10711,     0.10811,     0.10911,     0.11011,     0.11111,     0.11211,     0.11311,     0.11411,     0.11512,     0.11612,     0.11712,     0.11812,     0.11912,\n",
              "           0.12012,     0.12112,     0.12212,     0.12312,     0.12412,     0.12513,     0.12613,     0.12713,     0.12813,     0.12913,     0.13013,     0.13113,     0.13213,     0.13313,     0.13413,     0.13514,     0.13614,     0.13714,     0.13814,     0.13914,     0.14014,     0.14114,     0.14214,     0.14314,\n",
              "           0.14414,     0.14515,     0.14615,     0.14715,     0.14815,     0.14915,     0.15015,     0.15115,     0.15215,     0.15315,     0.15415,     0.15516,     0.15616,     0.15716,     0.15816,     0.15916,     0.16016,     0.16116,     0.16216,     0.16316,     0.16416,     0.16517,     0.16617,     0.16717,\n",
              "           0.16817,     0.16917,     0.17017,     0.17117,     0.17217,     0.17317,     0.17417,     0.17518,     0.17618,     0.17718,     0.17818,     0.17918,     0.18018,     0.18118,     0.18218,     0.18318,     0.18418,     0.18519,     0.18619,     0.18719,     0.18819,     0.18919,     0.19019,     0.19119,\n",
              "           0.19219,     0.19319,     0.19419,      0.1952,      0.1962,      0.1972,      0.1982,      0.1992,      0.2002,      0.2012,      0.2022,      0.2032,      0.2042,     0.20521,     0.20621,     0.20721,     0.20821,     0.20921,     0.21021,     0.21121,     0.21221,     0.21321,     0.21421,     0.21522,\n",
              "           0.21622,     0.21722,     0.21822,     0.21922,     0.22022,     0.22122,     0.22222,     0.22322,     0.22422,     0.22523,     0.22623,     0.22723,     0.22823,     0.22923,     0.23023,     0.23123,     0.23223,     0.23323,     0.23423,     0.23524,     0.23624,     0.23724,     0.23824,     0.23924,\n",
              "           0.24024,     0.24124,     0.24224,     0.24324,     0.24424,     0.24525,     0.24625,     0.24725,     0.24825,     0.24925,     0.25025,     0.25125,     0.25225,     0.25325,     0.25425,     0.25526,     0.25626,     0.25726,     0.25826,     0.25926,     0.26026,     0.26126,     0.26226,     0.26326,\n",
              "           0.26426,     0.26527,     0.26627,     0.26727,     0.26827,     0.26927,     0.27027,     0.27127,     0.27227,     0.27327,     0.27427,     0.27528,     0.27628,     0.27728,     0.27828,     0.27928,     0.28028,     0.28128,     0.28228,     0.28328,     0.28428,     0.28529,     0.28629,     0.28729,\n",
              "           0.28829,     0.28929,     0.29029,     0.29129,     0.29229,     0.29329,     0.29429,      0.2953,      0.2963,      0.2973,      0.2983,      0.2993,      0.3003,      0.3013,      0.3023,      0.3033,      0.3043,     0.30531,     0.30631,     0.30731,     0.30831,     0.30931,     0.31031,     0.31131,\n",
              "           0.31231,     0.31331,     0.31431,     0.31532,     0.31632,     0.31732,     0.31832,     0.31932,     0.32032,     0.32132,     0.32232,     0.32332,     0.32432,     0.32533,     0.32633,     0.32733,     0.32833,     0.32933,     0.33033,     0.33133,     0.33233,     0.33333,     0.33433,     0.33534,\n",
              "           0.33634,     0.33734,     0.33834,     0.33934,     0.34034,     0.34134,     0.34234,     0.34334,     0.34434,     0.34535,     0.34635,     0.34735,     0.34835,     0.34935,     0.35035,     0.35135,     0.35235,     0.35335,     0.35435,     0.35536,     0.35636,     0.35736,     0.35836,     0.35936,\n",
              "           0.36036,     0.36136,     0.36236,     0.36336,     0.36436,     0.36537,     0.36637,     0.36737,     0.36837,     0.36937,     0.37037,     0.37137,     0.37237,     0.37337,     0.37437,     0.37538,     0.37638,     0.37738,     0.37838,     0.37938,     0.38038,     0.38138,     0.38238,     0.38338,\n",
              "           0.38438,     0.38539,     0.38639,     0.38739,     0.38839,     0.38939,     0.39039,     0.39139,     0.39239,     0.39339,     0.39439,      0.3954,      0.3964,      0.3974,      0.3984,      0.3994,      0.4004,      0.4014,      0.4024,      0.4034,      0.4044,     0.40541,     0.40641,     0.40741,\n",
              "           0.40841,     0.40941,     0.41041,     0.41141,     0.41241,     0.41341,     0.41441,     0.41542,     0.41642,     0.41742,     0.41842,     0.41942,     0.42042,     0.42142,     0.42242,     0.42342,     0.42442,     0.42543,     0.42643,     0.42743,     0.42843,     0.42943,     0.43043,     0.43143,\n",
              "           0.43243,     0.43343,     0.43443,     0.43544,     0.43644,     0.43744,     0.43844,     0.43944,     0.44044,     0.44144,     0.44244,     0.44344,     0.44444,     0.44545,     0.44645,     0.44745,     0.44845,     0.44945,     0.45045,     0.45145,     0.45245,     0.45345,     0.45445,     0.45546,\n",
              "           0.45646,     0.45746,     0.45846,     0.45946,     0.46046,     0.46146,     0.46246,     0.46346,     0.46446,     0.46547,     0.46647,     0.46747,     0.46847,     0.46947,     0.47047,     0.47147,     0.47247,     0.47347,     0.47447,     0.47548,     0.47648,     0.47748,     0.47848,     0.47948,\n",
              "           0.48048,     0.48148,     0.48248,     0.48348,     0.48448,     0.48549,     0.48649,     0.48749,     0.48849,     0.48949,     0.49049,     0.49149,     0.49249,     0.49349,     0.49449,      0.4955,      0.4965,      0.4975,      0.4985,      0.4995,      0.5005,      0.5015,      0.5025,      0.5035,\n",
              "            0.5045,     0.50551,     0.50651,     0.50751,     0.50851,     0.50951,     0.51051,     0.51151,     0.51251,     0.51351,     0.51451,     0.51552,     0.51652,     0.51752,     0.51852,     0.51952,     0.52052,     0.52152,     0.52252,     0.52352,     0.52452,     0.52553,     0.52653,     0.52753,\n",
              "           0.52853,     0.52953,     0.53053,     0.53153,     0.53253,     0.53353,     0.53453,     0.53554,     0.53654,     0.53754,     0.53854,     0.53954,     0.54054,     0.54154,     0.54254,     0.54354,     0.54454,     0.54555,     0.54655,     0.54755,     0.54855,     0.54955,     0.55055,     0.55155,\n",
              "           0.55255,     0.55355,     0.55455,     0.55556,     0.55656,     0.55756,     0.55856,     0.55956,     0.56056,     0.56156,     0.56256,     0.56356,     0.56456,     0.56557,     0.56657,     0.56757,     0.56857,     0.56957,     0.57057,     0.57157,     0.57257,     0.57357,     0.57457,     0.57558,\n",
              "           0.57658,     0.57758,     0.57858,     0.57958,     0.58058,     0.58158,     0.58258,     0.58358,     0.58458,     0.58559,     0.58659,     0.58759,     0.58859,     0.58959,     0.59059,     0.59159,     0.59259,     0.59359,     0.59459,      0.5956,      0.5966,      0.5976,      0.5986,      0.5996,\n",
              "            0.6006,      0.6016,      0.6026,      0.6036,      0.6046,     0.60561,     0.60661,     0.60761,     0.60861,     0.60961,     0.61061,     0.61161,     0.61261,     0.61361,     0.61461,     0.61562,     0.61662,     0.61762,     0.61862,     0.61962,     0.62062,     0.62162,     0.62262,     0.62362,\n",
              "           0.62462,     0.62563,     0.62663,     0.62763,     0.62863,     0.62963,     0.63063,     0.63163,     0.63263,     0.63363,     0.63463,     0.63564,     0.63664,     0.63764,     0.63864,     0.63964,     0.64064,     0.64164,     0.64264,     0.64364,     0.64464,     0.64565,     0.64665,     0.64765,\n",
              "           0.64865,     0.64965,     0.65065,     0.65165,     0.65265,     0.65365,     0.65465,     0.65566,     0.65666,     0.65766,     0.65866,     0.65966,     0.66066,     0.66166,     0.66266,     0.66366,     0.66466,     0.66567,     0.66667,     0.66767,     0.66867,     0.66967,     0.67067,     0.67167,\n",
              "           0.67267,     0.67367,     0.67467,     0.67568,     0.67668,     0.67768,     0.67868,     0.67968,     0.68068,     0.68168,     0.68268,     0.68368,     0.68468,     0.68569,     0.68669,     0.68769,     0.68869,     0.68969,     0.69069,     0.69169,     0.69269,     0.69369,     0.69469,      0.6957,\n",
              "            0.6967,      0.6977,      0.6987,      0.6997,      0.7007,      0.7017,      0.7027,      0.7037,      0.7047,     0.70571,     0.70671,     0.70771,     0.70871,     0.70971,     0.71071,     0.71171,     0.71271,     0.71371,     0.71471,     0.71572,     0.71672,     0.71772,     0.71872,     0.71972,\n",
              "           0.72072,     0.72172,     0.72272,     0.72372,     0.72472,     0.72573,     0.72673,     0.72773,     0.72873,     0.72973,     0.73073,     0.73173,     0.73273,     0.73373,     0.73473,     0.73574,     0.73674,     0.73774,     0.73874,     0.73974,     0.74074,     0.74174,     0.74274,     0.74374,\n",
              "           0.74474,     0.74575,     0.74675,     0.74775,     0.74875,     0.74975,     0.75075,     0.75175,     0.75275,     0.75375,     0.75475,     0.75576,     0.75676,     0.75776,     0.75876,     0.75976,     0.76076,     0.76176,     0.76276,     0.76376,     0.76476,     0.76577,     0.76677,     0.76777,\n",
              "           0.76877,     0.76977,     0.77077,     0.77177,     0.77277,     0.77377,     0.77477,     0.77578,     0.77678,     0.77778,     0.77878,     0.77978,     0.78078,     0.78178,     0.78278,     0.78378,     0.78478,     0.78579,     0.78679,     0.78779,     0.78879,     0.78979,     0.79079,     0.79179,\n",
              "           0.79279,     0.79379,     0.79479,      0.7958,      0.7968,      0.7978,      0.7988,      0.7998,      0.8008,      0.8018,      0.8028,      0.8038,      0.8048,     0.80581,     0.80681,     0.80781,     0.80881,     0.80981,     0.81081,     0.81181,     0.81281,     0.81381,     0.81481,     0.81582,\n",
              "           0.81682,     0.81782,     0.81882,     0.81982,     0.82082,     0.82182,     0.82282,     0.82382,     0.82482,     0.82583,     0.82683,     0.82783,     0.82883,     0.82983,     0.83083,     0.83183,     0.83283,     0.83383,     0.83483,     0.83584,     0.83684,     0.83784,     0.83884,     0.83984,\n",
              "           0.84084,     0.84184,     0.84284,     0.84384,     0.84484,     0.84585,     0.84685,     0.84785,     0.84885,     0.84985,     0.85085,     0.85185,     0.85285,     0.85385,     0.85485,     0.85586,     0.85686,     0.85786,     0.85886,     0.85986,     0.86086,     0.86186,     0.86286,     0.86386,\n",
              "           0.86486,     0.86587,     0.86687,     0.86787,     0.86887,     0.86987,     0.87087,     0.87187,     0.87287,     0.87387,     0.87487,     0.87588,     0.87688,     0.87788,     0.87888,     0.87988,     0.88088,     0.88188,     0.88288,     0.88388,     0.88488,     0.88589,     0.88689,     0.88789,\n",
              "           0.88889,     0.88989,     0.89089,     0.89189,     0.89289,     0.89389,     0.89489,      0.8959,      0.8969,      0.8979,      0.8989,      0.8999,      0.9009,      0.9019,      0.9029,      0.9039,      0.9049,     0.90591,     0.90691,     0.90791,     0.90891,     0.90991,     0.91091,     0.91191,\n",
              "           0.91291,     0.91391,     0.91491,     0.91592,     0.91692,     0.91792,     0.91892,     0.91992,     0.92092,     0.92192,     0.92292,     0.92392,     0.92492,     0.92593,     0.92693,     0.92793,     0.92893,     0.92993,     0.93093,     0.93193,     0.93293,     0.93393,     0.93493,     0.93594,\n",
              "           0.93694,     0.93794,     0.93894,     0.93994,     0.94094,     0.94194,     0.94294,     0.94394,     0.94494,     0.94595,     0.94695,     0.94795,     0.94895,     0.94995,     0.95095,     0.95195,     0.95295,     0.95395,     0.95495,     0.95596,     0.95696,     0.95796,     0.95896,     0.95996,\n",
              "           0.96096,     0.96196,     0.96296,     0.96396,     0.96496,     0.96597,     0.96697,     0.96797,     0.96897,     0.96997,     0.97097,     0.97197,     0.97297,     0.97397,     0.97497,     0.97598,     0.97698,     0.97798,     0.97898,     0.97998,     0.98098,     0.98198,     0.98298,     0.98398,\n",
              "           0.98498,     0.98599,     0.98699,     0.98799,     0.98899,     0.98999,     0.99099,     0.99199,     0.99299,     0.99399,     0.99499,       0.996,       0.997,       0.998,       0.999,           1]), array([[          1,           1,           1, ...,  0.00059805,  0.00029903,           0],\n",
              "       [          1,           1,           1, ...,    0.007244,    0.003622,           0],\n",
              "       [          1,           1,           1, ...,  0.00037551,  0.00018775,           0],\n",
              "       ...,\n",
              "       [          1,           1,           1, ...,  9.9438e-05,  4.9719e-05,           0],\n",
              "       [        0.5,         0.5,         0.5, ...,  0.00012505,  6.2523e-05,           0],\n",
              "       [          1,           1,           1, ...,  8.3693e-05,  4.1847e-05,           0]]), 'Recall', 'Precision'], [array([          0,    0.001001,    0.002002,    0.003003,    0.004004,    0.005005,    0.006006,    0.007007,    0.008008,    0.009009,     0.01001,    0.011011,    0.012012,    0.013013,    0.014014,    0.015015,    0.016016,    0.017017,    0.018018,    0.019019,     0.02002,    0.021021,    0.022022,    0.023023,\n",
              "          0.024024,    0.025025,    0.026026,    0.027027,    0.028028,    0.029029,     0.03003,    0.031031,    0.032032,    0.033033,    0.034034,    0.035035,    0.036036,    0.037037,    0.038038,    0.039039,     0.04004,    0.041041,    0.042042,    0.043043,    0.044044,    0.045045,    0.046046,    0.047047,\n",
              "          0.048048,    0.049049,     0.05005,    0.051051,    0.052052,    0.053053,    0.054054,    0.055055,    0.056056,    0.057057,    0.058058,    0.059059,     0.06006,    0.061061,    0.062062,    0.063063,    0.064064,    0.065065,    0.066066,    0.067067,    0.068068,    0.069069,     0.07007,    0.071071,\n",
              "          0.072072,    0.073073,    0.074074,    0.075075,    0.076076,    0.077077,    0.078078,    0.079079,     0.08008,    0.081081,    0.082082,    0.083083,    0.084084,    0.085085,    0.086086,    0.087087,    0.088088,    0.089089,     0.09009,    0.091091,    0.092092,    0.093093,    0.094094,    0.095095,\n",
              "          0.096096,    0.097097,    0.098098,    0.099099,      0.1001,      0.1011,      0.1021,      0.1031,      0.1041,     0.10511,     0.10611,     0.10711,     0.10811,     0.10911,     0.11011,     0.11111,     0.11211,     0.11311,     0.11411,     0.11512,     0.11612,     0.11712,     0.11812,     0.11912,\n",
              "           0.12012,     0.12112,     0.12212,     0.12312,     0.12412,     0.12513,     0.12613,     0.12713,     0.12813,     0.12913,     0.13013,     0.13113,     0.13213,     0.13313,     0.13413,     0.13514,     0.13614,     0.13714,     0.13814,     0.13914,     0.14014,     0.14114,     0.14214,     0.14314,\n",
              "           0.14414,     0.14515,     0.14615,     0.14715,     0.14815,     0.14915,     0.15015,     0.15115,     0.15215,     0.15315,     0.15415,     0.15516,     0.15616,     0.15716,     0.15816,     0.15916,     0.16016,     0.16116,     0.16216,     0.16316,     0.16416,     0.16517,     0.16617,     0.16717,\n",
              "           0.16817,     0.16917,     0.17017,     0.17117,     0.17217,     0.17317,     0.17417,     0.17518,     0.17618,     0.17718,     0.17818,     0.17918,     0.18018,     0.18118,     0.18218,     0.18318,     0.18418,     0.18519,     0.18619,     0.18719,     0.18819,     0.18919,     0.19019,     0.19119,\n",
              "           0.19219,     0.19319,     0.19419,      0.1952,      0.1962,      0.1972,      0.1982,      0.1992,      0.2002,      0.2012,      0.2022,      0.2032,      0.2042,     0.20521,     0.20621,     0.20721,     0.20821,     0.20921,     0.21021,     0.21121,     0.21221,     0.21321,     0.21421,     0.21522,\n",
              "           0.21622,     0.21722,     0.21822,     0.21922,     0.22022,     0.22122,     0.22222,     0.22322,     0.22422,     0.22523,     0.22623,     0.22723,     0.22823,     0.22923,     0.23023,     0.23123,     0.23223,     0.23323,     0.23423,     0.23524,     0.23624,     0.23724,     0.23824,     0.23924,\n",
              "           0.24024,     0.24124,     0.24224,     0.24324,     0.24424,     0.24525,     0.24625,     0.24725,     0.24825,     0.24925,     0.25025,     0.25125,     0.25225,     0.25325,     0.25425,     0.25526,     0.25626,     0.25726,     0.25826,     0.25926,     0.26026,     0.26126,     0.26226,     0.26326,\n",
              "           0.26426,     0.26527,     0.26627,     0.26727,     0.26827,     0.26927,     0.27027,     0.27127,     0.27227,     0.27327,     0.27427,     0.27528,     0.27628,     0.27728,     0.27828,     0.27928,     0.28028,     0.28128,     0.28228,     0.28328,     0.28428,     0.28529,     0.28629,     0.28729,\n",
              "           0.28829,     0.28929,     0.29029,     0.29129,     0.29229,     0.29329,     0.29429,      0.2953,      0.2963,      0.2973,      0.2983,      0.2993,      0.3003,      0.3013,      0.3023,      0.3033,      0.3043,     0.30531,     0.30631,     0.30731,     0.30831,     0.30931,     0.31031,     0.31131,\n",
              "           0.31231,     0.31331,     0.31431,     0.31532,     0.31632,     0.31732,     0.31832,     0.31932,     0.32032,     0.32132,     0.32232,     0.32332,     0.32432,     0.32533,     0.32633,     0.32733,     0.32833,     0.32933,     0.33033,     0.33133,     0.33233,     0.33333,     0.33433,     0.33534,\n",
              "           0.33634,     0.33734,     0.33834,     0.33934,     0.34034,     0.34134,     0.34234,     0.34334,     0.34434,     0.34535,     0.34635,     0.34735,     0.34835,     0.34935,     0.35035,     0.35135,     0.35235,     0.35335,     0.35435,     0.35536,     0.35636,     0.35736,     0.35836,     0.35936,\n",
              "           0.36036,     0.36136,     0.36236,     0.36336,     0.36436,     0.36537,     0.36637,     0.36737,     0.36837,     0.36937,     0.37037,     0.37137,     0.37237,     0.37337,     0.37437,     0.37538,     0.37638,     0.37738,     0.37838,     0.37938,     0.38038,     0.38138,     0.38238,     0.38338,\n",
              "           0.38438,     0.38539,     0.38639,     0.38739,     0.38839,     0.38939,     0.39039,     0.39139,     0.39239,     0.39339,     0.39439,      0.3954,      0.3964,      0.3974,      0.3984,      0.3994,      0.4004,      0.4014,      0.4024,      0.4034,      0.4044,     0.40541,     0.40641,     0.40741,\n",
              "           0.40841,     0.40941,     0.41041,     0.41141,     0.41241,     0.41341,     0.41441,     0.41542,     0.41642,     0.41742,     0.41842,     0.41942,     0.42042,     0.42142,     0.42242,     0.42342,     0.42442,     0.42543,     0.42643,     0.42743,     0.42843,     0.42943,     0.43043,     0.43143,\n",
              "           0.43243,     0.43343,     0.43443,     0.43544,     0.43644,     0.43744,     0.43844,     0.43944,     0.44044,     0.44144,     0.44244,     0.44344,     0.44444,     0.44545,     0.44645,     0.44745,     0.44845,     0.44945,     0.45045,     0.45145,     0.45245,     0.45345,     0.45445,     0.45546,\n",
              "           0.45646,     0.45746,     0.45846,     0.45946,     0.46046,     0.46146,     0.46246,     0.46346,     0.46446,     0.46547,     0.46647,     0.46747,     0.46847,     0.46947,     0.47047,     0.47147,     0.47247,     0.47347,     0.47447,     0.47548,     0.47648,     0.47748,     0.47848,     0.47948,\n",
              "           0.48048,     0.48148,     0.48248,     0.48348,     0.48448,     0.48549,     0.48649,     0.48749,     0.48849,     0.48949,     0.49049,     0.49149,     0.49249,     0.49349,     0.49449,      0.4955,      0.4965,      0.4975,      0.4985,      0.4995,      0.5005,      0.5015,      0.5025,      0.5035,\n",
              "            0.5045,     0.50551,     0.50651,     0.50751,     0.50851,     0.50951,     0.51051,     0.51151,     0.51251,     0.51351,     0.51451,     0.51552,     0.51652,     0.51752,     0.51852,     0.51952,     0.52052,     0.52152,     0.52252,     0.52352,     0.52452,     0.52553,     0.52653,     0.52753,\n",
              "           0.52853,     0.52953,     0.53053,     0.53153,     0.53253,     0.53353,     0.53453,     0.53554,     0.53654,     0.53754,     0.53854,     0.53954,     0.54054,     0.54154,     0.54254,     0.54354,     0.54454,     0.54555,     0.54655,     0.54755,     0.54855,     0.54955,     0.55055,     0.55155,\n",
              "           0.55255,     0.55355,     0.55455,     0.55556,     0.55656,     0.55756,     0.55856,     0.55956,     0.56056,     0.56156,     0.56256,     0.56356,     0.56456,     0.56557,     0.56657,     0.56757,     0.56857,     0.56957,     0.57057,     0.57157,     0.57257,     0.57357,     0.57457,     0.57558,\n",
              "           0.57658,     0.57758,     0.57858,     0.57958,     0.58058,     0.58158,     0.58258,     0.58358,     0.58458,     0.58559,     0.58659,     0.58759,     0.58859,     0.58959,     0.59059,     0.59159,     0.59259,     0.59359,     0.59459,      0.5956,      0.5966,      0.5976,      0.5986,      0.5996,\n",
              "            0.6006,      0.6016,      0.6026,      0.6036,      0.6046,     0.60561,     0.60661,     0.60761,     0.60861,     0.60961,     0.61061,     0.61161,     0.61261,     0.61361,     0.61461,     0.61562,     0.61662,     0.61762,     0.61862,     0.61962,     0.62062,     0.62162,     0.62262,     0.62362,\n",
              "           0.62462,     0.62563,     0.62663,     0.62763,     0.62863,     0.62963,     0.63063,     0.63163,     0.63263,     0.63363,     0.63463,     0.63564,     0.63664,     0.63764,     0.63864,     0.63964,     0.64064,     0.64164,     0.64264,     0.64364,     0.64464,     0.64565,     0.64665,     0.64765,\n",
              "           0.64865,     0.64965,     0.65065,     0.65165,     0.65265,     0.65365,     0.65465,     0.65566,     0.65666,     0.65766,     0.65866,     0.65966,     0.66066,     0.66166,     0.66266,     0.66366,     0.66466,     0.66567,     0.66667,     0.66767,     0.66867,     0.66967,     0.67067,     0.67167,\n",
              "           0.67267,     0.67367,     0.67467,     0.67568,     0.67668,     0.67768,     0.67868,     0.67968,     0.68068,     0.68168,     0.68268,     0.68368,     0.68468,     0.68569,     0.68669,     0.68769,     0.68869,     0.68969,     0.69069,     0.69169,     0.69269,     0.69369,     0.69469,      0.6957,\n",
              "            0.6967,      0.6977,      0.6987,      0.6997,      0.7007,      0.7017,      0.7027,      0.7037,      0.7047,     0.70571,     0.70671,     0.70771,     0.70871,     0.70971,     0.71071,     0.71171,     0.71271,     0.71371,     0.71471,     0.71572,     0.71672,     0.71772,     0.71872,     0.71972,\n",
              "           0.72072,     0.72172,     0.72272,     0.72372,     0.72472,     0.72573,     0.72673,     0.72773,     0.72873,     0.72973,     0.73073,     0.73173,     0.73273,     0.73373,     0.73473,     0.73574,     0.73674,     0.73774,     0.73874,     0.73974,     0.74074,     0.74174,     0.74274,     0.74374,\n",
              "           0.74474,     0.74575,     0.74675,     0.74775,     0.74875,     0.74975,     0.75075,     0.75175,     0.75275,     0.75375,     0.75475,     0.75576,     0.75676,     0.75776,     0.75876,     0.75976,     0.76076,     0.76176,     0.76276,     0.76376,     0.76476,     0.76577,     0.76677,     0.76777,\n",
              "           0.76877,     0.76977,     0.77077,     0.77177,     0.77277,     0.77377,     0.77477,     0.77578,     0.77678,     0.77778,     0.77878,     0.77978,     0.78078,     0.78178,     0.78278,     0.78378,     0.78478,     0.78579,     0.78679,     0.78779,     0.78879,     0.78979,     0.79079,     0.79179,\n",
              "           0.79279,     0.79379,     0.79479,      0.7958,      0.7968,      0.7978,      0.7988,      0.7998,      0.8008,      0.8018,      0.8028,      0.8038,      0.8048,     0.80581,     0.80681,     0.80781,     0.80881,     0.80981,     0.81081,     0.81181,     0.81281,     0.81381,     0.81481,     0.81582,\n",
              "           0.81682,     0.81782,     0.81882,     0.81982,     0.82082,     0.82182,     0.82282,     0.82382,     0.82482,     0.82583,     0.82683,     0.82783,     0.82883,     0.82983,     0.83083,     0.83183,     0.83283,     0.83383,     0.83483,     0.83584,     0.83684,     0.83784,     0.83884,     0.83984,\n",
              "           0.84084,     0.84184,     0.84284,     0.84384,     0.84484,     0.84585,     0.84685,     0.84785,     0.84885,     0.84985,     0.85085,     0.85185,     0.85285,     0.85385,     0.85485,     0.85586,     0.85686,     0.85786,     0.85886,     0.85986,     0.86086,     0.86186,     0.86286,     0.86386,\n",
              "           0.86486,     0.86587,     0.86687,     0.86787,     0.86887,     0.86987,     0.87087,     0.87187,     0.87287,     0.87387,     0.87487,     0.87588,     0.87688,     0.87788,     0.87888,     0.87988,     0.88088,     0.88188,     0.88288,     0.88388,     0.88488,     0.88589,     0.88689,     0.88789,\n",
              "           0.88889,     0.88989,     0.89089,     0.89189,     0.89289,     0.89389,     0.89489,      0.8959,      0.8969,      0.8979,      0.8989,      0.8999,      0.9009,      0.9019,      0.9029,      0.9039,      0.9049,     0.90591,     0.90691,     0.90791,     0.90891,     0.90991,     0.91091,     0.91191,\n",
              "           0.91291,     0.91391,     0.91491,     0.91592,     0.91692,     0.91792,     0.91892,     0.91992,     0.92092,     0.92192,     0.92292,     0.92392,     0.92492,     0.92593,     0.92693,     0.92793,     0.92893,     0.92993,     0.93093,     0.93193,     0.93293,     0.93393,     0.93493,     0.93594,\n",
              "           0.93694,     0.93794,     0.93894,     0.93994,     0.94094,     0.94194,     0.94294,     0.94394,     0.94494,     0.94595,     0.94695,     0.94795,     0.94895,     0.94995,     0.95095,     0.95195,     0.95295,     0.95395,     0.95495,     0.95596,     0.95696,     0.95796,     0.95896,     0.95996,\n",
              "           0.96096,     0.96196,     0.96296,     0.96396,     0.96496,     0.96597,     0.96697,     0.96797,     0.96897,     0.96997,     0.97097,     0.97197,     0.97297,     0.97397,     0.97497,     0.97598,     0.97698,     0.97798,     0.97898,     0.97998,     0.98098,     0.98198,     0.98298,     0.98398,\n",
              "           0.98498,     0.98599,     0.98699,     0.98799,     0.98899,     0.98999,     0.99099,     0.99199,     0.99299,     0.99399,     0.99499,       0.996,       0.997,       0.998,       0.999,           1]), array([[   0.050622,    0.050622,    0.051645, ...,           0,           0,           0],\n",
              "       [   0.089161,    0.089161,    0.099026, ...,           0,           0,           0],\n",
              "       [   0.035365,    0.035365,    0.038971, ...,           0,           0,           0],\n",
              "       ...,\n",
              "       [   0.018946,    0.018946,    0.020066, ...,           0,           0,           0],\n",
              "       [    0.02281,     0.02281,    0.028331, ...,           0,           0,           0],\n",
              "       [   0.017538,    0.017538,    0.020178, ...,           0,           0,           0]]), 'Confidence', 'F1'], [array([          0,    0.001001,    0.002002,    0.003003,    0.004004,    0.005005,    0.006006,    0.007007,    0.008008,    0.009009,     0.01001,    0.011011,    0.012012,    0.013013,    0.014014,    0.015015,    0.016016,    0.017017,    0.018018,    0.019019,     0.02002,    0.021021,    0.022022,    0.023023,\n",
              "          0.024024,    0.025025,    0.026026,    0.027027,    0.028028,    0.029029,     0.03003,    0.031031,    0.032032,    0.033033,    0.034034,    0.035035,    0.036036,    0.037037,    0.038038,    0.039039,     0.04004,    0.041041,    0.042042,    0.043043,    0.044044,    0.045045,    0.046046,    0.047047,\n",
              "          0.048048,    0.049049,     0.05005,    0.051051,    0.052052,    0.053053,    0.054054,    0.055055,    0.056056,    0.057057,    0.058058,    0.059059,     0.06006,    0.061061,    0.062062,    0.063063,    0.064064,    0.065065,    0.066066,    0.067067,    0.068068,    0.069069,     0.07007,    0.071071,\n",
              "          0.072072,    0.073073,    0.074074,    0.075075,    0.076076,    0.077077,    0.078078,    0.079079,     0.08008,    0.081081,    0.082082,    0.083083,    0.084084,    0.085085,    0.086086,    0.087087,    0.088088,    0.089089,     0.09009,    0.091091,    0.092092,    0.093093,    0.094094,    0.095095,\n",
              "          0.096096,    0.097097,    0.098098,    0.099099,      0.1001,      0.1011,      0.1021,      0.1031,      0.1041,     0.10511,     0.10611,     0.10711,     0.10811,     0.10911,     0.11011,     0.11111,     0.11211,     0.11311,     0.11411,     0.11512,     0.11612,     0.11712,     0.11812,     0.11912,\n",
              "           0.12012,     0.12112,     0.12212,     0.12312,     0.12412,     0.12513,     0.12613,     0.12713,     0.12813,     0.12913,     0.13013,     0.13113,     0.13213,     0.13313,     0.13413,     0.13514,     0.13614,     0.13714,     0.13814,     0.13914,     0.14014,     0.14114,     0.14214,     0.14314,\n",
              "           0.14414,     0.14515,     0.14615,     0.14715,     0.14815,     0.14915,     0.15015,     0.15115,     0.15215,     0.15315,     0.15415,     0.15516,     0.15616,     0.15716,     0.15816,     0.15916,     0.16016,     0.16116,     0.16216,     0.16316,     0.16416,     0.16517,     0.16617,     0.16717,\n",
              "           0.16817,     0.16917,     0.17017,     0.17117,     0.17217,     0.17317,     0.17417,     0.17518,     0.17618,     0.17718,     0.17818,     0.17918,     0.18018,     0.18118,     0.18218,     0.18318,     0.18418,     0.18519,     0.18619,     0.18719,     0.18819,     0.18919,     0.19019,     0.19119,\n",
              "           0.19219,     0.19319,     0.19419,      0.1952,      0.1962,      0.1972,      0.1982,      0.1992,      0.2002,      0.2012,      0.2022,      0.2032,      0.2042,     0.20521,     0.20621,     0.20721,     0.20821,     0.20921,     0.21021,     0.21121,     0.21221,     0.21321,     0.21421,     0.21522,\n",
              "           0.21622,     0.21722,     0.21822,     0.21922,     0.22022,     0.22122,     0.22222,     0.22322,     0.22422,     0.22523,     0.22623,     0.22723,     0.22823,     0.22923,     0.23023,     0.23123,     0.23223,     0.23323,     0.23423,     0.23524,     0.23624,     0.23724,     0.23824,     0.23924,\n",
              "           0.24024,     0.24124,     0.24224,     0.24324,     0.24424,     0.24525,     0.24625,     0.24725,     0.24825,     0.24925,     0.25025,     0.25125,     0.25225,     0.25325,     0.25425,     0.25526,     0.25626,     0.25726,     0.25826,     0.25926,     0.26026,     0.26126,     0.26226,     0.26326,\n",
              "           0.26426,     0.26527,     0.26627,     0.26727,     0.26827,     0.26927,     0.27027,     0.27127,     0.27227,     0.27327,     0.27427,     0.27528,     0.27628,     0.27728,     0.27828,     0.27928,     0.28028,     0.28128,     0.28228,     0.28328,     0.28428,     0.28529,     0.28629,     0.28729,\n",
              "           0.28829,     0.28929,     0.29029,     0.29129,     0.29229,     0.29329,     0.29429,      0.2953,      0.2963,      0.2973,      0.2983,      0.2993,      0.3003,      0.3013,      0.3023,      0.3033,      0.3043,     0.30531,     0.30631,     0.30731,     0.30831,     0.30931,     0.31031,     0.31131,\n",
              "           0.31231,     0.31331,     0.31431,     0.31532,     0.31632,     0.31732,     0.31832,     0.31932,     0.32032,     0.32132,     0.32232,     0.32332,     0.32432,     0.32533,     0.32633,     0.32733,     0.32833,     0.32933,     0.33033,     0.33133,     0.33233,     0.33333,     0.33433,     0.33534,\n",
              "           0.33634,     0.33734,     0.33834,     0.33934,     0.34034,     0.34134,     0.34234,     0.34334,     0.34434,     0.34535,     0.34635,     0.34735,     0.34835,     0.34935,     0.35035,     0.35135,     0.35235,     0.35335,     0.35435,     0.35536,     0.35636,     0.35736,     0.35836,     0.35936,\n",
              "           0.36036,     0.36136,     0.36236,     0.36336,     0.36436,     0.36537,     0.36637,     0.36737,     0.36837,     0.36937,     0.37037,     0.37137,     0.37237,     0.37337,     0.37437,     0.37538,     0.37638,     0.37738,     0.37838,     0.37938,     0.38038,     0.38138,     0.38238,     0.38338,\n",
              "           0.38438,     0.38539,     0.38639,     0.38739,     0.38839,     0.38939,     0.39039,     0.39139,     0.39239,     0.39339,     0.39439,      0.3954,      0.3964,      0.3974,      0.3984,      0.3994,      0.4004,      0.4014,      0.4024,      0.4034,      0.4044,     0.40541,     0.40641,     0.40741,\n",
              "           0.40841,     0.40941,     0.41041,     0.41141,     0.41241,     0.41341,     0.41441,     0.41542,     0.41642,     0.41742,     0.41842,     0.41942,     0.42042,     0.42142,     0.42242,     0.42342,     0.42442,     0.42543,     0.42643,     0.42743,     0.42843,     0.42943,     0.43043,     0.43143,\n",
              "           0.43243,     0.43343,     0.43443,     0.43544,     0.43644,     0.43744,     0.43844,     0.43944,     0.44044,     0.44144,     0.44244,     0.44344,     0.44444,     0.44545,     0.44645,     0.44745,     0.44845,     0.44945,     0.45045,     0.45145,     0.45245,     0.45345,     0.45445,     0.45546,\n",
              "           0.45646,     0.45746,     0.45846,     0.45946,     0.46046,     0.46146,     0.46246,     0.46346,     0.46446,     0.46547,     0.46647,     0.46747,     0.46847,     0.46947,     0.47047,     0.47147,     0.47247,     0.47347,     0.47447,     0.47548,     0.47648,     0.47748,     0.47848,     0.47948,\n",
              "           0.48048,     0.48148,     0.48248,     0.48348,     0.48448,     0.48549,     0.48649,     0.48749,     0.48849,     0.48949,     0.49049,     0.49149,     0.49249,     0.49349,     0.49449,      0.4955,      0.4965,      0.4975,      0.4985,      0.4995,      0.5005,      0.5015,      0.5025,      0.5035,\n",
              "            0.5045,     0.50551,     0.50651,     0.50751,     0.50851,     0.50951,     0.51051,     0.51151,     0.51251,     0.51351,     0.51451,     0.51552,     0.51652,     0.51752,     0.51852,     0.51952,     0.52052,     0.52152,     0.52252,     0.52352,     0.52452,     0.52553,     0.52653,     0.52753,\n",
              "           0.52853,     0.52953,     0.53053,     0.53153,     0.53253,     0.53353,     0.53453,     0.53554,     0.53654,     0.53754,     0.53854,     0.53954,     0.54054,     0.54154,     0.54254,     0.54354,     0.54454,     0.54555,     0.54655,     0.54755,     0.54855,     0.54955,     0.55055,     0.55155,\n",
              "           0.55255,     0.55355,     0.55455,     0.55556,     0.55656,     0.55756,     0.55856,     0.55956,     0.56056,     0.56156,     0.56256,     0.56356,     0.56456,     0.56557,     0.56657,     0.56757,     0.56857,     0.56957,     0.57057,     0.57157,     0.57257,     0.57357,     0.57457,     0.57558,\n",
              "           0.57658,     0.57758,     0.57858,     0.57958,     0.58058,     0.58158,     0.58258,     0.58358,     0.58458,     0.58559,     0.58659,     0.58759,     0.58859,     0.58959,     0.59059,     0.59159,     0.59259,     0.59359,     0.59459,      0.5956,      0.5966,      0.5976,      0.5986,      0.5996,\n",
              "            0.6006,      0.6016,      0.6026,      0.6036,      0.6046,     0.60561,     0.60661,     0.60761,     0.60861,     0.60961,     0.61061,     0.61161,     0.61261,     0.61361,     0.61461,     0.61562,     0.61662,     0.61762,     0.61862,     0.61962,     0.62062,     0.62162,     0.62262,     0.62362,\n",
              "           0.62462,     0.62563,     0.62663,     0.62763,     0.62863,     0.62963,     0.63063,     0.63163,     0.63263,     0.63363,     0.63463,     0.63564,     0.63664,     0.63764,     0.63864,     0.63964,     0.64064,     0.64164,     0.64264,     0.64364,     0.64464,     0.64565,     0.64665,     0.64765,\n",
              "           0.64865,     0.64965,     0.65065,     0.65165,     0.65265,     0.65365,     0.65465,     0.65566,     0.65666,     0.65766,     0.65866,     0.65966,     0.66066,     0.66166,     0.66266,     0.66366,     0.66466,     0.66567,     0.66667,     0.66767,     0.66867,     0.66967,     0.67067,     0.67167,\n",
              "           0.67267,     0.67367,     0.67467,     0.67568,     0.67668,     0.67768,     0.67868,     0.67968,     0.68068,     0.68168,     0.68268,     0.68368,     0.68468,     0.68569,     0.68669,     0.68769,     0.68869,     0.68969,     0.69069,     0.69169,     0.69269,     0.69369,     0.69469,      0.6957,\n",
              "            0.6967,      0.6977,      0.6987,      0.6997,      0.7007,      0.7017,      0.7027,      0.7037,      0.7047,     0.70571,     0.70671,     0.70771,     0.70871,     0.70971,     0.71071,     0.71171,     0.71271,     0.71371,     0.71471,     0.71572,     0.71672,     0.71772,     0.71872,     0.71972,\n",
              "           0.72072,     0.72172,     0.72272,     0.72372,     0.72472,     0.72573,     0.72673,     0.72773,     0.72873,     0.72973,     0.73073,     0.73173,     0.73273,     0.73373,     0.73473,     0.73574,     0.73674,     0.73774,     0.73874,     0.73974,     0.74074,     0.74174,     0.74274,     0.74374,\n",
              "           0.74474,     0.74575,     0.74675,     0.74775,     0.74875,     0.74975,     0.75075,     0.75175,     0.75275,     0.75375,     0.75475,     0.75576,     0.75676,     0.75776,     0.75876,     0.75976,     0.76076,     0.76176,     0.76276,     0.76376,     0.76476,     0.76577,     0.76677,     0.76777,\n",
              "           0.76877,     0.76977,     0.77077,     0.77177,     0.77277,     0.77377,     0.77477,     0.77578,     0.77678,     0.77778,     0.77878,     0.77978,     0.78078,     0.78178,     0.78278,     0.78378,     0.78478,     0.78579,     0.78679,     0.78779,     0.78879,     0.78979,     0.79079,     0.79179,\n",
              "           0.79279,     0.79379,     0.79479,      0.7958,      0.7968,      0.7978,      0.7988,      0.7998,      0.8008,      0.8018,      0.8028,      0.8038,      0.8048,     0.80581,     0.80681,     0.80781,     0.80881,     0.80981,     0.81081,     0.81181,     0.81281,     0.81381,     0.81481,     0.81582,\n",
              "           0.81682,     0.81782,     0.81882,     0.81982,     0.82082,     0.82182,     0.82282,     0.82382,     0.82482,     0.82583,     0.82683,     0.82783,     0.82883,     0.82983,     0.83083,     0.83183,     0.83283,     0.83383,     0.83483,     0.83584,     0.83684,     0.83784,     0.83884,     0.83984,\n",
              "           0.84084,     0.84184,     0.84284,     0.84384,     0.84484,     0.84585,     0.84685,     0.84785,     0.84885,     0.84985,     0.85085,     0.85185,     0.85285,     0.85385,     0.85485,     0.85586,     0.85686,     0.85786,     0.85886,     0.85986,     0.86086,     0.86186,     0.86286,     0.86386,\n",
              "           0.86486,     0.86587,     0.86687,     0.86787,     0.86887,     0.86987,     0.87087,     0.87187,     0.87287,     0.87387,     0.87487,     0.87588,     0.87688,     0.87788,     0.87888,     0.87988,     0.88088,     0.88188,     0.88288,     0.88388,     0.88488,     0.88589,     0.88689,     0.88789,\n",
              "           0.88889,     0.88989,     0.89089,     0.89189,     0.89289,     0.89389,     0.89489,      0.8959,      0.8969,      0.8979,      0.8989,      0.8999,      0.9009,      0.9019,      0.9029,      0.9039,      0.9049,     0.90591,     0.90691,     0.90791,     0.90891,     0.90991,     0.91091,     0.91191,\n",
              "           0.91291,     0.91391,     0.91491,     0.91592,     0.91692,     0.91792,     0.91892,     0.91992,     0.92092,     0.92192,     0.92292,     0.92392,     0.92492,     0.92593,     0.92693,     0.92793,     0.92893,     0.92993,     0.93093,     0.93193,     0.93293,     0.93393,     0.93493,     0.93594,\n",
              "           0.93694,     0.93794,     0.93894,     0.93994,     0.94094,     0.94194,     0.94294,     0.94394,     0.94494,     0.94595,     0.94695,     0.94795,     0.94895,     0.94995,     0.95095,     0.95195,     0.95295,     0.95395,     0.95495,     0.95596,     0.95696,     0.95796,     0.95896,     0.95996,\n",
              "           0.96096,     0.96196,     0.96296,     0.96396,     0.96496,     0.96597,     0.96697,     0.96797,     0.96897,     0.96997,     0.97097,     0.97197,     0.97297,     0.97397,     0.97497,     0.97598,     0.97698,     0.97798,     0.97898,     0.97998,     0.98098,     0.98198,     0.98298,     0.98398,\n",
              "           0.98498,     0.98599,     0.98699,     0.98799,     0.98899,     0.98999,     0.99099,     0.99199,     0.99299,     0.99399,     0.99499,       0.996,       0.997,       0.998,       0.999,           1]), array([[   0.026033,    0.026033,    0.026574, ...,           1,           1,           1],\n",
              "       [   0.046689,    0.046689,    0.052128, ...,           1,           1,           1],\n",
              "       [   0.018035,    0.018035,    0.019915, ...,           1,           1,           1],\n",
              "       ...,\n",
              "       [  0.0095853,   0.0095853,    0.010162, ...,           1,           1,           1],\n",
              "       [   0.011567,    0.011567,    0.014416, ...,           1,           1,           1],\n",
              "       [  0.0088677,   0.0088677,     0.01022, ...,           1,           1,           1]]), 'Confidence', 'Precision'], [array([          0,    0.001001,    0.002002,    0.003003,    0.004004,    0.005005,    0.006006,    0.007007,    0.008008,    0.009009,     0.01001,    0.011011,    0.012012,    0.013013,    0.014014,    0.015015,    0.016016,    0.017017,    0.018018,    0.019019,     0.02002,    0.021021,    0.022022,    0.023023,\n",
              "          0.024024,    0.025025,    0.026026,    0.027027,    0.028028,    0.029029,     0.03003,    0.031031,    0.032032,    0.033033,    0.034034,    0.035035,    0.036036,    0.037037,    0.038038,    0.039039,     0.04004,    0.041041,    0.042042,    0.043043,    0.044044,    0.045045,    0.046046,    0.047047,\n",
              "          0.048048,    0.049049,     0.05005,    0.051051,    0.052052,    0.053053,    0.054054,    0.055055,    0.056056,    0.057057,    0.058058,    0.059059,     0.06006,    0.061061,    0.062062,    0.063063,    0.064064,    0.065065,    0.066066,    0.067067,    0.068068,    0.069069,     0.07007,    0.071071,\n",
              "          0.072072,    0.073073,    0.074074,    0.075075,    0.076076,    0.077077,    0.078078,    0.079079,     0.08008,    0.081081,    0.082082,    0.083083,    0.084084,    0.085085,    0.086086,    0.087087,    0.088088,    0.089089,     0.09009,    0.091091,    0.092092,    0.093093,    0.094094,    0.095095,\n",
              "          0.096096,    0.097097,    0.098098,    0.099099,      0.1001,      0.1011,      0.1021,      0.1031,      0.1041,     0.10511,     0.10611,     0.10711,     0.10811,     0.10911,     0.11011,     0.11111,     0.11211,     0.11311,     0.11411,     0.11512,     0.11612,     0.11712,     0.11812,     0.11912,\n",
              "           0.12012,     0.12112,     0.12212,     0.12312,     0.12412,     0.12513,     0.12613,     0.12713,     0.12813,     0.12913,     0.13013,     0.13113,     0.13213,     0.13313,     0.13413,     0.13514,     0.13614,     0.13714,     0.13814,     0.13914,     0.14014,     0.14114,     0.14214,     0.14314,\n",
              "           0.14414,     0.14515,     0.14615,     0.14715,     0.14815,     0.14915,     0.15015,     0.15115,     0.15215,     0.15315,     0.15415,     0.15516,     0.15616,     0.15716,     0.15816,     0.15916,     0.16016,     0.16116,     0.16216,     0.16316,     0.16416,     0.16517,     0.16617,     0.16717,\n",
              "           0.16817,     0.16917,     0.17017,     0.17117,     0.17217,     0.17317,     0.17417,     0.17518,     0.17618,     0.17718,     0.17818,     0.17918,     0.18018,     0.18118,     0.18218,     0.18318,     0.18418,     0.18519,     0.18619,     0.18719,     0.18819,     0.18919,     0.19019,     0.19119,\n",
              "           0.19219,     0.19319,     0.19419,      0.1952,      0.1962,      0.1972,      0.1982,      0.1992,      0.2002,      0.2012,      0.2022,      0.2032,      0.2042,     0.20521,     0.20621,     0.20721,     0.20821,     0.20921,     0.21021,     0.21121,     0.21221,     0.21321,     0.21421,     0.21522,\n",
              "           0.21622,     0.21722,     0.21822,     0.21922,     0.22022,     0.22122,     0.22222,     0.22322,     0.22422,     0.22523,     0.22623,     0.22723,     0.22823,     0.22923,     0.23023,     0.23123,     0.23223,     0.23323,     0.23423,     0.23524,     0.23624,     0.23724,     0.23824,     0.23924,\n",
              "           0.24024,     0.24124,     0.24224,     0.24324,     0.24424,     0.24525,     0.24625,     0.24725,     0.24825,     0.24925,     0.25025,     0.25125,     0.25225,     0.25325,     0.25425,     0.25526,     0.25626,     0.25726,     0.25826,     0.25926,     0.26026,     0.26126,     0.26226,     0.26326,\n",
              "           0.26426,     0.26527,     0.26627,     0.26727,     0.26827,     0.26927,     0.27027,     0.27127,     0.27227,     0.27327,     0.27427,     0.27528,     0.27628,     0.27728,     0.27828,     0.27928,     0.28028,     0.28128,     0.28228,     0.28328,     0.28428,     0.28529,     0.28629,     0.28729,\n",
              "           0.28829,     0.28929,     0.29029,     0.29129,     0.29229,     0.29329,     0.29429,      0.2953,      0.2963,      0.2973,      0.2983,      0.2993,      0.3003,      0.3013,      0.3023,      0.3033,      0.3043,     0.30531,     0.30631,     0.30731,     0.30831,     0.30931,     0.31031,     0.31131,\n",
              "           0.31231,     0.31331,     0.31431,     0.31532,     0.31632,     0.31732,     0.31832,     0.31932,     0.32032,     0.32132,     0.32232,     0.32332,     0.32432,     0.32533,     0.32633,     0.32733,     0.32833,     0.32933,     0.33033,     0.33133,     0.33233,     0.33333,     0.33433,     0.33534,\n",
              "           0.33634,     0.33734,     0.33834,     0.33934,     0.34034,     0.34134,     0.34234,     0.34334,     0.34434,     0.34535,     0.34635,     0.34735,     0.34835,     0.34935,     0.35035,     0.35135,     0.35235,     0.35335,     0.35435,     0.35536,     0.35636,     0.35736,     0.35836,     0.35936,\n",
              "           0.36036,     0.36136,     0.36236,     0.36336,     0.36436,     0.36537,     0.36637,     0.36737,     0.36837,     0.36937,     0.37037,     0.37137,     0.37237,     0.37337,     0.37437,     0.37538,     0.37638,     0.37738,     0.37838,     0.37938,     0.38038,     0.38138,     0.38238,     0.38338,\n",
              "           0.38438,     0.38539,     0.38639,     0.38739,     0.38839,     0.38939,     0.39039,     0.39139,     0.39239,     0.39339,     0.39439,      0.3954,      0.3964,      0.3974,      0.3984,      0.3994,      0.4004,      0.4014,      0.4024,      0.4034,      0.4044,     0.40541,     0.40641,     0.40741,\n",
              "           0.40841,     0.40941,     0.41041,     0.41141,     0.41241,     0.41341,     0.41441,     0.41542,     0.41642,     0.41742,     0.41842,     0.41942,     0.42042,     0.42142,     0.42242,     0.42342,     0.42442,     0.42543,     0.42643,     0.42743,     0.42843,     0.42943,     0.43043,     0.43143,\n",
              "           0.43243,     0.43343,     0.43443,     0.43544,     0.43644,     0.43744,     0.43844,     0.43944,     0.44044,     0.44144,     0.44244,     0.44344,     0.44444,     0.44545,     0.44645,     0.44745,     0.44845,     0.44945,     0.45045,     0.45145,     0.45245,     0.45345,     0.45445,     0.45546,\n",
              "           0.45646,     0.45746,     0.45846,     0.45946,     0.46046,     0.46146,     0.46246,     0.46346,     0.46446,     0.46547,     0.46647,     0.46747,     0.46847,     0.46947,     0.47047,     0.47147,     0.47247,     0.47347,     0.47447,     0.47548,     0.47648,     0.47748,     0.47848,     0.47948,\n",
              "           0.48048,     0.48148,     0.48248,     0.48348,     0.48448,     0.48549,     0.48649,     0.48749,     0.48849,     0.48949,     0.49049,     0.49149,     0.49249,     0.49349,     0.49449,      0.4955,      0.4965,      0.4975,      0.4985,      0.4995,      0.5005,      0.5015,      0.5025,      0.5035,\n",
              "            0.5045,     0.50551,     0.50651,     0.50751,     0.50851,     0.50951,     0.51051,     0.51151,     0.51251,     0.51351,     0.51451,     0.51552,     0.51652,     0.51752,     0.51852,     0.51952,     0.52052,     0.52152,     0.52252,     0.52352,     0.52452,     0.52553,     0.52653,     0.52753,\n",
              "           0.52853,     0.52953,     0.53053,     0.53153,     0.53253,     0.53353,     0.53453,     0.53554,     0.53654,     0.53754,     0.53854,     0.53954,     0.54054,     0.54154,     0.54254,     0.54354,     0.54454,     0.54555,     0.54655,     0.54755,     0.54855,     0.54955,     0.55055,     0.55155,\n",
              "           0.55255,     0.55355,     0.55455,     0.55556,     0.55656,     0.55756,     0.55856,     0.55956,     0.56056,     0.56156,     0.56256,     0.56356,     0.56456,     0.56557,     0.56657,     0.56757,     0.56857,     0.56957,     0.57057,     0.57157,     0.57257,     0.57357,     0.57457,     0.57558,\n",
              "           0.57658,     0.57758,     0.57858,     0.57958,     0.58058,     0.58158,     0.58258,     0.58358,     0.58458,     0.58559,     0.58659,     0.58759,     0.58859,     0.58959,     0.59059,     0.59159,     0.59259,     0.59359,     0.59459,      0.5956,      0.5966,      0.5976,      0.5986,      0.5996,\n",
              "            0.6006,      0.6016,      0.6026,      0.6036,      0.6046,     0.60561,     0.60661,     0.60761,     0.60861,     0.60961,     0.61061,     0.61161,     0.61261,     0.61361,     0.61461,     0.61562,     0.61662,     0.61762,     0.61862,     0.61962,     0.62062,     0.62162,     0.62262,     0.62362,\n",
              "           0.62462,     0.62563,     0.62663,     0.62763,     0.62863,     0.62963,     0.63063,     0.63163,     0.63263,     0.63363,     0.63463,     0.63564,     0.63664,     0.63764,     0.63864,     0.63964,     0.64064,     0.64164,     0.64264,     0.64364,     0.64464,     0.64565,     0.64665,     0.64765,\n",
              "           0.64865,     0.64965,     0.65065,     0.65165,     0.65265,     0.65365,     0.65465,     0.65566,     0.65666,     0.65766,     0.65866,     0.65966,     0.66066,     0.66166,     0.66266,     0.66366,     0.66466,     0.66567,     0.66667,     0.66767,     0.66867,     0.66967,     0.67067,     0.67167,\n",
              "           0.67267,     0.67367,     0.67467,     0.67568,     0.67668,     0.67768,     0.67868,     0.67968,     0.68068,     0.68168,     0.68268,     0.68368,     0.68468,     0.68569,     0.68669,     0.68769,     0.68869,     0.68969,     0.69069,     0.69169,     0.69269,     0.69369,     0.69469,      0.6957,\n",
              "            0.6967,      0.6977,      0.6987,      0.6997,      0.7007,      0.7017,      0.7027,      0.7037,      0.7047,     0.70571,     0.70671,     0.70771,     0.70871,     0.70971,     0.71071,     0.71171,     0.71271,     0.71371,     0.71471,     0.71572,     0.71672,     0.71772,     0.71872,     0.71972,\n",
              "           0.72072,     0.72172,     0.72272,     0.72372,     0.72472,     0.72573,     0.72673,     0.72773,     0.72873,     0.72973,     0.73073,     0.73173,     0.73273,     0.73373,     0.73473,     0.73574,     0.73674,     0.73774,     0.73874,     0.73974,     0.74074,     0.74174,     0.74274,     0.74374,\n",
              "           0.74474,     0.74575,     0.74675,     0.74775,     0.74875,     0.74975,     0.75075,     0.75175,     0.75275,     0.75375,     0.75475,     0.75576,     0.75676,     0.75776,     0.75876,     0.75976,     0.76076,     0.76176,     0.76276,     0.76376,     0.76476,     0.76577,     0.76677,     0.76777,\n",
              "           0.76877,     0.76977,     0.77077,     0.77177,     0.77277,     0.77377,     0.77477,     0.77578,     0.77678,     0.77778,     0.77878,     0.77978,     0.78078,     0.78178,     0.78278,     0.78378,     0.78478,     0.78579,     0.78679,     0.78779,     0.78879,     0.78979,     0.79079,     0.79179,\n",
              "           0.79279,     0.79379,     0.79479,      0.7958,      0.7968,      0.7978,      0.7988,      0.7998,      0.8008,      0.8018,      0.8028,      0.8038,      0.8048,     0.80581,     0.80681,     0.80781,     0.80881,     0.80981,     0.81081,     0.81181,     0.81281,     0.81381,     0.81481,     0.81582,\n",
              "           0.81682,     0.81782,     0.81882,     0.81982,     0.82082,     0.82182,     0.82282,     0.82382,     0.82482,     0.82583,     0.82683,     0.82783,     0.82883,     0.82983,     0.83083,     0.83183,     0.83283,     0.83383,     0.83483,     0.83584,     0.83684,     0.83784,     0.83884,     0.83984,\n",
              "           0.84084,     0.84184,     0.84284,     0.84384,     0.84484,     0.84585,     0.84685,     0.84785,     0.84885,     0.84985,     0.85085,     0.85185,     0.85285,     0.85385,     0.85485,     0.85586,     0.85686,     0.85786,     0.85886,     0.85986,     0.86086,     0.86186,     0.86286,     0.86386,\n",
              "           0.86486,     0.86587,     0.86687,     0.86787,     0.86887,     0.86987,     0.87087,     0.87187,     0.87287,     0.87387,     0.87487,     0.87588,     0.87688,     0.87788,     0.87888,     0.87988,     0.88088,     0.88188,     0.88288,     0.88388,     0.88488,     0.88589,     0.88689,     0.88789,\n",
              "           0.88889,     0.88989,     0.89089,     0.89189,     0.89289,     0.89389,     0.89489,      0.8959,      0.8969,      0.8979,      0.8989,      0.8999,      0.9009,      0.9019,      0.9029,      0.9039,      0.9049,     0.90591,     0.90691,     0.90791,     0.90891,     0.90991,     0.91091,     0.91191,\n",
              "           0.91291,     0.91391,     0.91491,     0.91592,     0.91692,     0.91792,     0.91892,     0.91992,     0.92092,     0.92192,     0.92292,     0.92392,     0.92492,     0.92593,     0.92693,     0.92793,     0.92893,     0.92993,     0.93093,     0.93193,     0.93293,     0.93393,     0.93493,     0.93594,\n",
              "           0.93694,     0.93794,     0.93894,     0.93994,     0.94094,     0.94194,     0.94294,     0.94394,     0.94494,     0.94595,     0.94695,     0.94795,     0.94895,     0.94995,     0.95095,     0.95195,     0.95295,     0.95395,     0.95495,     0.95596,     0.95696,     0.95796,     0.95896,     0.95996,\n",
              "           0.96096,     0.96196,     0.96296,     0.96396,     0.96496,     0.96597,     0.96697,     0.96797,     0.96897,     0.96997,     0.97097,     0.97197,     0.97297,     0.97397,     0.97497,     0.97598,     0.97698,     0.97798,     0.97898,     0.97998,     0.98098,     0.98198,     0.98298,     0.98398,\n",
              "           0.98498,     0.98599,     0.98699,     0.98799,     0.98899,     0.98999,     0.99099,     0.99199,     0.99299,     0.99399,     0.99499,       0.996,       0.997,       0.998,       0.999,           1]), array([[    0.91285,     0.91285,     0.91285, ...,           0,           0,           0],\n",
              "       [     0.9871,      0.9871,      0.9871, ...,           0,           0,           0],\n",
              "       [    0.90385,     0.90385,     0.90385, ...,           0,           0,           0],\n",
              "       ...,\n",
              "       [    0.80702,     0.80702,     0.78947, ...,           0,           0,           0],\n",
              "       [    0.81481,     0.81481,     0.81481, ...,           0,           0,           0],\n",
              "       [    0.78788,     0.78788,     0.78788, ...,           0,           0,           0]]), 'Confidence', 'Recall']]\n",
              "fitness: np.float64(0.21403182249782976)\n",
              "keys: ['metrics/precision(B)', 'metrics/recall(B)', 'metrics/mAP50(B)', 'metrics/mAP50-95(B)']\n",
              "maps: array([    0.24933,     0.46371,     0.19102,    0.076568,     0.13242,    0.083065,     0.17911])\n",
              "names: {0: 'fish', 1: 'jellyfish', 2: 'penguin', 3: 'puffin', 4: 'shark', 5: 'starfish', 6: 'stingray'}\n",
              "plot: True\n",
              "results_dict: {'metrics/precision(B)': np.float64(0.6094934953427629), 'metrics/recall(B)': np.float64(0.34733437603527934), 'metrics/mAP50(B)': np.float64(0.37216724307186205), 'metrics/mAP50-95(B)': np.float64(0.19646122021182616), 'fitness': np.float64(0.21403182249782976)}\n",
              "save_dir: PosixPath('runs/detect/train')\n",
              "speed: {'preprocess': 0.23807751181105083, 'inference': 9.618153464567142, 'loss': 0.00031441732286169094, 'postprocess': 8.52571995275596}\n",
              "task: 'detect'"
            ]
          },
          "execution_count": 7,
          "metadata": {},
          "output_type": "execute_result"
        }
      ],
      "source": [
        "model.train(data='/content/data.yaml', epochs=10, batch=32, imgsz=640, lr0=0.001, augment=True, patience=10, save=True)"
      ]
    },
    {
      "cell_type": "code",
      "execution_count": 8,
      "metadata": {
        "colab": {
          "base_uri": "https://localhost:8080/"
        },
        "collapsed": true,
        "id": "b-AAdllqHhTr",
        "outputId": "9298ea30-889c-4f15-9c59-418d2f9b6e30"
      },
      "outputs": [
        {
          "name": "stdout",
          "output_type": "stream",
          "text": [
            "<class 'dict'> 7\n",
            "{0: 'fish', 1: 'jellyfish', 2: 'penguin', 3: 'puffin', 4: 'shark', 5: 'starfish', 6: 'stingray'}\n"
          ]
        }
      ],
      "source": [
        "print(type(model.names),len(model.names))\n",
        "print(model.names)"
      ]
    },
    {
      "cell_type": "code",
      "execution_count": 9,
      "metadata": {
        "colab": {
          "base_uri": "https://localhost:8080/",
          "height": 388
        },
        "collapsed": true,
        "id": "lu36DWVYIyLr",
        "outputId": "c7c55ad9-1035-4bf7-e0bb-3597d4b32313"
      },
      "outputs": [
        {
          "name": "stdout",
          "output_type": "stream",
          "text": [
            "\n"
          ]
        },
        {
          "ename": "FileNotFoundError",
          "evalue": "/content/jellyfish.jpg does not exist",
          "output_type": "error",
          "traceback": [
            "\u001b[0;31m---------------------------------------------------------------------------\u001b[0m",
            "\u001b[0;31mFileNotFoundError\u001b[0m                         Traceback (most recent call last)",
            "\u001b[0;32m<ipython-input-9-335494dbd977>\u001b[0m in \u001b[0;36m<cell line: 0>\u001b[0;34m()\u001b[0m\n\u001b[1;32m      5\u001b[0m \u001b[0mimage_path\u001b[0m \u001b[0;34m=\u001b[0m \u001b[0;34m'/content/jellyfish.jpg'\u001b[0m \u001b[0;31m# 예측할 이미지 경로\u001b[0m\u001b[0;34m\u001b[0m\u001b[0;34m\u001b[0m\u001b[0m\n\u001b[1;32m      6\u001b[0m \u001b[0;31m# 3️⃣예측 수행\u001b[0m\u001b[0;34m\u001b[0m\u001b[0;34m\u001b[0m\u001b[0m\n\u001b[0;32m----> 7\u001b[0;31m results = model.predict(\n\u001b[0m\u001b[1;32m      8\u001b[0m  \u001b[0msource\u001b[0m\u001b[0;34m=\u001b[0m\u001b[0mimage_path\u001b[0m\u001b[0;34m,\u001b[0m \u001b[0;31m# 이미지 파일 경로 (또는 폴더 경로, 비디오 경로, 0: 웹캠)\u001b[0m\u001b[0;34m\u001b[0m\u001b[0;34m\u001b[0m\u001b[0m\n\u001b[1;32m      9\u001b[0m  \u001b[0msave\u001b[0m\u001b[0;34m=\u001b[0m\u001b[0;32mTrue\u001b[0m\u001b[0;34m,\u001b[0m \u001b[0;31m# 예측 결과 이미지 저장\u001b[0m\u001b[0;34m\u001b[0m\u001b[0;34m\u001b[0m\u001b[0m\n",
            "\u001b[0;32m/usr/local/lib/python3.11/dist-packages/ultralytics/engine/model.py\u001b[0m in \u001b[0;36mpredict\u001b[0;34m(self, source, stream, predictor, **kwargs)\u001b[0m\n\u001b[1;32m    553\u001b[0m         \u001b[0;32mif\u001b[0m \u001b[0mprompts\u001b[0m \u001b[0;32mand\u001b[0m \u001b[0mhasattr\u001b[0m\u001b[0;34m(\u001b[0m\u001b[0mself\u001b[0m\u001b[0;34m.\u001b[0m\u001b[0mpredictor\u001b[0m\u001b[0;34m,\u001b[0m \u001b[0;34m\"set_prompts\"\u001b[0m\u001b[0;34m)\u001b[0m\u001b[0;34m:\u001b[0m  \u001b[0;31m# for SAM-type models\u001b[0m\u001b[0;34m\u001b[0m\u001b[0;34m\u001b[0m\u001b[0m\n\u001b[1;32m    554\u001b[0m             \u001b[0mself\u001b[0m\u001b[0;34m.\u001b[0m\u001b[0mpredictor\u001b[0m\u001b[0;34m.\u001b[0m\u001b[0mset_prompts\u001b[0m\u001b[0;34m(\u001b[0m\u001b[0mprompts\u001b[0m\u001b[0;34m)\u001b[0m\u001b[0;34m\u001b[0m\u001b[0;34m\u001b[0m\u001b[0m\n\u001b[0;32m--> 555\u001b[0;31m         \u001b[0;32mreturn\u001b[0m \u001b[0mself\u001b[0m\u001b[0;34m.\u001b[0m\u001b[0mpredictor\u001b[0m\u001b[0;34m.\u001b[0m\u001b[0mpredict_cli\u001b[0m\u001b[0;34m(\u001b[0m\u001b[0msource\u001b[0m\u001b[0;34m=\u001b[0m\u001b[0msource\u001b[0m\u001b[0;34m)\u001b[0m \u001b[0;32mif\u001b[0m \u001b[0mis_cli\u001b[0m \u001b[0;32melse\u001b[0m \u001b[0mself\u001b[0m\u001b[0;34m.\u001b[0m\u001b[0mpredictor\u001b[0m\u001b[0;34m(\u001b[0m\u001b[0msource\u001b[0m\u001b[0;34m=\u001b[0m\u001b[0msource\u001b[0m\u001b[0;34m,\u001b[0m \u001b[0mstream\u001b[0m\u001b[0;34m=\u001b[0m\u001b[0mstream\u001b[0m\u001b[0;34m)\u001b[0m\u001b[0;34m\u001b[0m\u001b[0;34m\u001b[0m\u001b[0m\n\u001b[0m\u001b[1;32m    556\u001b[0m \u001b[0;34m\u001b[0m\u001b[0m\n\u001b[1;32m    557\u001b[0m     def track(\n",
            "\u001b[0;32m/usr/local/lib/python3.11/dist-packages/ultralytics/engine/predictor.py\u001b[0m in \u001b[0;36m__call__\u001b[0;34m(self, source, model, stream, *args, **kwargs)\u001b[0m\n\u001b[1;32m    225\u001b[0m             \u001b[0;32mreturn\u001b[0m \u001b[0mself\u001b[0m\u001b[0;34m.\u001b[0m\u001b[0mstream_inference\u001b[0m\u001b[0;34m(\u001b[0m\u001b[0msource\u001b[0m\u001b[0;34m,\u001b[0m \u001b[0mmodel\u001b[0m\u001b[0;34m,\u001b[0m \u001b[0;34m*\u001b[0m\u001b[0margs\u001b[0m\u001b[0;34m,\u001b[0m \u001b[0;34m**\u001b[0m\u001b[0mkwargs\u001b[0m\u001b[0;34m)\u001b[0m\u001b[0;34m\u001b[0m\u001b[0;34m\u001b[0m\u001b[0m\n\u001b[1;32m    226\u001b[0m         \u001b[0;32melse\u001b[0m\u001b[0;34m:\u001b[0m\u001b[0;34m\u001b[0m\u001b[0;34m\u001b[0m\u001b[0m\n\u001b[0;32m--> 227\u001b[0;31m             \u001b[0;32mreturn\u001b[0m \u001b[0mlist\u001b[0m\u001b[0;34m(\u001b[0m\u001b[0mself\u001b[0m\u001b[0;34m.\u001b[0m\u001b[0mstream_inference\u001b[0m\u001b[0;34m(\u001b[0m\u001b[0msource\u001b[0m\u001b[0;34m,\u001b[0m \u001b[0mmodel\u001b[0m\u001b[0;34m,\u001b[0m \u001b[0;34m*\u001b[0m\u001b[0margs\u001b[0m\u001b[0;34m,\u001b[0m \u001b[0;34m**\u001b[0m\u001b[0mkwargs\u001b[0m\u001b[0;34m)\u001b[0m\u001b[0;34m)\u001b[0m  \u001b[0;31m# merge list of Result into one\u001b[0m\u001b[0;34m\u001b[0m\u001b[0;34m\u001b[0m\u001b[0m\n\u001b[0m\u001b[1;32m    228\u001b[0m \u001b[0;34m\u001b[0m\u001b[0m\n\u001b[1;32m    229\u001b[0m     \u001b[0;32mdef\u001b[0m \u001b[0mpredict_cli\u001b[0m\u001b[0;34m(\u001b[0m\u001b[0mself\u001b[0m\u001b[0;34m,\u001b[0m \u001b[0msource\u001b[0m\u001b[0;34m=\u001b[0m\u001b[0;32mNone\u001b[0m\u001b[0;34m,\u001b[0m \u001b[0mmodel\u001b[0m\u001b[0;34m=\u001b[0m\u001b[0;32mNone\u001b[0m\u001b[0;34m)\u001b[0m\u001b[0;34m:\u001b[0m\u001b[0;34m\u001b[0m\u001b[0;34m\u001b[0m\u001b[0m\n",
            "\u001b[0;32m/usr/local/lib/python3.11/dist-packages/torch/utils/_contextlib.py\u001b[0m in \u001b[0;36mgenerator_context\u001b[0;34m(*args, **kwargs)\u001b[0m\n\u001b[1;32m     34\u001b[0m             \u001b[0;31m# Issuing `None` to a generator fires it up\u001b[0m\u001b[0;34m\u001b[0m\u001b[0;34m\u001b[0m\u001b[0m\n\u001b[1;32m     35\u001b[0m             \u001b[0;32mwith\u001b[0m \u001b[0mctx_factory\u001b[0m\u001b[0;34m(\u001b[0m\u001b[0;34m)\u001b[0m\u001b[0;34m:\u001b[0m\u001b[0;34m\u001b[0m\u001b[0;34m\u001b[0m\u001b[0m\n\u001b[0;32m---> 36\u001b[0;31m                 \u001b[0mresponse\u001b[0m \u001b[0;34m=\u001b[0m \u001b[0mgen\u001b[0m\u001b[0;34m.\u001b[0m\u001b[0msend\u001b[0m\u001b[0;34m(\u001b[0m\u001b[0;32mNone\u001b[0m\u001b[0;34m)\u001b[0m\u001b[0;34m\u001b[0m\u001b[0;34m\u001b[0m\u001b[0m\n\u001b[0m\u001b[1;32m     37\u001b[0m \u001b[0;34m\u001b[0m\u001b[0m\n\u001b[1;32m     38\u001b[0m             \u001b[0;32mwhile\u001b[0m \u001b[0;32mTrue\u001b[0m\u001b[0;34m:\u001b[0m\u001b[0;34m\u001b[0m\u001b[0;34m\u001b[0m\u001b[0m\n",
            "\u001b[0;32m/usr/local/lib/python3.11/dist-packages/ultralytics/engine/predictor.py\u001b[0m in \u001b[0;36mstream_inference\u001b[0;34m(self, source, model, *args, **kwargs)\u001b[0m\n\u001b[1;32m    298\u001b[0m         \u001b[0;32mwith\u001b[0m \u001b[0mself\u001b[0m\u001b[0;34m.\u001b[0m\u001b[0m_lock\u001b[0m\u001b[0;34m:\u001b[0m  \u001b[0;31m# for thread-safe inference\u001b[0m\u001b[0;34m\u001b[0m\u001b[0;34m\u001b[0m\u001b[0m\n\u001b[1;32m    299\u001b[0m             \u001b[0;31m# Setup source every time predict is called\u001b[0m\u001b[0;34m\u001b[0m\u001b[0;34m\u001b[0m\u001b[0m\n\u001b[0;32m--> 300\u001b[0;31m             \u001b[0mself\u001b[0m\u001b[0;34m.\u001b[0m\u001b[0msetup_source\u001b[0m\u001b[0;34m(\u001b[0m\u001b[0msource\u001b[0m \u001b[0;32mif\u001b[0m \u001b[0msource\u001b[0m \u001b[0;32mis\u001b[0m \u001b[0;32mnot\u001b[0m \u001b[0;32mNone\u001b[0m \u001b[0;32melse\u001b[0m \u001b[0mself\u001b[0m\u001b[0;34m.\u001b[0m\u001b[0margs\u001b[0m\u001b[0;34m.\u001b[0m\u001b[0msource\u001b[0m\u001b[0;34m)\u001b[0m\u001b[0;34m\u001b[0m\u001b[0;34m\u001b[0m\u001b[0m\n\u001b[0m\u001b[1;32m    301\u001b[0m \u001b[0;34m\u001b[0m\u001b[0m\n\u001b[1;32m    302\u001b[0m             \u001b[0;31m# Check if save_dir/ label file exists\u001b[0m\u001b[0;34m\u001b[0m\u001b[0;34m\u001b[0m\u001b[0m\n",
            "\u001b[0;32m/usr/local/lib/python3.11/dist-packages/ultralytics/engine/predictor.py\u001b[0m in \u001b[0;36msetup_source\u001b[0;34m(self, source)\u001b[0m\n\u001b[1;32m    257\u001b[0m         \"\"\"\n\u001b[1;32m    258\u001b[0m         \u001b[0mself\u001b[0m\u001b[0;34m.\u001b[0m\u001b[0mimgsz\u001b[0m \u001b[0;34m=\u001b[0m \u001b[0mcheck_imgsz\u001b[0m\u001b[0;34m(\u001b[0m\u001b[0mself\u001b[0m\u001b[0;34m.\u001b[0m\u001b[0margs\u001b[0m\u001b[0;34m.\u001b[0m\u001b[0mimgsz\u001b[0m\u001b[0;34m,\u001b[0m \u001b[0mstride\u001b[0m\u001b[0;34m=\u001b[0m\u001b[0mself\u001b[0m\u001b[0;34m.\u001b[0m\u001b[0mmodel\u001b[0m\u001b[0;34m.\u001b[0m\u001b[0mstride\u001b[0m\u001b[0;34m,\u001b[0m \u001b[0mmin_dim\u001b[0m\u001b[0;34m=\u001b[0m\u001b[0;36m2\u001b[0m\u001b[0;34m)\u001b[0m  \u001b[0;31m# check image size\u001b[0m\u001b[0;34m\u001b[0m\u001b[0;34m\u001b[0m\u001b[0m\n\u001b[0;32m--> 259\u001b[0;31m         self.dataset = load_inference_source(\n\u001b[0m\u001b[1;32m    260\u001b[0m             \u001b[0msource\u001b[0m\u001b[0;34m=\u001b[0m\u001b[0msource\u001b[0m\u001b[0;34m,\u001b[0m\u001b[0;34m\u001b[0m\u001b[0;34m\u001b[0m\u001b[0m\n\u001b[1;32m    261\u001b[0m             \u001b[0mbatch\u001b[0m\u001b[0;34m=\u001b[0m\u001b[0mself\u001b[0m\u001b[0;34m.\u001b[0m\u001b[0margs\u001b[0m\u001b[0;34m.\u001b[0m\u001b[0mbatch\u001b[0m\u001b[0;34m,\u001b[0m\u001b[0;34m\u001b[0m\u001b[0;34m\u001b[0m\u001b[0m\n",
            "\u001b[0;32m/usr/local/lib/python3.11/dist-packages/ultralytics/data/build.py\u001b[0m in \u001b[0;36mload_inference_source\u001b[0;34m(source, batch, vid_stride, buffer, channels)\u001b[0m\n\u001b[1;32m    276\u001b[0m         \u001b[0mdataset\u001b[0m \u001b[0;34m=\u001b[0m \u001b[0mLoadPilAndNumpy\u001b[0m\u001b[0;34m(\u001b[0m\u001b[0msource\u001b[0m\u001b[0;34m,\u001b[0m \u001b[0mchannels\u001b[0m\u001b[0;34m=\u001b[0m\u001b[0mchannels\u001b[0m\u001b[0;34m)\u001b[0m\u001b[0;34m\u001b[0m\u001b[0;34m\u001b[0m\u001b[0m\n\u001b[1;32m    277\u001b[0m     \u001b[0;32melse\u001b[0m\u001b[0;34m:\u001b[0m\u001b[0;34m\u001b[0m\u001b[0;34m\u001b[0m\u001b[0m\n\u001b[0;32m--> 278\u001b[0;31m         \u001b[0mdataset\u001b[0m \u001b[0;34m=\u001b[0m \u001b[0mLoadImagesAndVideos\u001b[0m\u001b[0;34m(\u001b[0m\u001b[0msource\u001b[0m\u001b[0;34m,\u001b[0m \u001b[0mbatch\u001b[0m\u001b[0;34m=\u001b[0m\u001b[0mbatch\u001b[0m\u001b[0;34m,\u001b[0m \u001b[0mvid_stride\u001b[0m\u001b[0;34m=\u001b[0m\u001b[0mvid_stride\u001b[0m\u001b[0;34m,\u001b[0m \u001b[0mchannels\u001b[0m\u001b[0;34m=\u001b[0m\u001b[0mchannels\u001b[0m\u001b[0;34m)\u001b[0m\u001b[0;34m\u001b[0m\u001b[0;34m\u001b[0m\u001b[0m\n\u001b[0m\u001b[1;32m    279\u001b[0m \u001b[0;34m\u001b[0m\u001b[0m\n\u001b[1;32m    280\u001b[0m     \u001b[0;31m# Attach source types to the dataset\u001b[0m\u001b[0;34m\u001b[0m\u001b[0;34m\u001b[0m\u001b[0m\n",
            "\u001b[0;32m/usr/local/lib/python3.11/dist-packages/ultralytics/data/loaders.py\u001b[0m in \u001b[0;36m__init__\u001b[0;34m(self, path, batch, vid_stride, channels)\u001b[0m\n\u001b[1;32m    372\u001b[0m                 \u001b[0mfiles\u001b[0m\u001b[0;34m.\u001b[0m\u001b[0mappend\u001b[0m\u001b[0;34m(\u001b[0m\u001b[0mstr\u001b[0m\u001b[0;34m(\u001b[0m\u001b[0;34m(\u001b[0m\u001b[0mparent\u001b[0m \u001b[0;34m/\u001b[0m \u001b[0mp\u001b[0m\u001b[0;34m)\u001b[0m\u001b[0;34m.\u001b[0m\u001b[0mabsolute\u001b[0m\u001b[0;34m(\u001b[0m\u001b[0;34m)\u001b[0m\u001b[0;34m)\u001b[0m\u001b[0;34m)\u001b[0m  \u001b[0;31m# files (relative to *.txt file parent)\u001b[0m\u001b[0;34m\u001b[0m\u001b[0;34m\u001b[0m\u001b[0m\n\u001b[1;32m    373\u001b[0m             \u001b[0;32melse\u001b[0m\u001b[0;34m:\u001b[0m\u001b[0;34m\u001b[0m\u001b[0;34m\u001b[0m\u001b[0m\n\u001b[0;32m--> 374\u001b[0;31m                 \u001b[0;32mraise\u001b[0m \u001b[0mFileNotFoundError\u001b[0m\u001b[0;34m(\u001b[0m\u001b[0;34mf\"{p} does not exist\"\u001b[0m\u001b[0;34m)\u001b[0m\u001b[0;34m\u001b[0m\u001b[0;34m\u001b[0m\u001b[0m\n\u001b[0m\u001b[1;32m    375\u001b[0m \u001b[0;34m\u001b[0m\u001b[0m\n\u001b[1;32m    376\u001b[0m         \u001b[0;31m# Define files as images or videos\u001b[0m\u001b[0;34m\u001b[0m\u001b[0;34m\u001b[0m\u001b[0m\n",
            "\u001b[0;31mFileNotFoundError\u001b[0m: /content/jellyfish.jpg does not exist"
          ]
        }
      ],
      "source": [
        "from ultralytics import YOLO\n",
        "# 1️⃣best.pt 모델 로드\n",
        "model = YOLO('runs/detect/train/weights/best.pt') # 경로를 본인의 best.pt로 수정!\n",
        "# 2️⃣예측할 이미지 경로\n",
        "image_path = '/content/jellyfish.jpg' # 예측할 이미지 경로\n",
        "# 3️⃣예측 수행\n",
        "results = model.predict(\n",
        " source=image_path, # 이미지 파일 경로 (또는 폴더 경로, 비디오 경로, 0: 웹캠)\n",
        " save=True, # 예측 결과 이미지 저장\n",
        "show=True, # 팝업 창에 결과 출력\n",
        "conf=0.5, # 탐지 신뢰도 threshold\n",
        " device=0 # GPU: 0 / CPU: 'cpu'\n",
        ")\n",
        "# 4️⃣결과 확인\n",
        "for result in results:\n",
        " print(result.boxes) # 감지된 객체의 경계 상자 정보"
      ]
    },
    {
      "cell_type": "code",
      "execution_count": 5,
      "metadata": {
        "colab": {
          "base_uri": "https://localhost:8080/"
        },
        "collapsed": true,
        "id": "7pA3LPXjeScP",
        "outputId": "577c950f-01da-4af3-aca9-1e447d76f362"
      },
      "outputs": [
        {
          "name": "stdout",
          "output_type": "stream",
          "text": [
            "  % Total    % Received % Xferd  Average Speed   Time    Time     Time  Current\n",
            "                                 Dload  Upload   Total   Spent    Left  Speed\n",
            "100   895  100   895    0     0    586      0  0:00:01  0:00:01 --:--:--   586\n",
            "100 3606k  100 3606k    0     0   788k      0  0:00:04  0:00:04 --:--:-- 1957k\n",
            "Archive:  roboflow.zip\n",
            " extracting: README.dataset.txt      \n",
            " extracting: README.roboflow.txt     \n",
            " extracting: data.yaml               \n",
            "   creating: test/\n",
            "   creating: test/images/\n",
            " extracting: test/images/1-fps-2_00001_jpeg_jpg.rf.03aa7dfbdbc3d0a5482ea68a7f9a8a8d.jpg  \n",
            " extracting: test/images/1-fps-2_00014_jpeg_jpg.rf.2d7d526c69632431e3d987a764cbd4e1.jpg  \n",
            " extracting: test/images/1-fps-2_00022_jpeg_jpg.rf.cb129f66c83086ad73336e4c9a33fcc9.jpg  \n",
            " extracting: test/images/1-fps-2_00025_jpeg_jpg.rf.c9db4792d50f6c60789177a156787289.jpg  \n",
            " extracting: test/images/1-fps-2_00032_jpeg_jpg.rf.c59a43ff2bf0ca9963288bf3bd5f26d2.jpg  \n",
            " extracting: test/images/1-fps-2_00041_jpeg_jpg.rf.258946c9d6d154a606aa025253f5f082.jpg  \n",
            " extracting: test/images/1-fps-2_00055_jpeg_jpg.rf.51cc3c70b3e53f1e77362e14eefcd69d.jpg  \n",
            " extracting: test/images/1-fps-2_00208_jpeg_jpg.rf.825ddfdd451104ac9bdcf9271eb9798b.jpg  \n",
            " extracting: test/images/1-fps-2_00213_jpeg_jpg.rf.040437d85058edeeaf34d7274f77add3.jpg  \n",
            " extracting: test/images/1-fps-2_00267_jpeg_jpg.rf.1ece704258aa28a27c14c27d5c0c22e6.jpg  \n",
            " extracting: test/images/1-fps-2_00269_jpeg_jpg.rf.7cafcbbf190500cadd61b782cab4f5ef.jpg  \n",
            " extracting: test/images/1-fps-2_00282_jpeg_jpg.rf.9cf4f13ee9b57ecde4b2e6584722e835.jpg  \n",
            " extracting: test/images/1-fps-2_00339_jpeg_jpg.rf.7a78aba0034a7c3daf39140f6f7880eb.jpg  \n",
            " extracting: test/images/1-fps-2_00340_jpeg_jpg.rf.9faf7072461e57ab5cf5978ac2c36f6b.jpg  \n",
            " extracting: test/images/1-fps-2_00365_jpeg_jpg.rf.83371876b8ee1d217cfdfd681b3da442.jpg  \n",
            " extracting: test/images/yt1s-com---Resume-Liverpool-01-Burnley-Premier-League-J18-fps-2_00053_jpeg_jpg.rf.8951def8728a382cda2f0758351a1022.jpg  \n",
            "   creating: test/labels/\n",
            " extracting: test/labels/1-fps-2_00001_jpeg_jpg.rf.03aa7dfbdbc3d0a5482ea68a7f9a8a8d.txt  \n",
            " extracting: test/labels/1-fps-2_00014_jpeg_jpg.rf.2d7d526c69632431e3d987a764cbd4e1.txt  \n",
            " extracting: test/labels/1-fps-2_00022_jpeg_jpg.rf.cb129f66c83086ad73336e4c9a33fcc9.txt  \n",
            " extracting: test/labels/1-fps-2_00025_jpeg_jpg.rf.c9db4792d50f6c60789177a156787289.txt  \n",
            " extracting: test/labels/1-fps-2_00032_jpeg_jpg.rf.c59a43ff2bf0ca9963288bf3bd5f26d2.txt  \n",
            " extracting: test/labels/1-fps-2_00041_jpeg_jpg.rf.258946c9d6d154a606aa025253f5f082.txt  \n",
            " extracting: test/labels/1-fps-2_00055_jpeg_jpg.rf.51cc3c70b3e53f1e77362e14eefcd69d.txt  \n",
            " extracting: test/labels/1-fps-2_00208_jpeg_jpg.rf.825ddfdd451104ac9bdcf9271eb9798b.txt  \n",
            " extracting: test/labels/1-fps-2_00213_jpeg_jpg.rf.040437d85058edeeaf34d7274f77add3.txt  \n",
            " extracting: test/labels/1-fps-2_00267_jpeg_jpg.rf.1ece704258aa28a27c14c27d5c0c22e6.txt  \n",
            " extracting: test/labels/1-fps-2_00269_jpeg_jpg.rf.7cafcbbf190500cadd61b782cab4f5ef.txt  \n",
            " extracting: test/labels/1-fps-2_00282_jpeg_jpg.rf.9cf4f13ee9b57ecde4b2e6584722e835.txt  \n",
            " extracting: test/labels/1-fps-2_00339_jpeg_jpg.rf.7a78aba0034a7c3daf39140f6f7880eb.txt  \n",
            " extracting: test/labels/1-fps-2_00340_jpeg_jpg.rf.9faf7072461e57ab5cf5978ac2c36f6b.txt  \n",
            " extracting: test/labels/1-fps-2_00365_jpeg_jpg.rf.83371876b8ee1d217cfdfd681b3da442.txt  \n",
            " extracting: test/labels/yt1s-com---Resume-Liverpool-01-Burnley-Premier-League-J18-fps-2_00053_jpeg_jpg.rf.8951def8728a382cda2f0758351a1022.txt  \n",
            "   creating: train/\n",
            "   creating: train/images/\n",
            " extracting: train/images/1-fps-2_00002_jpeg_jpg.rf.a98431cc3adc463f14c49c8959890926.jpg  \n",
            " extracting: train/images/1-fps-2_00005_jpeg_jpg.rf.017542df0a9b465349d4bb286d6ee3f9.jpg  \n",
            " extracting: train/images/1-fps-2_00006_jpeg_jpg.rf.7b568d113bc6df4e9b96f76122c5d7ca.jpg  \n",
            " extracting: train/images/1-fps-2_00008_jpeg_jpg.rf.e7c88f759d70d12e5ebf0ff4594c34a7.jpg  \n",
            " extracting: train/images/1-fps-2_00009_jpeg_jpg.rf.d71d3754f416bda1b888abd93cb2c361.jpg  \n",
            " extracting: train/images/1-fps-2_00010_jpeg_jpg.rf.ba94afc303dd8b3a06544a7dc067e18d.jpg  \n",
            " extracting: train/images/1-fps-2_00011_jpeg_jpg.rf.f5710d17ac548bac2b9d519f61b34941.jpg  \n",
            " extracting: train/images/1-fps-2_00012_jpeg_jpg.rf.55a318244abfc6f56a1215ce6e1d0646.jpg  \n",
            " extracting: train/images/1-fps-2_00019_jpeg_jpg.rf.c01cacd63b91d9c5dd6f3bcdf52c0f81.jpg  \n",
            " extracting: train/images/1-fps-2_00021_jpeg_jpg.rf.b34fc1718d281dad2a6cbc59a57544a9.jpg  \n",
            " extracting: train/images/1-fps-2_00026_jpeg_jpg.rf.f6c3927a069c248c30e0a763e3cc5de7.jpg  \n",
            " extracting: train/images/1-fps-2_00027_jpeg_jpg.rf.674df20d691ca9a3b2b32719d5f57958.jpg  \n",
            " extracting: train/images/1-fps-2_00030_jpeg_jpg.rf.b81b5d728f85490d894a5a046f553d63.jpg  \n",
            " extracting: train/images/1-fps-2_00031_jpeg_jpg.rf.9cd3fcc705b9eed39e172395fd7b8ab5.jpg  \n",
            " extracting: train/images/1-fps-2_00033_jpeg_jpg.rf.17bc5c128e8a351808c463a4359b8cb8.jpg  \n",
            " extracting: train/images/1-fps-2_00034_jpeg_jpg.rf.1113fafe06e64276444b1388a52bf33e.jpg  \n",
            " extracting: train/images/1-fps-2_00035_jpeg_jpg.rf.32fae88ee47ebb1bb1197475101d9cf3.jpg  \n",
            " extracting: train/images/1-fps-2_00036_jpeg_jpg.rf.1ec0d97bec4830cd562966666061fee2.jpg  \n",
            " extracting: train/images/1-fps-2_00037_jpeg_jpg.rf.2c4ec602731dbddca0c7f3b948daa160.jpg  \n",
            " extracting: train/images/1-fps-2_00038_jpeg_jpg.rf.073d52d4e3a48453caf75c3625732ec2.jpg  \n",
            " extracting: train/images/1-fps-2_00039_jpeg_jpg.rf.7f5fce9b6ea640dc66714dc5f95a00a5.jpg  \n",
            " extracting: train/images/1-fps-2_00040_jpeg_jpg.rf.aaafb5506afe9fddc431fbd9dbcadb73.jpg  \n",
            " extracting: train/images/1-fps-2_00042_jpeg_jpg.rf.3c88453e7513ef5b27779058daece3a3.jpg  \n",
            " extracting: train/images/1-fps-2_00043_jpeg_jpg.rf.b0f35eab966277b6b7ad69504adb4209.jpg  \n",
            " extracting: train/images/1-fps-2_00044_jpeg_jpg.rf.58da8590e17687dd05c556d4a2a29fb2.jpg  \n",
            " extracting: train/images/1-fps-2_00045_jpeg_jpg.rf.024d4573e1a8ce924d9e5de16bfa01e9.jpg  \n",
            " extracting: train/images/1-fps-2_00047_jpeg_jpg.rf.25bd4d79e9bf92ddb8bb1b3e40928bed.jpg  \n",
            " extracting: train/images/1-fps-2_00048_jpeg_jpg.rf.88f427ce18057cd4ed9b07077e1b6c3e.jpg  \n",
            " extracting: train/images/1-fps-2_00049_jpeg_jpg.rf.0dba8e746d7b9d95ff115c5425178a21.jpg  \n",
            " extracting: train/images/1-fps-2_00050_jpeg_jpg.rf.89bddfad50db90e527015aa8cfa3d39a.jpg  \n",
            " extracting: train/images/1-fps-2_00051_jpeg_jpg.rf.9916e92f5658542eeb2d7a09dd528a54.jpg  \n",
            " extracting: train/images/1-fps-2_00052_jpeg_jpg.rf.cd0eb0cbca58408510c3b1c61c15fd10.jpg  \n",
            " extracting: train/images/1-fps-2_00054_jpeg_jpg.rf.87c5e45b04e157ec1c901fa4ee2b8453.jpg  \n",
            " extracting: train/images/1-fps-2_00124_jpeg_jpg.rf.9055e5b3dbd74c1efec2e3f9a6172a67.jpg  \n",
            " extracting: train/images/1-fps-2_00125_jpeg_jpg.rf.57fb222db7641bcf609afb1dd6aae0f9.jpg  \n",
            " extracting: train/images/1-fps-2_00176_jpeg_jpg.rf.aeb98e5d1bdee522a341ce18443bf467.jpg  \n",
            " extracting: train/images/1-fps-2_00181_jpeg_jpg.rf.4a4b5ff6f27e7d509957ac0ce9bd0a9f.jpg  \n",
            " extracting: train/images/1-fps-2_00183_jpeg_jpg.rf.a2808b38ae79fb27829bbfff466b3025.jpg  \n",
            " extracting: train/images/1-fps-2_00184_jpeg_jpg.rf.fe43edde3700299b32cacf7e1459dbce.jpg  \n",
            " extracting: train/images/1-fps-2_00185_jpeg_jpg.rf.a94aab7adf233bdc3e646c2f123d8a16.jpg  \n",
            " extracting: train/images/1-fps-2_00187_jpeg_jpg.rf.06c810f495c506181657101488c12987.jpg  \n",
            " extracting: train/images/1-fps-2_00190_jpeg_jpg.rf.7c34e796b39b60186a7785459d8ef391.jpg  \n",
            " extracting: train/images/1-fps-2_00191_jpeg_jpg.rf.ee386e6daf0b9d5111ab746c8005c763.jpg  \n",
            " extracting: train/images/1-fps-2_00192_jpeg_jpg.rf.b038ef05a1ed48a5e0d0e619b91e0995.jpg  \n",
            " extracting: train/images/1-fps-2_00197_jpeg_jpg.rf.c717c35f7c4f6a4a57f3ab834e2e7230.jpg  \n",
            " extracting: train/images/1-fps-2_00198_jpeg_jpg.rf.69a8145776d7b67ceca8185d8be2a0b0.jpg  \n",
            " extracting: train/images/1-fps-2_00199_jpeg_jpg.rf.129eee62ca834120db0b8dc36dcb325e.jpg  \n",
            " extracting: train/images/1-fps-2_00200_jpeg_jpg.rf.2bee9e339b5750cc867417e5ece82949.jpg  \n",
            " extracting: train/images/1-fps-2_00210_jpeg_jpg.rf.8819b1f648dbcaa8da7173942a4d2e94.jpg  \n",
            " extracting: train/images/1-fps-2_00212_jpeg_jpg.rf.6f2838e67867943fd86218e3607a4e0b.jpg  \n",
            " extracting: train/images/1-fps-2_00272_jpeg_jpg.rf.498a00d49bfc2420c235f7ca6a76f3f6.jpg  \n",
            " extracting: train/images/1-fps-2_00273_jpeg_jpg.rf.d9b6893e154624669dda2d7601749d23.jpg  \n",
            " extracting: train/images/1-fps-2_00274_jpeg_jpg.rf.1367a2d73024bd1aa51477e852c9ef1a.jpg  \n",
            " extracting: train/images/1-fps-2_00275_jpeg_jpg.rf.9768196d8136b827b101e32275a35c33.jpg  \n",
            " extracting: train/images/1-fps-2_00276_jpeg_jpg.rf.4918802f1bd9fddd4add0899d2c5d391.jpg  \n",
            " extracting: train/images/1-fps-2_00278_jpeg_jpg.rf.c5955f23015cd3e673128d993a145c64.jpg  \n",
            " extracting: train/images/1-fps-2_00279_jpeg_jpg.rf.7b2ebbc22cc6cf263b955ca7bdb68306.jpg  \n",
            " extracting: train/images/1-fps-2_00281_jpeg_jpg.rf.28a24afe560c4a9705d59de6e113bcb4.jpg  \n",
            " extracting: train/images/1-fps-2_00283_jpeg_jpg.rf.fd632edb32d63c535b90395df1279f96.jpg  \n",
            " extracting: train/images/1-fps-2_00308_jpeg_jpg.rf.1ee7e1ac1b8a8d422028706211535ec1.jpg  \n",
            " extracting: train/images/1-fps-2_00326_jpeg_jpg.rf.6d2fcf2381c0e57b73f39033c72cd88b.jpg  \n",
            " extracting: train/images/1-fps-2_00351_jpeg_jpg.rf.e48a620e0f979f44d280d88590edcdb0.jpg  \n",
            " extracting: train/images/1-fps-2_00354_jpeg_jpg.rf.67ab382f5323fb05f5dd473036b6c496.jpg  \n",
            " extracting: train/images/1-fps-2_00355_jpeg_jpg.rf.5c37a5d78914305e5694bb673203f352.jpg  \n",
            " extracting: train/images/1-fps-2_00356_jpeg_jpg.rf.68daf01718679f2b76487432f9a0eb9e.jpg  \n",
            " extracting: train/images/1-fps-2_00361_jpeg_jpg.rf.8899d5d0824227d29073b3a230f3cdc4.jpg  \n",
            " extracting: train/images/1-fps-2_00362_jpeg_jpg.rf.aff294a993709ce31c7099625eb856b0.jpg  \n",
            " extracting: train/images/1-fps-2_00363_jpeg_jpg.rf.8981121f2a5b6a8e7ba2098b1ed233c9.jpg  \n",
            " extracting: train/images/1-fps-2_00364_jpeg_jpg.rf.40ed631c876293f6cd532e8e9ffebf06.jpg  \n",
            " extracting: train/images/1-fps-2_00703_jpeg_jpg.rf.3c8b698270a15ebe76f506598e6163a3.jpg  \n",
            " extracting: train/images/1-fps-2_00704_jpeg_jpg.rf.585918a668c32b2a58770cabdced361e.jpg  \n",
            " extracting: train/images/1-fps-2_00705_jpeg_jpg.rf.bada4626465974c486cf46fd9eb05cb8.jpg  \n",
            " extracting: train/images/1-fps-2_00708_jpeg_jpg.rf.45b0c2baa17b567c03172ce81ed1cd93.jpg  \n",
            " extracting: train/images/1-fps-2_00709_jpeg_jpg.rf.a81962a83ad73f3827fe33edc284517c.jpg  \n",
            " extracting: train/images/1-fps-2_00716_jpeg_jpg.rf.4fe025b71626fe074ce496ce560f316b.jpg  \n",
            " extracting: train/images/1-fps-2_00718_jpeg_jpg.rf.511fcbac0c36e54b3b0946b9f850f7fb.jpg  \n",
            " extracting: train/images/1-fps-2_00719_jpeg_jpg.rf.c0adf3674659177656074d364ddb6303.jpg  \n",
            " extracting: train/images/1-fps-2_00722_jpeg_jpg.rf.099a2974c597239872e5f6cc55849e86.jpg  \n",
            " extracting: train/images/yt1s-com---Resume-Liverpool-01-Burnley-Premier-League-J18-fps-2_00050_jpeg_jpg.rf.a370f296518cb19d6bdc94583f7d7208.jpg  \n",
            " extracting: train/images/yt1s-com---Resume-Liverpool-01-Burnley-Premier-League-J18-fps-2_00051_jpeg_jpg.rf.b9ca8c4e1166f2e8e4a595b2ad56a0f3.jpg  \n",
            " extracting: train/images/yt1s-com---Resume-Liverpool-01-Burnley-Premier-League-J18-fps-2_00052_jpeg_jpg.rf.2e1cfa7c0cb2aaa80efd5e2d1cd9cd98.jpg  \n",
            " extracting: train/images/yt1s-com---Resume-Liverpool-01-Burnley-Premier-League-J18-fps-2_00055_jpeg_jpg.rf.016da73664243bad07c68ede13a585c9.jpg  \n",
            " extracting: train/images/yt1s-com---Resume-Liverpool-01-Burnley-Premier-League-J18-fps-2_00056_jpeg_jpg.rf.611a3ae5a96c4e5330ce59bfed283e77.jpg  \n",
            " extracting: train/images/yt1s-com---Resume-Liverpool-01-Burnley-Premier-League-J18-fps-2_00058_jpeg_jpg.rf.34fb2f33a1be840675281a3cf63ef798.jpg  \n",
            " extracting: train/images/yt1s-com---Resume-Liverpool-01-Burnley-Premier-League-J18-fps-2_00059_jpeg_jpg.rf.07f0d61ebd40bbd77a0f4c24ee57a719.jpg  \n",
            " extracting: train/images/yt1s-com---Resume-Liverpool-01-Burnley-Premier-League-J18-fps-2_00060_jpeg_jpg.rf.346ea119f88667ca538c502f238739a3.jpg  \n",
            " extracting: train/images/yt1s-com---Resume-Liverpool-01-Burnley-Premier-League-J18-fps-2_00061_jpeg_jpg.rf.127954ec6ae281b97a7fe3ee3d29f62a.jpg  \n",
            " extracting: train/images/yt1s-com---Resume-Liverpool-01-Burnley-Premier-League-J18-fps-2_00064_jpeg_jpg.rf.b5f9e666641cfe9abbad192f4982d5ea.jpg  \n",
            " extracting: train/images/yt1s-com---Resume-Liverpool-01-Burnley-Premier-League-J18-fps-2_00065_jpeg_jpg.rf.9baa438761b3937948feac85c481f3c6.jpg  \n",
            " extracting: train/images/yt1s-com---Resume-Liverpool-14-Manchester-City-Premier-League-J23-fps-2_00004_jpeg_jpg.rf.8fa79330342c04aa233fd11fd1529002.jpg  \n",
            " extracting: train/images/yt1s-com---Resume-Liverpool-14-Manchester-City-Premier-League-J23-fps-2_00006_jpeg_jpg.rf.07530cc782e001303a361d717472fa3e.jpg  \n",
            " extracting: train/images/yt1s-com---Resume-Liverpool-14-Manchester-City-Premier-League-J23-fps-2_00008_jpeg_jpg.rf.1255ddd887ca9a46988f950dc868daaa.jpg  \n",
            " extracting: train/images/yt1s-com---Resume-Liverpool-14-Manchester-City-Premier-League-J23-fps-2_00012_jpeg_jpg.rf.5c7b7b7bd7882879f659c31b31c0e9d2.jpg  \n",
            " extracting: train/images/yt1s-com---Resume-Liverpool-14-Manchester-City-Premier-League-J23-fps-2_00013_jpeg_jpg.rf.7f13de47ca17afdc88e29dfbb8541b52.jpg  \n",
            " extracting: train/images/yt1s-com---Resume-Liverpool-14-Manchester-City-Premier-League-J23-fps-2_00014_jpeg_jpg.rf.944bb8311f2a212a0ddaf06859dc8eca.jpg  \n",
            " extracting: train/images/yt1s-com---Resume-Liverpool-14-Manchester-City-Premier-League-J23-fps-2_00015_jpeg_jpg.rf.ba5b7f304c395e4dda9c720f1a9b2757.jpg  \n",
            " extracting: train/images/yt1s-com---Resume-Liverpool-14-Manchester-City-Premier-League-J23-fps-2_00016_jpeg_jpg.rf.a97c904d4531184145dce9db96503807.jpg  \n",
            " extracting: train/images/yt1s-com---Resume-Liverpool-14-Manchester-City-Premier-League-J23-fps-2_00017_jpeg_jpg.rf.e3f14f647b073703eb115058da64bb68.jpg  \n",
            " extracting: train/images/yt1s-com---Resume-Liverpool-14-Manchester-City-Premier-League-J23-fps-2_00018_jpeg_jpg.rf.80d1c4847eb5ba841c618caf6eb1ea17.jpg  \n",
            " extracting: train/images/yt1s-com---Resume-Liverpool-14-Manchester-City-Premier-League-J23-fps-2_00029_jpeg_jpg.rf.c2ca07013e284dcf76879aa91695df38.jpg  \n",
            " extracting: train/images/yt1s-com---Resume-Liverpool-14-Manchester-City-Premier-League-J23-fps-2_00030_jpeg_jpg.rf.170972b796ca2e08fb4d3d2aac2a6dde.jpg  \n",
            " extracting: train/images/yt1s-com---Resume-Tottenham-20-West-Bromwich-Premier-League-J23_720p-fps-2_00002_jpeg_jpg.rf.87f63e46d5d368bc2274f2a520843a52.jpg  \n",
            " extracting: train/images/yt1s-com---Resume-Tottenham-20-West-Bromwich-Premier-League-J23_720p-fps-2_00005_jpeg_jpg.rf.71648c97ab7bd9183be60e29ee41e6a2.jpg  \n",
            " extracting: train/images/yt1s-com---Resume-Tottenham-20-West-Bromwich-Premier-League-J23_720p-fps-2_00006_jpeg_jpg.rf.8bb8329e2f68877371704f69b9e24b6e.jpg  \n",
            " extracting: train/images/yt1s-com---Resume-Tottenham-20-West-Bromwich-Premier-League-J23_720p-fps-2_00007_jpeg_jpg.rf.bc7ff1d45ae1a94605c263bdd3340ec0.jpg  \n",
            " extracting: train/images/yt1s-com---Resume-Tottenham-20-West-Bromwich-Premier-League-J23_720p-fps-2_00008_jpeg_jpg.rf.0e903fc079bd684ca8ba83552e036571.jpg  \n",
            " extracting: train/images/yt1s-com---Resume-Tottenham-20-West-Bromwich-Premier-League-J23_720p-fps-2_00011_jpeg_jpg.rf.9bc9b6b850972861c6a81e673d624091.jpg  \n",
            " extracting: train/images/yt1s-com---Resume-Tottenham-20-West-Bromwich-Premier-League-J23_720p-fps-2_00013_jpeg_jpg.rf.b3db5a00d7132c91b01909df234f8b6f.jpg  \n",
            " extracting: train/images/yt1s-com---Resume-Tottenham-20-West-Bromwich-Premier-League-J23_720p-fps-2_00014_jpeg_jpg.rf.b805b6eae83e7894549e79c57997e3f4.jpg  \n",
            " extracting: train/images/yt1s-com---Resume-Tottenham-20-West-Bromwich-Premier-League-J23_720p-fps-2_00015_jpeg_jpg.rf.b4e355cab3e6d3c88c098e9bcdd0c7df.jpg  \n",
            " extracting: train/images/yt1s-com---Resume-Tottenham-20-West-Bromwich-Premier-League-J23_720p-fps-2_00022_jpeg_jpg.rf.dfdddd68af4d851171f723ce96948103.jpg  \n",
            " extracting: train/images/yt1s-com---Resume-Tottenham-20-West-Bromwich-Premier-League-J23_720p-fps-2_00043_jpeg_jpg.rf.d2c6f6ee5a0fb315cc4e110b16398e8f.jpg  \n",
            " extracting: train/images/yt1s-com---Resume-Tottenham-20-West-Bromwich-Premier-League-J23_720p-fps-2_00044_jpeg_jpg.rf.9eb1e2a1127e533048f349eb4efa38e0.jpg  \n",
            " extracting: train/images/yt1s-com---Resume-Tottenham-20-West-Bromwich-Premier-League-J23_720p-fps-2_00045_jpeg_jpg.rf.48653772a7df35c2b1b91efe83a4b92b.jpg  \n",
            "   creating: train/labels/\n",
            " extracting: train/labels/1-fps-2_00002_jpeg_jpg.rf.a98431cc3adc463f14c49c8959890926.txt  \n",
            " extracting: train/labels/1-fps-2_00005_jpeg_jpg.rf.017542df0a9b465349d4bb286d6ee3f9.txt  \n",
            " extracting: train/labels/1-fps-2_00006_jpeg_jpg.rf.7b568d113bc6df4e9b96f76122c5d7ca.txt  \n",
            " extracting: train/labels/1-fps-2_00008_jpeg_jpg.rf.e7c88f759d70d12e5ebf0ff4594c34a7.txt  \n",
            " extracting: train/labels/1-fps-2_00009_jpeg_jpg.rf.d71d3754f416bda1b888abd93cb2c361.txt  \n",
            " extracting: train/labels/1-fps-2_00010_jpeg_jpg.rf.ba94afc303dd8b3a06544a7dc067e18d.txt  \n",
            " extracting: train/labels/1-fps-2_00011_jpeg_jpg.rf.f5710d17ac548bac2b9d519f61b34941.txt  \n",
            " extracting: train/labels/1-fps-2_00012_jpeg_jpg.rf.55a318244abfc6f56a1215ce6e1d0646.txt  \n",
            " extracting: train/labels/1-fps-2_00019_jpeg_jpg.rf.c01cacd63b91d9c5dd6f3bcdf52c0f81.txt  \n",
            " extracting: train/labels/1-fps-2_00021_jpeg_jpg.rf.b34fc1718d281dad2a6cbc59a57544a9.txt  \n",
            " extracting: train/labels/1-fps-2_00026_jpeg_jpg.rf.f6c3927a069c248c30e0a763e3cc5de7.txt  \n",
            " extracting: train/labels/1-fps-2_00027_jpeg_jpg.rf.674df20d691ca9a3b2b32719d5f57958.txt  \n",
            " extracting: train/labels/1-fps-2_00030_jpeg_jpg.rf.b81b5d728f85490d894a5a046f553d63.txt  \n",
            " extracting: train/labels/1-fps-2_00031_jpeg_jpg.rf.9cd3fcc705b9eed39e172395fd7b8ab5.txt  \n",
            " extracting: train/labels/1-fps-2_00033_jpeg_jpg.rf.17bc5c128e8a351808c463a4359b8cb8.txt  \n",
            " extracting: train/labels/1-fps-2_00034_jpeg_jpg.rf.1113fafe06e64276444b1388a52bf33e.txt  \n",
            " extracting: train/labels/1-fps-2_00035_jpeg_jpg.rf.32fae88ee47ebb1bb1197475101d9cf3.txt  \n",
            " extracting: train/labels/1-fps-2_00036_jpeg_jpg.rf.1ec0d97bec4830cd562966666061fee2.txt  \n",
            " extracting: train/labels/1-fps-2_00037_jpeg_jpg.rf.2c4ec602731dbddca0c7f3b948daa160.txt  \n",
            " extracting: train/labels/1-fps-2_00038_jpeg_jpg.rf.073d52d4e3a48453caf75c3625732ec2.txt  \n",
            " extracting: train/labels/1-fps-2_00039_jpeg_jpg.rf.7f5fce9b6ea640dc66714dc5f95a00a5.txt  \n",
            " extracting: train/labels/1-fps-2_00040_jpeg_jpg.rf.aaafb5506afe9fddc431fbd9dbcadb73.txt  \n",
            " extracting: train/labels/1-fps-2_00042_jpeg_jpg.rf.3c88453e7513ef5b27779058daece3a3.txt  \n",
            " extracting: train/labels/1-fps-2_00043_jpeg_jpg.rf.b0f35eab966277b6b7ad69504adb4209.txt  \n",
            " extracting: train/labels/1-fps-2_00044_jpeg_jpg.rf.58da8590e17687dd05c556d4a2a29fb2.txt  \n",
            " extracting: train/labels/1-fps-2_00045_jpeg_jpg.rf.024d4573e1a8ce924d9e5de16bfa01e9.txt  \n",
            " extracting: train/labels/1-fps-2_00047_jpeg_jpg.rf.25bd4d79e9bf92ddb8bb1b3e40928bed.txt  \n",
            " extracting: train/labels/1-fps-2_00048_jpeg_jpg.rf.88f427ce18057cd4ed9b07077e1b6c3e.txt  \n",
            " extracting: train/labels/1-fps-2_00049_jpeg_jpg.rf.0dba8e746d7b9d95ff115c5425178a21.txt  \n",
            " extracting: train/labels/1-fps-2_00050_jpeg_jpg.rf.89bddfad50db90e527015aa8cfa3d39a.txt  \n",
            " extracting: train/labels/1-fps-2_00051_jpeg_jpg.rf.9916e92f5658542eeb2d7a09dd528a54.txt  \n",
            " extracting: train/labels/1-fps-2_00052_jpeg_jpg.rf.cd0eb0cbca58408510c3b1c61c15fd10.txt  \n",
            " extracting: train/labels/1-fps-2_00054_jpeg_jpg.rf.87c5e45b04e157ec1c901fa4ee2b8453.txt  \n",
            " extracting: train/labels/1-fps-2_00124_jpeg_jpg.rf.9055e5b3dbd74c1efec2e3f9a6172a67.txt  \n",
            " extracting: train/labels/1-fps-2_00125_jpeg_jpg.rf.57fb222db7641bcf609afb1dd6aae0f9.txt  \n",
            " extracting: train/labels/1-fps-2_00176_jpeg_jpg.rf.aeb98e5d1bdee522a341ce18443bf467.txt  \n",
            " extracting: train/labels/1-fps-2_00181_jpeg_jpg.rf.4a4b5ff6f27e7d509957ac0ce9bd0a9f.txt  \n",
            " extracting: train/labels/1-fps-2_00183_jpeg_jpg.rf.a2808b38ae79fb27829bbfff466b3025.txt  \n",
            " extracting: train/labels/1-fps-2_00184_jpeg_jpg.rf.fe43edde3700299b32cacf7e1459dbce.txt  \n",
            " extracting: train/labels/1-fps-2_00185_jpeg_jpg.rf.a94aab7adf233bdc3e646c2f123d8a16.txt  \n",
            " extracting: train/labels/1-fps-2_00187_jpeg_jpg.rf.06c810f495c506181657101488c12987.txt  \n",
            " extracting: train/labels/1-fps-2_00190_jpeg_jpg.rf.7c34e796b39b60186a7785459d8ef391.txt  \n",
            " extracting: train/labels/1-fps-2_00191_jpeg_jpg.rf.ee386e6daf0b9d5111ab746c8005c763.txt  \n",
            " extracting: train/labels/1-fps-2_00192_jpeg_jpg.rf.b038ef05a1ed48a5e0d0e619b91e0995.txt  \n",
            " extracting: train/labels/1-fps-2_00197_jpeg_jpg.rf.c717c35f7c4f6a4a57f3ab834e2e7230.txt  \n",
            " extracting: train/labels/1-fps-2_00198_jpeg_jpg.rf.69a8145776d7b67ceca8185d8be2a0b0.txt  \n",
            " extracting: train/labels/1-fps-2_00199_jpeg_jpg.rf.129eee62ca834120db0b8dc36dcb325e.txt  \n",
            " extracting: train/labels/1-fps-2_00200_jpeg_jpg.rf.2bee9e339b5750cc867417e5ece82949.txt  \n",
            " extracting: train/labels/1-fps-2_00210_jpeg_jpg.rf.8819b1f648dbcaa8da7173942a4d2e94.txt  \n",
            " extracting: train/labels/1-fps-2_00212_jpeg_jpg.rf.6f2838e67867943fd86218e3607a4e0b.txt  \n",
            " extracting: train/labels/1-fps-2_00272_jpeg_jpg.rf.498a00d49bfc2420c235f7ca6a76f3f6.txt  \n",
            " extracting: train/labels/1-fps-2_00273_jpeg_jpg.rf.d9b6893e154624669dda2d7601749d23.txt  \n",
            " extracting: train/labels/1-fps-2_00274_jpeg_jpg.rf.1367a2d73024bd1aa51477e852c9ef1a.txt  \n",
            " extracting: train/labels/1-fps-2_00275_jpeg_jpg.rf.9768196d8136b827b101e32275a35c33.txt  \n",
            " extracting: train/labels/1-fps-2_00276_jpeg_jpg.rf.4918802f1bd9fddd4add0899d2c5d391.txt  \n",
            " extracting: train/labels/1-fps-2_00278_jpeg_jpg.rf.c5955f23015cd3e673128d993a145c64.txt  \n",
            " extracting: train/labels/1-fps-2_00279_jpeg_jpg.rf.7b2ebbc22cc6cf263b955ca7bdb68306.txt  \n",
            " extracting: train/labels/1-fps-2_00281_jpeg_jpg.rf.28a24afe560c4a9705d59de6e113bcb4.txt  \n",
            " extracting: train/labels/1-fps-2_00283_jpeg_jpg.rf.fd632edb32d63c535b90395df1279f96.txt  \n",
            " extracting: train/labels/1-fps-2_00308_jpeg_jpg.rf.1ee7e1ac1b8a8d422028706211535ec1.txt  \n",
            " extracting: train/labels/1-fps-2_00326_jpeg_jpg.rf.6d2fcf2381c0e57b73f39033c72cd88b.txt  \n",
            " extracting: train/labels/1-fps-2_00351_jpeg_jpg.rf.e48a620e0f979f44d280d88590edcdb0.txt  \n",
            " extracting: train/labels/1-fps-2_00354_jpeg_jpg.rf.67ab382f5323fb05f5dd473036b6c496.txt  \n",
            " extracting: train/labels/1-fps-2_00355_jpeg_jpg.rf.5c37a5d78914305e5694bb673203f352.txt  \n",
            " extracting: train/labels/1-fps-2_00356_jpeg_jpg.rf.68daf01718679f2b76487432f9a0eb9e.txt  \n",
            " extracting: train/labels/1-fps-2_00361_jpeg_jpg.rf.8899d5d0824227d29073b3a230f3cdc4.txt  \n",
            " extracting: train/labels/1-fps-2_00362_jpeg_jpg.rf.aff294a993709ce31c7099625eb856b0.txt  \n",
            " extracting: train/labels/1-fps-2_00363_jpeg_jpg.rf.8981121f2a5b6a8e7ba2098b1ed233c9.txt  \n",
            " extracting: train/labels/1-fps-2_00364_jpeg_jpg.rf.40ed631c876293f6cd532e8e9ffebf06.txt  \n",
            " extracting: train/labels/1-fps-2_00703_jpeg_jpg.rf.3c8b698270a15ebe76f506598e6163a3.txt  \n",
            " extracting: train/labels/1-fps-2_00704_jpeg_jpg.rf.585918a668c32b2a58770cabdced361e.txt  \n",
            " extracting: train/labels/1-fps-2_00705_jpeg_jpg.rf.bada4626465974c486cf46fd9eb05cb8.txt  \n",
            " extracting: train/labels/1-fps-2_00708_jpeg_jpg.rf.45b0c2baa17b567c03172ce81ed1cd93.txt  \n",
            " extracting: train/labels/1-fps-2_00709_jpeg_jpg.rf.a81962a83ad73f3827fe33edc284517c.txt  \n",
            " extracting: train/labels/1-fps-2_00716_jpeg_jpg.rf.4fe025b71626fe074ce496ce560f316b.txt  \n",
            " extracting: train/labels/1-fps-2_00718_jpeg_jpg.rf.511fcbac0c36e54b3b0946b9f850f7fb.txt  \n",
            " extracting: train/labels/1-fps-2_00719_jpeg_jpg.rf.c0adf3674659177656074d364ddb6303.txt  \n",
            " extracting: train/labels/1-fps-2_00722_jpeg_jpg.rf.099a2974c597239872e5f6cc55849e86.txt  \n",
            " extracting: train/labels/yt1s-com---Resume-Liverpool-01-Burnley-Premier-League-J18-fps-2_00050_jpeg_jpg.rf.a370f296518cb19d6bdc94583f7d7208.txt  \n",
            " extracting: train/labels/yt1s-com---Resume-Liverpool-01-Burnley-Premier-League-J18-fps-2_00051_jpeg_jpg.rf.b9ca8c4e1166f2e8e4a595b2ad56a0f3.txt  \n",
            " extracting: train/labels/yt1s-com---Resume-Liverpool-01-Burnley-Premier-League-J18-fps-2_00052_jpeg_jpg.rf.2e1cfa7c0cb2aaa80efd5e2d1cd9cd98.txt  \n",
            " extracting: train/labels/yt1s-com---Resume-Liverpool-01-Burnley-Premier-League-J18-fps-2_00055_jpeg_jpg.rf.016da73664243bad07c68ede13a585c9.txt  \n",
            " extracting: train/labels/yt1s-com---Resume-Liverpool-01-Burnley-Premier-League-J18-fps-2_00056_jpeg_jpg.rf.611a3ae5a96c4e5330ce59bfed283e77.txt  \n",
            " extracting: train/labels/yt1s-com---Resume-Liverpool-01-Burnley-Premier-League-J18-fps-2_00058_jpeg_jpg.rf.34fb2f33a1be840675281a3cf63ef798.txt  \n",
            " extracting: train/labels/yt1s-com---Resume-Liverpool-01-Burnley-Premier-League-J18-fps-2_00059_jpeg_jpg.rf.07f0d61ebd40bbd77a0f4c24ee57a719.txt  \n",
            " extracting: train/labels/yt1s-com---Resume-Liverpool-01-Burnley-Premier-League-J18-fps-2_00060_jpeg_jpg.rf.346ea119f88667ca538c502f238739a3.txt  \n",
            " extracting: train/labels/yt1s-com---Resume-Liverpool-01-Burnley-Premier-League-J18-fps-2_00061_jpeg_jpg.rf.127954ec6ae281b97a7fe3ee3d29f62a.txt  \n",
            " extracting: train/labels/yt1s-com---Resume-Liverpool-01-Burnley-Premier-League-J18-fps-2_00064_jpeg_jpg.rf.b5f9e666641cfe9abbad192f4982d5ea.txt  \n",
            " extracting: train/labels/yt1s-com---Resume-Liverpool-01-Burnley-Premier-League-J18-fps-2_00065_jpeg_jpg.rf.9baa438761b3937948feac85c481f3c6.txt  \n",
            " extracting: train/labels/yt1s-com---Resume-Liverpool-14-Manchester-City-Premier-League-J23-fps-2_00004_jpeg_jpg.rf.8fa79330342c04aa233fd11fd1529002.txt  \n",
            " extracting: train/labels/yt1s-com---Resume-Liverpool-14-Manchester-City-Premier-League-J23-fps-2_00006_jpeg_jpg.rf.07530cc782e001303a361d717472fa3e.txt  \n",
            " extracting: train/labels/yt1s-com---Resume-Liverpool-14-Manchester-City-Premier-League-J23-fps-2_00008_jpeg_jpg.rf.1255ddd887ca9a46988f950dc868daaa.txt  \n",
            " extracting: train/labels/yt1s-com---Resume-Liverpool-14-Manchester-City-Premier-League-J23-fps-2_00012_jpeg_jpg.rf.5c7b7b7bd7882879f659c31b31c0e9d2.txt  \n",
            " extracting: train/labels/yt1s-com---Resume-Liverpool-14-Manchester-City-Premier-League-J23-fps-2_00013_jpeg_jpg.rf.7f13de47ca17afdc88e29dfbb8541b52.txt  \n",
            " extracting: train/labels/yt1s-com---Resume-Liverpool-14-Manchester-City-Premier-League-J23-fps-2_00014_jpeg_jpg.rf.944bb8311f2a212a0ddaf06859dc8eca.txt  \n",
            " extracting: train/labels/yt1s-com---Resume-Liverpool-14-Manchester-City-Premier-League-J23-fps-2_00015_jpeg_jpg.rf.ba5b7f304c395e4dda9c720f1a9b2757.txt  \n",
            " extracting: train/labels/yt1s-com---Resume-Liverpool-14-Manchester-City-Premier-League-J23-fps-2_00016_jpeg_jpg.rf.a97c904d4531184145dce9db96503807.txt  \n",
            " extracting: train/labels/yt1s-com---Resume-Liverpool-14-Manchester-City-Premier-League-J23-fps-2_00017_jpeg_jpg.rf.e3f14f647b073703eb115058da64bb68.txt  \n",
            " extracting: train/labels/yt1s-com---Resume-Liverpool-14-Manchester-City-Premier-League-J23-fps-2_00018_jpeg_jpg.rf.80d1c4847eb5ba841c618caf6eb1ea17.txt  \n",
            " extracting: train/labels/yt1s-com---Resume-Liverpool-14-Manchester-City-Premier-League-J23-fps-2_00029_jpeg_jpg.rf.c2ca07013e284dcf76879aa91695df38.txt  \n",
            " extracting: train/labels/yt1s-com---Resume-Liverpool-14-Manchester-City-Premier-League-J23-fps-2_00030_jpeg_jpg.rf.170972b796ca2e08fb4d3d2aac2a6dde.txt  \n",
            " extracting: train/labels/yt1s-com---Resume-Tottenham-20-West-Bromwich-Premier-League-J23_720p-fps-2_00002_jpeg_jpg.rf.87f63e46d5d368bc2274f2a520843a52.txt  \n",
            " extracting: train/labels/yt1s-com---Resume-Tottenham-20-West-Bromwich-Premier-League-J23_720p-fps-2_00005_jpeg_jpg.rf.71648c97ab7bd9183be60e29ee41e6a2.txt  \n",
            " extracting: train/labels/yt1s-com---Resume-Tottenham-20-West-Bromwich-Premier-League-J23_720p-fps-2_00006_jpeg_jpg.rf.8bb8329e2f68877371704f69b9e24b6e.txt  \n",
            " extracting: train/labels/yt1s-com---Resume-Tottenham-20-West-Bromwich-Premier-League-J23_720p-fps-2_00007_jpeg_jpg.rf.bc7ff1d45ae1a94605c263bdd3340ec0.txt  \n",
            " extracting: train/labels/yt1s-com---Resume-Tottenham-20-West-Bromwich-Premier-League-J23_720p-fps-2_00008_jpeg_jpg.rf.0e903fc079bd684ca8ba83552e036571.txt  \n",
            " extracting: train/labels/yt1s-com---Resume-Tottenham-20-West-Bromwich-Premier-League-J23_720p-fps-2_00011_jpeg_jpg.rf.9bc9b6b850972861c6a81e673d624091.txt  \n",
            " extracting: train/labels/yt1s-com---Resume-Tottenham-20-West-Bromwich-Premier-League-J23_720p-fps-2_00013_jpeg_jpg.rf.b3db5a00d7132c91b01909df234f8b6f.txt  \n",
            " extracting: train/labels/yt1s-com---Resume-Tottenham-20-West-Bromwich-Premier-League-J23_720p-fps-2_00014_jpeg_jpg.rf.b805b6eae83e7894549e79c57997e3f4.txt  \n",
            " extracting: train/labels/yt1s-com---Resume-Tottenham-20-West-Bromwich-Premier-League-J23_720p-fps-2_00015_jpeg_jpg.rf.b4e355cab3e6d3c88c098e9bcdd0c7df.txt  \n",
            " extracting: train/labels/yt1s-com---Resume-Tottenham-20-West-Bromwich-Premier-League-J23_720p-fps-2_00022_jpeg_jpg.rf.dfdddd68af4d851171f723ce96948103.txt  \n",
            " extracting: train/labels/yt1s-com---Resume-Tottenham-20-West-Bromwich-Premier-League-J23_720p-fps-2_00043_jpeg_jpg.rf.d2c6f6ee5a0fb315cc4e110b16398e8f.txt  \n",
            " extracting: train/labels/yt1s-com---Resume-Tottenham-20-West-Bromwich-Premier-League-J23_720p-fps-2_00044_jpeg_jpg.rf.9eb1e2a1127e533048f349eb4efa38e0.txt  \n",
            " extracting: train/labels/yt1s-com---Resume-Tottenham-20-West-Bromwich-Premier-League-J23_720p-fps-2_00045_jpeg_jpg.rf.48653772a7df35c2b1b91efe83a4b92b.txt  \n",
            "   creating: valid/\n",
            "   creating: valid/images/\n",
            " extracting: valid/images/1-fps-2_00007_jpeg_jpg.rf.4806a19c10009675be12cfc66d372e4c.jpg  \n",
            " extracting: valid/images/1-fps-2_00013_jpeg_jpg.rf.91f6f7a8c4bb133201792ce32a7606ff.jpg  \n",
            " extracting: valid/images/1-fps-2_00015_jpeg_jpg.rf.30d37d1513ef945226c4a162fa4cc3d4.jpg  \n",
            " extracting: valid/images/1-fps-2_00020_jpeg_jpg.rf.55c5c289dfe1973a6d56c0eb5c6e0569.jpg  \n",
            " extracting: valid/images/1-fps-2_00023_jpeg_jpg.rf.d1ec6b8714b90677c61169cc86e741c0.jpg  \n",
            " extracting: valid/images/1-fps-2_00024_jpeg_jpg.rf.de8ca186a8f02b3a68755e3e948da150.jpg  \n",
            " extracting: valid/images/1-fps-2_00046_jpeg_jpg.rf.0d143c70bc33cf3485b269d3ac93ae05.jpg  \n",
            " extracting: valid/images/1-fps-2_00053_jpeg_jpg.rf.a1d7b6abe9a07e226061c080b1fcab48.jpg  \n",
            " extracting: valid/images/1-fps-2_00175_jpeg_jpg.rf.f288a7075776471fff01e854f5ae2c43.jpg  \n",
            " extracting: valid/images/1-fps-2_00177_jpeg_jpg.rf.4f92e155861a6a42f82b382171466c56.jpg  \n",
            " extracting: valid/images/1-fps-2_00182_jpeg_jpg.rf.d6be46dc9de131dfec66e34e1123bb2b.jpg  \n",
            " extracting: valid/images/1-fps-2_00186_jpeg_jpg.rf.dd9360d181ac336e4b397986b515230b.jpg  \n",
            " extracting: valid/images/1-fps-2_00211_jpeg_jpg.rf.dca1d867fd266bd10d32d8220820993c.jpg  \n",
            " extracting: valid/images/1-fps-2_00235_jpeg_jpg.rf.d1f1aee67217c1fd2dddb291cb0cd08e.jpg  \n",
            " extracting: valid/images/1-fps-2_00270_jpeg_jpg.rf.06cc207f930ff387d18c977c8796865d.jpg  \n",
            " extracting: valid/images/1-fps-2_00271_jpeg_jpg.rf.902cf39bf796f31d632233da018f8c45.jpg  \n",
            " extracting: valid/images/1-fps-2_00277_jpeg_jpg.rf.c4012dcf3947afb1106daa5a596486a5.jpg  \n",
            " extracting: valid/images/1-fps-2_00284_jpeg_jpg.rf.94d9c68182a489e75dbee1e61518928f.jpg  \n",
            " extracting: valid/images/1-fps-2_00307_jpeg_jpg.rf.a3e1d09b2cf6c8e54814f2a31ac00b7e.jpg  \n",
            " extracting: valid/images/1-fps-2_00350_jpeg_jpg.rf.96e9ef77e14c44174499c8a6bb21162d.jpg  \n",
            " extracting: valid/images/1-fps-2_00353_jpeg_jpg.rf.b125300d659a378e48914389d3854266.jpg  \n",
            " extracting: valid/images/1-fps-2_00366_jpeg_jpg.rf.8b13c6522c8dd203d9648e7073acf661.jpg  \n",
            " extracting: valid/images/1-fps-2_00706_jpeg_jpg.rf.d226c06648185fa08623321ad0328b26.jpg  \n",
            " extracting: valid/images/2-fps-2_04600_jpeg_jpg.rf.500168377af3a859ff0cd4caa3689200.jpg  \n",
            " extracting: valid/images/yt1s-com---Resume-Liverpool-01-Burnley-Premier-League-J18-fps-2_00049_jpeg_jpg.rf.557125a0920f2addc37a4d222f90118c.jpg  \n",
            " extracting: valid/images/yt1s-com---Resume-Liverpool-01-Burnley-Premier-League-J18-fps-2_00054_jpeg_jpg.rf.f9316318057df5fe7d9a3488d15417b7.jpg  \n",
            " extracting: valid/images/yt1s-com---Resume-Liverpool-01-Burnley-Premier-League-J18-fps-2_00057_jpeg_jpg.rf.27fc3b322365cf1bb908a4055c9ddffa.jpg  \n",
            " extracting: valid/images/yt1s-com---Resume-Liverpool-14-Manchester-City-Premier-League-J23-fps-2_00002_jpeg_jpg.rf.e6f0b8bc2ad1a781a3be8f525c6ead06.jpg  \n",
            " extracting: valid/images/yt1s-com---Resume-Liverpool-14-Manchester-City-Premier-League-J23-fps-2_00003_jpeg_jpg.rf.2fbd7c382aa4daad0fc9d66a2f6c7fda.jpg  \n",
            " extracting: valid/images/yt1s-com---Resume-Liverpool-14-Manchester-City-Premier-League-J23-fps-2_00005_jpeg_jpg.rf.f2853034d3906f30dad42ab257b25eb1.jpg  \n",
            " extracting: valid/images/yt1s-com---Resume-Liverpool-14-Manchester-City-Premier-League-J23-fps-2_00007_jpeg_jpg.rf.d40a3617cdccae208e874b56eb743fca.jpg  \n",
            " extracting: valid/images/yt1s-com---Resume-Liverpool-14-Manchester-City-Premier-League-J23-fps-2_00028_jpeg_jpg.rf.0f666dae5faa3bdeaef127e4156bf6c5.jpg  \n",
            " extracting: valid/images/yt1s-com---Resume-Tottenham-20-West-Bromwich-Premier-League-J23_720p-fps-2_00010_jpeg_jpg.rf.5a779a1646f89e84300971cffc7d104b.jpg  \n",
            "   creating: valid/labels/\n",
            " extracting: valid/labels/1-fps-2_00007_jpeg_jpg.rf.4806a19c10009675be12cfc66d372e4c.txt  \n",
            " extracting: valid/labels/1-fps-2_00013_jpeg_jpg.rf.91f6f7a8c4bb133201792ce32a7606ff.txt  \n",
            " extracting: valid/labels/1-fps-2_00015_jpeg_jpg.rf.30d37d1513ef945226c4a162fa4cc3d4.txt  \n",
            " extracting: valid/labels/1-fps-2_00020_jpeg_jpg.rf.55c5c289dfe1973a6d56c0eb5c6e0569.txt  \n",
            " extracting: valid/labels/1-fps-2_00023_jpeg_jpg.rf.d1ec6b8714b90677c61169cc86e741c0.txt  \n",
            " extracting: valid/labels/1-fps-2_00024_jpeg_jpg.rf.de8ca186a8f02b3a68755e3e948da150.txt  \n",
            " extracting: valid/labels/1-fps-2_00046_jpeg_jpg.rf.0d143c70bc33cf3485b269d3ac93ae05.txt  \n",
            " extracting: valid/labels/1-fps-2_00053_jpeg_jpg.rf.a1d7b6abe9a07e226061c080b1fcab48.txt  \n",
            " extracting: valid/labels/1-fps-2_00175_jpeg_jpg.rf.f288a7075776471fff01e854f5ae2c43.txt  \n",
            " extracting: valid/labels/1-fps-2_00177_jpeg_jpg.rf.4f92e155861a6a42f82b382171466c56.txt  \n",
            " extracting: valid/labels/1-fps-2_00182_jpeg_jpg.rf.d6be46dc9de131dfec66e34e1123bb2b.txt  \n",
            " extracting: valid/labels/1-fps-2_00186_jpeg_jpg.rf.dd9360d181ac336e4b397986b515230b.txt  \n",
            " extracting: valid/labels/1-fps-2_00211_jpeg_jpg.rf.dca1d867fd266bd10d32d8220820993c.txt  \n",
            " extracting: valid/labels/1-fps-2_00235_jpeg_jpg.rf.d1f1aee67217c1fd2dddb291cb0cd08e.txt  \n",
            " extracting: valid/labels/1-fps-2_00270_jpeg_jpg.rf.06cc207f930ff387d18c977c8796865d.txt  \n",
            " extracting: valid/labels/1-fps-2_00271_jpeg_jpg.rf.902cf39bf796f31d632233da018f8c45.txt  \n",
            " extracting: valid/labels/1-fps-2_00277_jpeg_jpg.rf.c4012dcf3947afb1106daa5a596486a5.txt  \n",
            " extracting: valid/labels/1-fps-2_00284_jpeg_jpg.rf.94d9c68182a489e75dbee1e61518928f.txt  \n",
            " extracting: valid/labels/1-fps-2_00307_jpeg_jpg.rf.a3e1d09b2cf6c8e54814f2a31ac00b7e.txt  \n",
            " extracting: valid/labels/1-fps-2_00350_jpeg_jpg.rf.96e9ef77e14c44174499c8a6bb21162d.txt  \n",
            " extracting: valid/labels/1-fps-2_00353_jpeg_jpg.rf.b125300d659a378e48914389d3854266.txt  \n",
            " extracting: valid/labels/1-fps-2_00366_jpeg_jpg.rf.8b13c6522c8dd203d9648e7073acf661.txt  \n",
            " extracting: valid/labels/1-fps-2_00706_jpeg_jpg.rf.d226c06648185fa08623321ad0328b26.txt  \n",
            " extracting: valid/labels/2-fps-2_04600_jpeg_jpg.rf.500168377af3a859ff0cd4caa3689200.txt  \n",
            " extracting: valid/labels/yt1s-com---Resume-Liverpool-01-Burnley-Premier-League-J18-fps-2_00049_jpeg_jpg.rf.557125a0920f2addc37a4d222f90118c.txt  \n",
            " extracting: valid/labels/yt1s-com---Resume-Liverpool-01-Burnley-Premier-League-J18-fps-2_00054_jpeg_jpg.rf.f9316318057df5fe7d9a3488d15417b7.txt  \n",
            " extracting: valid/labels/yt1s-com---Resume-Liverpool-01-Burnley-Premier-League-J18-fps-2_00057_jpeg_jpg.rf.27fc3b322365cf1bb908a4055c9ddffa.txt  \n",
            " extracting: valid/labels/yt1s-com---Resume-Liverpool-14-Manchester-City-Premier-League-J23-fps-2_00002_jpeg_jpg.rf.e6f0b8bc2ad1a781a3be8f525c6ead06.txt  \n",
            " extracting: valid/labels/yt1s-com---Resume-Liverpool-14-Manchester-City-Premier-League-J23-fps-2_00003_jpeg_jpg.rf.2fbd7c382aa4daad0fc9d66a2f6c7fda.txt  \n",
            " extracting: valid/labels/yt1s-com---Resume-Liverpool-14-Manchester-City-Premier-League-J23-fps-2_00005_jpeg_jpg.rf.f2853034d3906f30dad42ab257b25eb1.txt  \n",
            " extracting: valid/labels/yt1s-com---Resume-Liverpool-14-Manchester-City-Premier-League-J23-fps-2_00007_jpeg_jpg.rf.d40a3617cdccae208e874b56eb743fca.txt  \n",
            " extracting: valid/labels/yt1s-com---Resume-Liverpool-14-Manchester-City-Premier-League-J23-fps-2_00028_jpeg_jpg.rf.0f666dae5faa3bdeaef127e4156bf6c5.txt  \n",
            " extracting: valid/labels/yt1s-com---Resume-Tottenham-20-West-Bromwich-Premier-League-J23_720p-fps-2_00010_jpeg_jpg.rf.5a779a1646f89e84300971cffc7d104b.txt  \n"
          ]
        }
      ],
      "source": [
        "!curl -L \"https://universe.roboflow.com/ds/dzCaW2YwM0?key=x1owEIg2f7\" > roboflow.zip; unzip roboflow.zip; rm roboflow.zip"
      ]
    },
    {
      "cell_type": "code",
      "execution_count": 6,
      "metadata": {
        "colab": {
          "base_uri": "https://localhost:8080/"
        },
        "id": "DyRWoCeJfIq3",
        "outputId": "27ad5fe0-c3ed-4f13-9f3f-d1cf1070d40d"
      },
      "outputs": [
        {
          "name": "stdout",
          "output_type": "stream",
          "text": [
            "train: ../train/images\n",
            "val: ../valid/images\n",
            "test: ../test/images\n",
            "\n",
            "nc: 3\n",
            "names: ['football', 'player', 'referee']\n",
            "\n",
            "roboflow:\n",
            "  workspace: roboflow-100\n",
            "  project: soccer-players-5fuqs\n",
            "  version: 2\n",
            "  license: CC BY 4.0\n",
            "  url: https://universe.roboflow.com/roboflow-100/soccer-players-5fuqs/dataset/2"
          ]
        }
      ],
      "source": [
        "!cat data.yaml"
      ]
    },
    {
      "cell_type": "code",
      "execution_count": 8,
      "metadata": {
        "colab": {
          "base_uri": "https://localhost:8080/"
        },
        "collapsed": true,
        "id": "ywdywxd9e7AG",
        "outputId": "cf982cb3-376d-4524-cf2b-699c0053280c"
      },
      "outputs": [
        {
          "name": "stdout",
          "output_type": "stream",
          "text": [
            "Ultralytics 8.3.146 🚀 Python-3.11.12 torch-2.6.0+cu124 CUDA:0 (Tesla T4, 15095MiB)\n",
            "\u001b[34m\u001b[1mengine/trainer: \u001b[0magnostic_nms=False, amp=True, augment=True, auto_augment=randaugment, batch=32, bgr=0.0, box=7.5, cache=False, cfg=None, classes=None, close_mosaic=10, cls=0.5, conf=None, copy_paste=0.0, copy_paste_mode=flip, cos_lr=False, cutmix=0.0, data=/content/data.yaml, degrees=0.0, deterministic=True, device=None, dfl=1.5, dnn=False, dropout=0.0, dynamic=False, embed=None, epochs=50, erasing=0.4, exist_ok=False, fliplr=0.5, flipud=0.0, format=torchscript, fraction=1.0, freeze=None, half=False, hsv_h=0.015, hsv_s=0.7, hsv_v=0.4, imgsz=640, int8=False, iou=0.7, keras=False, kobj=1.0, line_width=None, lr0=0.001, lrf=0.01, mask_ratio=4, max_det=300, mixup=0.0, mode=train, model=yolov8n.pt, momentum=0.937, mosaic=1.0, multi_scale=False, name=train2, nbs=64, nms=False, opset=None, optimize=False, optimizer=auto, overlap_mask=True, patience=10, perspective=0.0, plots=True, pose=12.0, pretrained=True, profile=False, project=None, rect=False, resume=False, retina_masks=False, save=True, save_conf=False, save_crop=False, save_dir=runs/detect/train2, save_frames=False, save_json=False, save_period=-1, save_txt=False, scale=0.5, seed=0, shear=0.0, show=False, show_boxes=True, show_conf=True, show_labels=True, simplify=True, single_cls=False, source=None, split=val, stream_buffer=False, task=detect, time=None, tracker=botsort.yaml, translate=0.1, val=True, verbose=True, vid_stride=1, visualize=False, warmup_bias_lr=0.0, warmup_epochs=3.0, warmup_momentum=0.8, weight_decay=0.0005, workers=8, workspace=None\n",
            "\n",
            "                   from  n    params  module                                       arguments                     \n",
            "  0                  -1  1       464  ultralytics.nn.modules.conv.Conv             [3, 16, 3, 2]                 \n",
            "  1                  -1  1      4672  ultralytics.nn.modules.conv.Conv             [16, 32, 3, 2]                \n",
            "  2                  -1  1      7360  ultralytics.nn.modules.block.C2f             [32, 32, 1, True]             \n",
            "  3                  -1  1     18560  ultralytics.nn.modules.conv.Conv             [32, 64, 3, 2]                \n",
            "  4                  -1  2     49664  ultralytics.nn.modules.block.C2f             [64, 64, 2, True]             \n",
            "  5                  -1  1     73984  ultralytics.nn.modules.conv.Conv             [64, 128, 3, 2]               \n",
            "  6                  -1  2    197632  ultralytics.nn.modules.block.C2f             [128, 128, 2, True]           \n",
            "  7                  -1  1    295424  ultralytics.nn.modules.conv.Conv             [128, 256, 3, 2]              \n",
            "  8                  -1  1    460288  ultralytics.nn.modules.block.C2f             [256, 256, 1, True]           \n",
            "  9                  -1  1    164608  ultralytics.nn.modules.block.SPPF            [256, 256, 5]                 \n",
            " 10                  -1  1         0  torch.nn.modules.upsampling.Upsample         [None, 2, 'nearest']          \n",
            " 11             [-1, 6]  1         0  ultralytics.nn.modules.conv.Concat           [1]                           \n",
            " 12                  -1  1    148224  ultralytics.nn.modules.block.C2f             [384, 128, 1]                 \n",
            " 13                  -1  1         0  torch.nn.modules.upsampling.Upsample         [None, 2, 'nearest']          \n",
            " 14             [-1, 4]  1         0  ultralytics.nn.modules.conv.Concat           [1]                           \n",
            " 15                  -1  1     37248  ultralytics.nn.modules.block.C2f             [192, 64, 1]                  \n",
            " 16                  -1  1     36992  ultralytics.nn.modules.conv.Conv             [64, 64, 3, 2]                \n",
            " 17            [-1, 12]  1         0  ultralytics.nn.modules.conv.Concat           [1]                           \n",
            " 18                  -1  1    123648  ultralytics.nn.modules.block.C2f             [192, 128, 1]                 \n",
            " 19                  -1  1    147712  ultralytics.nn.modules.conv.Conv             [128, 128, 3, 2]              \n",
            " 20             [-1, 9]  1         0  ultralytics.nn.modules.conv.Concat           [1]                           \n",
            " 21                  -1  1    493056  ultralytics.nn.modules.block.C2f             [384, 256, 1]                 \n",
            " 22        [15, 18, 21]  1    751897  ultralytics.nn.modules.head.Detect           [3, [64, 128, 256]]           \n",
            "Model summary: 129 layers, 3,011,433 parameters, 3,011,417 gradients, 8.2 GFLOPs\n",
            "\n",
            "Transferred 355/355 items from pretrained weights\n",
            "Freezing layer 'model.22.dfl.conv.weight'\n",
            "\u001b[34m\u001b[1mAMP: \u001b[0mrunning Automatic Mixed Precision (AMP) checks...\n",
            "\u001b[34m\u001b[1mAMP: \u001b[0mchecks passed ✅\n",
            "\u001b[34m\u001b[1mtrain: \u001b[0mFast image access ✅ (ping: 0.0±0.0 ms, read: 783.7±391.7 MB/s, size: 29.5 KB)\n"
          ]
        },
        {
          "name": "stderr",
          "output_type": "stream",
          "text": [
            "\u001b[34m\u001b[1mtrain: \u001b[0mScanning /content/train/labels.cache... 114 images, 0 backgrounds, 0 corrupt: 100%|██████████| 114/114 [00:00<?, ?it/s]"
          ]
        },
        {
          "name": "stdout",
          "output_type": "stream",
          "text": [
            "\u001b[34m\u001b[1malbumentations: \u001b[0mBlur(p=0.01, blur_limit=(3, 7)), MedianBlur(p=0.01, blur_limit=(3, 7)), ToGray(p=0.01, method='weighted_average', num_output_channels=3), CLAHE(p=0.01, clip_limit=(1.0, 4.0), tile_grid_size=(8, 8))\n"
          ]
        },
        {
          "name": "stderr",
          "output_type": "stream",
          "text": [
            "\n"
          ]
        },
        {
          "name": "stdout",
          "output_type": "stream",
          "text": [
            "\u001b[34m\u001b[1mval: \u001b[0mFast image access ✅ (ping: 0.0±0.0 ms, read: 271.0±143.4 MB/s, size: 32.3 KB)\n"
          ]
        },
        {
          "name": "stderr",
          "output_type": "stream",
          "text": [
            "\u001b[34m\u001b[1mval: \u001b[0mScanning /content/valid/labels.cache... 33 images, 0 backgrounds, 0 corrupt: 100%|██████████| 33/33 [00:00<?, ?it/s]\n"
          ]
        },
        {
          "name": "stdout",
          "output_type": "stream",
          "text": [
            "Plotting labels to runs/detect/train2/labels.jpg... \n",
            "\u001b[34m\u001b[1moptimizer:\u001b[0m 'optimizer=auto' found, ignoring 'lr0=0.001' and 'momentum=0.937' and determining best 'optimizer', 'lr0' and 'momentum' automatically... \n",
            "\u001b[34m\u001b[1moptimizer:\u001b[0m AdamW(lr=0.001429, momentum=0.9) with parameter groups 57 weight(decay=0.0), 64 weight(decay=0.0005), 63 bias(decay=0.0)\n",
            "Image sizes 640 train, 640 val\n",
            "Using 2 dataloader workers\n",
            "Logging results to \u001b[1mruns/detect/train2\u001b[0m\n",
            "Starting training for 50 epochs...\n",
            "\n",
            "      Epoch    GPU_mem   box_loss   cls_loss   dfl_loss  Instances       Size\n"
          ]
        },
        {
          "name": "stderr",
          "output_type": "stream",
          "text": [
            "       1/50      4.37G      1.854      1.561      1.219        427        640: 100%|██████████| 4/4 [00:02<00:00,  1.81it/s]\n",
            "                 Class     Images  Instances      Box(P          R      mAP50  mAP50-95): 100%|██████████| 1/1 [00:00<00:00,  1.40it/s]"
          ]
        },
        {
          "name": "stdout",
          "output_type": "stream",
          "text": [
            "                   all         33        407     0.0133      0.227     0.0595     0.0289\n",
            "\n",
            "      Epoch    GPU_mem   box_loss   cls_loss   dfl_loss  Instances       Size\n"
          ]
        },
        {
          "name": "stderr",
          "output_type": "stream",
          "text": [
            "\n",
            "       2/50      4.58G      1.807       1.53      1.224        303        640: 100%|██████████| 4/4 [00:01<00:00,  2.67it/s]\n",
            "                 Class     Images  Instances      Box(P          R      mAP50  mAP50-95): 100%|██████████| 1/1 [00:00<00:00,  1.77it/s]"
          ]
        },
        {
          "name": "stdout",
          "output_type": "stream",
          "text": [
            "                   all         33        407     0.0172        0.3      0.112     0.0535\n"
          ]
        },
        {
          "name": "stderr",
          "output_type": "stream",
          "text": [
            "\n"
          ]
        },
        {
          "name": "stdout",
          "output_type": "stream",
          "text": [
            "\n",
            "      Epoch    GPU_mem   box_loss   cls_loss   dfl_loss  Instances       Size\n"
          ]
        },
        {
          "name": "stderr",
          "output_type": "stream",
          "text": [
            "       3/50      4.83G      1.787      1.386      1.179        310        640: 100%|██████████| 4/4 [00:01<00:00,  2.52it/s]\n",
            "                 Class     Images  Instances      Box(P          R      mAP50  mAP50-95): 100%|██████████| 1/1 [00:00<00:00,  1.51it/s]"
          ]
        },
        {
          "name": "stdout",
          "output_type": "stream",
          "text": [
            "                   all         33        407      0.928      0.112      0.169     0.0725\n"
          ]
        },
        {
          "name": "stderr",
          "output_type": "stream",
          "text": [
            "\n"
          ]
        },
        {
          "name": "stdout",
          "output_type": "stream",
          "text": [
            "\n",
            "      Epoch    GPU_mem   box_loss   cls_loss   dfl_loss  Instances       Size\n"
          ]
        },
        {
          "name": "stderr",
          "output_type": "stream",
          "text": [
            "       4/50      4.83G      1.699      1.275      1.155        379        640: 100%|██████████| 4/4 [00:01<00:00,  2.48it/s]\n",
            "                 Class     Images  Instances      Box(P          R      mAP50  mAP50-95): 100%|██████████| 1/1 [00:00<00:00,  1.53it/s]"
          ]
        },
        {
          "name": "stdout",
          "output_type": "stream",
          "text": [
            "                   all         33        407      0.954     0.0804      0.229     0.0906\n"
          ]
        },
        {
          "name": "stderr",
          "output_type": "stream",
          "text": [
            "\n"
          ]
        },
        {
          "name": "stdout",
          "output_type": "stream",
          "text": [
            "\n",
            "      Epoch    GPU_mem   box_loss   cls_loss   dfl_loss  Instances       Size\n"
          ]
        },
        {
          "name": "stderr",
          "output_type": "stream",
          "text": [
            "       5/50      4.83G      1.663      1.242      1.146        306        640: 100%|██████████| 4/4 [00:01<00:00,  2.75it/s]\n",
            "                 Class     Images  Instances      Box(P          R      mAP50  mAP50-95): 100%|██████████| 1/1 [00:00<00:00,  2.60it/s]"
          ]
        },
        {
          "name": "stdout",
          "output_type": "stream",
          "text": [
            "                   all         33        407      0.956      0.141       0.27     0.0992\n"
          ]
        },
        {
          "name": "stderr",
          "output_type": "stream",
          "text": [
            "\n"
          ]
        },
        {
          "name": "stdout",
          "output_type": "stream",
          "text": [
            "\n",
            "      Epoch    GPU_mem   box_loss   cls_loss   dfl_loss  Instances       Size\n"
          ]
        },
        {
          "name": "stderr",
          "output_type": "stream",
          "text": [
            "       6/50      4.83G      1.619      1.174       1.11        452        640: 100%|██████████| 4/4 [00:01<00:00,  2.84it/s]\n",
            "                 Class     Images  Instances      Box(P          R      mAP50  mAP50-95): 100%|██████████| 1/1 [00:00<00:00,  2.22it/s]"
          ]
        },
        {
          "name": "stdout",
          "output_type": "stream",
          "text": [
            "                   all         33        407      0.961      0.217      0.308      0.124\n"
          ]
        },
        {
          "name": "stderr",
          "output_type": "stream",
          "text": [
            "\n"
          ]
        },
        {
          "name": "stdout",
          "output_type": "stream",
          "text": [
            "\n",
            "      Epoch    GPU_mem   box_loss   cls_loss   dfl_loss  Instances       Size\n"
          ]
        },
        {
          "name": "stderr",
          "output_type": "stream",
          "text": [
            "       7/50      5.07G      1.554      1.127      1.078        328        640: 100%|██████████| 4/4 [00:01<00:00,  2.73it/s]\n",
            "                 Class     Images  Instances      Box(P          R      mAP50  mAP50-95): 100%|██████████| 1/1 [00:00<00:00,  2.27it/s]"
          ]
        },
        {
          "name": "stdout",
          "output_type": "stream",
          "text": [
            "                   all         33        407      0.945      0.237      0.311      0.122\n"
          ]
        },
        {
          "name": "stderr",
          "output_type": "stream",
          "text": [
            "\n"
          ]
        },
        {
          "name": "stdout",
          "output_type": "stream",
          "text": [
            "\n",
            "      Epoch    GPU_mem   box_loss   cls_loss   dfl_loss  Instances       Size\n"
          ]
        },
        {
          "name": "stderr",
          "output_type": "stream",
          "text": [
            "       8/50      5.35G      1.578      1.075      1.054        431        640: 100%|██████████| 4/4 [00:01<00:00,  2.37it/s]\n",
            "                 Class     Images  Instances      Box(P          R      mAP50  mAP50-95): 100%|██████████| 1/1 [00:00<00:00,  1.55it/s]"
          ]
        },
        {
          "name": "stdout",
          "output_type": "stream",
          "text": [
            "                   all         33        407      0.941      0.269      0.316      0.117\n"
          ]
        },
        {
          "name": "stderr",
          "output_type": "stream",
          "text": [
            "\n"
          ]
        },
        {
          "name": "stdout",
          "output_type": "stream",
          "text": [
            "\n",
            "      Epoch    GPU_mem   box_loss   cls_loss   dfl_loss  Instances       Size\n"
          ]
        },
        {
          "name": "stderr",
          "output_type": "stream",
          "text": [
            "       9/50      5.35G      1.543      1.031      1.036        402        640: 100%|██████████| 4/4 [00:01<00:00,  2.50it/s]\n",
            "                 Class     Images  Instances      Box(P          R      mAP50  mAP50-95): 100%|██████████| 1/1 [00:00<00:00,  1.49it/s]"
          ]
        },
        {
          "name": "stdout",
          "output_type": "stream",
          "text": [
            "                   all         33        407      0.947      0.306       0.36      0.148\n"
          ]
        },
        {
          "name": "stderr",
          "output_type": "stream",
          "text": [
            "\n"
          ]
        },
        {
          "name": "stdout",
          "output_type": "stream",
          "text": [
            "\n",
            "      Epoch    GPU_mem   box_loss   cls_loss   dfl_loss  Instances       Size\n"
          ]
        },
        {
          "name": "stderr",
          "output_type": "stream",
          "text": [
            "      10/50      5.35G      1.504     0.9973      1.041        371        640: 100%|██████████| 4/4 [00:01<00:00,  2.69it/s]\n",
            "                 Class     Images  Instances      Box(P          R      mAP50  mAP50-95): 100%|██████████| 1/1 [00:00<00:00,  2.00it/s]"
          ]
        },
        {
          "name": "stdout",
          "output_type": "stream",
          "text": [
            "                   all         33        407      0.838      0.349      0.429      0.231\n"
          ]
        },
        {
          "name": "stderr",
          "output_type": "stream",
          "text": [
            "\n"
          ]
        },
        {
          "name": "stdout",
          "output_type": "stream",
          "text": [
            "\n",
            "      Epoch    GPU_mem   box_loss   cls_loss   dfl_loss  Instances       Size\n"
          ]
        },
        {
          "name": "stderr",
          "output_type": "stream",
          "text": [
            "      11/50      5.35G      1.495     0.9866      1.031        410        640: 100%|██████████| 4/4 [00:01<00:00,  3.10it/s]\n",
            "                 Class     Images  Instances      Box(P          R      mAP50  mAP50-95): 100%|██████████| 1/1 [00:00<00:00,  2.03it/s]"
          ]
        },
        {
          "name": "stdout",
          "output_type": "stream",
          "text": [
            "                   all         33        407      0.819      0.395      0.492      0.212\n"
          ]
        },
        {
          "name": "stderr",
          "output_type": "stream",
          "text": [
            "\n"
          ]
        },
        {
          "name": "stdout",
          "output_type": "stream",
          "text": [
            "\n",
            "      Epoch    GPU_mem   box_loss   cls_loss   dfl_loss  Instances       Size\n"
          ]
        },
        {
          "name": "stderr",
          "output_type": "stream",
          "text": [
            "      12/50      5.35G       1.47     0.9367      1.017        390        640: 100%|██████████| 4/4 [00:01<00:00,  2.72it/s]\n",
            "                 Class     Images  Instances      Box(P          R      mAP50  mAP50-95): 100%|██████████| 1/1 [00:00<00:00,  1.76it/s]"
          ]
        },
        {
          "name": "stdout",
          "output_type": "stream",
          "text": [
            "                   all         33        407      0.936      0.438      0.599      0.332\n"
          ]
        },
        {
          "name": "stderr",
          "output_type": "stream",
          "text": [
            "\n"
          ]
        },
        {
          "name": "stdout",
          "output_type": "stream",
          "text": [
            "\n",
            "      Epoch    GPU_mem   box_loss   cls_loss   dfl_loss  Instances       Size\n"
          ]
        },
        {
          "name": "stderr",
          "output_type": "stream",
          "text": [
            "      13/50      5.61G      1.416     0.9014     0.9988        321        640: 100%|██████████| 4/4 [00:01<00:00,  2.48it/s]\n",
            "                 Class     Images  Instances      Box(P          R      mAP50  mAP50-95): 100%|██████████| 1/1 [00:00<00:00,  1.38it/s]"
          ]
        },
        {
          "name": "stdout",
          "output_type": "stream",
          "text": [
            "                   all         33        407      0.939      0.548      0.697       0.38\n"
          ]
        },
        {
          "name": "stderr",
          "output_type": "stream",
          "text": [
            "\n"
          ]
        },
        {
          "name": "stdout",
          "output_type": "stream",
          "text": [
            "\n",
            "      Epoch    GPU_mem   box_loss   cls_loss   dfl_loss  Instances       Size\n"
          ]
        },
        {
          "name": "stderr",
          "output_type": "stream",
          "text": [
            "      14/50      5.61G      1.426     0.8719      1.003        409        640: 100%|██████████| 4/4 [00:01<00:00,  3.17it/s]\n",
            "                 Class     Images  Instances      Box(P          R      mAP50  mAP50-95): 100%|██████████| 1/1 [00:00<00:00,  1.97it/s]"
          ]
        },
        {
          "name": "stdout",
          "output_type": "stream",
          "text": [
            "                   all         33        407       0.92      0.537      0.713      0.414\n"
          ]
        },
        {
          "name": "stderr",
          "output_type": "stream",
          "text": [
            "\n"
          ]
        },
        {
          "name": "stdout",
          "output_type": "stream",
          "text": [
            "\n",
            "      Epoch    GPU_mem   box_loss   cls_loss   dfl_loss  Instances       Size\n"
          ]
        },
        {
          "name": "stderr",
          "output_type": "stream",
          "text": [
            "      15/50      5.61G       1.43     0.8685     0.9929        393        640: 100%|██████████| 4/4 [00:01<00:00,  2.95it/s]\n",
            "                 Class     Images  Instances      Box(P          R      mAP50  mAP50-95): 100%|██████████| 1/1 [00:00<00:00,  2.63it/s]"
          ]
        },
        {
          "name": "stdout",
          "output_type": "stream",
          "text": [
            "                   all         33        407       0.92      0.529      0.764      0.436\n"
          ]
        },
        {
          "name": "stderr",
          "output_type": "stream",
          "text": [
            "\n"
          ]
        },
        {
          "name": "stdout",
          "output_type": "stream",
          "text": [
            "\n",
            "      Epoch    GPU_mem   box_loss   cls_loss   dfl_loss  Instances       Size\n"
          ]
        },
        {
          "name": "stderr",
          "output_type": "stream",
          "text": [
            "      16/50      5.61G      1.453     0.8562     0.9936        458        640: 100%|██████████| 4/4 [00:01<00:00,  3.02it/s]\n",
            "                 Class     Images  Instances      Box(P          R      mAP50  mAP50-95): 100%|██████████| 1/1 [00:00<00:00,  2.18it/s]"
          ]
        },
        {
          "name": "stdout",
          "output_type": "stream",
          "text": [
            "                   all         33        407      0.897      0.607      0.823      0.443\n"
          ]
        },
        {
          "name": "stderr",
          "output_type": "stream",
          "text": [
            "\n"
          ]
        },
        {
          "name": "stdout",
          "output_type": "stream",
          "text": [
            "\n",
            "      Epoch    GPU_mem   box_loss   cls_loss   dfl_loss  Instances       Size\n"
          ]
        },
        {
          "name": "stderr",
          "output_type": "stream",
          "text": [
            "      17/50      5.61G      1.463     0.8507      1.008        449        640: 100%|██████████| 4/4 [00:01<00:00,  3.00it/s]\n",
            "                 Class     Images  Instances      Box(P          R      mAP50  mAP50-95): 100%|██████████| 1/1 [00:00<00:00,  1.95it/s]"
          ]
        },
        {
          "name": "stdout",
          "output_type": "stream",
          "text": [
            "                   all         33        407      0.916      0.653       0.82      0.477\n"
          ]
        },
        {
          "name": "stderr",
          "output_type": "stream",
          "text": [
            "\n"
          ]
        },
        {
          "name": "stdout",
          "output_type": "stream",
          "text": [
            "\n",
            "      Epoch    GPU_mem   box_loss   cls_loss   dfl_loss  Instances       Size\n"
          ]
        },
        {
          "name": "stderr",
          "output_type": "stream",
          "text": [
            "      18/50      5.61G      1.388     0.8209     0.9966        340        640: 100%|██████████| 4/4 [00:01<00:00,  2.89it/s]\n",
            "                 Class     Images  Instances      Box(P          R      mAP50  mAP50-95): 100%|██████████| 1/1 [00:00<00:00,  1.46it/s]"
          ]
        },
        {
          "name": "stdout",
          "output_type": "stream",
          "text": [
            "                   all         33        407      0.848       0.71      0.821      0.476\n"
          ]
        },
        {
          "name": "stderr",
          "output_type": "stream",
          "text": [
            "\n"
          ]
        },
        {
          "name": "stdout",
          "output_type": "stream",
          "text": [
            "\n",
            "      Epoch    GPU_mem   box_loss   cls_loss   dfl_loss  Instances       Size\n"
          ]
        },
        {
          "name": "stderr",
          "output_type": "stream",
          "text": [
            "      19/50      5.61G      1.384     0.7956     0.9851        389        640: 100%|██████████| 4/4 [00:01<00:00,  2.61it/s]\n",
            "                 Class     Images  Instances      Box(P          R      mAP50  mAP50-95): 100%|██████████| 1/1 [00:00<00:00,  1.80it/s]"
          ]
        },
        {
          "name": "stdout",
          "output_type": "stream",
          "text": [
            "                   all         33        407       0.83      0.771      0.824      0.471\n"
          ]
        },
        {
          "name": "stderr",
          "output_type": "stream",
          "text": [
            "\n"
          ]
        },
        {
          "name": "stdout",
          "output_type": "stream",
          "text": [
            "\n",
            "      Epoch    GPU_mem   box_loss   cls_loss   dfl_loss  Instances       Size\n"
          ]
        },
        {
          "name": "stderr",
          "output_type": "stream",
          "text": [
            "      20/50      5.61G      1.394     0.8036     0.9913        345        640: 100%|██████████| 4/4 [00:01<00:00,  3.02it/s]\n",
            "                 Class     Images  Instances      Box(P          R      mAP50  mAP50-95): 100%|██████████| 1/1 [00:00<00:00,  2.52it/s]"
          ]
        },
        {
          "name": "stdout",
          "output_type": "stream",
          "text": [
            "                   all         33        407      0.839       0.76      0.826      0.477\n"
          ]
        },
        {
          "name": "stderr",
          "output_type": "stream",
          "text": [
            "\n"
          ]
        },
        {
          "name": "stdout",
          "output_type": "stream",
          "text": [
            "\n",
            "      Epoch    GPU_mem   box_loss   cls_loss   dfl_loss  Instances       Size\n"
          ]
        },
        {
          "name": "stderr",
          "output_type": "stream",
          "text": [
            "      21/50      5.61G      1.381      0.798     0.9828        382        640: 100%|██████████| 4/4 [00:01<00:00,  3.18it/s]\n",
            "                 Class     Images  Instances      Box(P          R      mAP50  mAP50-95): 100%|██████████| 1/1 [00:00<00:00,  1.94it/s]"
          ]
        },
        {
          "name": "stdout",
          "output_type": "stream",
          "text": [
            "                   all         33        407      0.847      0.757      0.829      0.482\n"
          ]
        },
        {
          "name": "stderr",
          "output_type": "stream",
          "text": [
            "\n"
          ]
        },
        {
          "name": "stdout",
          "output_type": "stream",
          "text": [
            "\n",
            "      Epoch    GPU_mem   box_loss   cls_loss   dfl_loss  Instances       Size\n"
          ]
        },
        {
          "name": "stderr",
          "output_type": "stream",
          "text": [
            "      22/50      5.63G      1.344      0.796      0.979        417        640: 100%|██████████| 4/4 [00:01<00:00,  3.00it/s]\n",
            "                 Class     Images  Instances      Box(P          R      mAP50  mAP50-95): 100%|██████████| 1/1 [00:00<00:00,  2.24it/s]"
          ]
        },
        {
          "name": "stdout",
          "output_type": "stream",
          "text": [
            "                   all         33        407      0.867      0.821      0.832      0.486\n"
          ]
        },
        {
          "name": "stderr",
          "output_type": "stream",
          "text": [
            "\n"
          ]
        },
        {
          "name": "stdout",
          "output_type": "stream",
          "text": [
            "\n",
            "      Epoch    GPU_mem   box_loss   cls_loss   dfl_loss  Instances       Size\n"
          ]
        },
        {
          "name": "stderr",
          "output_type": "stream",
          "text": [
            "      23/50      5.63G      1.337     0.7519     0.9751        426        640: 100%|██████████| 4/4 [00:01<00:00,  3.17it/s]\n",
            "                 Class     Images  Instances      Box(P          R      mAP50  mAP50-95): 100%|██████████| 1/1 [00:00<00:00,  2.13it/s]"
          ]
        },
        {
          "name": "stdout",
          "output_type": "stream",
          "text": [
            "                   all         33        407      0.859      0.816      0.839        0.5\n"
          ]
        },
        {
          "name": "stderr",
          "output_type": "stream",
          "text": [
            "\n"
          ]
        },
        {
          "name": "stdout",
          "output_type": "stream",
          "text": [
            "\n",
            "      Epoch    GPU_mem   box_loss   cls_loss   dfl_loss  Instances       Size\n"
          ]
        },
        {
          "name": "stderr",
          "output_type": "stream",
          "text": [
            "      24/50      5.63G      1.384     0.8271     0.9891        324        640: 100%|██████████| 4/4 [00:01<00:00,  2.70it/s]\n",
            "                 Class     Images  Instances      Box(P          R      mAP50  mAP50-95): 100%|██████████| 1/1 [00:00<00:00,  1.44it/s]"
          ]
        },
        {
          "name": "stdout",
          "output_type": "stream",
          "text": [
            "                   all         33        407      0.851      0.824      0.844      0.492\n"
          ]
        },
        {
          "name": "stderr",
          "output_type": "stream",
          "text": [
            "\n"
          ]
        },
        {
          "name": "stdout",
          "output_type": "stream",
          "text": [
            "\n",
            "      Epoch    GPU_mem   box_loss   cls_loss   dfl_loss  Instances       Size\n"
          ]
        },
        {
          "name": "stderr",
          "output_type": "stream",
          "text": [
            "      25/50      5.65G      1.351     0.7586     0.9714        411        640: 100%|██████████| 4/4 [00:01<00:00,  2.89it/s]\n",
            "                 Class     Images  Instances      Box(P          R      mAP50  mAP50-95): 100%|██████████| 1/1 [00:00<00:00,  1.88it/s]"
          ]
        },
        {
          "name": "stdout",
          "output_type": "stream",
          "text": [
            "                   all         33        407       0.87      0.777      0.827      0.461\n"
          ]
        },
        {
          "name": "stderr",
          "output_type": "stream",
          "text": [
            "\n"
          ]
        },
        {
          "name": "stdout",
          "output_type": "stream",
          "text": [
            "\n",
            "      Epoch    GPU_mem   box_loss   cls_loss   dfl_loss  Instances       Size\n"
          ]
        },
        {
          "name": "stderr",
          "output_type": "stream",
          "text": [
            "      26/50      5.65G      1.398     0.7712     0.9908        352        640: 100%|██████████| 4/4 [00:01<00:00,  2.93it/s]\n",
            "                 Class     Images  Instances      Box(P          R      mAP50  mAP50-95): 100%|██████████| 1/1 [00:00<00:00,  2.73it/s]"
          ]
        },
        {
          "name": "stdout",
          "output_type": "stream",
          "text": [
            "                   all         33        407      0.864      0.821      0.849      0.494\n"
          ]
        },
        {
          "name": "stderr",
          "output_type": "stream",
          "text": [
            "\n"
          ]
        },
        {
          "name": "stdout",
          "output_type": "stream",
          "text": [
            "\n",
            "      Epoch    GPU_mem   box_loss   cls_loss   dfl_loss  Instances       Size\n"
          ]
        },
        {
          "name": "stderr",
          "output_type": "stream",
          "text": [
            "      27/50      5.65G      1.343     0.7555      0.968        399        640: 100%|██████████| 4/4 [00:01<00:00,  2.95it/s]\n",
            "                 Class     Images  Instances      Box(P          R      mAP50  mAP50-95): 100%|██████████| 1/1 [00:00<00:00,  2.36it/s]"
          ]
        },
        {
          "name": "stdout",
          "output_type": "stream",
          "text": [
            "                   all         33        407      0.876      0.812      0.859      0.479\n"
          ]
        },
        {
          "name": "stderr",
          "output_type": "stream",
          "text": [
            "\n"
          ]
        },
        {
          "name": "stdout",
          "output_type": "stream",
          "text": [
            "\n",
            "      Epoch    GPU_mem   box_loss   cls_loss   dfl_loss  Instances       Size\n"
          ]
        },
        {
          "name": "stderr",
          "output_type": "stream",
          "text": [
            "      28/50      5.66G      1.366     0.7521     0.9737        534        640: 100%|██████████| 4/4 [00:01<00:00,  3.02it/s]\n",
            "                 Class     Images  Instances      Box(P          R      mAP50  mAP50-95): 100%|██████████| 1/1 [00:00<00:00,  2.43it/s]"
          ]
        },
        {
          "name": "stdout",
          "output_type": "stream",
          "text": [
            "                   all         33        407      0.857      0.813      0.852       0.45\n"
          ]
        },
        {
          "name": "stderr",
          "output_type": "stream",
          "text": [
            "\n"
          ]
        },
        {
          "name": "stdout",
          "output_type": "stream",
          "text": [
            "\n",
            "      Epoch    GPU_mem   box_loss   cls_loss   dfl_loss  Instances       Size\n"
          ]
        },
        {
          "name": "stderr",
          "output_type": "stream",
          "text": [
            "      29/50      5.66G      1.362     0.7717     0.9785        390        640: 100%|██████████| 4/4 [00:01<00:00,  3.01it/s]\n",
            "                 Class     Images  Instances      Box(P          R      mAP50  mAP50-95): 100%|██████████| 1/1 [00:00<00:00,  2.37it/s]"
          ]
        },
        {
          "name": "stdout",
          "output_type": "stream",
          "text": [
            "                   all         33        407      0.935      0.803      0.859      0.488\n"
          ]
        },
        {
          "name": "stderr",
          "output_type": "stream",
          "text": [
            "\n"
          ]
        },
        {
          "name": "stdout",
          "output_type": "stream",
          "text": [
            "\n",
            "      Epoch    GPU_mem   box_loss   cls_loss   dfl_loss  Instances       Size\n"
          ]
        },
        {
          "name": "stderr",
          "output_type": "stream",
          "text": [
            "      30/50      5.66G       1.35     0.7481     0.9721        342        640: 100%|██████████| 4/4 [00:01<00:00,  2.60it/s]\n",
            "                 Class     Images  Instances      Box(P          R      mAP50  mAP50-95): 100%|██████████| 1/1 [00:00<00:00,  1.43it/s]"
          ]
        },
        {
          "name": "stdout",
          "output_type": "stream",
          "text": [
            "                   all         33        407      0.918      0.826      0.863      0.503\n"
          ]
        },
        {
          "name": "stderr",
          "output_type": "stream",
          "text": [
            "\n"
          ]
        },
        {
          "name": "stdout",
          "output_type": "stream",
          "text": [
            "\n",
            "      Epoch    GPU_mem   box_loss   cls_loss   dfl_loss  Instances       Size\n"
          ]
        },
        {
          "name": "stderr",
          "output_type": "stream",
          "text": [
            "      31/50      5.66G      1.306      0.724     0.9722        391        640: 100%|██████████| 4/4 [00:01<00:00,  3.08it/s]\n",
            "                 Class     Images  Instances      Box(P          R      mAP50  mAP50-95): 100%|██████████| 1/1 [00:00<00:00,  2.20it/s]"
          ]
        },
        {
          "name": "stdout",
          "output_type": "stream",
          "text": [
            "                   all         33        407      0.933      0.817      0.876      0.515\n"
          ]
        },
        {
          "name": "stderr",
          "output_type": "stream",
          "text": [
            "\n"
          ]
        },
        {
          "name": "stdout",
          "output_type": "stream",
          "text": [
            "\n",
            "      Epoch    GPU_mem   box_loss   cls_loss   dfl_loss  Instances       Size\n"
          ]
        },
        {
          "name": "stderr",
          "output_type": "stream",
          "text": [
            "      32/50      5.66G      1.331     0.7196     0.9719        348        640: 100%|██████████| 4/4 [00:01<00:00,  3.03it/s]\n",
            "                 Class     Images  Instances      Box(P          R      mAP50  mAP50-95): 100%|██████████| 1/1 [00:00<00:00,  3.12it/s]"
          ]
        },
        {
          "name": "stdout",
          "output_type": "stream",
          "text": [
            "                   all         33        407      0.905      0.821      0.852      0.493\n"
          ]
        },
        {
          "name": "stderr",
          "output_type": "stream",
          "text": [
            "\n"
          ]
        },
        {
          "name": "stdout",
          "output_type": "stream",
          "text": [
            "\n",
            "      Epoch    GPU_mem   box_loss   cls_loss   dfl_loss  Instances       Size\n"
          ]
        },
        {
          "name": "stderr",
          "output_type": "stream",
          "text": [
            "      33/50      5.66G      1.316     0.7003     0.9635        379        640: 100%|██████████| 4/4 [00:01<00:00,  3.04it/s]\n",
            "                 Class     Images  Instances      Box(P          R      mAP50  mAP50-95): 100%|██████████| 1/1 [00:00<00:00,  2.60it/s]"
          ]
        },
        {
          "name": "stdout",
          "output_type": "stream",
          "text": [
            "                   all         33        407      0.861      0.813       0.86      0.498\n"
          ]
        },
        {
          "name": "stderr",
          "output_type": "stream",
          "text": [
            "\n"
          ]
        },
        {
          "name": "stdout",
          "output_type": "stream",
          "text": [
            "\n",
            "      Epoch    GPU_mem   box_loss   cls_loss   dfl_loss  Instances       Size\n"
          ]
        },
        {
          "name": "stderr",
          "output_type": "stream",
          "text": [
            "      34/50      5.66G      1.322     0.7095     0.9682        371        640: 100%|██████████| 4/4 [00:01<00:00,  2.98it/s]\n",
            "                 Class     Images  Instances      Box(P          R      mAP50  mAP50-95): 100%|██████████| 1/1 [00:00<00:00,  2.54it/s]"
          ]
        },
        {
          "name": "stdout",
          "output_type": "stream",
          "text": [
            "                   all         33        407      0.939       0.78      0.863      0.509\n"
          ]
        },
        {
          "name": "stderr",
          "output_type": "stream",
          "text": [
            "\n"
          ]
        },
        {
          "name": "stdout",
          "output_type": "stream",
          "text": [
            "\n",
            "      Epoch    GPU_mem   box_loss   cls_loss   dfl_loss  Instances       Size\n"
          ]
        },
        {
          "name": "stderr",
          "output_type": "stream",
          "text": [
            "      35/50      5.66G      1.276     0.6998     0.9525        418        640: 100%|██████████| 4/4 [00:01<00:00,  2.75it/s]\n",
            "                 Class     Images  Instances      Box(P          R      mAP50  mAP50-95): 100%|██████████| 1/1 [00:00<00:00,  1.49it/s]"
          ]
        },
        {
          "name": "stdout",
          "output_type": "stream",
          "text": [
            "                   all         33        407      0.921      0.823      0.874      0.506\n"
          ]
        },
        {
          "name": "stderr",
          "output_type": "stream",
          "text": [
            "\n"
          ]
        },
        {
          "name": "stdout",
          "output_type": "stream",
          "text": [
            "\n",
            "      Epoch    GPU_mem   box_loss   cls_loss   dfl_loss  Instances       Size\n"
          ]
        },
        {
          "name": "stderr",
          "output_type": "stream",
          "text": [
            "      36/50      5.66G      1.311     0.7101     0.9598        397        640: 100%|██████████| 4/4 [00:01<00:00,  2.46it/s]\n",
            "                 Class     Images  Instances      Box(P          R      mAP50  mAP50-95): 100%|██████████| 1/1 [00:00<00:00,  2.07it/s]"
          ]
        },
        {
          "name": "stdout",
          "output_type": "stream",
          "text": [
            "                   all         33        407       0.96      0.813      0.868      0.505\n"
          ]
        },
        {
          "name": "stderr",
          "output_type": "stream",
          "text": [
            "\n"
          ]
        },
        {
          "name": "stdout",
          "output_type": "stream",
          "text": [
            "\n",
            "      Epoch    GPU_mem   box_loss   cls_loss   dfl_loss  Instances       Size\n"
          ]
        },
        {
          "name": "stderr",
          "output_type": "stream",
          "text": [
            "      37/50      5.66G      1.297     0.6932     0.9559        417        640: 100%|██████████| 4/4 [00:01<00:00,  2.97it/s]\n",
            "                 Class     Images  Instances      Box(P          R      mAP50  mAP50-95): 100%|██████████| 1/1 [00:00<00:00,  2.53it/s]"
          ]
        },
        {
          "name": "stdout",
          "output_type": "stream",
          "text": [
            "                   all         33        407      0.947      0.819      0.875      0.507\n"
          ]
        },
        {
          "name": "stderr",
          "output_type": "stream",
          "text": [
            "\n"
          ]
        },
        {
          "name": "stdout",
          "output_type": "stream",
          "text": [
            "\n",
            "      Epoch    GPU_mem   box_loss   cls_loss   dfl_loss  Instances       Size\n"
          ]
        },
        {
          "name": "stderr",
          "output_type": "stream",
          "text": [
            "      38/50      5.66G      1.282     0.6798     0.9437        408        640: 100%|██████████| 4/4 [00:01<00:00,  2.91it/s]\n",
            "                 Class     Images  Instances      Box(P          R      mAP50  mAP50-95): 100%|██████████| 1/1 [00:00<00:00,  2.38it/s]"
          ]
        },
        {
          "name": "stdout",
          "output_type": "stream",
          "text": [
            "                   all         33        407      0.898      0.822      0.855      0.506\n"
          ]
        },
        {
          "name": "stderr",
          "output_type": "stream",
          "text": [
            "\n"
          ]
        },
        {
          "name": "stdout",
          "output_type": "stream",
          "text": [
            "\n",
            "      Epoch    GPU_mem   box_loss   cls_loss   dfl_loss  Instances       Size\n"
          ]
        },
        {
          "name": "stderr",
          "output_type": "stream",
          "text": [
            "      39/50      5.66G      1.297     0.6798     0.9603        340        640: 100%|██████████| 4/4 [00:01<00:00,  3.02it/s]\n",
            "                 Class     Images  Instances      Box(P          R      mAP50  mAP50-95): 100%|██████████| 1/1 [00:00<00:00,  2.48it/s]"
          ]
        },
        {
          "name": "stdout",
          "output_type": "stream",
          "text": [
            "                   all         33        407      0.933      0.832      0.869      0.506\n"
          ]
        },
        {
          "name": "stderr",
          "output_type": "stream",
          "text": [
            "\n"
          ]
        },
        {
          "name": "stdout",
          "output_type": "stream",
          "text": [
            "\n",
            "      Epoch    GPU_mem   box_loss   cls_loss   dfl_loss  Instances       Size\n"
          ]
        },
        {
          "name": "stderr",
          "output_type": "stream",
          "text": [
            "      40/50      5.66G      1.293      0.681     0.9568        411        640: 100%|██████████| 4/4 [00:01<00:00,  3.06it/s]\n",
            "                 Class     Images  Instances      Box(P          R      mAP50  mAP50-95): 100%|██████████| 1/1 [00:00<00:00,  2.47it/s]"
          ]
        },
        {
          "name": "stdout",
          "output_type": "stream",
          "text": [
            "                   all         33        407      0.924      0.818      0.855      0.504\n"
          ]
        },
        {
          "name": "stderr",
          "output_type": "stream",
          "text": [
            "\n"
          ]
        },
        {
          "name": "stdout",
          "output_type": "stream",
          "text": [
            "Closing dataloader mosaic\n",
            "\u001b[34m\u001b[1malbumentations: \u001b[0mBlur(p=0.01, blur_limit=(3, 7)), MedianBlur(p=0.01, blur_limit=(3, 7)), ToGray(p=0.01, method='weighted_average', num_output_channels=3), CLAHE(p=0.01, clip_limit=(1.0, 4.0), tile_grid_size=(8, 8))\n",
            "\n",
            "      Epoch    GPU_mem   box_loss   cls_loss   dfl_loss  Instances       Size\n"
          ]
        },
        {
          "name": "stderr",
          "output_type": "stream",
          "text": [
            "      41/50      5.66G      1.292     0.9653      0.968        238        640: 100%|██████████| 4/4 [00:04<00:00,  1.07s/it]\n",
            "                 Class     Images  Instances      Box(P          R      mAP50  mAP50-95): 100%|██████████| 1/1 [00:00<00:00,  1.59it/s]"
          ]
        },
        {
          "name": "stdout",
          "output_type": "stream",
          "text": [
            "                   all         33        407      0.928      0.805      0.854      0.506\n",
            "\u001b[34m\u001b[1mEarlyStopping: \u001b[0mTraining stopped early as no improvement observed in last 10 epochs. Best results observed at epoch 31, best model saved as best.pt.\n",
            "To update EarlyStopping(patience=10) pass a new patience value, i.e. `patience=300` or use `patience=0` to disable EarlyStopping.\n"
          ]
        },
        {
          "name": "stderr",
          "output_type": "stream",
          "text": [
            "\n"
          ]
        },
        {
          "name": "stdout",
          "output_type": "stream",
          "text": [
            "\n",
            "41 epochs completed in 0.028 hours.\n",
            "Optimizer stripped from runs/detect/train2/weights/last.pt, 6.2MB\n",
            "Optimizer stripped from runs/detect/train2/weights/best.pt, 6.2MB\n",
            "\n",
            "Validating runs/detect/train2/weights/best.pt...\n",
            "Ultralytics 8.3.146 🚀 Python-3.11.12 torch-2.6.0+cu124 CUDA:0 (Tesla T4, 15095MiB)\n",
            "Model summary (fused): 72 layers, 3,006,233 parameters, 0 gradients, 8.1 GFLOPs\n"
          ]
        },
        {
          "name": "stderr",
          "output_type": "stream",
          "text": [
            "                 Class     Images  Instances      Box(P          R      mAP50  mAP50-95): 100%|██████████| 1/1 [00:00<00:00,  2.91it/s]\n"
          ]
        },
        {
          "name": "stdout",
          "output_type": "stream",
          "text": [
            "                   all         33        407       0.89      0.832      0.877      0.505\n",
            "              football         28         28      0.864      0.571      0.673      0.259\n",
            "                player         33        359      0.919      0.975      0.987      0.621\n",
            "               referee         20         20      0.887       0.95      0.971      0.637\n",
            "Speed: 0.1ms preprocess, 3.6ms inference, 0.0ms loss, 1.8ms postprocess per image\n",
            "Results saved to \u001b[1mruns/detect/train2\u001b[0m\n"
          ]
        },
        {
          "data": {
            "text/plain": [
              "ultralytics.utils.metrics.DetMetrics object with attributes:\n",
              "\n",
              "ap_class_index: array([0, 1, 2])\n",
              "box: ultralytics.utils.metrics.Metric object\n",
              "confusion_matrix: <ultralytics.utils.metrics.ConfusionMatrix object at 0x7c7da8931b10>\n",
              "curves: ['Precision-Recall(B)', 'F1-Confidence(B)', 'Precision-Confidence(B)', 'Recall-Confidence(B)']\n",
              "curves_results: [[array([          0,    0.001001,    0.002002,    0.003003,    0.004004,    0.005005,    0.006006,    0.007007,    0.008008,    0.009009,     0.01001,    0.011011,    0.012012,    0.013013,    0.014014,    0.015015,    0.016016,    0.017017,    0.018018,    0.019019,     0.02002,    0.021021,    0.022022,    0.023023,\n",
              "          0.024024,    0.025025,    0.026026,    0.027027,    0.028028,    0.029029,     0.03003,    0.031031,    0.032032,    0.033033,    0.034034,    0.035035,    0.036036,    0.037037,    0.038038,    0.039039,     0.04004,    0.041041,    0.042042,    0.043043,    0.044044,    0.045045,    0.046046,    0.047047,\n",
              "          0.048048,    0.049049,     0.05005,    0.051051,    0.052052,    0.053053,    0.054054,    0.055055,    0.056056,    0.057057,    0.058058,    0.059059,     0.06006,    0.061061,    0.062062,    0.063063,    0.064064,    0.065065,    0.066066,    0.067067,    0.068068,    0.069069,     0.07007,    0.071071,\n",
              "          0.072072,    0.073073,    0.074074,    0.075075,    0.076076,    0.077077,    0.078078,    0.079079,     0.08008,    0.081081,    0.082082,    0.083083,    0.084084,    0.085085,    0.086086,    0.087087,    0.088088,    0.089089,     0.09009,    0.091091,    0.092092,    0.093093,    0.094094,    0.095095,\n",
              "          0.096096,    0.097097,    0.098098,    0.099099,      0.1001,      0.1011,      0.1021,      0.1031,      0.1041,     0.10511,     0.10611,     0.10711,     0.10811,     0.10911,     0.11011,     0.11111,     0.11211,     0.11311,     0.11411,     0.11512,     0.11612,     0.11712,     0.11812,     0.11912,\n",
              "           0.12012,     0.12112,     0.12212,     0.12312,     0.12412,     0.12513,     0.12613,     0.12713,     0.12813,     0.12913,     0.13013,     0.13113,     0.13213,     0.13313,     0.13413,     0.13514,     0.13614,     0.13714,     0.13814,     0.13914,     0.14014,     0.14114,     0.14214,     0.14314,\n",
              "           0.14414,     0.14515,     0.14615,     0.14715,     0.14815,     0.14915,     0.15015,     0.15115,     0.15215,     0.15315,     0.15415,     0.15516,     0.15616,     0.15716,     0.15816,     0.15916,     0.16016,     0.16116,     0.16216,     0.16316,     0.16416,     0.16517,     0.16617,     0.16717,\n",
              "           0.16817,     0.16917,     0.17017,     0.17117,     0.17217,     0.17317,     0.17417,     0.17518,     0.17618,     0.17718,     0.17818,     0.17918,     0.18018,     0.18118,     0.18218,     0.18318,     0.18418,     0.18519,     0.18619,     0.18719,     0.18819,     0.18919,     0.19019,     0.19119,\n",
              "           0.19219,     0.19319,     0.19419,      0.1952,      0.1962,      0.1972,      0.1982,      0.1992,      0.2002,      0.2012,      0.2022,      0.2032,      0.2042,     0.20521,     0.20621,     0.20721,     0.20821,     0.20921,     0.21021,     0.21121,     0.21221,     0.21321,     0.21421,     0.21522,\n",
              "           0.21622,     0.21722,     0.21822,     0.21922,     0.22022,     0.22122,     0.22222,     0.22322,     0.22422,     0.22523,     0.22623,     0.22723,     0.22823,     0.22923,     0.23023,     0.23123,     0.23223,     0.23323,     0.23423,     0.23524,     0.23624,     0.23724,     0.23824,     0.23924,\n",
              "           0.24024,     0.24124,     0.24224,     0.24324,     0.24424,     0.24525,     0.24625,     0.24725,     0.24825,     0.24925,     0.25025,     0.25125,     0.25225,     0.25325,     0.25425,     0.25526,     0.25626,     0.25726,     0.25826,     0.25926,     0.26026,     0.26126,     0.26226,     0.26326,\n",
              "           0.26426,     0.26527,     0.26627,     0.26727,     0.26827,     0.26927,     0.27027,     0.27127,     0.27227,     0.27327,     0.27427,     0.27528,     0.27628,     0.27728,     0.27828,     0.27928,     0.28028,     0.28128,     0.28228,     0.28328,     0.28428,     0.28529,     0.28629,     0.28729,\n",
              "           0.28829,     0.28929,     0.29029,     0.29129,     0.29229,     0.29329,     0.29429,      0.2953,      0.2963,      0.2973,      0.2983,      0.2993,      0.3003,      0.3013,      0.3023,      0.3033,      0.3043,     0.30531,     0.30631,     0.30731,     0.30831,     0.30931,     0.31031,     0.31131,\n",
              "           0.31231,     0.31331,     0.31431,     0.31532,     0.31632,     0.31732,     0.31832,     0.31932,     0.32032,     0.32132,     0.32232,     0.32332,     0.32432,     0.32533,     0.32633,     0.32733,     0.32833,     0.32933,     0.33033,     0.33133,     0.33233,     0.33333,     0.33433,     0.33534,\n",
              "           0.33634,     0.33734,     0.33834,     0.33934,     0.34034,     0.34134,     0.34234,     0.34334,     0.34434,     0.34535,     0.34635,     0.34735,     0.34835,     0.34935,     0.35035,     0.35135,     0.35235,     0.35335,     0.35435,     0.35536,     0.35636,     0.35736,     0.35836,     0.35936,\n",
              "           0.36036,     0.36136,     0.36236,     0.36336,     0.36436,     0.36537,     0.36637,     0.36737,     0.36837,     0.36937,     0.37037,     0.37137,     0.37237,     0.37337,     0.37437,     0.37538,     0.37638,     0.37738,     0.37838,     0.37938,     0.38038,     0.38138,     0.38238,     0.38338,\n",
              "           0.38438,     0.38539,     0.38639,     0.38739,     0.38839,     0.38939,     0.39039,     0.39139,     0.39239,     0.39339,     0.39439,      0.3954,      0.3964,      0.3974,      0.3984,      0.3994,      0.4004,      0.4014,      0.4024,      0.4034,      0.4044,     0.40541,     0.40641,     0.40741,\n",
              "           0.40841,     0.40941,     0.41041,     0.41141,     0.41241,     0.41341,     0.41441,     0.41542,     0.41642,     0.41742,     0.41842,     0.41942,     0.42042,     0.42142,     0.42242,     0.42342,     0.42442,     0.42543,     0.42643,     0.42743,     0.42843,     0.42943,     0.43043,     0.43143,\n",
              "           0.43243,     0.43343,     0.43443,     0.43544,     0.43644,     0.43744,     0.43844,     0.43944,     0.44044,     0.44144,     0.44244,     0.44344,     0.44444,     0.44545,     0.44645,     0.44745,     0.44845,     0.44945,     0.45045,     0.45145,     0.45245,     0.45345,     0.45445,     0.45546,\n",
              "           0.45646,     0.45746,     0.45846,     0.45946,     0.46046,     0.46146,     0.46246,     0.46346,     0.46446,     0.46547,     0.46647,     0.46747,     0.46847,     0.46947,     0.47047,     0.47147,     0.47247,     0.47347,     0.47447,     0.47548,     0.47648,     0.47748,     0.47848,     0.47948,\n",
              "           0.48048,     0.48148,     0.48248,     0.48348,     0.48448,     0.48549,     0.48649,     0.48749,     0.48849,     0.48949,     0.49049,     0.49149,     0.49249,     0.49349,     0.49449,      0.4955,      0.4965,      0.4975,      0.4985,      0.4995,      0.5005,      0.5015,      0.5025,      0.5035,\n",
              "            0.5045,     0.50551,     0.50651,     0.50751,     0.50851,     0.50951,     0.51051,     0.51151,     0.51251,     0.51351,     0.51451,     0.51552,     0.51652,     0.51752,     0.51852,     0.51952,     0.52052,     0.52152,     0.52252,     0.52352,     0.52452,     0.52553,     0.52653,     0.52753,\n",
              "           0.52853,     0.52953,     0.53053,     0.53153,     0.53253,     0.53353,     0.53453,     0.53554,     0.53654,     0.53754,     0.53854,     0.53954,     0.54054,     0.54154,     0.54254,     0.54354,     0.54454,     0.54555,     0.54655,     0.54755,     0.54855,     0.54955,     0.55055,     0.55155,\n",
              "           0.55255,     0.55355,     0.55455,     0.55556,     0.55656,     0.55756,     0.55856,     0.55956,     0.56056,     0.56156,     0.56256,     0.56356,     0.56456,     0.56557,     0.56657,     0.56757,     0.56857,     0.56957,     0.57057,     0.57157,     0.57257,     0.57357,     0.57457,     0.57558,\n",
              "           0.57658,     0.57758,     0.57858,     0.57958,     0.58058,     0.58158,     0.58258,     0.58358,     0.58458,     0.58559,     0.58659,     0.58759,     0.58859,     0.58959,     0.59059,     0.59159,     0.59259,     0.59359,     0.59459,      0.5956,      0.5966,      0.5976,      0.5986,      0.5996,\n",
              "            0.6006,      0.6016,      0.6026,      0.6036,      0.6046,     0.60561,     0.60661,     0.60761,     0.60861,     0.60961,     0.61061,     0.61161,     0.61261,     0.61361,     0.61461,     0.61562,     0.61662,     0.61762,     0.61862,     0.61962,     0.62062,     0.62162,     0.62262,     0.62362,\n",
              "           0.62462,     0.62563,     0.62663,     0.62763,     0.62863,     0.62963,     0.63063,     0.63163,     0.63263,     0.63363,     0.63463,     0.63564,     0.63664,     0.63764,     0.63864,     0.63964,     0.64064,     0.64164,     0.64264,     0.64364,     0.64464,     0.64565,     0.64665,     0.64765,\n",
              "           0.64865,     0.64965,     0.65065,     0.65165,     0.65265,     0.65365,     0.65465,     0.65566,     0.65666,     0.65766,     0.65866,     0.65966,     0.66066,     0.66166,     0.66266,     0.66366,     0.66466,     0.66567,     0.66667,     0.66767,     0.66867,     0.66967,     0.67067,     0.67167,\n",
              "           0.67267,     0.67367,     0.67467,     0.67568,     0.67668,     0.67768,     0.67868,     0.67968,     0.68068,     0.68168,     0.68268,     0.68368,     0.68468,     0.68569,     0.68669,     0.68769,     0.68869,     0.68969,     0.69069,     0.69169,     0.69269,     0.69369,     0.69469,      0.6957,\n",
              "            0.6967,      0.6977,      0.6987,      0.6997,      0.7007,      0.7017,      0.7027,      0.7037,      0.7047,     0.70571,     0.70671,     0.70771,     0.70871,     0.70971,     0.71071,     0.71171,     0.71271,     0.71371,     0.71471,     0.71572,     0.71672,     0.71772,     0.71872,     0.71972,\n",
              "           0.72072,     0.72172,     0.72272,     0.72372,     0.72472,     0.72573,     0.72673,     0.72773,     0.72873,     0.72973,     0.73073,     0.73173,     0.73273,     0.73373,     0.73473,     0.73574,     0.73674,     0.73774,     0.73874,     0.73974,     0.74074,     0.74174,     0.74274,     0.74374,\n",
              "           0.74474,     0.74575,     0.74675,     0.74775,     0.74875,     0.74975,     0.75075,     0.75175,     0.75275,     0.75375,     0.75475,     0.75576,     0.75676,     0.75776,     0.75876,     0.75976,     0.76076,     0.76176,     0.76276,     0.76376,     0.76476,     0.76577,     0.76677,     0.76777,\n",
              "           0.76877,     0.76977,     0.77077,     0.77177,     0.77277,     0.77377,     0.77477,     0.77578,     0.77678,     0.77778,     0.77878,     0.77978,     0.78078,     0.78178,     0.78278,     0.78378,     0.78478,     0.78579,     0.78679,     0.78779,     0.78879,     0.78979,     0.79079,     0.79179,\n",
              "           0.79279,     0.79379,     0.79479,      0.7958,      0.7968,      0.7978,      0.7988,      0.7998,      0.8008,      0.8018,      0.8028,      0.8038,      0.8048,     0.80581,     0.80681,     0.80781,     0.80881,     0.80981,     0.81081,     0.81181,     0.81281,     0.81381,     0.81481,     0.81582,\n",
              "           0.81682,     0.81782,     0.81882,     0.81982,     0.82082,     0.82182,     0.82282,     0.82382,     0.82482,     0.82583,     0.82683,     0.82783,     0.82883,     0.82983,     0.83083,     0.83183,     0.83283,     0.83383,     0.83483,     0.83584,     0.83684,     0.83784,     0.83884,     0.83984,\n",
              "           0.84084,     0.84184,     0.84284,     0.84384,     0.84484,     0.84585,     0.84685,     0.84785,     0.84885,     0.84985,     0.85085,     0.85185,     0.85285,     0.85385,     0.85485,     0.85586,     0.85686,     0.85786,     0.85886,     0.85986,     0.86086,     0.86186,     0.86286,     0.86386,\n",
              "           0.86486,     0.86587,     0.86687,     0.86787,     0.86887,     0.86987,     0.87087,     0.87187,     0.87287,     0.87387,     0.87487,     0.87588,     0.87688,     0.87788,     0.87888,     0.87988,     0.88088,     0.88188,     0.88288,     0.88388,     0.88488,     0.88589,     0.88689,     0.88789,\n",
              "           0.88889,     0.88989,     0.89089,     0.89189,     0.89289,     0.89389,     0.89489,      0.8959,      0.8969,      0.8979,      0.8989,      0.8999,      0.9009,      0.9019,      0.9029,      0.9039,      0.9049,     0.90591,     0.90691,     0.90791,     0.90891,     0.90991,     0.91091,     0.91191,\n",
              "           0.91291,     0.91391,     0.91491,     0.91592,     0.91692,     0.91792,     0.91892,     0.91992,     0.92092,     0.92192,     0.92292,     0.92392,     0.92492,     0.92593,     0.92693,     0.92793,     0.92893,     0.92993,     0.93093,     0.93193,     0.93293,     0.93393,     0.93493,     0.93594,\n",
              "           0.93694,     0.93794,     0.93894,     0.93994,     0.94094,     0.94194,     0.94294,     0.94394,     0.94494,     0.94595,     0.94695,     0.94795,     0.94895,     0.94995,     0.95095,     0.95195,     0.95295,     0.95395,     0.95495,     0.95596,     0.95696,     0.95796,     0.95896,     0.95996,\n",
              "           0.96096,     0.96196,     0.96296,     0.96396,     0.96496,     0.96597,     0.96697,     0.96797,     0.96897,     0.96997,     0.97097,     0.97197,     0.97297,     0.97397,     0.97497,     0.97598,     0.97698,     0.97798,     0.97898,     0.97998,     0.98098,     0.98198,     0.98298,     0.98398,\n",
              "           0.98498,     0.98599,     0.98699,     0.98799,     0.98899,     0.98999,     0.99099,     0.99199,     0.99299,     0.99399,     0.99499,       0.996,       0.997,       0.998,       0.999,           1]), array([[          1,           1,           1, ...,  8.9721e-05,   4.486e-05,           0],\n",
              "       [          1,           1,           1, ...,    0.070843,    0.035421,           0],\n",
              "       [          1,           1,           1, ...,     0.51282,     0.51282,           0]]), 'Recall', 'Precision'], [array([          0,    0.001001,    0.002002,    0.003003,    0.004004,    0.005005,    0.006006,    0.007007,    0.008008,    0.009009,     0.01001,    0.011011,    0.012012,    0.013013,    0.014014,    0.015015,    0.016016,    0.017017,    0.018018,    0.019019,     0.02002,    0.021021,    0.022022,    0.023023,\n",
              "          0.024024,    0.025025,    0.026026,    0.027027,    0.028028,    0.029029,     0.03003,    0.031031,    0.032032,    0.033033,    0.034034,    0.035035,    0.036036,    0.037037,    0.038038,    0.039039,     0.04004,    0.041041,    0.042042,    0.043043,    0.044044,    0.045045,    0.046046,    0.047047,\n",
              "          0.048048,    0.049049,     0.05005,    0.051051,    0.052052,    0.053053,    0.054054,    0.055055,    0.056056,    0.057057,    0.058058,    0.059059,     0.06006,    0.061061,    0.062062,    0.063063,    0.064064,    0.065065,    0.066066,    0.067067,    0.068068,    0.069069,     0.07007,    0.071071,\n",
              "          0.072072,    0.073073,    0.074074,    0.075075,    0.076076,    0.077077,    0.078078,    0.079079,     0.08008,    0.081081,    0.082082,    0.083083,    0.084084,    0.085085,    0.086086,    0.087087,    0.088088,    0.089089,     0.09009,    0.091091,    0.092092,    0.093093,    0.094094,    0.095095,\n",
              "          0.096096,    0.097097,    0.098098,    0.099099,      0.1001,      0.1011,      0.1021,      0.1031,      0.1041,     0.10511,     0.10611,     0.10711,     0.10811,     0.10911,     0.11011,     0.11111,     0.11211,     0.11311,     0.11411,     0.11512,     0.11612,     0.11712,     0.11812,     0.11912,\n",
              "           0.12012,     0.12112,     0.12212,     0.12312,     0.12412,     0.12513,     0.12613,     0.12713,     0.12813,     0.12913,     0.13013,     0.13113,     0.13213,     0.13313,     0.13413,     0.13514,     0.13614,     0.13714,     0.13814,     0.13914,     0.14014,     0.14114,     0.14214,     0.14314,\n",
              "           0.14414,     0.14515,     0.14615,     0.14715,     0.14815,     0.14915,     0.15015,     0.15115,     0.15215,     0.15315,     0.15415,     0.15516,     0.15616,     0.15716,     0.15816,     0.15916,     0.16016,     0.16116,     0.16216,     0.16316,     0.16416,     0.16517,     0.16617,     0.16717,\n",
              "           0.16817,     0.16917,     0.17017,     0.17117,     0.17217,     0.17317,     0.17417,     0.17518,     0.17618,     0.17718,     0.17818,     0.17918,     0.18018,     0.18118,     0.18218,     0.18318,     0.18418,     0.18519,     0.18619,     0.18719,     0.18819,     0.18919,     0.19019,     0.19119,\n",
              "           0.19219,     0.19319,     0.19419,      0.1952,      0.1962,      0.1972,      0.1982,      0.1992,      0.2002,      0.2012,      0.2022,      0.2032,      0.2042,     0.20521,     0.20621,     0.20721,     0.20821,     0.20921,     0.21021,     0.21121,     0.21221,     0.21321,     0.21421,     0.21522,\n",
              "           0.21622,     0.21722,     0.21822,     0.21922,     0.22022,     0.22122,     0.22222,     0.22322,     0.22422,     0.22523,     0.22623,     0.22723,     0.22823,     0.22923,     0.23023,     0.23123,     0.23223,     0.23323,     0.23423,     0.23524,     0.23624,     0.23724,     0.23824,     0.23924,\n",
              "           0.24024,     0.24124,     0.24224,     0.24324,     0.24424,     0.24525,     0.24625,     0.24725,     0.24825,     0.24925,     0.25025,     0.25125,     0.25225,     0.25325,     0.25425,     0.25526,     0.25626,     0.25726,     0.25826,     0.25926,     0.26026,     0.26126,     0.26226,     0.26326,\n",
              "           0.26426,     0.26527,     0.26627,     0.26727,     0.26827,     0.26927,     0.27027,     0.27127,     0.27227,     0.27327,     0.27427,     0.27528,     0.27628,     0.27728,     0.27828,     0.27928,     0.28028,     0.28128,     0.28228,     0.28328,     0.28428,     0.28529,     0.28629,     0.28729,\n",
              "           0.28829,     0.28929,     0.29029,     0.29129,     0.29229,     0.29329,     0.29429,      0.2953,      0.2963,      0.2973,      0.2983,      0.2993,      0.3003,      0.3013,      0.3023,      0.3033,      0.3043,     0.30531,     0.30631,     0.30731,     0.30831,     0.30931,     0.31031,     0.31131,\n",
              "           0.31231,     0.31331,     0.31431,     0.31532,     0.31632,     0.31732,     0.31832,     0.31932,     0.32032,     0.32132,     0.32232,     0.32332,     0.32432,     0.32533,     0.32633,     0.32733,     0.32833,     0.32933,     0.33033,     0.33133,     0.33233,     0.33333,     0.33433,     0.33534,\n",
              "           0.33634,     0.33734,     0.33834,     0.33934,     0.34034,     0.34134,     0.34234,     0.34334,     0.34434,     0.34535,     0.34635,     0.34735,     0.34835,     0.34935,     0.35035,     0.35135,     0.35235,     0.35335,     0.35435,     0.35536,     0.35636,     0.35736,     0.35836,     0.35936,\n",
              "           0.36036,     0.36136,     0.36236,     0.36336,     0.36436,     0.36537,     0.36637,     0.36737,     0.36837,     0.36937,     0.37037,     0.37137,     0.37237,     0.37337,     0.37437,     0.37538,     0.37638,     0.37738,     0.37838,     0.37938,     0.38038,     0.38138,     0.38238,     0.38338,\n",
              "           0.38438,     0.38539,     0.38639,     0.38739,     0.38839,     0.38939,     0.39039,     0.39139,     0.39239,     0.39339,     0.39439,      0.3954,      0.3964,      0.3974,      0.3984,      0.3994,      0.4004,      0.4014,      0.4024,      0.4034,      0.4044,     0.40541,     0.40641,     0.40741,\n",
              "           0.40841,     0.40941,     0.41041,     0.41141,     0.41241,     0.41341,     0.41441,     0.41542,     0.41642,     0.41742,     0.41842,     0.41942,     0.42042,     0.42142,     0.42242,     0.42342,     0.42442,     0.42543,     0.42643,     0.42743,     0.42843,     0.42943,     0.43043,     0.43143,\n",
              "           0.43243,     0.43343,     0.43443,     0.43544,     0.43644,     0.43744,     0.43844,     0.43944,     0.44044,     0.44144,     0.44244,     0.44344,     0.44444,     0.44545,     0.44645,     0.44745,     0.44845,     0.44945,     0.45045,     0.45145,     0.45245,     0.45345,     0.45445,     0.45546,\n",
              "           0.45646,     0.45746,     0.45846,     0.45946,     0.46046,     0.46146,     0.46246,     0.46346,     0.46446,     0.46547,     0.46647,     0.46747,     0.46847,     0.46947,     0.47047,     0.47147,     0.47247,     0.47347,     0.47447,     0.47548,     0.47648,     0.47748,     0.47848,     0.47948,\n",
              "           0.48048,     0.48148,     0.48248,     0.48348,     0.48448,     0.48549,     0.48649,     0.48749,     0.48849,     0.48949,     0.49049,     0.49149,     0.49249,     0.49349,     0.49449,      0.4955,      0.4965,      0.4975,      0.4985,      0.4995,      0.5005,      0.5015,      0.5025,      0.5035,\n",
              "            0.5045,     0.50551,     0.50651,     0.50751,     0.50851,     0.50951,     0.51051,     0.51151,     0.51251,     0.51351,     0.51451,     0.51552,     0.51652,     0.51752,     0.51852,     0.51952,     0.52052,     0.52152,     0.52252,     0.52352,     0.52452,     0.52553,     0.52653,     0.52753,\n",
              "           0.52853,     0.52953,     0.53053,     0.53153,     0.53253,     0.53353,     0.53453,     0.53554,     0.53654,     0.53754,     0.53854,     0.53954,     0.54054,     0.54154,     0.54254,     0.54354,     0.54454,     0.54555,     0.54655,     0.54755,     0.54855,     0.54955,     0.55055,     0.55155,\n",
              "           0.55255,     0.55355,     0.55455,     0.55556,     0.55656,     0.55756,     0.55856,     0.55956,     0.56056,     0.56156,     0.56256,     0.56356,     0.56456,     0.56557,     0.56657,     0.56757,     0.56857,     0.56957,     0.57057,     0.57157,     0.57257,     0.57357,     0.57457,     0.57558,\n",
              "           0.57658,     0.57758,     0.57858,     0.57958,     0.58058,     0.58158,     0.58258,     0.58358,     0.58458,     0.58559,     0.58659,     0.58759,     0.58859,     0.58959,     0.59059,     0.59159,     0.59259,     0.59359,     0.59459,      0.5956,      0.5966,      0.5976,      0.5986,      0.5996,\n",
              "            0.6006,      0.6016,      0.6026,      0.6036,      0.6046,     0.60561,     0.60661,     0.60761,     0.60861,     0.60961,     0.61061,     0.61161,     0.61261,     0.61361,     0.61461,     0.61562,     0.61662,     0.61762,     0.61862,     0.61962,     0.62062,     0.62162,     0.62262,     0.62362,\n",
              "           0.62462,     0.62563,     0.62663,     0.62763,     0.62863,     0.62963,     0.63063,     0.63163,     0.63263,     0.63363,     0.63463,     0.63564,     0.63664,     0.63764,     0.63864,     0.63964,     0.64064,     0.64164,     0.64264,     0.64364,     0.64464,     0.64565,     0.64665,     0.64765,\n",
              "           0.64865,     0.64965,     0.65065,     0.65165,     0.65265,     0.65365,     0.65465,     0.65566,     0.65666,     0.65766,     0.65866,     0.65966,     0.66066,     0.66166,     0.66266,     0.66366,     0.66466,     0.66567,     0.66667,     0.66767,     0.66867,     0.66967,     0.67067,     0.67167,\n",
              "           0.67267,     0.67367,     0.67467,     0.67568,     0.67668,     0.67768,     0.67868,     0.67968,     0.68068,     0.68168,     0.68268,     0.68368,     0.68468,     0.68569,     0.68669,     0.68769,     0.68869,     0.68969,     0.69069,     0.69169,     0.69269,     0.69369,     0.69469,      0.6957,\n",
              "            0.6967,      0.6977,      0.6987,      0.6997,      0.7007,      0.7017,      0.7027,      0.7037,      0.7047,     0.70571,     0.70671,     0.70771,     0.70871,     0.70971,     0.71071,     0.71171,     0.71271,     0.71371,     0.71471,     0.71572,     0.71672,     0.71772,     0.71872,     0.71972,\n",
              "           0.72072,     0.72172,     0.72272,     0.72372,     0.72472,     0.72573,     0.72673,     0.72773,     0.72873,     0.72973,     0.73073,     0.73173,     0.73273,     0.73373,     0.73473,     0.73574,     0.73674,     0.73774,     0.73874,     0.73974,     0.74074,     0.74174,     0.74274,     0.74374,\n",
              "           0.74474,     0.74575,     0.74675,     0.74775,     0.74875,     0.74975,     0.75075,     0.75175,     0.75275,     0.75375,     0.75475,     0.75576,     0.75676,     0.75776,     0.75876,     0.75976,     0.76076,     0.76176,     0.76276,     0.76376,     0.76476,     0.76577,     0.76677,     0.76777,\n",
              "           0.76877,     0.76977,     0.77077,     0.77177,     0.77277,     0.77377,     0.77477,     0.77578,     0.77678,     0.77778,     0.77878,     0.77978,     0.78078,     0.78178,     0.78278,     0.78378,     0.78478,     0.78579,     0.78679,     0.78779,     0.78879,     0.78979,     0.79079,     0.79179,\n",
              "           0.79279,     0.79379,     0.79479,      0.7958,      0.7968,      0.7978,      0.7988,      0.7998,      0.8008,      0.8018,      0.8028,      0.8038,      0.8048,     0.80581,     0.80681,     0.80781,     0.80881,     0.80981,     0.81081,     0.81181,     0.81281,     0.81381,     0.81481,     0.81582,\n",
              "           0.81682,     0.81782,     0.81882,     0.81982,     0.82082,     0.82182,     0.82282,     0.82382,     0.82482,     0.82583,     0.82683,     0.82783,     0.82883,     0.82983,     0.83083,     0.83183,     0.83283,     0.83383,     0.83483,     0.83584,     0.83684,     0.83784,     0.83884,     0.83984,\n",
              "           0.84084,     0.84184,     0.84284,     0.84384,     0.84484,     0.84585,     0.84685,     0.84785,     0.84885,     0.84985,     0.85085,     0.85185,     0.85285,     0.85385,     0.85485,     0.85586,     0.85686,     0.85786,     0.85886,     0.85986,     0.86086,     0.86186,     0.86286,     0.86386,\n",
              "           0.86486,     0.86587,     0.86687,     0.86787,     0.86887,     0.86987,     0.87087,     0.87187,     0.87287,     0.87387,     0.87487,     0.87588,     0.87688,     0.87788,     0.87888,     0.87988,     0.88088,     0.88188,     0.88288,     0.88388,     0.88488,     0.88589,     0.88689,     0.88789,\n",
              "           0.88889,     0.88989,     0.89089,     0.89189,     0.89289,     0.89389,     0.89489,      0.8959,      0.8969,      0.8979,      0.8989,      0.8999,      0.9009,      0.9019,      0.9029,      0.9039,      0.9049,     0.90591,     0.90691,     0.90791,     0.90891,     0.90991,     0.91091,     0.91191,\n",
              "           0.91291,     0.91391,     0.91491,     0.91592,     0.91692,     0.91792,     0.91892,     0.91992,     0.92092,     0.92192,     0.92292,     0.92392,     0.92492,     0.92593,     0.92693,     0.92793,     0.92893,     0.92993,     0.93093,     0.93193,     0.93293,     0.93393,     0.93493,     0.93594,\n",
              "           0.93694,     0.93794,     0.93894,     0.93994,     0.94094,     0.94194,     0.94294,     0.94394,     0.94494,     0.94595,     0.94695,     0.94795,     0.94895,     0.94995,     0.95095,     0.95195,     0.95295,     0.95395,     0.95495,     0.95596,     0.95696,     0.95796,     0.95896,     0.95996,\n",
              "           0.96096,     0.96196,     0.96296,     0.96396,     0.96496,     0.96597,     0.96697,     0.96797,     0.96897,     0.96997,     0.97097,     0.97197,     0.97297,     0.97397,     0.97497,     0.97598,     0.97698,     0.97798,     0.97898,     0.97998,     0.98098,     0.98198,     0.98298,     0.98398,\n",
              "           0.98498,     0.98599,     0.98699,     0.98799,     0.98899,     0.98999,     0.99099,     0.99199,     0.99299,     0.99399,     0.99499,       0.996,       0.997,       0.998,       0.999,           1]), array([[   0.015851,    0.015851,    0.015851, ...,           0,           0,           0],\n",
              "       [     0.1794,      0.1794,      0.1794, ...,           0,           0,           0],\n",
              "       [   0.011716,    0.011716,    0.011716, ...,           0,           0,           0]]), 'Confidence', 'F1'], [array([          0,    0.001001,    0.002002,    0.003003,    0.004004,    0.005005,    0.006006,    0.007007,    0.008008,    0.009009,     0.01001,    0.011011,    0.012012,    0.013013,    0.014014,    0.015015,    0.016016,    0.017017,    0.018018,    0.019019,     0.02002,    0.021021,    0.022022,    0.023023,\n",
              "          0.024024,    0.025025,    0.026026,    0.027027,    0.028028,    0.029029,     0.03003,    0.031031,    0.032032,    0.033033,    0.034034,    0.035035,    0.036036,    0.037037,    0.038038,    0.039039,     0.04004,    0.041041,    0.042042,    0.043043,    0.044044,    0.045045,    0.046046,    0.047047,\n",
              "          0.048048,    0.049049,     0.05005,    0.051051,    0.052052,    0.053053,    0.054054,    0.055055,    0.056056,    0.057057,    0.058058,    0.059059,     0.06006,    0.061061,    0.062062,    0.063063,    0.064064,    0.065065,    0.066066,    0.067067,    0.068068,    0.069069,     0.07007,    0.071071,\n",
              "          0.072072,    0.073073,    0.074074,    0.075075,    0.076076,    0.077077,    0.078078,    0.079079,     0.08008,    0.081081,    0.082082,    0.083083,    0.084084,    0.085085,    0.086086,    0.087087,    0.088088,    0.089089,     0.09009,    0.091091,    0.092092,    0.093093,    0.094094,    0.095095,\n",
              "          0.096096,    0.097097,    0.098098,    0.099099,      0.1001,      0.1011,      0.1021,      0.1031,      0.1041,     0.10511,     0.10611,     0.10711,     0.10811,     0.10911,     0.11011,     0.11111,     0.11211,     0.11311,     0.11411,     0.11512,     0.11612,     0.11712,     0.11812,     0.11912,\n",
              "           0.12012,     0.12112,     0.12212,     0.12312,     0.12412,     0.12513,     0.12613,     0.12713,     0.12813,     0.12913,     0.13013,     0.13113,     0.13213,     0.13313,     0.13413,     0.13514,     0.13614,     0.13714,     0.13814,     0.13914,     0.14014,     0.14114,     0.14214,     0.14314,\n",
              "           0.14414,     0.14515,     0.14615,     0.14715,     0.14815,     0.14915,     0.15015,     0.15115,     0.15215,     0.15315,     0.15415,     0.15516,     0.15616,     0.15716,     0.15816,     0.15916,     0.16016,     0.16116,     0.16216,     0.16316,     0.16416,     0.16517,     0.16617,     0.16717,\n",
              "           0.16817,     0.16917,     0.17017,     0.17117,     0.17217,     0.17317,     0.17417,     0.17518,     0.17618,     0.17718,     0.17818,     0.17918,     0.18018,     0.18118,     0.18218,     0.18318,     0.18418,     0.18519,     0.18619,     0.18719,     0.18819,     0.18919,     0.19019,     0.19119,\n",
              "           0.19219,     0.19319,     0.19419,      0.1952,      0.1962,      0.1972,      0.1982,      0.1992,      0.2002,      0.2012,      0.2022,      0.2032,      0.2042,     0.20521,     0.20621,     0.20721,     0.20821,     0.20921,     0.21021,     0.21121,     0.21221,     0.21321,     0.21421,     0.21522,\n",
              "           0.21622,     0.21722,     0.21822,     0.21922,     0.22022,     0.22122,     0.22222,     0.22322,     0.22422,     0.22523,     0.22623,     0.22723,     0.22823,     0.22923,     0.23023,     0.23123,     0.23223,     0.23323,     0.23423,     0.23524,     0.23624,     0.23724,     0.23824,     0.23924,\n",
              "           0.24024,     0.24124,     0.24224,     0.24324,     0.24424,     0.24525,     0.24625,     0.24725,     0.24825,     0.24925,     0.25025,     0.25125,     0.25225,     0.25325,     0.25425,     0.25526,     0.25626,     0.25726,     0.25826,     0.25926,     0.26026,     0.26126,     0.26226,     0.26326,\n",
              "           0.26426,     0.26527,     0.26627,     0.26727,     0.26827,     0.26927,     0.27027,     0.27127,     0.27227,     0.27327,     0.27427,     0.27528,     0.27628,     0.27728,     0.27828,     0.27928,     0.28028,     0.28128,     0.28228,     0.28328,     0.28428,     0.28529,     0.28629,     0.28729,\n",
              "           0.28829,     0.28929,     0.29029,     0.29129,     0.29229,     0.29329,     0.29429,      0.2953,      0.2963,      0.2973,      0.2983,      0.2993,      0.3003,      0.3013,      0.3023,      0.3033,      0.3043,     0.30531,     0.30631,     0.30731,     0.30831,     0.30931,     0.31031,     0.31131,\n",
              "           0.31231,     0.31331,     0.31431,     0.31532,     0.31632,     0.31732,     0.31832,     0.31932,     0.32032,     0.32132,     0.32232,     0.32332,     0.32432,     0.32533,     0.32633,     0.32733,     0.32833,     0.32933,     0.33033,     0.33133,     0.33233,     0.33333,     0.33433,     0.33534,\n",
              "           0.33634,     0.33734,     0.33834,     0.33934,     0.34034,     0.34134,     0.34234,     0.34334,     0.34434,     0.34535,     0.34635,     0.34735,     0.34835,     0.34935,     0.35035,     0.35135,     0.35235,     0.35335,     0.35435,     0.35536,     0.35636,     0.35736,     0.35836,     0.35936,\n",
              "           0.36036,     0.36136,     0.36236,     0.36336,     0.36436,     0.36537,     0.36637,     0.36737,     0.36837,     0.36937,     0.37037,     0.37137,     0.37237,     0.37337,     0.37437,     0.37538,     0.37638,     0.37738,     0.37838,     0.37938,     0.38038,     0.38138,     0.38238,     0.38338,\n",
              "           0.38438,     0.38539,     0.38639,     0.38739,     0.38839,     0.38939,     0.39039,     0.39139,     0.39239,     0.39339,     0.39439,      0.3954,      0.3964,      0.3974,      0.3984,      0.3994,      0.4004,      0.4014,      0.4024,      0.4034,      0.4044,     0.40541,     0.40641,     0.40741,\n",
              "           0.40841,     0.40941,     0.41041,     0.41141,     0.41241,     0.41341,     0.41441,     0.41542,     0.41642,     0.41742,     0.41842,     0.41942,     0.42042,     0.42142,     0.42242,     0.42342,     0.42442,     0.42543,     0.42643,     0.42743,     0.42843,     0.42943,     0.43043,     0.43143,\n",
              "           0.43243,     0.43343,     0.43443,     0.43544,     0.43644,     0.43744,     0.43844,     0.43944,     0.44044,     0.44144,     0.44244,     0.44344,     0.44444,     0.44545,     0.44645,     0.44745,     0.44845,     0.44945,     0.45045,     0.45145,     0.45245,     0.45345,     0.45445,     0.45546,\n",
              "           0.45646,     0.45746,     0.45846,     0.45946,     0.46046,     0.46146,     0.46246,     0.46346,     0.46446,     0.46547,     0.46647,     0.46747,     0.46847,     0.46947,     0.47047,     0.47147,     0.47247,     0.47347,     0.47447,     0.47548,     0.47648,     0.47748,     0.47848,     0.47948,\n",
              "           0.48048,     0.48148,     0.48248,     0.48348,     0.48448,     0.48549,     0.48649,     0.48749,     0.48849,     0.48949,     0.49049,     0.49149,     0.49249,     0.49349,     0.49449,      0.4955,      0.4965,      0.4975,      0.4985,      0.4995,      0.5005,      0.5015,      0.5025,      0.5035,\n",
              "            0.5045,     0.50551,     0.50651,     0.50751,     0.50851,     0.50951,     0.51051,     0.51151,     0.51251,     0.51351,     0.51451,     0.51552,     0.51652,     0.51752,     0.51852,     0.51952,     0.52052,     0.52152,     0.52252,     0.52352,     0.52452,     0.52553,     0.52653,     0.52753,\n",
              "           0.52853,     0.52953,     0.53053,     0.53153,     0.53253,     0.53353,     0.53453,     0.53554,     0.53654,     0.53754,     0.53854,     0.53954,     0.54054,     0.54154,     0.54254,     0.54354,     0.54454,     0.54555,     0.54655,     0.54755,     0.54855,     0.54955,     0.55055,     0.55155,\n",
              "           0.55255,     0.55355,     0.55455,     0.55556,     0.55656,     0.55756,     0.55856,     0.55956,     0.56056,     0.56156,     0.56256,     0.56356,     0.56456,     0.56557,     0.56657,     0.56757,     0.56857,     0.56957,     0.57057,     0.57157,     0.57257,     0.57357,     0.57457,     0.57558,\n",
              "           0.57658,     0.57758,     0.57858,     0.57958,     0.58058,     0.58158,     0.58258,     0.58358,     0.58458,     0.58559,     0.58659,     0.58759,     0.58859,     0.58959,     0.59059,     0.59159,     0.59259,     0.59359,     0.59459,      0.5956,      0.5966,      0.5976,      0.5986,      0.5996,\n",
              "            0.6006,      0.6016,      0.6026,      0.6036,      0.6046,     0.60561,     0.60661,     0.60761,     0.60861,     0.60961,     0.61061,     0.61161,     0.61261,     0.61361,     0.61461,     0.61562,     0.61662,     0.61762,     0.61862,     0.61962,     0.62062,     0.62162,     0.62262,     0.62362,\n",
              "           0.62462,     0.62563,     0.62663,     0.62763,     0.62863,     0.62963,     0.63063,     0.63163,     0.63263,     0.63363,     0.63463,     0.63564,     0.63664,     0.63764,     0.63864,     0.63964,     0.64064,     0.64164,     0.64264,     0.64364,     0.64464,     0.64565,     0.64665,     0.64765,\n",
              "           0.64865,     0.64965,     0.65065,     0.65165,     0.65265,     0.65365,     0.65465,     0.65566,     0.65666,     0.65766,     0.65866,     0.65966,     0.66066,     0.66166,     0.66266,     0.66366,     0.66466,     0.66567,     0.66667,     0.66767,     0.66867,     0.66967,     0.67067,     0.67167,\n",
              "           0.67267,     0.67367,     0.67467,     0.67568,     0.67668,     0.67768,     0.67868,     0.67968,     0.68068,     0.68168,     0.68268,     0.68368,     0.68468,     0.68569,     0.68669,     0.68769,     0.68869,     0.68969,     0.69069,     0.69169,     0.69269,     0.69369,     0.69469,      0.6957,\n",
              "            0.6967,      0.6977,      0.6987,      0.6997,      0.7007,      0.7017,      0.7027,      0.7037,      0.7047,     0.70571,     0.70671,     0.70771,     0.70871,     0.70971,     0.71071,     0.71171,     0.71271,     0.71371,     0.71471,     0.71572,     0.71672,     0.71772,     0.71872,     0.71972,\n",
              "           0.72072,     0.72172,     0.72272,     0.72372,     0.72472,     0.72573,     0.72673,     0.72773,     0.72873,     0.72973,     0.73073,     0.73173,     0.73273,     0.73373,     0.73473,     0.73574,     0.73674,     0.73774,     0.73874,     0.73974,     0.74074,     0.74174,     0.74274,     0.74374,\n",
              "           0.74474,     0.74575,     0.74675,     0.74775,     0.74875,     0.74975,     0.75075,     0.75175,     0.75275,     0.75375,     0.75475,     0.75576,     0.75676,     0.75776,     0.75876,     0.75976,     0.76076,     0.76176,     0.76276,     0.76376,     0.76476,     0.76577,     0.76677,     0.76777,\n",
              "           0.76877,     0.76977,     0.77077,     0.77177,     0.77277,     0.77377,     0.77477,     0.77578,     0.77678,     0.77778,     0.77878,     0.77978,     0.78078,     0.78178,     0.78278,     0.78378,     0.78478,     0.78579,     0.78679,     0.78779,     0.78879,     0.78979,     0.79079,     0.79179,\n",
              "           0.79279,     0.79379,     0.79479,      0.7958,      0.7968,      0.7978,      0.7988,      0.7998,      0.8008,      0.8018,      0.8028,      0.8038,      0.8048,     0.80581,     0.80681,     0.80781,     0.80881,     0.80981,     0.81081,     0.81181,     0.81281,     0.81381,     0.81481,     0.81582,\n",
              "           0.81682,     0.81782,     0.81882,     0.81982,     0.82082,     0.82182,     0.82282,     0.82382,     0.82482,     0.82583,     0.82683,     0.82783,     0.82883,     0.82983,     0.83083,     0.83183,     0.83283,     0.83383,     0.83483,     0.83584,     0.83684,     0.83784,     0.83884,     0.83984,\n",
              "           0.84084,     0.84184,     0.84284,     0.84384,     0.84484,     0.84585,     0.84685,     0.84785,     0.84885,     0.84985,     0.85085,     0.85185,     0.85285,     0.85385,     0.85485,     0.85586,     0.85686,     0.85786,     0.85886,     0.85986,     0.86086,     0.86186,     0.86286,     0.86386,\n",
              "           0.86486,     0.86587,     0.86687,     0.86787,     0.86887,     0.86987,     0.87087,     0.87187,     0.87287,     0.87387,     0.87487,     0.87588,     0.87688,     0.87788,     0.87888,     0.87988,     0.88088,     0.88188,     0.88288,     0.88388,     0.88488,     0.88589,     0.88689,     0.88789,\n",
              "           0.88889,     0.88989,     0.89089,     0.89189,     0.89289,     0.89389,     0.89489,      0.8959,      0.8969,      0.8979,      0.8989,      0.8999,      0.9009,      0.9019,      0.9029,      0.9039,      0.9049,     0.90591,     0.90691,     0.90791,     0.90891,     0.90991,     0.91091,     0.91191,\n",
              "           0.91291,     0.91391,     0.91491,     0.91592,     0.91692,     0.91792,     0.91892,     0.91992,     0.92092,     0.92192,     0.92292,     0.92392,     0.92492,     0.92593,     0.92693,     0.92793,     0.92893,     0.92993,     0.93093,     0.93193,     0.93293,     0.93393,     0.93493,     0.93594,\n",
              "           0.93694,     0.93794,     0.93894,     0.93994,     0.94094,     0.94194,     0.94294,     0.94394,     0.94494,     0.94595,     0.94695,     0.94795,     0.94895,     0.94995,     0.95095,     0.95195,     0.95295,     0.95395,     0.95495,     0.95596,     0.95696,     0.95796,     0.95896,     0.95996,\n",
              "           0.96096,     0.96196,     0.96296,     0.96396,     0.96496,     0.96597,     0.96697,     0.96797,     0.96897,     0.96997,     0.97097,     0.97197,     0.97297,     0.97397,     0.97497,     0.97598,     0.97698,     0.97798,     0.97898,     0.97998,     0.98098,     0.98198,     0.98298,     0.98398,\n",
              "           0.98498,     0.98599,     0.98699,     0.98799,     0.98899,     0.98999,     0.99099,     0.99199,     0.99299,     0.99399,     0.99499,       0.996,       0.997,       0.998,       0.999,           1]), array([[  0.0080028,   0.0080028,   0.0080028, ...,           1,           1,           1],\n",
              "       [   0.098568,    0.098568,    0.098568, ...,           1,           1,           1],\n",
              "       [  0.0058928,   0.0058928,   0.0058928, ...,           1,           1,           1]]), 'Confidence', 'Precision'], [array([          0,    0.001001,    0.002002,    0.003003,    0.004004,    0.005005,    0.006006,    0.007007,    0.008008,    0.009009,     0.01001,    0.011011,    0.012012,    0.013013,    0.014014,    0.015015,    0.016016,    0.017017,    0.018018,    0.019019,     0.02002,    0.021021,    0.022022,    0.023023,\n",
              "          0.024024,    0.025025,    0.026026,    0.027027,    0.028028,    0.029029,     0.03003,    0.031031,    0.032032,    0.033033,    0.034034,    0.035035,    0.036036,    0.037037,    0.038038,    0.039039,     0.04004,    0.041041,    0.042042,    0.043043,    0.044044,    0.045045,    0.046046,    0.047047,\n",
              "          0.048048,    0.049049,     0.05005,    0.051051,    0.052052,    0.053053,    0.054054,    0.055055,    0.056056,    0.057057,    0.058058,    0.059059,     0.06006,    0.061061,    0.062062,    0.063063,    0.064064,    0.065065,    0.066066,    0.067067,    0.068068,    0.069069,     0.07007,    0.071071,\n",
              "          0.072072,    0.073073,    0.074074,    0.075075,    0.076076,    0.077077,    0.078078,    0.079079,     0.08008,    0.081081,    0.082082,    0.083083,    0.084084,    0.085085,    0.086086,    0.087087,    0.088088,    0.089089,     0.09009,    0.091091,    0.092092,    0.093093,    0.094094,    0.095095,\n",
              "          0.096096,    0.097097,    0.098098,    0.099099,      0.1001,      0.1011,      0.1021,      0.1031,      0.1041,     0.10511,     0.10611,     0.10711,     0.10811,     0.10911,     0.11011,     0.11111,     0.11211,     0.11311,     0.11411,     0.11512,     0.11612,     0.11712,     0.11812,     0.11912,\n",
              "           0.12012,     0.12112,     0.12212,     0.12312,     0.12412,     0.12513,     0.12613,     0.12713,     0.12813,     0.12913,     0.13013,     0.13113,     0.13213,     0.13313,     0.13413,     0.13514,     0.13614,     0.13714,     0.13814,     0.13914,     0.14014,     0.14114,     0.14214,     0.14314,\n",
              "           0.14414,     0.14515,     0.14615,     0.14715,     0.14815,     0.14915,     0.15015,     0.15115,     0.15215,     0.15315,     0.15415,     0.15516,     0.15616,     0.15716,     0.15816,     0.15916,     0.16016,     0.16116,     0.16216,     0.16316,     0.16416,     0.16517,     0.16617,     0.16717,\n",
              "           0.16817,     0.16917,     0.17017,     0.17117,     0.17217,     0.17317,     0.17417,     0.17518,     0.17618,     0.17718,     0.17818,     0.17918,     0.18018,     0.18118,     0.18218,     0.18318,     0.18418,     0.18519,     0.18619,     0.18719,     0.18819,     0.18919,     0.19019,     0.19119,\n",
              "           0.19219,     0.19319,     0.19419,      0.1952,      0.1962,      0.1972,      0.1982,      0.1992,      0.2002,      0.2012,      0.2022,      0.2032,      0.2042,     0.20521,     0.20621,     0.20721,     0.20821,     0.20921,     0.21021,     0.21121,     0.21221,     0.21321,     0.21421,     0.21522,\n",
              "           0.21622,     0.21722,     0.21822,     0.21922,     0.22022,     0.22122,     0.22222,     0.22322,     0.22422,     0.22523,     0.22623,     0.22723,     0.22823,     0.22923,     0.23023,     0.23123,     0.23223,     0.23323,     0.23423,     0.23524,     0.23624,     0.23724,     0.23824,     0.23924,\n",
              "           0.24024,     0.24124,     0.24224,     0.24324,     0.24424,     0.24525,     0.24625,     0.24725,     0.24825,     0.24925,     0.25025,     0.25125,     0.25225,     0.25325,     0.25425,     0.25526,     0.25626,     0.25726,     0.25826,     0.25926,     0.26026,     0.26126,     0.26226,     0.26326,\n",
              "           0.26426,     0.26527,     0.26627,     0.26727,     0.26827,     0.26927,     0.27027,     0.27127,     0.27227,     0.27327,     0.27427,     0.27528,     0.27628,     0.27728,     0.27828,     0.27928,     0.28028,     0.28128,     0.28228,     0.28328,     0.28428,     0.28529,     0.28629,     0.28729,\n",
              "           0.28829,     0.28929,     0.29029,     0.29129,     0.29229,     0.29329,     0.29429,      0.2953,      0.2963,      0.2973,      0.2983,      0.2993,      0.3003,      0.3013,      0.3023,      0.3033,      0.3043,     0.30531,     0.30631,     0.30731,     0.30831,     0.30931,     0.31031,     0.31131,\n",
              "           0.31231,     0.31331,     0.31431,     0.31532,     0.31632,     0.31732,     0.31832,     0.31932,     0.32032,     0.32132,     0.32232,     0.32332,     0.32432,     0.32533,     0.32633,     0.32733,     0.32833,     0.32933,     0.33033,     0.33133,     0.33233,     0.33333,     0.33433,     0.33534,\n",
              "           0.33634,     0.33734,     0.33834,     0.33934,     0.34034,     0.34134,     0.34234,     0.34334,     0.34434,     0.34535,     0.34635,     0.34735,     0.34835,     0.34935,     0.35035,     0.35135,     0.35235,     0.35335,     0.35435,     0.35536,     0.35636,     0.35736,     0.35836,     0.35936,\n",
              "           0.36036,     0.36136,     0.36236,     0.36336,     0.36436,     0.36537,     0.36637,     0.36737,     0.36837,     0.36937,     0.37037,     0.37137,     0.37237,     0.37337,     0.37437,     0.37538,     0.37638,     0.37738,     0.37838,     0.37938,     0.38038,     0.38138,     0.38238,     0.38338,\n",
              "           0.38438,     0.38539,     0.38639,     0.38739,     0.38839,     0.38939,     0.39039,     0.39139,     0.39239,     0.39339,     0.39439,      0.3954,      0.3964,      0.3974,      0.3984,      0.3994,      0.4004,      0.4014,      0.4024,      0.4034,      0.4044,     0.40541,     0.40641,     0.40741,\n",
              "           0.40841,     0.40941,     0.41041,     0.41141,     0.41241,     0.41341,     0.41441,     0.41542,     0.41642,     0.41742,     0.41842,     0.41942,     0.42042,     0.42142,     0.42242,     0.42342,     0.42442,     0.42543,     0.42643,     0.42743,     0.42843,     0.42943,     0.43043,     0.43143,\n",
              "           0.43243,     0.43343,     0.43443,     0.43544,     0.43644,     0.43744,     0.43844,     0.43944,     0.44044,     0.44144,     0.44244,     0.44344,     0.44444,     0.44545,     0.44645,     0.44745,     0.44845,     0.44945,     0.45045,     0.45145,     0.45245,     0.45345,     0.45445,     0.45546,\n",
              "           0.45646,     0.45746,     0.45846,     0.45946,     0.46046,     0.46146,     0.46246,     0.46346,     0.46446,     0.46547,     0.46647,     0.46747,     0.46847,     0.46947,     0.47047,     0.47147,     0.47247,     0.47347,     0.47447,     0.47548,     0.47648,     0.47748,     0.47848,     0.47948,\n",
              "           0.48048,     0.48148,     0.48248,     0.48348,     0.48448,     0.48549,     0.48649,     0.48749,     0.48849,     0.48949,     0.49049,     0.49149,     0.49249,     0.49349,     0.49449,      0.4955,      0.4965,      0.4975,      0.4985,      0.4995,      0.5005,      0.5015,      0.5025,      0.5035,\n",
              "            0.5045,     0.50551,     0.50651,     0.50751,     0.50851,     0.50951,     0.51051,     0.51151,     0.51251,     0.51351,     0.51451,     0.51552,     0.51652,     0.51752,     0.51852,     0.51952,     0.52052,     0.52152,     0.52252,     0.52352,     0.52452,     0.52553,     0.52653,     0.52753,\n",
              "           0.52853,     0.52953,     0.53053,     0.53153,     0.53253,     0.53353,     0.53453,     0.53554,     0.53654,     0.53754,     0.53854,     0.53954,     0.54054,     0.54154,     0.54254,     0.54354,     0.54454,     0.54555,     0.54655,     0.54755,     0.54855,     0.54955,     0.55055,     0.55155,\n",
              "           0.55255,     0.55355,     0.55455,     0.55556,     0.55656,     0.55756,     0.55856,     0.55956,     0.56056,     0.56156,     0.56256,     0.56356,     0.56456,     0.56557,     0.56657,     0.56757,     0.56857,     0.56957,     0.57057,     0.57157,     0.57257,     0.57357,     0.57457,     0.57558,\n",
              "           0.57658,     0.57758,     0.57858,     0.57958,     0.58058,     0.58158,     0.58258,     0.58358,     0.58458,     0.58559,     0.58659,     0.58759,     0.58859,     0.58959,     0.59059,     0.59159,     0.59259,     0.59359,     0.59459,      0.5956,      0.5966,      0.5976,      0.5986,      0.5996,\n",
              "            0.6006,      0.6016,      0.6026,      0.6036,      0.6046,     0.60561,     0.60661,     0.60761,     0.60861,     0.60961,     0.61061,     0.61161,     0.61261,     0.61361,     0.61461,     0.61562,     0.61662,     0.61762,     0.61862,     0.61962,     0.62062,     0.62162,     0.62262,     0.62362,\n",
              "           0.62462,     0.62563,     0.62663,     0.62763,     0.62863,     0.62963,     0.63063,     0.63163,     0.63263,     0.63363,     0.63463,     0.63564,     0.63664,     0.63764,     0.63864,     0.63964,     0.64064,     0.64164,     0.64264,     0.64364,     0.64464,     0.64565,     0.64665,     0.64765,\n",
              "           0.64865,     0.64965,     0.65065,     0.65165,     0.65265,     0.65365,     0.65465,     0.65566,     0.65666,     0.65766,     0.65866,     0.65966,     0.66066,     0.66166,     0.66266,     0.66366,     0.66466,     0.66567,     0.66667,     0.66767,     0.66867,     0.66967,     0.67067,     0.67167,\n",
              "           0.67267,     0.67367,     0.67467,     0.67568,     0.67668,     0.67768,     0.67868,     0.67968,     0.68068,     0.68168,     0.68268,     0.68368,     0.68468,     0.68569,     0.68669,     0.68769,     0.68869,     0.68969,     0.69069,     0.69169,     0.69269,     0.69369,     0.69469,      0.6957,\n",
              "            0.6967,      0.6977,      0.6987,      0.6997,      0.7007,      0.7017,      0.7027,      0.7037,      0.7047,     0.70571,     0.70671,     0.70771,     0.70871,     0.70971,     0.71071,     0.71171,     0.71271,     0.71371,     0.71471,     0.71572,     0.71672,     0.71772,     0.71872,     0.71972,\n",
              "           0.72072,     0.72172,     0.72272,     0.72372,     0.72472,     0.72573,     0.72673,     0.72773,     0.72873,     0.72973,     0.73073,     0.73173,     0.73273,     0.73373,     0.73473,     0.73574,     0.73674,     0.73774,     0.73874,     0.73974,     0.74074,     0.74174,     0.74274,     0.74374,\n",
              "           0.74474,     0.74575,     0.74675,     0.74775,     0.74875,     0.74975,     0.75075,     0.75175,     0.75275,     0.75375,     0.75475,     0.75576,     0.75676,     0.75776,     0.75876,     0.75976,     0.76076,     0.76176,     0.76276,     0.76376,     0.76476,     0.76577,     0.76677,     0.76777,\n",
              "           0.76877,     0.76977,     0.77077,     0.77177,     0.77277,     0.77377,     0.77477,     0.77578,     0.77678,     0.77778,     0.77878,     0.77978,     0.78078,     0.78178,     0.78278,     0.78378,     0.78478,     0.78579,     0.78679,     0.78779,     0.78879,     0.78979,     0.79079,     0.79179,\n",
              "           0.79279,     0.79379,     0.79479,      0.7958,      0.7968,      0.7978,      0.7988,      0.7998,      0.8008,      0.8018,      0.8028,      0.8038,      0.8048,     0.80581,     0.80681,     0.80781,     0.80881,     0.80981,     0.81081,     0.81181,     0.81281,     0.81381,     0.81481,     0.81582,\n",
              "           0.81682,     0.81782,     0.81882,     0.81982,     0.82082,     0.82182,     0.82282,     0.82382,     0.82482,     0.82583,     0.82683,     0.82783,     0.82883,     0.82983,     0.83083,     0.83183,     0.83283,     0.83383,     0.83483,     0.83584,     0.83684,     0.83784,     0.83884,     0.83984,\n",
              "           0.84084,     0.84184,     0.84284,     0.84384,     0.84484,     0.84585,     0.84685,     0.84785,     0.84885,     0.84985,     0.85085,     0.85185,     0.85285,     0.85385,     0.85485,     0.85586,     0.85686,     0.85786,     0.85886,     0.85986,     0.86086,     0.86186,     0.86286,     0.86386,\n",
              "           0.86486,     0.86587,     0.86687,     0.86787,     0.86887,     0.86987,     0.87087,     0.87187,     0.87287,     0.87387,     0.87487,     0.87588,     0.87688,     0.87788,     0.87888,     0.87988,     0.88088,     0.88188,     0.88288,     0.88388,     0.88488,     0.88589,     0.88689,     0.88789,\n",
              "           0.88889,     0.88989,     0.89089,     0.89189,     0.89289,     0.89389,     0.89489,      0.8959,      0.8969,      0.8979,      0.8989,      0.8999,      0.9009,      0.9019,      0.9029,      0.9039,      0.9049,     0.90591,     0.90691,     0.90791,     0.90891,     0.90991,     0.91091,     0.91191,\n",
              "           0.91291,     0.91391,     0.91491,     0.91592,     0.91692,     0.91792,     0.91892,     0.91992,     0.92092,     0.92192,     0.92292,     0.92392,     0.92492,     0.92593,     0.92693,     0.92793,     0.92893,     0.92993,     0.93093,     0.93193,     0.93293,     0.93393,     0.93493,     0.93594,\n",
              "           0.93694,     0.93794,     0.93894,     0.93994,     0.94094,     0.94194,     0.94294,     0.94394,     0.94494,     0.94595,     0.94695,     0.94795,     0.94895,     0.94995,     0.95095,     0.95195,     0.95295,     0.95395,     0.95495,     0.95596,     0.95696,     0.95796,     0.95896,     0.95996,\n",
              "           0.96096,     0.96196,     0.96296,     0.96396,     0.96496,     0.96597,     0.96697,     0.96797,     0.96897,     0.96997,     0.97097,     0.97197,     0.97297,     0.97397,     0.97497,     0.97598,     0.97698,     0.97798,     0.97898,     0.97998,     0.98098,     0.98198,     0.98298,     0.98398,\n",
              "           0.98498,     0.98599,     0.98699,     0.98799,     0.98899,     0.98999,     0.99099,     0.99199,     0.99299,     0.99399,     0.99499,       0.996,       0.997,       0.998,       0.999,           1]), array([[    0.82143,     0.82143,     0.82143, ...,           0,           0,           0],\n",
              "       [    0.99721,     0.99721,     0.99721, ...,           0,           0,           0],\n",
              "       [          1,           1,           1, ...,           0,           0,           0]]), 'Confidence', 'Recall']]\n",
              "fitness: np.float64(0.5425305204175846)\n",
              "keys: ['metrics/precision(B)', 'metrics/recall(B)', 'metrics/mAP50(B)', 'metrics/mAP50-95(B)']\n",
              "maps: array([    0.25891,     0.62057,     0.63655])\n",
              "names: {0: 'football', 1: 'player', 2: 'referee'}\n",
              "plot: True\n",
              "results_dict: {'metrics/precision(B)': np.float64(0.8900435247635577), 'metrics/recall(B)': np.float64(0.8321196445151878), 'metrics/mAP50(B)': np.float64(0.877180496012438), 'metrics/mAP50-95(B)': np.float64(0.5053471897959343), 'fitness': np.float64(0.5425305204175846)}\n",
              "save_dir: PosixPath('runs/detect/train2')\n",
              "speed: {'preprocess': 0.11962293939232592, 'inference': 3.599834090905598, 'loss': 0.0003778787879238018, 'postprocess': 1.8054304242455008}\n",
              "task: 'detect'"
            ]
          },
          "execution_count": 8,
          "metadata": {},
          "output_type": "execute_result"
        }
      ],
      "source": [
        "model.train(data='/content/data.yaml', epochs=50, batch=32, imgsz=640, lr0=0.001, augment=True, patience=10, save=True)"
      ]
    },
    {
      "cell_type": "code",
      "execution_count": 11,
      "metadata": {
        "colab": {
          "base_uri": "https://localhost:8080/"
        },
        "collapsed": true,
        "id": "8TsjJ6TrhqzP",
        "outputId": "a303dec8-d227-4f2a-9361-022d1cc67d78"
      },
      "outputs": [
        {
          "name": "stdout",
          "output_type": "stream",
          "text": [
            "\n",
            "image 1/1 /content/istockphoto-647672134-612x612.jpg: 448x640 14 players, 1 referee, 57.1ms\n",
            "Speed: 4.4ms preprocess, 57.1ms inference, 2.3ms postprocess per image at shape (1, 3, 448, 640)\n",
            "Results saved to \u001b[1mruns/detect/predict4\u001b[0m\n",
            "ultralytics.engine.results.Boxes object with attributes:\n",
            "\n",
            "cls: tensor([1., 1., 1., 1., 1., 1., 1., 1., 1., 1., 1., 1., 1., 1., 2.], device='cuda:0')\n",
            "conf: tensor([0.9622, 0.9476, 0.9347, 0.8679, 0.8652, 0.8386, 0.8206, 0.8143, 0.7918, 0.7820, 0.7508, 0.7016, 0.6046, 0.5974, 0.5575], device='cuda:0')\n",
            "data: tensor([[5.3131e+01, 5.6263e+01, 7.9293e+01, 1.0695e+02, 9.6225e-01, 1.0000e+00],\n",
            "        [5.6139e+01, 0.0000e+00, 7.8568e+01, 4.5701e+01, 9.4759e-01, 1.0000e+00],\n",
            "        [1.3678e+02, 7.9464e+01, 1.6621e+02, 1.3293e+02, 9.3471e-01, 1.0000e+00],\n",
            "        [1.7529e+02, 6.3897e+01, 2.0382e+02, 1.1565e+02, 8.6791e-01, 1.0000e+00],\n",
            "        [4.1836e+02, 5.1113e+01, 4.4028e+02, 9.1666e+01, 8.6518e-01, 1.0000e+00],\n",
            "        [1.8425e-01, 1.2231e+02, 1.2376e+01, 1.7612e+02, 8.3857e-01, 1.0000e+00],\n",
            "        [3.1299e+02, 3.5498e+01, 3.4877e+02, 8.0918e+01, 8.2061e-01, 1.0000e+00],\n",
            "        [2.7622e+02, 1.2088e+01, 3.0446e+02, 6.0264e+01, 8.1428e-01, 1.0000e+00],\n",
            "        [4.4722e+02, 3.5469e+01, 4.7174e+02, 8.9340e+01, 7.9182e-01, 1.0000e+00],\n",
            "        [4.4357e+02, 9.1833e+01, 4.7381e+02, 1.5101e+02, 7.8196e-01, 1.0000e+00],\n",
            "        [3.1032e+02, 2.9564e+02, 3.5544e+02, 3.7239e+02, 7.5081e-01, 1.0000e+00],\n",
            "        [2.5032e+02, 4.9217e+01, 2.6932e+02, 9.8281e+01, 7.0159e-01, 1.0000e+00],\n",
            "        [3.1805e+02, 2.9563e+02, 3.6939e+02, 3.7503e+02, 6.0456e-01, 1.0000e+00],\n",
            "        [3.3674e+02, 3.6478e+01, 3.5159e+02, 8.3090e+01, 5.9741e-01, 1.0000e+00],\n",
            "        [8.7274e+01, 4.6580e+01, 1.1609e+02, 1.0154e+02, 5.5747e-01, 2.0000e+00]], device='cuda:0')\n",
            "id: None\n",
            "is_track: False\n",
            "orig_shape: (408, 612)\n",
            "shape: torch.Size([15, 6])\n",
            "xywh: tensor([[ 66.2121,  81.6081,  26.1627,  50.6894],\n",
            "        [ 67.3532,  22.8505,  22.4288,  45.7010],\n",
            "        [151.4954, 106.1992,  29.4231,  53.4697],\n",
            "        [189.5560,  89.7728,  28.5223,  51.7524],\n",
            "        [429.3169,  71.3899,  21.9208,  40.5529],\n",
            "        [  6.2803, 149.2145,  12.1922,  53.8108],\n",
            "        [330.8812,  58.2079,  35.7802,  45.4207],\n",
            "        [290.3391,  36.1761,  28.2379,  48.1764],\n",
            "        [459.4814,  62.4047,  24.5174,  53.8707],\n",
            "        [458.6888, 121.4236,  30.2458,  59.1802],\n",
            "        [332.8818, 334.0167,  45.1229,  76.7444],\n",
            "        [259.8179,  73.7489,  18.9979,  49.0638],\n",
            "        [343.7225, 335.3301,  51.3374,  79.4091],\n",
            "        [344.1641,  59.7842,  14.8462,  46.6121],\n",
            "        [101.6808,  74.0610,  28.8137,  54.9624]], device='cuda:0')\n",
            "xywhn: tensor([[0.1082, 0.2000, 0.0427, 0.1242],\n",
            "        [0.1101, 0.0560, 0.0366, 0.1120],\n",
            "        [0.2475, 0.2603, 0.0481, 0.1311],\n",
            "        [0.3097, 0.2200, 0.0466, 0.1268],\n",
            "        [0.7015, 0.1750, 0.0358, 0.0994],\n",
            "        [0.0103, 0.3657, 0.0199, 0.1319],\n",
            "        [0.5407, 0.1427, 0.0585, 0.1113],\n",
            "        [0.4744, 0.0887, 0.0461, 0.1181],\n",
            "        [0.7508, 0.1530, 0.0401, 0.1320],\n",
            "        [0.7495, 0.2976, 0.0494, 0.1450],\n",
            "        [0.5439, 0.8187, 0.0737, 0.1881],\n",
            "        [0.4245, 0.1808, 0.0310, 0.1203],\n",
            "        [0.5616, 0.8219, 0.0839, 0.1946],\n",
            "        [0.5624, 0.1465, 0.0243, 0.1142],\n",
            "        [0.1661, 0.1815, 0.0471, 0.1347]], device='cuda:0')\n",
            "xyxy: tensor([[5.3131e+01, 5.6263e+01, 7.9293e+01, 1.0695e+02],\n",
            "        [5.6139e+01, 0.0000e+00, 7.8568e+01, 4.5701e+01],\n",
            "        [1.3678e+02, 7.9464e+01, 1.6621e+02, 1.3293e+02],\n",
            "        [1.7529e+02, 6.3897e+01, 2.0382e+02, 1.1565e+02],\n",
            "        [4.1836e+02, 5.1113e+01, 4.4028e+02, 9.1666e+01],\n",
            "        [1.8425e-01, 1.2231e+02, 1.2376e+01, 1.7612e+02],\n",
            "        [3.1299e+02, 3.5498e+01, 3.4877e+02, 8.0918e+01],\n",
            "        [2.7622e+02, 1.2088e+01, 3.0446e+02, 6.0264e+01],\n",
            "        [4.4722e+02, 3.5469e+01, 4.7174e+02, 8.9340e+01],\n",
            "        [4.4357e+02, 9.1833e+01, 4.7381e+02, 1.5101e+02],\n",
            "        [3.1032e+02, 2.9564e+02, 3.5544e+02, 3.7239e+02],\n",
            "        [2.5032e+02, 4.9217e+01, 2.6932e+02, 9.8281e+01],\n",
            "        [3.1805e+02, 2.9563e+02, 3.6939e+02, 3.7503e+02],\n",
            "        [3.3674e+02, 3.6478e+01, 3.5159e+02, 8.3090e+01],\n",
            "        [8.7274e+01, 4.6580e+01, 1.1609e+02, 1.0154e+02]], device='cuda:0')\n",
            "xyxyn: tensor([[8.6815e-02, 1.3790e-01, 1.2956e-01, 2.6214e-01],\n",
            "        [9.1730e-02, 0.0000e+00, 1.2838e-01, 1.1201e-01],\n",
            "        [2.2350e-01, 1.9477e-01, 2.7158e-01, 3.2582e-01],\n",
            "        [2.8643e-01, 1.5661e-01, 3.3303e-01, 2.8345e-01],\n",
            "        [6.8359e-01, 1.2528e-01, 7.1941e-01, 2.2467e-01],\n",
            "        [3.0107e-04, 2.9978e-01, 2.0223e-02, 4.3167e-01],\n",
            "        [5.1142e-01, 8.7004e-02, 5.6989e-01, 1.9833e-01],\n",
            "        [4.5134e-01, 2.9627e-02, 4.9748e-01, 1.4771e-01],\n",
            "        [7.3076e-01, 8.6935e-02, 7.7082e-01, 2.1897e-01],\n",
            "        [7.2478e-01, 2.2508e-01, 7.7420e-01, 3.7013e-01],\n",
            "        [5.0706e-01, 7.2462e-01, 5.8079e-01, 9.1272e-01],\n",
            "        [4.0902e-01, 1.2063e-01, 4.4006e-01, 2.4088e-01],\n",
            "        [5.1970e-01, 7.2457e-01, 6.0358e-01, 9.1920e-01],\n",
            "        [5.5023e-01, 8.9407e-02, 5.7449e-01, 2.0365e-01],\n",
            "        [1.4260e-01, 1.1417e-01, 1.8969e-01, 2.4888e-01]], device='cuda:0')\n"
          ]
        }
      ],
      "source": [
        "from ultralytics import YOLO\n",
        "# 1️⃣best.pt 모델 로드\n",
        "model = YOLO('runs/detect/train2/weights/best.pt') # 경로를 본인의 best.pt로 수정!\n",
        "# 2️⃣예측할 이미지 경로\n",
        "image_path = '/content/download.jpg' # 예측할 이미지 경로\n",
        "image_path = '/content/istockphoto-647672134-612x612.jpg' # 예측할 이미지 경로\n",
        "# 3️⃣예측 수행\n",
        "results = model.predict(\n",
        " source=image_path, # 이미지 파일 경로 (또는 폴더 경로, 비디오 경로, 0: 웹캠)\n",
        " save=True, # 예측 결과 이미지 저장\n",
        "show=True, # 팝업 창에 결과 출력\n",
        "conf=0.5, # 탐지 신뢰도 threshold\n",
        " device=0 # GPU: 0 / CPU: 'cpu'\n",
        ")\n",
        "# 4️⃣결과 확인\n",
        "for result in results:\n",
        " print(result.boxes) # 감지된 객체의 경계 상자 정보"
      ]
    },
    {
      "cell_type": "code",
      "execution_count": 13,
      "metadata": {
        "id": "Ij_1xXBI4ivx"
      },
      "outputs": [],
      "source": [
        "model = YOLO('yolov8s.pt')"
      ]
    },
    {
      "cell_type": "code",
      "execution_count": 14,
      "metadata": {
        "colab": {
          "base_uri": "https://localhost:8080/"
        },
        "id": "M_TFg18X4nPp",
        "outputId": "208b1157-958f-4bf5-dc75-2c6eabe84c1a"
      },
      "outputs": [
        {
          "name": "stdout",
          "output_type": "stream",
          "text": [
            "train: ../train/images\n",
            "val: ../valid/images\n",
            "test: ../test/images\n",
            "\n",
            "nc: 3\n",
            "names: ['football', 'player', 'referee']\n",
            "\n",
            "roboflow:\n",
            "  workspace: roboflow-100\n",
            "  project: soccer-players-5fuqs\n",
            "  version: 2\n",
            "  license: CC BY 4.0\n",
            "  url: https://universe.roboflow.com/roboflow-100/soccer-players-5fuqs/dataset/2"
          ]
        }
      ],
      "source": [
        "!cat data.yaml"
      ]
    },
    {
      "cell_type": "code",
      "execution_count": 22,
      "metadata": {
        "colab": {
          "base_uri": "https://localhost:8080/"
        },
        "id": "axewCKce4vYi",
        "outputId": "87b377be-7e75-4f32-bd66-3fe6eff0d93c"
      },
      "outputs": [
        {
          "name": "stdout",
          "output_type": "stream",
          "text": [
            "Ultralytics 8.3.146 🚀 Python-3.11.12 torch-2.6.0+cu124 CUDA:0 (Tesla T4, 15095MiB)\n",
            "\u001b[34m\u001b[1mengine/trainer: \u001b[0magnostic_nms=False, amp=True, augment=True, auto_augment=randaugment, batch=32, bgr=0.0, box=7.5, cache=False, cfg=None, classes=None, close_mosaic=10, cls=0.5, conf=None, copy_paste=0.5, copy_paste_mode=flip, cos_lr=False, cutmix=0.3, data=/content/data.yaml, degrees=0.0, deterministic=True, device=0, dfl=1.5, dnn=False, dropout=0.0, dynamic=False, embed=None, epochs=50, erasing=0.4, exist_ok=False, fliplr=0.5, flipud=0.0, format=torchscript, fraction=1.0, freeze=None, half=False, hsv_h=0.015, hsv_s=0.7, hsv_v=0.4, imgsz=720, int8=False, iou=0.7, keras=False, kobj=1.0, line_width=None, lr0=0.001, lrf=0.01, mask_ratio=4, max_det=300, mixup=0.0, mode=train, model=runs/detect/train42/weights/best.pt, momentum=0.937, mosaic=1.0, multi_scale=False, name=train5, nbs=64, nms=False, opset=None, optimize=False, optimizer=AdamW, overlap_mask=True, patience=10, perspective=0.0, plots=True, pose=12.0, pretrained=True, profile=False, project=None, rect=False, resume=False, retina_masks=False, save=True, save_conf=False, save_crop=False, save_dir=runs/detect/train5, save_frames=False, save_json=False, save_period=-1, save_txt=False, scale=0.5, seed=0, shear=0.0, show=False, show_boxes=True, show_conf=True, show_labels=True, simplify=True, single_cls=False, source=None, split=val, stream_buffer=False, task=detect, time=None, tracker=botsort.yaml, translate=0.1, val=True, verbose=True, vid_stride=1, visualize=False, warmup_bias_lr=0.1, warmup_epochs=3.0, warmup_momentum=0.8, weight_decay=0.0005, workers=8, workspace=None\n",
            "\n",
            "                   from  n    params  module                                       arguments                     \n",
            "  0                  -1  1       928  ultralytics.nn.modules.conv.Conv             [3, 32, 3, 2]                 \n",
            "  1                  -1  1     18560  ultralytics.nn.modules.conv.Conv             [32, 64, 3, 2]                \n",
            "  2                  -1  1     29056  ultralytics.nn.modules.block.C2f             [64, 64, 1, True]             \n",
            "  3                  -1  1     73984  ultralytics.nn.modules.conv.Conv             [64, 128, 3, 2]               \n",
            "  4                  -1  2    197632  ultralytics.nn.modules.block.C2f             [128, 128, 2, True]           \n",
            "  5                  -1  1    295424  ultralytics.nn.modules.conv.Conv             [128, 256, 3, 2]              \n",
            "  6                  -1  2    788480  ultralytics.nn.modules.block.C2f             [256, 256, 2, True]           \n",
            "  7                  -1  1   1180672  ultralytics.nn.modules.conv.Conv             [256, 512, 3, 2]              \n",
            "  8                  -1  1   1838080  ultralytics.nn.modules.block.C2f             [512, 512, 1, True]           \n",
            "  9                  -1  1    656896  ultralytics.nn.modules.block.SPPF            [512, 512, 5]                 \n",
            " 10                  -1  1         0  torch.nn.modules.upsampling.Upsample         [None, 2, 'nearest']          \n",
            " 11             [-1, 6]  1         0  ultralytics.nn.modules.conv.Concat           [1]                           \n",
            " 12                  -1  1    591360  ultralytics.nn.modules.block.C2f             [768, 256, 1]                 \n",
            " 13                  -1  1         0  torch.nn.modules.upsampling.Upsample         [None, 2, 'nearest']          \n",
            " 14             [-1, 4]  1         0  ultralytics.nn.modules.conv.Concat           [1]                           \n",
            " 15                  -1  1    148224  ultralytics.nn.modules.block.C2f             [384, 128, 1]                 \n",
            " 16                  -1  1    147712  ultralytics.nn.modules.conv.Conv             [128, 128, 3, 2]              \n",
            " 17            [-1, 12]  1         0  ultralytics.nn.modules.conv.Concat           [1]                           \n",
            " 18                  -1  1    493056  ultralytics.nn.modules.block.C2f             [384, 256, 1]                 \n",
            " 19                  -1  1    590336  ultralytics.nn.modules.conv.Conv             [256, 256, 3, 2]              \n",
            " 20             [-1, 9]  1         0  ultralytics.nn.modules.conv.Concat           [1]                           \n",
            " 21                  -1  1   1969152  ultralytics.nn.modules.block.C2f             [768, 512, 1]                 \n",
            " 22        [15, 18, 21]  1   2117209  ultralytics.nn.modules.head.Detect           [3, [128, 256, 512]]          \n",
            "Model summary: 129 layers, 11,136,761 parameters, 11,136,745 gradients, 28.7 GFLOPs\n",
            "\n",
            "Transferred 70/355 items from pretrained weights\n",
            "Freezing layer 'model.22.dfl.conv.weight'\n",
            "\u001b[34m\u001b[1mAMP: \u001b[0mrunning Automatic Mixed Precision (AMP) checks...\n",
            "\u001b[34m\u001b[1mAMP: \u001b[0mchecks passed ✅\n",
            "WARNING ⚠️ imgsz=[720] must be multiple of max stride 32, updating to [736]\n",
            "\u001b[34m\u001b[1mtrain: \u001b[0mFast image access ✅ (ping: 0.0±0.0 ms, read: 939.0±452.0 MB/s, size: 29.5 KB)\n"
          ]
        },
        {
          "name": "stderr",
          "output_type": "stream",
          "text": [
            "\u001b[34m\u001b[1mtrain: \u001b[0mScanning /content/train/labels.cache... 114 images, 0 backgrounds, 0 corrupt: 100%|██████████| 114/114 [00:00<?, ?it/s]"
          ]
        },
        {
          "name": "stdout",
          "output_type": "stream",
          "text": [
            "\u001b[34m\u001b[1malbumentations: \u001b[0mBlur(p=0.01, blur_limit=(3, 7)), MedianBlur(p=0.01, blur_limit=(3, 7)), ToGray(p=0.01, method='weighted_average', num_output_channels=3), CLAHE(p=0.01, clip_limit=(1.0, 4.0), tile_grid_size=(8, 8))\n"
          ]
        },
        {
          "name": "stderr",
          "output_type": "stream",
          "text": [
            "\n"
          ]
        },
        {
          "name": "stdout",
          "output_type": "stream",
          "text": [
            "\u001b[34m\u001b[1mval: \u001b[0mFast image access ✅ (ping: 0.0±0.0 ms, read: 236.4±128.2 MB/s, size: 32.3 KB)\n"
          ]
        },
        {
          "name": "stderr",
          "output_type": "stream",
          "text": [
            "\u001b[34m\u001b[1mval: \u001b[0mScanning /content/valid/labels.cache... 33 images, 0 backgrounds, 0 corrupt: 100%|██████████| 33/33 [00:00<?, ?it/s]\n"
          ]
        },
        {
          "name": "stdout",
          "output_type": "stream",
          "text": [
            "Plotting labels to runs/detect/train5/labels.jpg... \n",
            "\u001b[34m\u001b[1moptimizer:\u001b[0m AdamW(lr=0.001, momentum=0.937) with parameter groups 57 weight(decay=0.0), 64 weight(decay=0.0005), 63 bias(decay=0.0)\n",
            "Image sizes 736 train, 736 val\n",
            "Using 2 dataloader workers\n",
            "Logging results to \u001b[1mruns/detect/train5\u001b[0m\n",
            "Starting training for 50 epochs...\n",
            "\n",
            "      Epoch    GPU_mem   box_loss   cls_loss   dfl_loss  Instances       Size\n"
          ]
        },
        {
          "name": "stderr",
          "output_type": "stream",
          "text": [
            "       1/50      9.44G      1.577      2.426      1.215        424        736: 100%|██████████| 4/4 [00:03<00:00,  1.26it/s]\n",
            "                 Class     Images  Instances      Box(P          R      mAP50  mAP50-95): 100%|██████████| 1/1 [00:00<00:00,  1.78it/s]"
          ]
        },
        {
          "name": "stdout",
          "output_type": "stream",
          "text": [
            "                   all         33        407    0.00601     0.0464    0.00376    0.00147\n"
          ]
        },
        {
          "name": "stderr",
          "output_type": "stream",
          "text": [
            "\n"
          ]
        },
        {
          "name": "stdout",
          "output_type": "stream",
          "text": [
            "\n",
            "      Epoch    GPU_mem   box_loss   cls_loss   dfl_loss  Instances       Size\n"
          ]
        },
        {
          "name": "stderr",
          "output_type": "stream",
          "text": [
            "       2/50      9.02G      1.522      2.231      1.184        294        736: 100%|██████████| 4/4 [00:03<00:00,  1.27it/s]\n",
            "                 Class     Images  Instances      Box(P          R      mAP50  mAP50-95): 100%|██████████| 1/1 [00:00<00:00,  1.66it/s]"
          ]
        },
        {
          "name": "stdout",
          "output_type": "stream",
          "text": [
            "                   all         33        407     0.0376      0.141      0.101     0.0327\n"
          ]
        },
        {
          "name": "stderr",
          "output_type": "stream",
          "text": [
            "\n"
          ]
        },
        {
          "name": "stdout",
          "output_type": "stream",
          "text": [
            "\n",
            "      Epoch    GPU_mem   box_loss   cls_loss   dfl_loss  Instances       Size\n"
          ]
        },
        {
          "name": "stderr",
          "output_type": "stream",
          "text": [
            "       3/50      9.06G      1.307     0.8558      1.061        358        736: 100%|██████████| 4/4 [00:02<00:00,  1.43it/s]\n",
            "                 Class     Images  Instances      Box(P          R      mAP50  mAP50-95): 100%|██████████| 1/1 [00:00<00:00,  4.63it/s]"
          ]
        },
        {
          "name": "stdout",
          "output_type": "stream",
          "text": [
            "                   all         33        407          0          0          0          0\n"
          ]
        },
        {
          "name": "stderr",
          "output_type": "stream",
          "text": [
            "\n"
          ]
        },
        {
          "name": "stdout",
          "output_type": "stream",
          "text": [
            "\n",
            "      Epoch    GPU_mem   box_loss   cls_loss   dfl_loss  Instances       Size\n"
          ]
        },
        {
          "name": "stderr",
          "output_type": "stream",
          "text": [
            "       4/50      9.06G      1.292     0.7124      1.021        423        736: 100%|██████████| 4/4 [00:02<00:00,  1.45it/s]\n",
            "                 Class     Images  Instances      Box(P          R      mAP50  mAP50-95): 100%|██████████| 1/1 [00:00<00:00,  3.84it/s]"
          ]
        },
        {
          "name": "stdout",
          "output_type": "stream",
          "text": [
            "                   all         33        407      0.111     0.0119     0.0653     0.0327\n"
          ]
        },
        {
          "name": "stderr",
          "output_type": "stream",
          "text": [
            "\n"
          ]
        },
        {
          "name": "stdout",
          "output_type": "stream",
          "text": [
            "\n",
            "      Epoch    GPU_mem   box_loss   cls_loss   dfl_loss  Instances       Size\n"
          ]
        },
        {
          "name": "stderr",
          "output_type": "stream",
          "text": [
            "       5/50      8.97G      1.244     0.6702      1.029        391        736: 100%|██████████| 4/4 [00:02<00:00,  1.35it/s]\n",
            "                 Class     Images  Instances      Box(P          R      mAP50  mAP50-95): 100%|██████████| 1/1 [00:00<00:00,  1.71it/s]"
          ]
        },
        {
          "name": "stdout",
          "output_type": "stream",
          "text": [
            "                   all         33        407      0.393     0.0903      0.244      0.108\n"
          ]
        },
        {
          "name": "stderr",
          "output_type": "stream",
          "text": [
            "\n"
          ]
        },
        {
          "name": "stdout",
          "output_type": "stream",
          "text": [
            "\n",
            "      Epoch    GPU_mem   box_loss   cls_loss   dfl_loss  Instances       Size\n"
          ]
        },
        {
          "name": "stderr",
          "output_type": "stream",
          "text": [
            "       6/50      8.96G      1.183     0.6203     0.9864        440        736: 100%|██████████| 4/4 [00:02<00:00,  1.47it/s]\n",
            "                 Class     Images  Instances      Box(P          R      mAP50  mAP50-95): 100%|██████████| 1/1 [00:00<00:00,  3.40it/s]"
          ]
        },
        {
          "name": "stdout",
          "output_type": "stream",
          "text": [
            "                   all         33        407      0.336      0.252      0.289      0.105\n"
          ]
        },
        {
          "name": "stderr",
          "output_type": "stream",
          "text": [
            "\n"
          ]
        },
        {
          "name": "stdout",
          "output_type": "stream",
          "text": [
            "\n",
            "      Epoch    GPU_mem   box_loss   cls_loss   dfl_loss  Instances       Size\n"
          ]
        },
        {
          "name": "stderr",
          "output_type": "stream",
          "text": [
            "       7/50      8.94G      1.183     0.6066     0.9829        445        736: 100%|██████████| 4/4 [00:02<00:00,  1.44it/s]\n",
            "                 Class     Images  Instances      Box(P          R      mAP50  mAP50-95): 100%|██████████| 1/1 [00:00<00:00,  2.60it/s]"
          ]
        },
        {
          "name": "stdout",
          "output_type": "stream",
          "text": [
            "                   all         33        407      0.431      0.605      0.527      0.214\n"
          ]
        },
        {
          "name": "stderr",
          "output_type": "stream",
          "text": [
            "\n"
          ]
        },
        {
          "name": "stdout",
          "output_type": "stream",
          "text": [
            "\n",
            "      Epoch    GPU_mem   box_loss   cls_loss   dfl_loss  Instances       Size\n"
          ]
        },
        {
          "name": "stderr",
          "output_type": "stream",
          "text": [
            "       8/50      9.21G      1.194     0.6033     0.9932        349        736: 100%|██████████| 4/4 [00:02<00:00,  1.42it/s]\n",
            "                 Class     Images  Instances      Box(P          R      mAP50  mAP50-95): 100%|██████████| 1/1 [00:00<00:00,  1.70it/s]"
          ]
        },
        {
          "name": "stdout",
          "output_type": "stream",
          "text": [
            "                   all         33        407      0.422      0.742      0.703      0.283\n"
          ]
        },
        {
          "name": "stderr",
          "output_type": "stream",
          "text": [
            "\n"
          ]
        },
        {
          "name": "stdout",
          "output_type": "stream",
          "text": [
            "\n",
            "      Epoch    GPU_mem   box_loss   cls_loss   dfl_loss  Instances       Size\n"
          ]
        },
        {
          "name": "stderr",
          "output_type": "stream",
          "text": [
            "       9/50      9.05G      1.143     0.5698     0.9797        348        736: 100%|██████████| 4/4 [00:02<00:00,  1.52it/s]\n",
            "                 Class     Images  Instances      Box(P          R      mAP50  mAP50-95): 100%|██████████| 1/1 [00:00<00:00,  2.91it/s]"
          ]
        },
        {
          "name": "stdout",
          "output_type": "stream",
          "text": [
            "                   all         33        407      0.841      0.521      0.774      0.353\n"
          ]
        },
        {
          "name": "stderr",
          "output_type": "stream",
          "text": [
            "\n"
          ]
        },
        {
          "name": "stdout",
          "output_type": "stream",
          "text": [
            "\n",
            "      Epoch    GPU_mem   box_loss   cls_loss   dfl_loss  Instances       Size\n"
          ]
        },
        {
          "name": "stderr",
          "output_type": "stream",
          "text": [
            "      10/50      9.21G      1.159     0.5566     0.9977        362        736: 100%|██████████| 4/4 [00:02<00:00,  1.48it/s]\n",
            "                 Class     Images  Instances      Box(P          R      mAP50  mAP50-95): 100%|██████████| 1/1 [00:00<00:00,  3.25it/s]"
          ]
        },
        {
          "name": "stdout",
          "output_type": "stream",
          "text": [
            "                   all         33        407      0.944       0.65      0.852      0.447\n"
          ]
        },
        {
          "name": "stderr",
          "output_type": "stream",
          "text": [
            "\n"
          ]
        },
        {
          "name": "stdout",
          "output_type": "stream",
          "text": [
            "\n",
            "      Epoch    GPU_mem   box_loss   cls_loss   dfl_loss  Instances       Size\n"
          ]
        },
        {
          "name": "stderr",
          "output_type": "stream",
          "text": [
            "      11/50         9G      1.175     0.5523     0.9945        462        736: 100%|██████████| 4/4 [00:02<00:00,  1.46it/s]\n",
            "                 Class     Images  Instances      Box(P          R      mAP50  mAP50-95): 100%|██████████| 1/1 [00:00<00:00,  1.68it/s]"
          ]
        },
        {
          "name": "stdout",
          "output_type": "stream",
          "text": [
            "                   all         33        407      0.954      0.718      0.879      0.447\n"
          ]
        },
        {
          "name": "stderr",
          "output_type": "stream",
          "text": [
            "\n"
          ]
        },
        {
          "name": "stdout",
          "output_type": "stream",
          "text": [
            "\n",
            "      Epoch    GPU_mem   box_loss   cls_loss   dfl_loss  Instances       Size\n"
          ]
        },
        {
          "name": "stderr",
          "output_type": "stream",
          "text": [
            "      12/50      8.97G       1.19     0.5719      1.004        387        736: 100%|██████████| 4/4 [00:02<00:00,  1.48it/s]\n",
            "                 Class     Images  Instances      Box(P          R      mAP50  mAP50-95): 100%|██████████| 1/1 [00:00<00:00,  2.44it/s]"
          ]
        },
        {
          "name": "stdout",
          "output_type": "stream",
          "text": [
            "                   all         33        407      0.897       0.74      0.868      0.506\n"
          ]
        },
        {
          "name": "stderr",
          "output_type": "stream",
          "text": [
            "\n"
          ]
        },
        {
          "name": "stdout",
          "output_type": "stream",
          "text": [
            "\n",
            "      Epoch    GPU_mem   box_loss   cls_loss   dfl_loss  Instances       Size\n"
          ]
        },
        {
          "name": "stderr",
          "output_type": "stream",
          "text": [
            "      13/50      9.39G      1.161     0.5523     0.9797        383        736: 100%|██████████| 4/4 [00:03<00:00,  1.16it/s]\n",
            "                 Class     Images  Instances      Box(P          R      mAP50  mAP50-95): 100%|██████████| 1/1 [00:00<00:00,  2.27it/s]"
          ]
        },
        {
          "name": "stdout",
          "output_type": "stream",
          "text": [
            "                   all         33        407      0.907      0.825      0.893      0.505\n"
          ]
        },
        {
          "name": "stderr",
          "output_type": "stream",
          "text": [
            "\n"
          ]
        },
        {
          "name": "stdout",
          "output_type": "stream",
          "text": [
            "\n",
            "      Epoch    GPU_mem   box_loss   cls_loss   dfl_loss  Instances       Size\n"
          ]
        },
        {
          "name": "stderr",
          "output_type": "stream",
          "text": [
            "      14/50      9.23G       1.13     0.5471     0.9643        380        736: 100%|██████████| 4/4 [00:02<00:00,  1.49it/s]\n",
            "                 Class     Images  Instances      Box(P          R      mAP50  mAP50-95): 100%|██████████| 1/1 [00:00<00:00,  1.64it/s]"
          ]
        },
        {
          "name": "stdout",
          "output_type": "stream",
          "text": [
            "                   all         33        407       0.91      0.837        0.9      0.523\n"
          ]
        },
        {
          "name": "stderr",
          "output_type": "stream",
          "text": [
            "\n"
          ]
        },
        {
          "name": "stdout",
          "output_type": "stream",
          "text": [
            "\n",
            "      Epoch    GPU_mem   box_loss   cls_loss   dfl_loss  Instances       Size\n"
          ]
        },
        {
          "name": "stderr",
          "output_type": "stream",
          "text": [
            "      15/50      9.05G      1.148     0.5493     0.9867        403        736: 100%|██████████| 4/4 [00:02<00:00,  1.50it/s]\n",
            "                 Class     Images  Instances      Box(P          R      mAP50  mAP50-95): 100%|██████████| 1/1 [00:00<00:00,  2.88it/s]"
          ]
        },
        {
          "name": "stdout",
          "output_type": "stream",
          "text": [
            "                   all         33        407      0.955      0.802      0.883      0.542\n"
          ]
        },
        {
          "name": "stderr",
          "output_type": "stream",
          "text": [
            "\n"
          ]
        },
        {
          "name": "stdout",
          "output_type": "stream",
          "text": [
            "\n",
            "      Epoch    GPU_mem   box_loss   cls_loss   dfl_loss  Instances       Size\n"
          ]
        },
        {
          "name": "stderr",
          "output_type": "stream",
          "text": [
            "      16/50      9.05G      1.136     0.5498     0.9722        449        736: 100%|██████████| 4/4 [00:02<00:00,  1.56it/s]\n",
            "                 Class     Images  Instances      Box(P          R      mAP50  mAP50-95): 100%|██████████| 1/1 [00:00<00:00,  3.01it/s]"
          ]
        },
        {
          "name": "stdout",
          "output_type": "stream",
          "text": [
            "                   all         33        407      0.896      0.854      0.891      0.556\n"
          ]
        },
        {
          "name": "stderr",
          "output_type": "stream",
          "text": [
            "\n"
          ]
        },
        {
          "name": "stdout",
          "output_type": "stream",
          "text": [
            "\n",
            "      Epoch    GPU_mem   box_loss   cls_loss   dfl_loss  Instances       Size\n"
          ]
        },
        {
          "name": "stderr",
          "output_type": "stream",
          "text": [
            "      17/50      9.01G       1.14     0.5394     0.9693        347        736: 100%|██████████| 4/4 [00:02<00:00,  1.55it/s]\n",
            "                 Class     Images  Instances      Box(P          R      mAP50  mAP50-95): 100%|██████████| 1/1 [00:00<00:00,  2.16it/s]"
          ]
        },
        {
          "name": "stdout",
          "output_type": "stream",
          "text": [
            "                   all         33        407      0.943      0.856      0.927      0.571\n"
          ]
        },
        {
          "name": "stderr",
          "output_type": "stream",
          "text": [
            "\n"
          ]
        },
        {
          "name": "stdout",
          "output_type": "stream",
          "text": [
            "\n",
            "      Epoch    GPU_mem   box_loss   cls_loss   dfl_loss  Instances       Size\n"
          ]
        },
        {
          "name": "stderr",
          "output_type": "stream",
          "text": [
            "      18/50      9.16G      1.155     0.5565     0.9953        364        736: 100%|██████████| 4/4 [00:02<00:00,  1.47it/s]\n",
            "                 Class     Images  Instances      Box(P          R      mAP50  mAP50-95): 100%|██████████| 1/1 [00:00<00:00,  2.48it/s]"
          ]
        },
        {
          "name": "stdout",
          "output_type": "stream",
          "text": [
            "                   all         33        407      0.935      0.873      0.924      0.561\n"
          ]
        },
        {
          "name": "stderr",
          "output_type": "stream",
          "text": [
            "\n"
          ]
        },
        {
          "name": "stdout",
          "output_type": "stream",
          "text": [
            "\n",
            "      Epoch    GPU_mem   box_loss   cls_loss   dfl_loss  Instances       Size\n"
          ]
        },
        {
          "name": "stderr",
          "output_type": "stream",
          "text": [
            "      19/50      8.97G      1.096     0.5256     0.9621        435        736: 100%|██████████| 4/4 [00:02<00:00,  1.55it/s]\n",
            "                 Class     Images  Instances      Box(P          R      mAP50  mAP50-95): 100%|██████████| 1/1 [00:00<00:00,  2.56it/s]"
          ]
        },
        {
          "name": "stdout",
          "output_type": "stream",
          "text": [
            "                   all         33        407      0.932      0.858      0.915      0.558\n"
          ]
        },
        {
          "name": "stderr",
          "output_type": "stream",
          "text": [
            "\n"
          ]
        },
        {
          "name": "stdout",
          "output_type": "stream",
          "text": [
            "\n",
            "      Epoch    GPU_mem   box_loss   cls_loss   dfl_loss  Instances       Size\n"
          ]
        },
        {
          "name": "stderr",
          "output_type": "stream",
          "text": [
            "      20/50      9.06G      1.138     0.5178     0.9756        374        736: 100%|██████████| 4/4 [00:02<00:00,  1.55it/s]\n",
            "                 Class     Images  Instances      Box(P          R      mAP50  mAP50-95): 100%|██████████| 1/1 [00:00<00:00,  2.42it/s]"
          ]
        },
        {
          "name": "stdout",
          "output_type": "stream",
          "text": [
            "                   all         33        407      0.936      0.884      0.923      0.564\n"
          ]
        },
        {
          "name": "stderr",
          "output_type": "stream",
          "text": [
            "\n"
          ]
        },
        {
          "name": "stdout",
          "output_type": "stream",
          "text": [
            "\n",
            "      Epoch    GPU_mem   box_loss   cls_loss   dfl_loss  Instances       Size\n"
          ]
        },
        {
          "name": "stderr",
          "output_type": "stream",
          "text": [
            "      21/50      9.32G      1.076     0.5106     0.9499        404        736: 100%|██████████| 4/4 [00:02<00:00,  1.38it/s]\n",
            "                 Class     Images  Instances      Box(P          R      mAP50  mAP50-95): 100%|██████████| 1/1 [00:00<00:00,  1.75it/s]"
          ]
        },
        {
          "name": "stdout",
          "output_type": "stream",
          "text": [
            "                   all         33        407      0.939      0.879      0.929      0.573\n"
          ]
        },
        {
          "name": "stderr",
          "output_type": "stream",
          "text": [
            "\n"
          ]
        },
        {
          "name": "stdout",
          "output_type": "stream",
          "text": [
            "\n",
            "      Epoch    GPU_mem   box_loss   cls_loss   dfl_loss  Instances       Size\n"
          ]
        },
        {
          "name": "stderr",
          "output_type": "stream",
          "text": [
            "      22/50      9.04G      1.107       0.51     0.9626        399        736: 100%|██████████| 4/4 [00:02<00:00,  1.53it/s]\n",
            "                 Class     Images  Instances      Box(P          R      mAP50  mAP50-95): 100%|██████████| 1/1 [00:00<00:00,  3.17it/s]"
          ]
        },
        {
          "name": "stdout",
          "output_type": "stream",
          "text": [
            "                   all         33        407      0.945      0.879      0.929      0.574\n"
          ]
        },
        {
          "name": "stderr",
          "output_type": "stream",
          "text": [
            "\n"
          ]
        },
        {
          "name": "stdout",
          "output_type": "stream",
          "text": [
            "\n",
            "      Epoch    GPU_mem   box_loss   cls_loss   dfl_loss  Instances       Size\n"
          ]
        },
        {
          "name": "stderr",
          "output_type": "stream",
          "text": [
            "      23/50       9.1G      1.107       0.52      0.974        373        736: 100%|██████████| 4/4 [00:02<00:00,  1.50it/s]\n",
            "                 Class     Images  Instances      Box(P          R      mAP50  mAP50-95): 100%|██████████| 1/1 [00:00<00:00,  2.61it/s]"
          ]
        },
        {
          "name": "stdout",
          "output_type": "stream",
          "text": [
            "                   all         33        407      0.935      0.883      0.923      0.564\n"
          ]
        },
        {
          "name": "stderr",
          "output_type": "stream",
          "text": [
            "\n"
          ]
        },
        {
          "name": "stdout",
          "output_type": "stream",
          "text": [
            "\n",
            "      Epoch    GPU_mem   box_loss   cls_loss   dfl_loss  Instances       Size\n"
          ]
        },
        {
          "name": "stderr",
          "output_type": "stream",
          "text": [
            "      24/50      8.98G      1.099     0.5089     0.9609        367        736: 100%|██████████| 4/4 [00:02<00:00,  1.47it/s]\n",
            "                 Class     Images  Instances      Box(P          R      mAP50  mAP50-95): 100%|██████████| 1/1 [00:00<00:00,  1.49it/s]"
          ]
        },
        {
          "name": "stdout",
          "output_type": "stream",
          "text": [
            "                   all         33        407      0.909      0.858      0.906      0.571\n"
          ]
        },
        {
          "name": "stderr",
          "output_type": "stream",
          "text": [
            "\n"
          ]
        },
        {
          "name": "stdout",
          "output_type": "stream",
          "text": [
            "\n",
            "      Epoch    GPU_mem   box_loss   cls_loss   dfl_loss  Instances       Size\n"
          ]
        },
        {
          "name": "stderr",
          "output_type": "stream",
          "text": [
            "      25/50      9.09G       1.11     0.5232     0.9741        260        736: 100%|██████████| 4/4 [00:02<00:00,  1.56it/s]\n",
            "                 Class     Images  Instances      Box(P          R      mAP50  mAP50-95): 100%|██████████| 1/1 [00:00<00:00,  3.22it/s]"
          ]
        },
        {
          "name": "stdout",
          "output_type": "stream",
          "text": [
            "                   all         33        407      0.907      0.888      0.922      0.572\n"
          ]
        },
        {
          "name": "stderr",
          "output_type": "stream",
          "text": [
            "\n"
          ]
        },
        {
          "name": "stdout",
          "output_type": "stream",
          "text": [
            "\n",
            "      Epoch    GPU_mem   box_loss   cls_loss   dfl_loss  Instances       Size\n"
          ]
        },
        {
          "name": "stderr",
          "output_type": "stream",
          "text": [
            "      26/50      9.08G      1.134     0.5162     0.9652        303        736: 100%|██████████| 4/4 [00:02<00:00,  1.55it/s]\n",
            "                 Class     Images  Instances      Box(P          R      mAP50  mAP50-95): 100%|██████████| 1/1 [00:00<00:00,  2.63it/s]"
          ]
        },
        {
          "name": "stdout",
          "output_type": "stream",
          "text": [
            "                   all         33        407      0.904      0.877      0.905       0.57\n"
          ]
        },
        {
          "name": "stderr",
          "output_type": "stream",
          "text": [
            "\n"
          ]
        },
        {
          "name": "stdout",
          "output_type": "stream",
          "text": [
            "\n",
            "      Epoch    GPU_mem   box_loss   cls_loss   dfl_loss  Instances       Size\n"
          ]
        },
        {
          "name": "stderr",
          "output_type": "stream",
          "text": [
            "      27/50      8.97G      1.122     0.5203     0.9584        493        736: 100%|██████████| 4/4 [00:02<00:00,  1.49it/s]\n",
            "                 Class     Images  Instances      Box(P          R      mAP50  mAP50-95): 100%|██████████| 1/1 [00:00<00:00,  1.56it/s]"
          ]
        },
        {
          "name": "stdout",
          "output_type": "stream",
          "text": [
            "                   all         33        407      0.922       0.88      0.906      0.566\n"
          ]
        },
        {
          "name": "stderr",
          "output_type": "stream",
          "text": [
            "\n"
          ]
        },
        {
          "name": "stdout",
          "output_type": "stream",
          "text": [
            "\n",
            "      Epoch    GPU_mem   box_loss   cls_loss   dfl_loss  Instances       Size\n"
          ]
        },
        {
          "name": "stderr",
          "output_type": "stream",
          "text": [
            "      28/50      8.87G      1.111     0.5047     0.9628        413        736: 100%|██████████| 4/4 [00:02<00:00,  1.50it/s]\n",
            "                 Class     Images  Instances      Box(P          R      mAP50  mAP50-95): 100%|██████████| 1/1 [00:00<00:00,  2.97it/s]"
          ]
        },
        {
          "name": "stdout",
          "output_type": "stream",
          "text": [
            "                   all         33        407      0.924      0.903      0.922      0.578\n"
          ]
        },
        {
          "name": "stderr",
          "output_type": "stream",
          "text": [
            "\n"
          ]
        },
        {
          "name": "stdout",
          "output_type": "stream",
          "text": [
            "\n",
            "      Epoch    GPU_mem   box_loss   cls_loss   dfl_loss  Instances       Size\n"
          ]
        },
        {
          "name": "stderr",
          "output_type": "stream",
          "text": [
            "      29/50      9.34G      1.068     0.4954     0.9669        345        736: 100%|██████████| 4/4 [00:02<00:00,  1.51it/s]\n",
            "                 Class     Images  Instances      Box(P          R      mAP50  mAP50-95): 100%|██████████| 1/1 [00:00<00:00,  3.10it/s]"
          ]
        },
        {
          "name": "stdout",
          "output_type": "stream",
          "text": [
            "                   all         33        407      0.938      0.902      0.922      0.591\n"
          ]
        },
        {
          "name": "stderr",
          "output_type": "stream",
          "text": [
            "\n"
          ]
        },
        {
          "name": "stdout",
          "output_type": "stream",
          "text": [
            "\n",
            "      Epoch    GPU_mem   box_loss   cls_loss   dfl_loss  Instances       Size\n"
          ]
        },
        {
          "name": "stderr",
          "output_type": "stream",
          "text": [
            "      30/50      9.03G      1.058     0.4895     0.9462        354        736: 100%|██████████| 4/4 [00:02<00:00,  1.53it/s]\n",
            "                 Class     Images  Instances      Box(P          R      mAP50  mAP50-95): 100%|██████████| 1/1 [00:00<00:00,  2.55it/s]"
          ]
        },
        {
          "name": "stdout",
          "output_type": "stream",
          "text": [
            "                   all         33        407      0.918      0.908      0.919      0.583\n"
          ]
        },
        {
          "name": "stderr",
          "output_type": "stream",
          "text": [
            "\n"
          ]
        },
        {
          "name": "stdout",
          "output_type": "stream",
          "text": [
            "\n",
            "      Epoch    GPU_mem   box_loss   cls_loss   dfl_loss  Instances       Size\n"
          ]
        },
        {
          "name": "stderr",
          "output_type": "stream",
          "text": [
            "      31/50       9.3G      1.057     0.4924     0.9604        352        736: 100%|██████████| 4/4 [00:02<00:00,  1.42it/s]\n",
            "                 Class     Images  Instances      Box(P          R      mAP50  mAP50-95): 100%|██████████| 1/1 [00:00<00:00,  2.10it/s]"
          ]
        },
        {
          "name": "stdout",
          "output_type": "stream",
          "text": [
            "                   all         33        407       0.91      0.906      0.918      0.579\n"
          ]
        },
        {
          "name": "stderr",
          "output_type": "stream",
          "text": [
            "\n"
          ]
        },
        {
          "name": "stdout",
          "output_type": "stream",
          "text": [
            "\n",
            "      Epoch    GPU_mem   box_loss   cls_loss   dfl_loss  Instances       Size\n"
          ]
        },
        {
          "name": "stderr",
          "output_type": "stream",
          "text": [
            "      32/50      9.06G      1.042     0.4823     0.9561        376        736: 100%|██████████| 4/4 [00:02<00:00,  1.47it/s]\n",
            "                 Class     Images  Instances      Box(P          R      mAP50  mAP50-95): 100%|██████████| 1/1 [00:00<00:00,  3.55it/s]"
          ]
        },
        {
          "name": "stdout",
          "output_type": "stream",
          "text": [
            "                   all         33        407       0.92      0.901      0.922       0.59\n"
          ]
        },
        {
          "name": "stderr",
          "output_type": "stream",
          "text": [
            "\n"
          ]
        },
        {
          "name": "stdout",
          "output_type": "stream",
          "text": [
            "\n",
            "      Epoch    GPU_mem   box_loss   cls_loss   dfl_loss  Instances       Size\n"
          ]
        },
        {
          "name": "stderr",
          "output_type": "stream",
          "text": [
            "      33/50      8.97G      1.061     0.4866     0.9616        390        736: 100%|██████████| 4/4 [00:02<00:00,  1.54it/s]\n",
            "                 Class     Images  Instances      Box(P          R      mAP50  mAP50-95): 100%|██████████| 1/1 [00:00<00:00,  2.74it/s]"
          ]
        },
        {
          "name": "stdout",
          "output_type": "stream",
          "text": [
            "                   all         33        407        0.9      0.919      0.922      0.589\n"
          ]
        },
        {
          "name": "stderr",
          "output_type": "stream",
          "text": [
            "\n"
          ]
        },
        {
          "name": "stdout",
          "output_type": "stream",
          "text": [
            "\n",
            "      Epoch    GPU_mem   box_loss   cls_loss   dfl_loss  Instances       Size\n"
          ]
        },
        {
          "name": "stderr",
          "output_type": "stream",
          "text": [
            "      34/50       9.3G       1.07     0.4934     0.9468        398        736: 100%|██████████| 4/4 [00:02<00:00,  1.42it/s]\n",
            "                 Class     Images  Instances      Box(P          R      mAP50  mAP50-95): 100%|██████████| 1/1 [00:00<00:00,  1.42it/s]"
          ]
        },
        {
          "name": "stdout",
          "output_type": "stream",
          "text": [
            "                   all         33        407      0.905       0.91      0.928       0.59\n"
          ]
        },
        {
          "name": "stderr",
          "output_type": "stream",
          "text": [
            "\n"
          ]
        },
        {
          "name": "stdout",
          "output_type": "stream",
          "text": [
            "\n",
            "      Epoch    GPU_mem   box_loss   cls_loss   dfl_loss  Instances       Size\n"
          ]
        },
        {
          "name": "stderr",
          "output_type": "stream",
          "text": [
            "      35/50      9.05G      1.028     0.4752     0.9314        395        736: 100%|██████████| 4/4 [00:02<00:00,  1.51it/s]\n",
            "                 Class     Images  Instances      Box(P          R      mAP50  mAP50-95): 100%|██████████| 1/1 [00:00<00:00,  3.01it/s]"
          ]
        },
        {
          "name": "stdout",
          "output_type": "stream",
          "text": [
            "                   all         33        407      0.905      0.913       0.93      0.577\n"
          ]
        },
        {
          "name": "stderr",
          "output_type": "stream",
          "text": [
            "\n"
          ]
        },
        {
          "name": "stdout",
          "output_type": "stream",
          "text": [
            "\n",
            "      Epoch    GPU_mem   box_loss   cls_loss   dfl_loss  Instances       Size\n"
          ]
        },
        {
          "name": "stderr",
          "output_type": "stream",
          "text": [
            "      36/50      8.88G      1.032      0.481     0.9445        390        736: 100%|██████████| 4/4 [00:02<00:00,  1.55it/s]\n",
            "                 Class     Images  Instances      Box(P          R      mAP50  mAP50-95): 100%|██████████| 1/1 [00:00<00:00,  3.06it/s]"
          ]
        },
        {
          "name": "stdout",
          "output_type": "stream",
          "text": [
            "                   all         33        407      0.905      0.917      0.927      0.576\n"
          ]
        },
        {
          "name": "stderr",
          "output_type": "stream",
          "text": [
            "\n"
          ]
        },
        {
          "name": "stdout",
          "output_type": "stream",
          "text": [
            "\n",
            "      Epoch    GPU_mem   box_loss   cls_loss   dfl_loss  Instances       Size\n"
          ]
        },
        {
          "name": "stderr",
          "output_type": "stream",
          "text": [
            "      37/50      9.07G      1.043     0.4761     0.9444        359        736: 100%|██████████| 4/4 [00:02<00:00,  1.45it/s]\n",
            "                 Class     Images  Instances      Box(P          R      mAP50  mAP50-95): 100%|██████████| 1/1 [00:00<00:00,  1.35it/s]"
          ]
        },
        {
          "name": "stdout",
          "output_type": "stream",
          "text": [
            "                   all         33        407      0.901      0.921      0.923      0.575\n"
          ]
        },
        {
          "name": "stderr",
          "output_type": "stream",
          "text": [
            "\n"
          ]
        },
        {
          "name": "stdout",
          "output_type": "stream",
          "text": [
            "\n",
            "      Epoch    GPU_mem   box_loss   cls_loss   dfl_loss  Instances       Size\n"
          ]
        },
        {
          "name": "stderr",
          "output_type": "stream",
          "text": [
            "      38/50      9.01G      1.022     0.4786     0.9553        347        736: 100%|██████████| 4/4 [00:02<00:00,  1.53it/s]\n",
            "                 Class     Images  Instances      Box(P          R      mAP50  mAP50-95): 100%|██████████| 1/1 [00:00<00:00,  2.74it/s]"
          ]
        },
        {
          "name": "stdout",
          "output_type": "stream",
          "text": [
            "                   all         33        407      0.903      0.916      0.917      0.572\n"
          ]
        },
        {
          "name": "stderr",
          "output_type": "stream",
          "text": [
            "\n"
          ]
        },
        {
          "name": "stdout",
          "output_type": "stream",
          "text": [
            "\n",
            "      Epoch    GPU_mem   box_loss   cls_loss   dfl_loss  Instances       Size\n"
          ]
        },
        {
          "name": "stderr",
          "output_type": "stream",
          "text": [
            "      39/50       9.1G      1.045      0.484     0.9536        369        736: 100%|██████████| 4/4 [00:02<00:00,  1.51it/s]\n",
            "                 Class     Images  Instances      Box(P          R      mAP50  mAP50-95): 100%|██████████| 1/1 [00:00<00:00,  3.13it/s]"
          ]
        },
        {
          "name": "stdout",
          "output_type": "stream",
          "text": [
            "                   all         33        407      0.909      0.904      0.921      0.573\n",
            "\u001b[34m\u001b[1mEarlyStopping: \u001b[0mTraining stopped early as no improvement observed in last 10 epochs. Best results observed at epoch 29, best model saved as best.pt.\n",
            "To update EarlyStopping(patience=10) pass a new patience value, i.e. `patience=300` or use `patience=0` to disable EarlyStopping.\n"
          ]
        },
        {
          "name": "stderr",
          "output_type": "stream",
          "text": [
            "\n"
          ]
        },
        {
          "name": "stdout",
          "output_type": "stream",
          "text": [
            "\n",
            "39 epochs completed in 0.044 hours.\n",
            "Optimizer stripped from runs/detect/train5/weights/last.pt, 22.5MB\n",
            "Optimizer stripped from runs/detect/train5/weights/best.pt, 22.5MB\n",
            "\n",
            "Validating runs/detect/train5/weights/best.pt...\n",
            "Ultralytics 8.3.146 🚀 Python-3.11.12 torch-2.6.0+cu124 CUDA:0 (Tesla T4, 15095MiB)\n",
            "Model summary (fused): 72 layers, 11,126,745 parameters, 0 gradients, 28.4 GFLOPs\n"
          ]
        },
        {
          "name": "stderr",
          "output_type": "stream",
          "text": [
            "                 Class     Images  Instances      Box(P          R      mAP50  mAP50-95): 100%|██████████| 1/1 [00:00<00:00,  2.06it/s]\n"
          ]
        },
        {
          "name": "stdout",
          "output_type": "stream",
          "text": [
            "                   all         33        407       0.96      0.879      0.922      0.574\n",
            "              football         28         28          1      0.717       0.82      0.337\n",
            "                player         33        359      0.961      0.971      0.992      0.692\n",
            "               referee         20         20       0.92       0.95      0.955      0.692\n",
            "Speed: 0.2ms preprocess, 9.0ms inference, 0.0ms loss, 0.9ms postprocess per image\n",
            "Results saved to \u001b[1mruns/detect/train5\u001b[0m\n"
          ]
        },
        {
          "data": {
            "text/plain": [
              "ultralytics.utils.metrics.DetMetrics object with attributes:\n",
              "\n",
              "ap_class_index: array([0, 1, 2])\n",
              "box: ultralytics.utils.metrics.Metric object\n",
              "confusion_matrix: <ultralytics.utils.metrics.ConfusionMatrix object at 0x7c7de95758d0>\n",
              "curves: ['Precision-Recall(B)', 'F1-Confidence(B)', 'Precision-Confidence(B)', 'Recall-Confidence(B)']\n",
              "curves_results: [[array([          0,    0.001001,    0.002002,    0.003003,    0.004004,    0.005005,    0.006006,    0.007007,    0.008008,    0.009009,     0.01001,    0.011011,    0.012012,    0.013013,    0.014014,    0.015015,    0.016016,    0.017017,    0.018018,    0.019019,     0.02002,    0.021021,    0.022022,    0.023023,\n",
              "          0.024024,    0.025025,    0.026026,    0.027027,    0.028028,    0.029029,     0.03003,    0.031031,    0.032032,    0.033033,    0.034034,    0.035035,    0.036036,    0.037037,    0.038038,    0.039039,     0.04004,    0.041041,    0.042042,    0.043043,    0.044044,    0.045045,    0.046046,    0.047047,\n",
              "          0.048048,    0.049049,     0.05005,    0.051051,    0.052052,    0.053053,    0.054054,    0.055055,    0.056056,    0.057057,    0.058058,    0.059059,     0.06006,    0.061061,    0.062062,    0.063063,    0.064064,    0.065065,    0.066066,    0.067067,    0.068068,    0.069069,     0.07007,    0.071071,\n",
              "          0.072072,    0.073073,    0.074074,    0.075075,    0.076076,    0.077077,    0.078078,    0.079079,     0.08008,    0.081081,    0.082082,    0.083083,    0.084084,    0.085085,    0.086086,    0.087087,    0.088088,    0.089089,     0.09009,    0.091091,    0.092092,    0.093093,    0.094094,    0.095095,\n",
              "          0.096096,    0.097097,    0.098098,    0.099099,      0.1001,      0.1011,      0.1021,      0.1031,      0.1041,     0.10511,     0.10611,     0.10711,     0.10811,     0.10911,     0.11011,     0.11111,     0.11211,     0.11311,     0.11411,     0.11512,     0.11612,     0.11712,     0.11812,     0.11912,\n",
              "           0.12012,     0.12112,     0.12212,     0.12312,     0.12412,     0.12513,     0.12613,     0.12713,     0.12813,     0.12913,     0.13013,     0.13113,     0.13213,     0.13313,     0.13413,     0.13514,     0.13614,     0.13714,     0.13814,     0.13914,     0.14014,     0.14114,     0.14214,     0.14314,\n",
              "           0.14414,     0.14515,     0.14615,     0.14715,     0.14815,     0.14915,     0.15015,     0.15115,     0.15215,     0.15315,     0.15415,     0.15516,     0.15616,     0.15716,     0.15816,     0.15916,     0.16016,     0.16116,     0.16216,     0.16316,     0.16416,     0.16517,     0.16617,     0.16717,\n",
              "           0.16817,     0.16917,     0.17017,     0.17117,     0.17217,     0.17317,     0.17417,     0.17518,     0.17618,     0.17718,     0.17818,     0.17918,     0.18018,     0.18118,     0.18218,     0.18318,     0.18418,     0.18519,     0.18619,     0.18719,     0.18819,     0.18919,     0.19019,     0.19119,\n",
              "           0.19219,     0.19319,     0.19419,      0.1952,      0.1962,      0.1972,      0.1982,      0.1992,      0.2002,      0.2012,      0.2022,      0.2032,      0.2042,     0.20521,     0.20621,     0.20721,     0.20821,     0.20921,     0.21021,     0.21121,     0.21221,     0.21321,     0.21421,     0.21522,\n",
              "           0.21622,     0.21722,     0.21822,     0.21922,     0.22022,     0.22122,     0.22222,     0.22322,     0.22422,     0.22523,     0.22623,     0.22723,     0.22823,     0.22923,     0.23023,     0.23123,     0.23223,     0.23323,     0.23423,     0.23524,     0.23624,     0.23724,     0.23824,     0.23924,\n",
              "           0.24024,     0.24124,     0.24224,     0.24324,     0.24424,     0.24525,     0.24625,     0.24725,     0.24825,     0.24925,     0.25025,     0.25125,     0.25225,     0.25325,     0.25425,     0.25526,     0.25626,     0.25726,     0.25826,     0.25926,     0.26026,     0.26126,     0.26226,     0.26326,\n",
              "           0.26426,     0.26527,     0.26627,     0.26727,     0.26827,     0.26927,     0.27027,     0.27127,     0.27227,     0.27327,     0.27427,     0.27528,     0.27628,     0.27728,     0.27828,     0.27928,     0.28028,     0.28128,     0.28228,     0.28328,     0.28428,     0.28529,     0.28629,     0.28729,\n",
              "           0.28829,     0.28929,     0.29029,     0.29129,     0.29229,     0.29329,     0.29429,      0.2953,      0.2963,      0.2973,      0.2983,      0.2993,      0.3003,      0.3013,      0.3023,      0.3033,      0.3043,     0.30531,     0.30631,     0.30731,     0.30831,     0.30931,     0.31031,     0.31131,\n",
              "           0.31231,     0.31331,     0.31431,     0.31532,     0.31632,     0.31732,     0.31832,     0.31932,     0.32032,     0.32132,     0.32232,     0.32332,     0.32432,     0.32533,     0.32633,     0.32733,     0.32833,     0.32933,     0.33033,     0.33133,     0.33233,     0.33333,     0.33433,     0.33534,\n",
              "           0.33634,     0.33734,     0.33834,     0.33934,     0.34034,     0.34134,     0.34234,     0.34334,     0.34434,     0.34535,     0.34635,     0.34735,     0.34835,     0.34935,     0.35035,     0.35135,     0.35235,     0.35335,     0.35435,     0.35536,     0.35636,     0.35736,     0.35836,     0.35936,\n",
              "           0.36036,     0.36136,     0.36236,     0.36336,     0.36436,     0.36537,     0.36637,     0.36737,     0.36837,     0.36937,     0.37037,     0.37137,     0.37237,     0.37337,     0.37437,     0.37538,     0.37638,     0.37738,     0.37838,     0.37938,     0.38038,     0.38138,     0.38238,     0.38338,\n",
              "           0.38438,     0.38539,     0.38639,     0.38739,     0.38839,     0.38939,     0.39039,     0.39139,     0.39239,     0.39339,     0.39439,      0.3954,      0.3964,      0.3974,      0.3984,      0.3994,      0.4004,      0.4014,      0.4024,      0.4034,      0.4044,     0.40541,     0.40641,     0.40741,\n",
              "           0.40841,     0.40941,     0.41041,     0.41141,     0.41241,     0.41341,     0.41441,     0.41542,     0.41642,     0.41742,     0.41842,     0.41942,     0.42042,     0.42142,     0.42242,     0.42342,     0.42442,     0.42543,     0.42643,     0.42743,     0.42843,     0.42943,     0.43043,     0.43143,\n",
              "           0.43243,     0.43343,     0.43443,     0.43544,     0.43644,     0.43744,     0.43844,     0.43944,     0.44044,     0.44144,     0.44244,     0.44344,     0.44444,     0.44545,     0.44645,     0.44745,     0.44845,     0.44945,     0.45045,     0.45145,     0.45245,     0.45345,     0.45445,     0.45546,\n",
              "           0.45646,     0.45746,     0.45846,     0.45946,     0.46046,     0.46146,     0.46246,     0.46346,     0.46446,     0.46547,     0.46647,     0.46747,     0.46847,     0.46947,     0.47047,     0.47147,     0.47247,     0.47347,     0.47447,     0.47548,     0.47648,     0.47748,     0.47848,     0.47948,\n",
              "           0.48048,     0.48148,     0.48248,     0.48348,     0.48448,     0.48549,     0.48649,     0.48749,     0.48849,     0.48949,     0.49049,     0.49149,     0.49249,     0.49349,     0.49449,      0.4955,      0.4965,      0.4975,      0.4985,      0.4995,      0.5005,      0.5015,      0.5025,      0.5035,\n",
              "            0.5045,     0.50551,     0.50651,     0.50751,     0.50851,     0.50951,     0.51051,     0.51151,     0.51251,     0.51351,     0.51451,     0.51552,     0.51652,     0.51752,     0.51852,     0.51952,     0.52052,     0.52152,     0.52252,     0.52352,     0.52452,     0.52553,     0.52653,     0.52753,\n",
              "           0.52853,     0.52953,     0.53053,     0.53153,     0.53253,     0.53353,     0.53453,     0.53554,     0.53654,     0.53754,     0.53854,     0.53954,     0.54054,     0.54154,     0.54254,     0.54354,     0.54454,     0.54555,     0.54655,     0.54755,     0.54855,     0.54955,     0.55055,     0.55155,\n",
              "           0.55255,     0.55355,     0.55455,     0.55556,     0.55656,     0.55756,     0.55856,     0.55956,     0.56056,     0.56156,     0.56256,     0.56356,     0.56456,     0.56557,     0.56657,     0.56757,     0.56857,     0.56957,     0.57057,     0.57157,     0.57257,     0.57357,     0.57457,     0.57558,\n",
              "           0.57658,     0.57758,     0.57858,     0.57958,     0.58058,     0.58158,     0.58258,     0.58358,     0.58458,     0.58559,     0.58659,     0.58759,     0.58859,     0.58959,     0.59059,     0.59159,     0.59259,     0.59359,     0.59459,      0.5956,      0.5966,      0.5976,      0.5986,      0.5996,\n",
              "            0.6006,      0.6016,      0.6026,      0.6036,      0.6046,     0.60561,     0.60661,     0.60761,     0.60861,     0.60961,     0.61061,     0.61161,     0.61261,     0.61361,     0.61461,     0.61562,     0.61662,     0.61762,     0.61862,     0.61962,     0.62062,     0.62162,     0.62262,     0.62362,\n",
              "           0.62462,     0.62563,     0.62663,     0.62763,     0.62863,     0.62963,     0.63063,     0.63163,     0.63263,     0.63363,     0.63463,     0.63564,     0.63664,     0.63764,     0.63864,     0.63964,     0.64064,     0.64164,     0.64264,     0.64364,     0.64464,     0.64565,     0.64665,     0.64765,\n",
              "           0.64865,     0.64965,     0.65065,     0.65165,     0.65265,     0.65365,     0.65465,     0.65566,     0.65666,     0.65766,     0.65866,     0.65966,     0.66066,     0.66166,     0.66266,     0.66366,     0.66466,     0.66567,     0.66667,     0.66767,     0.66867,     0.66967,     0.67067,     0.67167,\n",
              "           0.67267,     0.67367,     0.67467,     0.67568,     0.67668,     0.67768,     0.67868,     0.67968,     0.68068,     0.68168,     0.68268,     0.68368,     0.68468,     0.68569,     0.68669,     0.68769,     0.68869,     0.68969,     0.69069,     0.69169,     0.69269,     0.69369,     0.69469,      0.6957,\n",
              "            0.6967,      0.6977,      0.6987,      0.6997,      0.7007,      0.7017,      0.7027,      0.7037,      0.7047,     0.70571,     0.70671,     0.70771,     0.70871,     0.70971,     0.71071,     0.71171,     0.71271,     0.71371,     0.71471,     0.71572,     0.71672,     0.71772,     0.71872,     0.71972,\n",
              "           0.72072,     0.72172,     0.72272,     0.72372,     0.72472,     0.72573,     0.72673,     0.72773,     0.72873,     0.72973,     0.73073,     0.73173,     0.73273,     0.73373,     0.73473,     0.73574,     0.73674,     0.73774,     0.73874,     0.73974,     0.74074,     0.74174,     0.74274,     0.74374,\n",
              "           0.74474,     0.74575,     0.74675,     0.74775,     0.74875,     0.74975,     0.75075,     0.75175,     0.75275,     0.75375,     0.75475,     0.75576,     0.75676,     0.75776,     0.75876,     0.75976,     0.76076,     0.76176,     0.76276,     0.76376,     0.76476,     0.76577,     0.76677,     0.76777,\n",
              "           0.76877,     0.76977,     0.77077,     0.77177,     0.77277,     0.77377,     0.77477,     0.77578,     0.77678,     0.77778,     0.77878,     0.77978,     0.78078,     0.78178,     0.78278,     0.78378,     0.78478,     0.78579,     0.78679,     0.78779,     0.78879,     0.78979,     0.79079,     0.79179,\n",
              "           0.79279,     0.79379,     0.79479,      0.7958,      0.7968,      0.7978,      0.7988,      0.7998,      0.8008,      0.8018,      0.8028,      0.8038,      0.8048,     0.80581,     0.80681,     0.80781,     0.80881,     0.80981,     0.81081,     0.81181,     0.81281,     0.81381,     0.81481,     0.81582,\n",
              "           0.81682,     0.81782,     0.81882,     0.81982,     0.82082,     0.82182,     0.82282,     0.82382,     0.82482,     0.82583,     0.82683,     0.82783,     0.82883,     0.82983,     0.83083,     0.83183,     0.83283,     0.83383,     0.83483,     0.83584,     0.83684,     0.83784,     0.83884,     0.83984,\n",
              "           0.84084,     0.84184,     0.84284,     0.84384,     0.84484,     0.84585,     0.84685,     0.84785,     0.84885,     0.84985,     0.85085,     0.85185,     0.85285,     0.85385,     0.85485,     0.85586,     0.85686,     0.85786,     0.85886,     0.85986,     0.86086,     0.86186,     0.86286,     0.86386,\n",
              "           0.86486,     0.86587,     0.86687,     0.86787,     0.86887,     0.86987,     0.87087,     0.87187,     0.87287,     0.87387,     0.87487,     0.87588,     0.87688,     0.87788,     0.87888,     0.87988,     0.88088,     0.88188,     0.88288,     0.88388,     0.88488,     0.88589,     0.88689,     0.88789,\n",
              "           0.88889,     0.88989,     0.89089,     0.89189,     0.89289,     0.89389,     0.89489,      0.8959,      0.8969,      0.8979,      0.8989,      0.8999,      0.9009,      0.9019,      0.9029,      0.9039,      0.9049,     0.90591,     0.90691,     0.90791,     0.90891,     0.90991,     0.91091,     0.91191,\n",
              "           0.91291,     0.91391,     0.91491,     0.91592,     0.91692,     0.91792,     0.91892,     0.91992,     0.92092,     0.92192,     0.92292,     0.92392,     0.92492,     0.92593,     0.92693,     0.92793,     0.92893,     0.92993,     0.93093,     0.93193,     0.93293,     0.93393,     0.93493,     0.93594,\n",
              "           0.93694,     0.93794,     0.93894,     0.93994,     0.94094,     0.94194,     0.94294,     0.94394,     0.94494,     0.94595,     0.94695,     0.94795,     0.94895,     0.94995,     0.95095,     0.95195,     0.95295,     0.95395,     0.95495,     0.95596,     0.95696,     0.95796,     0.95896,     0.95996,\n",
              "           0.96096,     0.96196,     0.96296,     0.96396,     0.96496,     0.96597,     0.96697,     0.96797,     0.96897,     0.96997,     0.97097,     0.97197,     0.97297,     0.97397,     0.97497,     0.97598,     0.97698,     0.97798,     0.97898,     0.97998,     0.98098,     0.98198,     0.98298,     0.98398,\n",
              "           0.98498,     0.98599,     0.98699,     0.98799,     0.98899,     0.98999,     0.99099,     0.99199,     0.99299,     0.99399,     0.99499,       0.996,       0.997,       0.998,       0.999,           1]), array([[          1,           1,           1, ...,   0.0005819,  0.00029095,           0],\n",
              "       [          1,           1,           1, ...,     0.26802,     0.13401,           0],\n",
              "       [          1,           1,           1, ...,     0.25974,     0.25974,           0]]), 'Recall', 'Precision'], [array([          0,    0.001001,    0.002002,    0.003003,    0.004004,    0.005005,    0.006006,    0.007007,    0.008008,    0.009009,     0.01001,    0.011011,    0.012012,    0.013013,    0.014014,    0.015015,    0.016016,    0.017017,    0.018018,    0.019019,     0.02002,    0.021021,    0.022022,    0.023023,\n",
              "          0.024024,    0.025025,    0.026026,    0.027027,    0.028028,    0.029029,     0.03003,    0.031031,    0.032032,    0.033033,    0.034034,    0.035035,    0.036036,    0.037037,    0.038038,    0.039039,     0.04004,    0.041041,    0.042042,    0.043043,    0.044044,    0.045045,    0.046046,    0.047047,\n",
              "          0.048048,    0.049049,     0.05005,    0.051051,    0.052052,    0.053053,    0.054054,    0.055055,    0.056056,    0.057057,    0.058058,    0.059059,     0.06006,    0.061061,    0.062062,    0.063063,    0.064064,    0.065065,    0.066066,    0.067067,    0.068068,    0.069069,     0.07007,    0.071071,\n",
              "          0.072072,    0.073073,    0.074074,    0.075075,    0.076076,    0.077077,    0.078078,    0.079079,     0.08008,    0.081081,    0.082082,    0.083083,    0.084084,    0.085085,    0.086086,    0.087087,    0.088088,    0.089089,     0.09009,    0.091091,    0.092092,    0.093093,    0.094094,    0.095095,\n",
              "          0.096096,    0.097097,    0.098098,    0.099099,      0.1001,      0.1011,      0.1021,      0.1031,      0.1041,     0.10511,     0.10611,     0.10711,     0.10811,     0.10911,     0.11011,     0.11111,     0.11211,     0.11311,     0.11411,     0.11512,     0.11612,     0.11712,     0.11812,     0.11912,\n",
              "           0.12012,     0.12112,     0.12212,     0.12312,     0.12412,     0.12513,     0.12613,     0.12713,     0.12813,     0.12913,     0.13013,     0.13113,     0.13213,     0.13313,     0.13413,     0.13514,     0.13614,     0.13714,     0.13814,     0.13914,     0.14014,     0.14114,     0.14214,     0.14314,\n",
              "           0.14414,     0.14515,     0.14615,     0.14715,     0.14815,     0.14915,     0.15015,     0.15115,     0.15215,     0.15315,     0.15415,     0.15516,     0.15616,     0.15716,     0.15816,     0.15916,     0.16016,     0.16116,     0.16216,     0.16316,     0.16416,     0.16517,     0.16617,     0.16717,\n",
              "           0.16817,     0.16917,     0.17017,     0.17117,     0.17217,     0.17317,     0.17417,     0.17518,     0.17618,     0.17718,     0.17818,     0.17918,     0.18018,     0.18118,     0.18218,     0.18318,     0.18418,     0.18519,     0.18619,     0.18719,     0.18819,     0.18919,     0.19019,     0.19119,\n",
              "           0.19219,     0.19319,     0.19419,      0.1952,      0.1962,      0.1972,      0.1982,      0.1992,      0.2002,      0.2012,      0.2022,      0.2032,      0.2042,     0.20521,     0.20621,     0.20721,     0.20821,     0.20921,     0.21021,     0.21121,     0.21221,     0.21321,     0.21421,     0.21522,\n",
              "           0.21622,     0.21722,     0.21822,     0.21922,     0.22022,     0.22122,     0.22222,     0.22322,     0.22422,     0.22523,     0.22623,     0.22723,     0.22823,     0.22923,     0.23023,     0.23123,     0.23223,     0.23323,     0.23423,     0.23524,     0.23624,     0.23724,     0.23824,     0.23924,\n",
              "           0.24024,     0.24124,     0.24224,     0.24324,     0.24424,     0.24525,     0.24625,     0.24725,     0.24825,     0.24925,     0.25025,     0.25125,     0.25225,     0.25325,     0.25425,     0.25526,     0.25626,     0.25726,     0.25826,     0.25926,     0.26026,     0.26126,     0.26226,     0.26326,\n",
              "           0.26426,     0.26527,     0.26627,     0.26727,     0.26827,     0.26927,     0.27027,     0.27127,     0.27227,     0.27327,     0.27427,     0.27528,     0.27628,     0.27728,     0.27828,     0.27928,     0.28028,     0.28128,     0.28228,     0.28328,     0.28428,     0.28529,     0.28629,     0.28729,\n",
              "           0.28829,     0.28929,     0.29029,     0.29129,     0.29229,     0.29329,     0.29429,      0.2953,      0.2963,      0.2973,      0.2983,      0.2993,      0.3003,      0.3013,      0.3023,      0.3033,      0.3043,     0.30531,     0.30631,     0.30731,     0.30831,     0.30931,     0.31031,     0.31131,\n",
              "           0.31231,     0.31331,     0.31431,     0.31532,     0.31632,     0.31732,     0.31832,     0.31932,     0.32032,     0.32132,     0.32232,     0.32332,     0.32432,     0.32533,     0.32633,     0.32733,     0.32833,     0.32933,     0.33033,     0.33133,     0.33233,     0.33333,     0.33433,     0.33534,\n",
              "           0.33634,     0.33734,     0.33834,     0.33934,     0.34034,     0.34134,     0.34234,     0.34334,     0.34434,     0.34535,     0.34635,     0.34735,     0.34835,     0.34935,     0.35035,     0.35135,     0.35235,     0.35335,     0.35435,     0.35536,     0.35636,     0.35736,     0.35836,     0.35936,\n",
              "           0.36036,     0.36136,     0.36236,     0.36336,     0.36436,     0.36537,     0.36637,     0.36737,     0.36837,     0.36937,     0.37037,     0.37137,     0.37237,     0.37337,     0.37437,     0.37538,     0.37638,     0.37738,     0.37838,     0.37938,     0.38038,     0.38138,     0.38238,     0.38338,\n",
              "           0.38438,     0.38539,     0.38639,     0.38739,     0.38839,     0.38939,     0.39039,     0.39139,     0.39239,     0.39339,     0.39439,      0.3954,      0.3964,      0.3974,      0.3984,      0.3994,      0.4004,      0.4014,      0.4024,      0.4034,      0.4044,     0.40541,     0.40641,     0.40741,\n",
              "           0.40841,     0.40941,     0.41041,     0.41141,     0.41241,     0.41341,     0.41441,     0.41542,     0.41642,     0.41742,     0.41842,     0.41942,     0.42042,     0.42142,     0.42242,     0.42342,     0.42442,     0.42543,     0.42643,     0.42743,     0.42843,     0.42943,     0.43043,     0.43143,\n",
              "           0.43243,     0.43343,     0.43443,     0.43544,     0.43644,     0.43744,     0.43844,     0.43944,     0.44044,     0.44144,     0.44244,     0.44344,     0.44444,     0.44545,     0.44645,     0.44745,     0.44845,     0.44945,     0.45045,     0.45145,     0.45245,     0.45345,     0.45445,     0.45546,\n",
              "           0.45646,     0.45746,     0.45846,     0.45946,     0.46046,     0.46146,     0.46246,     0.46346,     0.46446,     0.46547,     0.46647,     0.46747,     0.46847,     0.46947,     0.47047,     0.47147,     0.47247,     0.47347,     0.47447,     0.47548,     0.47648,     0.47748,     0.47848,     0.47948,\n",
              "           0.48048,     0.48148,     0.48248,     0.48348,     0.48448,     0.48549,     0.48649,     0.48749,     0.48849,     0.48949,     0.49049,     0.49149,     0.49249,     0.49349,     0.49449,      0.4955,      0.4965,      0.4975,      0.4985,      0.4995,      0.5005,      0.5015,      0.5025,      0.5035,\n",
              "            0.5045,     0.50551,     0.50651,     0.50751,     0.50851,     0.50951,     0.51051,     0.51151,     0.51251,     0.51351,     0.51451,     0.51552,     0.51652,     0.51752,     0.51852,     0.51952,     0.52052,     0.52152,     0.52252,     0.52352,     0.52452,     0.52553,     0.52653,     0.52753,\n",
              "           0.52853,     0.52953,     0.53053,     0.53153,     0.53253,     0.53353,     0.53453,     0.53554,     0.53654,     0.53754,     0.53854,     0.53954,     0.54054,     0.54154,     0.54254,     0.54354,     0.54454,     0.54555,     0.54655,     0.54755,     0.54855,     0.54955,     0.55055,     0.55155,\n",
              "           0.55255,     0.55355,     0.55455,     0.55556,     0.55656,     0.55756,     0.55856,     0.55956,     0.56056,     0.56156,     0.56256,     0.56356,     0.56456,     0.56557,     0.56657,     0.56757,     0.56857,     0.56957,     0.57057,     0.57157,     0.57257,     0.57357,     0.57457,     0.57558,\n",
              "           0.57658,     0.57758,     0.57858,     0.57958,     0.58058,     0.58158,     0.58258,     0.58358,     0.58458,     0.58559,     0.58659,     0.58759,     0.58859,     0.58959,     0.59059,     0.59159,     0.59259,     0.59359,     0.59459,      0.5956,      0.5966,      0.5976,      0.5986,      0.5996,\n",
              "            0.6006,      0.6016,      0.6026,      0.6036,      0.6046,     0.60561,     0.60661,     0.60761,     0.60861,     0.60961,     0.61061,     0.61161,     0.61261,     0.61361,     0.61461,     0.61562,     0.61662,     0.61762,     0.61862,     0.61962,     0.62062,     0.62162,     0.62262,     0.62362,\n",
              "           0.62462,     0.62563,     0.62663,     0.62763,     0.62863,     0.62963,     0.63063,     0.63163,     0.63263,     0.63363,     0.63463,     0.63564,     0.63664,     0.63764,     0.63864,     0.63964,     0.64064,     0.64164,     0.64264,     0.64364,     0.64464,     0.64565,     0.64665,     0.64765,\n",
              "           0.64865,     0.64965,     0.65065,     0.65165,     0.65265,     0.65365,     0.65465,     0.65566,     0.65666,     0.65766,     0.65866,     0.65966,     0.66066,     0.66166,     0.66266,     0.66366,     0.66466,     0.66567,     0.66667,     0.66767,     0.66867,     0.66967,     0.67067,     0.67167,\n",
              "           0.67267,     0.67367,     0.67467,     0.67568,     0.67668,     0.67768,     0.67868,     0.67968,     0.68068,     0.68168,     0.68268,     0.68368,     0.68468,     0.68569,     0.68669,     0.68769,     0.68869,     0.68969,     0.69069,     0.69169,     0.69269,     0.69369,     0.69469,      0.6957,\n",
              "            0.6967,      0.6977,      0.6987,      0.6997,      0.7007,      0.7017,      0.7027,      0.7037,      0.7047,     0.70571,     0.70671,     0.70771,     0.70871,     0.70971,     0.71071,     0.71171,     0.71271,     0.71371,     0.71471,     0.71572,     0.71672,     0.71772,     0.71872,     0.71972,\n",
              "           0.72072,     0.72172,     0.72272,     0.72372,     0.72472,     0.72573,     0.72673,     0.72773,     0.72873,     0.72973,     0.73073,     0.73173,     0.73273,     0.73373,     0.73473,     0.73574,     0.73674,     0.73774,     0.73874,     0.73974,     0.74074,     0.74174,     0.74274,     0.74374,\n",
              "           0.74474,     0.74575,     0.74675,     0.74775,     0.74875,     0.74975,     0.75075,     0.75175,     0.75275,     0.75375,     0.75475,     0.75576,     0.75676,     0.75776,     0.75876,     0.75976,     0.76076,     0.76176,     0.76276,     0.76376,     0.76476,     0.76577,     0.76677,     0.76777,\n",
              "           0.76877,     0.76977,     0.77077,     0.77177,     0.77277,     0.77377,     0.77477,     0.77578,     0.77678,     0.77778,     0.77878,     0.77978,     0.78078,     0.78178,     0.78278,     0.78378,     0.78478,     0.78579,     0.78679,     0.78779,     0.78879,     0.78979,     0.79079,     0.79179,\n",
              "           0.79279,     0.79379,     0.79479,      0.7958,      0.7968,      0.7978,      0.7988,      0.7998,      0.8008,      0.8018,      0.8028,      0.8038,      0.8048,     0.80581,     0.80681,     0.80781,     0.80881,     0.80981,     0.81081,     0.81181,     0.81281,     0.81381,     0.81481,     0.81582,\n",
              "           0.81682,     0.81782,     0.81882,     0.81982,     0.82082,     0.82182,     0.82282,     0.82382,     0.82482,     0.82583,     0.82683,     0.82783,     0.82883,     0.82983,     0.83083,     0.83183,     0.83283,     0.83383,     0.83483,     0.83584,     0.83684,     0.83784,     0.83884,     0.83984,\n",
              "           0.84084,     0.84184,     0.84284,     0.84384,     0.84484,     0.84585,     0.84685,     0.84785,     0.84885,     0.84985,     0.85085,     0.85185,     0.85285,     0.85385,     0.85485,     0.85586,     0.85686,     0.85786,     0.85886,     0.85986,     0.86086,     0.86186,     0.86286,     0.86386,\n",
              "           0.86486,     0.86587,     0.86687,     0.86787,     0.86887,     0.86987,     0.87087,     0.87187,     0.87287,     0.87387,     0.87487,     0.87588,     0.87688,     0.87788,     0.87888,     0.87988,     0.88088,     0.88188,     0.88288,     0.88388,     0.88488,     0.88589,     0.88689,     0.88789,\n",
              "           0.88889,     0.88989,     0.89089,     0.89189,     0.89289,     0.89389,     0.89489,      0.8959,      0.8969,      0.8979,      0.8989,      0.8999,      0.9009,      0.9019,      0.9029,      0.9039,      0.9049,     0.90591,     0.90691,     0.90791,     0.90891,     0.90991,     0.91091,     0.91191,\n",
              "           0.91291,     0.91391,     0.91491,     0.91592,     0.91692,     0.91792,     0.91892,     0.91992,     0.92092,     0.92192,     0.92292,     0.92392,     0.92492,     0.92593,     0.92693,     0.92793,     0.92893,     0.92993,     0.93093,     0.93193,     0.93293,     0.93393,     0.93493,     0.93594,\n",
              "           0.93694,     0.93794,     0.93894,     0.93994,     0.94094,     0.94194,     0.94294,     0.94394,     0.94494,     0.94595,     0.94695,     0.94795,     0.94895,     0.94995,     0.95095,     0.95195,     0.95295,     0.95395,     0.95495,     0.95596,     0.95696,     0.95796,     0.95896,     0.95996,\n",
              "           0.96096,     0.96196,     0.96296,     0.96396,     0.96496,     0.96597,     0.96697,     0.96797,     0.96897,     0.96997,     0.97097,     0.97197,     0.97297,     0.97397,     0.97497,     0.97598,     0.97698,     0.97798,     0.97898,     0.97998,     0.98098,     0.98198,     0.98298,     0.98398,\n",
              "           0.98498,     0.98599,     0.98699,     0.98799,     0.98899,     0.98999,     0.99099,     0.99199,     0.99299,     0.99399,     0.99499,       0.996,       0.997,       0.998,       0.999,           1]), array([[   0.079208,    0.079208,     0.13481, ...,           0,           0,           0],\n",
              "       [    0.54284,     0.54284,     0.63125, ...,           0,           0,           0],\n",
              "       [    0.34783,     0.34783,     0.46191, ...,           0,           0,           0]]), 'Confidence', 'F1'], [array([          0,    0.001001,    0.002002,    0.003003,    0.004004,    0.005005,    0.006006,    0.007007,    0.008008,    0.009009,     0.01001,    0.011011,    0.012012,    0.013013,    0.014014,    0.015015,    0.016016,    0.017017,    0.018018,    0.019019,     0.02002,    0.021021,    0.022022,    0.023023,\n",
              "          0.024024,    0.025025,    0.026026,    0.027027,    0.028028,    0.029029,     0.03003,    0.031031,    0.032032,    0.033033,    0.034034,    0.035035,    0.036036,    0.037037,    0.038038,    0.039039,     0.04004,    0.041041,    0.042042,    0.043043,    0.044044,    0.045045,    0.046046,    0.047047,\n",
              "          0.048048,    0.049049,     0.05005,    0.051051,    0.052052,    0.053053,    0.054054,    0.055055,    0.056056,    0.057057,    0.058058,    0.059059,     0.06006,    0.061061,    0.062062,    0.063063,    0.064064,    0.065065,    0.066066,    0.067067,    0.068068,    0.069069,     0.07007,    0.071071,\n",
              "          0.072072,    0.073073,    0.074074,    0.075075,    0.076076,    0.077077,    0.078078,    0.079079,     0.08008,    0.081081,    0.082082,    0.083083,    0.084084,    0.085085,    0.086086,    0.087087,    0.088088,    0.089089,     0.09009,    0.091091,    0.092092,    0.093093,    0.094094,    0.095095,\n",
              "          0.096096,    0.097097,    0.098098,    0.099099,      0.1001,      0.1011,      0.1021,      0.1031,      0.1041,     0.10511,     0.10611,     0.10711,     0.10811,     0.10911,     0.11011,     0.11111,     0.11211,     0.11311,     0.11411,     0.11512,     0.11612,     0.11712,     0.11812,     0.11912,\n",
              "           0.12012,     0.12112,     0.12212,     0.12312,     0.12412,     0.12513,     0.12613,     0.12713,     0.12813,     0.12913,     0.13013,     0.13113,     0.13213,     0.13313,     0.13413,     0.13514,     0.13614,     0.13714,     0.13814,     0.13914,     0.14014,     0.14114,     0.14214,     0.14314,\n",
              "           0.14414,     0.14515,     0.14615,     0.14715,     0.14815,     0.14915,     0.15015,     0.15115,     0.15215,     0.15315,     0.15415,     0.15516,     0.15616,     0.15716,     0.15816,     0.15916,     0.16016,     0.16116,     0.16216,     0.16316,     0.16416,     0.16517,     0.16617,     0.16717,\n",
              "           0.16817,     0.16917,     0.17017,     0.17117,     0.17217,     0.17317,     0.17417,     0.17518,     0.17618,     0.17718,     0.17818,     0.17918,     0.18018,     0.18118,     0.18218,     0.18318,     0.18418,     0.18519,     0.18619,     0.18719,     0.18819,     0.18919,     0.19019,     0.19119,\n",
              "           0.19219,     0.19319,     0.19419,      0.1952,      0.1962,      0.1972,      0.1982,      0.1992,      0.2002,      0.2012,      0.2022,      0.2032,      0.2042,     0.20521,     0.20621,     0.20721,     0.20821,     0.20921,     0.21021,     0.21121,     0.21221,     0.21321,     0.21421,     0.21522,\n",
              "           0.21622,     0.21722,     0.21822,     0.21922,     0.22022,     0.22122,     0.22222,     0.22322,     0.22422,     0.22523,     0.22623,     0.22723,     0.22823,     0.22923,     0.23023,     0.23123,     0.23223,     0.23323,     0.23423,     0.23524,     0.23624,     0.23724,     0.23824,     0.23924,\n",
              "           0.24024,     0.24124,     0.24224,     0.24324,     0.24424,     0.24525,     0.24625,     0.24725,     0.24825,     0.24925,     0.25025,     0.25125,     0.25225,     0.25325,     0.25425,     0.25526,     0.25626,     0.25726,     0.25826,     0.25926,     0.26026,     0.26126,     0.26226,     0.26326,\n",
              "           0.26426,     0.26527,     0.26627,     0.26727,     0.26827,     0.26927,     0.27027,     0.27127,     0.27227,     0.27327,     0.27427,     0.27528,     0.27628,     0.27728,     0.27828,     0.27928,     0.28028,     0.28128,     0.28228,     0.28328,     0.28428,     0.28529,     0.28629,     0.28729,\n",
              "           0.28829,     0.28929,     0.29029,     0.29129,     0.29229,     0.29329,     0.29429,      0.2953,      0.2963,      0.2973,      0.2983,      0.2993,      0.3003,      0.3013,      0.3023,      0.3033,      0.3043,     0.30531,     0.30631,     0.30731,     0.30831,     0.30931,     0.31031,     0.31131,\n",
              "           0.31231,     0.31331,     0.31431,     0.31532,     0.31632,     0.31732,     0.31832,     0.31932,     0.32032,     0.32132,     0.32232,     0.32332,     0.32432,     0.32533,     0.32633,     0.32733,     0.32833,     0.32933,     0.33033,     0.33133,     0.33233,     0.33333,     0.33433,     0.33534,\n",
              "           0.33634,     0.33734,     0.33834,     0.33934,     0.34034,     0.34134,     0.34234,     0.34334,     0.34434,     0.34535,     0.34635,     0.34735,     0.34835,     0.34935,     0.35035,     0.35135,     0.35235,     0.35335,     0.35435,     0.35536,     0.35636,     0.35736,     0.35836,     0.35936,\n",
              "           0.36036,     0.36136,     0.36236,     0.36336,     0.36436,     0.36537,     0.36637,     0.36737,     0.36837,     0.36937,     0.37037,     0.37137,     0.37237,     0.37337,     0.37437,     0.37538,     0.37638,     0.37738,     0.37838,     0.37938,     0.38038,     0.38138,     0.38238,     0.38338,\n",
              "           0.38438,     0.38539,     0.38639,     0.38739,     0.38839,     0.38939,     0.39039,     0.39139,     0.39239,     0.39339,     0.39439,      0.3954,      0.3964,      0.3974,      0.3984,      0.3994,      0.4004,      0.4014,      0.4024,      0.4034,      0.4044,     0.40541,     0.40641,     0.40741,\n",
              "           0.40841,     0.40941,     0.41041,     0.41141,     0.41241,     0.41341,     0.41441,     0.41542,     0.41642,     0.41742,     0.41842,     0.41942,     0.42042,     0.42142,     0.42242,     0.42342,     0.42442,     0.42543,     0.42643,     0.42743,     0.42843,     0.42943,     0.43043,     0.43143,\n",
              "           0.43243,     0.43343,     0.43443,     0.43544,     0.43644,     0.43744,     0.43844,     0.43944,     0.44044,     0.44144,     0.44244,     0.44344,     0.44444,     0.44545,     0.44645,     0.44745,     0.44845,     0.44945,     0.45045,     0.45145,     0.45245,     0.45345,     0.45445,     0.45546,\n",
              "           0.45646,     0.45746,     0.45846,     0.45946,     0.46046,     0.46146,     0.46246,     0.46346,     0.46446,     0.46547,     0.46647,     0.46747,     0.46847,     0.46947,     0.47047,     0.47147,     0.47247,     0.47347,     0.47447,     0.47548,     0.47648,     0.47748,     0.47848,     0.47948,\n",
              "           0.48048,     0.48148,     0.48248,     0.48348,     0.48448,     0.48549,     0.48649,     0.48749,     0.48849,     0.48949,     0.49049,     0.49149,     0.49249,     0.49349,     0.49449,      0.4955,      0.4965,      0.4975,      0.4985,      0.4995,      0.5005,      0.5015,      0.5025,      0.5035,\n",
              "            0.5045,     0.50551,     0.50651,     0.50751,     0.50851,     0.50951,     0.51051,     0.51151,     0.51251,     0.51351,     0.51451,     0.51552,     0.51652,     0.51752,     0.51852,     0.51952,     0.52052,     0.52152,     0.52252,     0.52352,     0.52452,     0.52553,     0.52653,     0.52753,\n",
              "           0.52853,     0.52953,     0.53053,     0.53153,     0.53253,     0.53353,     0.53453,     0.53554,     0.53654,     0.53754,     0.53854,     0.53954,     0.54054,     0.54154,     0.54254,     0.54354,     0.54454,     0.54555,     0.54655,     0.54755,     0.54855,     0.54955,     0.55055,     0.55155,\n",
              "           0.55255,     0.55355,     0.55455,     0.55556,     0.55656,     0.55756,     0.55856,     0.55956,     0.56056,     0.56156,     0.56256,     0.56356,     0.56456,     0.56557,     0.56657,     0.56757,     0.56857,     0.56957,     0.57057,     0.57157,     0.57257,     0.57357,     0.57457,     0.57558,\n",
              "           0.57658,     0.57758,     0.57858,     0.57958,     0.58058,     0.58158,     0.58258,     0.58358,     0.58458,     0.58559,     0.58659,     0.58759,     0.58859,     0.58959,     0.59059,     0.59159,     0.59259,     0.59359,     0.59459,      0.5956,      0.5966,      0.5976,      0.5986,      0.5996,\n",
              "            0.6006,      0.6016,      0.6026,      0.6036,      0.6046,     0.60561,     0.60661,     0.60761,     0.60861,     0.60961,     0.61061,     0.61161,     0.61261,     0.61361,     0.61461,     0.61562,     0.61662,     0.61762,     0.61862,     0.61962,     0.62062,     0.62162,     0.62262,     0.62362,\n",
              "           0.62462,     0.62563,     0.62663,     0.62763,     0.62863,     0.62963,     0.63063,     0.63163,     0.63263,     0.63363,     0.63463,     0.63564,     0.63664,     0.63764,     0.63864,     0.63964,     0.64064,     0.64164,     0.64264,     0.64364,     0.64464,     0.64565,     0.64665,     0.64765,\n",
              "           0.64865,     0.64965,     0.65065,     0.65165,     0.65265,     0.65365,     0.65465,     0.65566,     0.65666,     0.65766,     0.65866,     0.65966,     0.66066,     0.66166,     0.66266,     0.66366,     0.66466,     0.66567,     0.66667,     0.66767,     0.66867,     0.66967,     0.67067,     0.67167,\n",
              "           0.67267,     0.67367,     0.67467,     0.67568,     0.67668,     0.67768,     0.67868,     0.67968,     0.68068,     0.68168,     0.68268,     0.68368,     0.68468,     0.68569,     0.68669,     0.68769,     0.68869,     0.68969,     0.69069,     0.69169,     0.69269,     0.69369,     0.69469,      0.6957,\n",
              "            0.6967,      0.6977,      0.6987,      0.6997,      0.7007,      0.7017,      0.7027,      0.7037,      0.7047,     0.70571,     0.70671,     0.70771,     0.70871,     0.70971,     0.71071,     0.71171,     0.71271,     0.71371,     0.71471,     0.71572,     0.71672,     0.71772,     0.71872,     0.71972,\n",
              "           0.72072,     0.72172,     0.72272,     0.72372,     0.72472,     0.72573,     0.72673,     0.72773,     0.72873,     0.72973,     0.73073,     0.73173,     0.73273,     0.73373,     0.73473,     0.73574,     0.73674,     0.73774,     0.73874,     0.73974,     0.74074,     0.74174,     0.74274,     0.74374,\n",
              "           0.74474,     0.74575,     0.74675,     0.74775,     0.74875,     0.74975,     0.75075,     0.75175,     0.75275,     0.75375,     0.75475,     0.75576,     0.75676,     0.75776,     0.75876,     0.75976,     0.76076,     0.76176,     0.76276,     0.76376,     0.76476,     0.76577,     0.76677,     0.76777,\n",
              "           0.76877,     0.76977,     0.77077,     0.77177,     0.77277,     0.77377,     0.77477,     0.77578,     0.77678,     0.77778,     0.77878,     0.77978,     0.78078,     0.78178,     0.78278,     0.78378,     0.78478,     0.78579,     0.78679,     0.78779,     0.78879,     0.78979,     0.79079,     0.79179,\n",
              "           0.79279,     0.79379,     0.79479,      0.7958,      0.7968,      0.7978,      0.7988,      0.7998,      0.8008,      0.8018,      0.8028,      0.8038,      0.8048,     0.80581,     0.80681,     0.80781,     0.80881,     0.80981,     0.81081,     0.81181,     0.81281,     0.81381,     0.81481,     0.81582,\n",
              "           0.81682,     0.81782,     0.81882,     0.81982,     0.82082,     0.82182,     0.82282,     0.82382,     0.82482,     0.82583,     0.82683,     0.82783,     0.82883,     0.82983,     0.83083,     0.83183,     0.83283,     0.83383,     0.83483,     0.83584,     0.83684,     0.83784,     0.83884,     0.83984,\n",
              "           0.84084,     0.84184,     0.84284,     0.84384,     0.84484,     0.84585,     0.84685,     0.84785,     0.84885,     0.84985,     0.85085,     0.85185,     0.85285,     0.85385,     0.85485,     0.85586,     0.85686,     0.85786,     0.85886,     0.85986,     0.86086,     0.86186,     0.86286,     0.86386,\n",
              "           0.86486,     0.86587,     0.86687,     0.86787,     0.86887,     0.86987,     0.87087,     0.87187,     0.87287,     0.87387,     0.87487,     0.87588,     0.87688,     0.87788,     0.87888,     0.87988,     0.88088,     0.88188,     0.88288,     0.88388,     0.88488,     0.88589,     0.88689,     0.88789,\n",
              "           0.88889,     0.88989,     0.89089,     0.89189,     0.89289,     0.89389,     0.89489,      0.8959,      0.8969,      0.8979,      0.8989,      0.8999,      0.9009,      0.9019,      0.9029,      0.9039,      0.9049,     0.90591,     0.90691,     0.90791,     0.90891,     0.90991,     0.91091,     0.91191,\n",
              "           0.91291,     0.91391,     0.91491,     0.91592,     0.91692,     0.91792,     0.91892,     0.91992,     0.92092,     0.92192,     0.92292,     0.92392,     0.92492,     0.92593,     0.92693,     0.92793,     0.92893,     0.92993,     0.93093,     0.93193,     0.93293,     0.93393,     0.93493,     0.93594,\n",
              "           0.93694,     0.93794,     0.93894,     0.93994,     0.94094,     0.94194,     0.94294,     0.94394,     0.94494,     0.94595,     0.94695,     0.94795,     0.94895,     0.94995,     0.95095,     0.95195,     0.95295,     0.95395,     0.95495,     0.95596,     0.95696,     0.95796,     0.95896,     0.95996,\n",
              "           0.96096,     0.96196,     0.96296,     0.96396,     0.96496,     0.96597,     0.96697,     0.96797,     0.96897,     0.96997,     0.97097,     0.97197,     0.97297,     0.97397,     0.97497,     0.97598,     0.97698,     0.97798,     0.97898,     0.97998,     0.98098,     0.98198,     0.98298,     0.98398,\n",
              "           0.98498,     0.98599,     0.98699,     0.98799,     0.98899,     0.98999,     0.99099,     0.99199,     0.99299,     0.99399,     0.99499,       0.996,       0.997,       0.998,       0.999,           1]), array([[   0.041522,    0.041522,     0.07316, ...,           1,           1,           1],\n",
              "       [    0.37292,     0.37292,     0.46238, ...,           1,           1,           1],\n",
              "       [    0.21053,     0.21053,     0.30514, ...,           1,           1,           1]]), 'Confidence', 'Precision'], [array([          0,    0.001001,    0.002002,    0.003003,    0.004004,    0.005005,    0.006006,    0.007007,    0.008008,    0.009009,     0.01001,    0.011011,    0.012012,    0.013013,    0.014014,    0.015015,    0.016016,    0.017017,    0.018018,    0.019019,     0.02002,    0.021021,    0.022022,    0.023023,\n",
              "          0.024024,    0.025025,    0.026026,    0.027027,    0.028028,    0.029029,     0.03003,    0.031031,    0.032032,    0.033033,    0.034034,    0.035035,    0.036036,    0.037037,    0.038038,    0.039039,     0.04004,    0.041041,    0.042042,    0.043043,    0.044044,    0.045045,    0.046046,    0.047047,\n",
              "          0.048048,    0.049049,     0.05005,    0.051051,    0.052052,    0.053053,    0.054054,    0.055055,    0.056056,    0.057057,    0.058058,    0.059059,     0.06006,    0.061061,    0.062062,    0.063063,    0.064064,    0.065065,    0.066066,    0.067067,    0.068068,    0.069069,     0.07007,    0.071071,\n",
              "          0.072072,    0.073073,    0.074074,    0.075075,    0.076076,    0.077077,    0.078078,    0.079079,     0.08008,    0.081081,    0.082082,    0.083083,    0.084084,    0.085085,    0.086086,    0.087087,    0.088088,    0.089089,     0.09009,    0.091091,    0.092092,    0.093093,    0.094094,    0.095095,\n",
              "          0.096096,    0.097097,    0.098098,    0.099099,      0.1001,      0.1011,      0.1021,      0.1031,      0.1041,     0.10511,     0.10611,     0.10711,     0.10811,     0.10911,     0.11011,     0.11111,     0.11211,     0.11311,     0.11411,     0.11512,     0.11612,     0.11712,     0.11812,     0.11912,\n",
              "           0.12012,     0.12112,     0.12212,     0.12312,     0.12412,     0.12513,     0.12613,     0.12713,     0.12813,     0.12913,     0.13013,     0.13113,     0.13213,     0.13313,     0.13413,     0.13514,     0.13614,     0.13714,     0.13814,     0.13914,     0.14014,     0.14114,     0.14214,     0.14314,\n",
              "           0.14414,     0.14515,     0.14615,     0.14715,     0.14815,     0.14915,     0.15015,     0.15115,     0.15215,     0.15315,     0.15415,     0.15516,     0.15616,     0.15716,     0.15816,     0.15916,     0.16016,     0.16116,     0.16216,     0.16316,     0.16416,     0.16517,     0.16617,     0.16717,\n",
              "           0.16817,     0.16917,     0.17017,     0.17117,     0.17217,     0.17317,     0.17417,     0.17518,     0.17618,     0.17718,     0.17818,     0.17918,     0.18018,     0.18118,     0.18218,     0.18318,     0.18418,     0.18519,     0.18619,     0.18719,     0.18819,     0.18919,     0.19019,     0.19119,\n",
              "           0.19219,     0.19319,     0.19419,      0.1952,      0.1962,      0.1972,      0.1982,      0.1992,      0.2002,      0.2012,      0.2022,      0.2032,      0.2042,     0.20521,     0.20621,     0.20721,     0.20821,     0.20921,     0.21021,     0.21121,     0.21221,     0.21321,     0.21421,     0.21522,\n",
              "           0.21622,     0.21722,     0.21822,     0.21922,     0.22022,     0.22122,     0.22222,     0.22322,     0.22422,     0.22523,     0.22623,     0.22723,     0.22823,     0.22923,     0.23023,     0.23123,     0.23223,     0.23323,     0.23423,     0.23524,     0.23624,     0.23724,     0.23824,     0.23924,\n",
              "           0.24024,     0.24124,     0.24224,     0.24324,     0.24424,     0.24525,     0.24625,     0.24725,     0.24825,     0.24925,     0.25025,     0.25125,     0.25225,     0.25325,     0.25425,     0.25526,     0.25626,     0.25726,     0.25826,     0.25926,     0.26026,     0.26126,     0.26226,     0.26326,\n",
              "           0.26426,     0.26527,     0.26627,     0.26727,     0.26827,     0.26927,     0.27027,     0.27127,     0.27227,     0.27327,     0.27427,     0.27528,     0.27628,     0.27728,     0.27828,     0.27928,     0.28028,     0.28128,     0.28228,     0.28328,     0.28428,     0.28529,     0.28629,     0.28729,\n",
              "           0.28829,     0.28929,     0.29029,     0.29129,     0.29229,     0.29329,     0.29429,      0.2953,      0.2963,      0.2973,      0.2983,      0.2993,      0.3003,      0.3013,      0.3023,      0.3033,      0.3043,     0.30531,     0.30631,     0.30731,     0.30831,     0.30931,     0.31031,     0.31131,\n",
              "           0.31231,     0.31331,     0.31431,     0.31532,     0.31632,     0.31732,     0.31832,     0.31932,     0.32032,     0.32132,     0.32232,     0.32332,     0.32432,     0.32533,     0.32633,     0.32733,     0.32833,     0.32933,     0.33033,     0.33133,     0.33233,     0.33333,     0.33433,     0.33534,\n",
              "           0.33634,     0.33734,     0.33834,     0.33934,     0.34034,     0.34134,     0.34234,     0.34334,     0.34434,     0.34535,     0.34635,     0.34735,     0.34835,     0.34935,     0.35035,     0.35135,     0.35235,     0.35335,     0.35435,     0.35536,     0.35636,     0.35736,     0.35836,     0.35936,\n",
              "           0.36036,     0.36136,     0.36236,     0.36336,     0.36436,     0.36537,     0.36637,     0.36737,     0.36837,     0.36937,     0.37037,     0.37137,     0.37237,     0.37337,     0.37437,     0.37538,     0.37638,     0.37738,     0.37838,     0.37938,     0.38038,     0.38138,     0.38238,     0.38338,\n",
              "           0.38438,     0.38539,     0.38639,     0.38739,     0.38839,     0.38939,     0.39039,     0.39139,     0.39239,     0.39339,     0.39439,      0.3954,      0.3964,      0.3974,      0.3984,      0.3994,      0.4004,      0.4014,      0.4024,      0.4034,      0.4044,     0.40541,     0.40641,     0.40741,\n",
              "           0.40841,     0.40941,     0.41041,     0.41141,     0.41241,     0.41341,     0.41441,     0.41542,     0.41642,     0.41742,     0.41842,     0.41942,     0.42042,     0.42142,     0.42242,     0.42342,     0.42442,     0.42543,     0.42643,     0.42743,     0.42843,     0.42943,     0.43043,     0.43143,\n",
              "           0.43243,     0.43343,     0.43443,     0.43544,     0.43644,     0.43744,     0.43844,     0.43944,     0.44044,     0.44144,     0.44244,     0.44344,     0.44444,     0.44545,     0.44645,     0.44745,     0.44845,     0.44945,     0.45045,     0.45145,     0.45245,     0.45345,     0.45445,     0.45546,\n",
              "           0.45646,     0.45746,     0.45846,     0.45946,     0.46046,     0.46146,     0.46246,     0.46346,     0.46446,     0.46547,     0.46647,     0.46747,     0.46847,     0.46947,     0.47047,     0.47147,     0.47247,     0.47347,     0.47447,     0.47548,     0.47648,     0.47748,     0.47848,     0.47948,\n",
              "           0.48048,     0.48148,     0.48248,     0.48348,     0.48448,     0.48549,     0.48649,     0.48749,     0.48849,     0.48949,     0.49049,     0.49149,     0.49249,     0.49349,     0.49449,      0.4955,      0.4965,      0.4975,      0.4985,      0.4995,      0.5005,      0.5015,      0.5025,      0.5035,\n",
              "            0.5045,     0.50551,     0.50651,     0.50751,     0.50851,     0.50951,     0.51051,     0.51151,     0.51251,     0.51351,     0.51451,     0.51552,     0.51652,     0.51752,     0.51852,     0.51952,     0.52052,     0.52152,     0.52252,     0.52352,     0.52452,     0.52553,     0.52653,     0.52753,\n",
              "           0.52853,     0.52953,     0.53053,     0.53153,     0.53253,     0.53353,     0.53453,     0.53554,     0.53654,     0.53754,     0.53854,     0.53954,     0.54054,     0.54154,     0.54254,     0.54354,     0.54454,     0.54555,     0.54655,     0.54755,     0.54855,     0.54955,     0.55055,     0.55155,\n",
              "           0.55255,     0.55355,     0.55455,     0.55556,     0.55656,     0.55756,     0.55856,     0.55956,     0.56056,     0.56156,     0.56256,     0.56356,     0.56456,     0.56557,     0.56657,     0.56757,     0.56857,     0.56957,     0.57057,     0.57157,     0.57257,     0.57357,     0.57457,     0.57558,\n",
              "           0.57658,     0.57758,     0.57858,     0.57958,     0.58058,     0.58158,     0.58258,     0.58358,     0.58458,     0.58559,     0.58659,     0.58759,     0.58859,     0.58959,     0.59059,     0.59159,     0.59259,     0.59359,     0.59459,      0.5956,      0.5966,      0.5976,      0.5986,      0.5996,\n",
              "            0.6006,      0.6016,      0.6026,      0.6036,      0.6046,     0.60561,     0.60661,     0.60761,     0.60861,     0.60961,     0.61061,     0.61161,     0.61261,     0.61361,     0.61461,     0.61562,     0.61662,     0.61762,     0.61862,     0.61962,     0.62062,     0.62162,     0.62262,     0.62362,\n",
              "           0.62462,     0.62563,     0.62663,     0.62763,     0.62863,     0.62963,     0.63063,     0.63163,     0.63263,     0.63363,     0.63463,     0.63564,     0.63664,     0.63764,     0.63864,     0.63964,     0.64064,     0.64164,     0.64264,     0.64364,     0.64464,     0.64565,     0.64665,     0.64765,\n",
              "           0.64865,     0.64965,     0.65065,     0.65165,     0.65265,     0.65365,     0.65465,     0.65566,     0.65666,     0.65766,     0.65866,     0.65966,     0.66066,     0.66166,     0.66266,     0.66366,     0.66466,     0.66567,     0.66667,     0.66767,     0.66867,     0.66967,     0.67067,     0.67167,\n",
              "           0.67267,     0.67367,     0.67467,     0.67568,     0.67668,     0.67768,     0.67868,     0.67968,     0.68068,     0.68168,     0.68268,     0.68368,     0.68468,     0.68569,     0.68669,     0.68769,     0.68869,     0.68969,     0.69069,     0.69169,     0.69269,     0.69369,     0.69469,      0.6957,\n",
              "            0.6967,      0.6977,      0.6987,      0.6997,      0.7007,      0.7017,      0.7027,      0.7037,      0.7047,     0.70571,     0.70671,     0.70771,     0.70871,     0.70971,     0.71071,     0.71171,     0.71271,     0.71371,     0.71471,     0.71572,     0.71672,     0.71772,     0.71872,     0.71972,\n",
              "           0.72072,     0.72172,     0.72272,     0.72372,     0.72472,     0.72573,     0.72673,     0.72773,     0.72873,     0.72973,     0.73073,     0.73173,     0.73273,     0.73373,     0.73473,     0.73574,     0.73674,     0.73774,     0.73874,     0.73974,     0.74074,     0.74174,     0.74274,     0.74374,\n",
              "           0.74474,     0.74575,     0.74675,     0.74775,     0.74875,     0.74975,     0.75075,     0.75175,     0.75275,     0.75375,     0.75475,     0.75576,     0.75676,     0.75776,     0.75876,     0.75976,     0.76076,     0.76176,     0.76276,     0.76376,     0.76476,     0.76577,     0.76677,     0.76777,\n",
              "           0.76877,     0.76977,     0.77077,     0.77177,     0.77277,     0.77377,     0.77477,     0.77578,     0.77678,     0.77778,     0.77878,     0.77978,     0.78078,     0.78178,     0.78278,     0.78378,     0.78478,     0.78579,     0.78679,     0.78779,     0.78879,     0.78979,     0.79079,     0.79179,\n",
              "           0.79279,     0.79379,     0.79479,      0.7958,      0.7968,      0.7978,      0.7988,      0.7998,      0.8008,      0.8018,      0.8028,      0.8038,      0.8048,     0.80581,     0.80681,     0.80781,     0.80881,     0.80981,     0.81081,     0.81181,     0.81281,     0.81381,     0.81481,     0.81582,\n",
              "           0.81682,     0.81782,     0.81882,     0.81982,     0.82082,     0.82182,     0.82282,     0.82382,     0.82482,     0.82583,     0.82683,     0.82783,     0.82883,     0.82983,     0.83083,     0.83183,     0.83283,     0.83383,     0.83483,     0.83584,     0.83684,     0.83784,     0.83884,     0.83984,\n",
              "           0.84084,     0.84184,     0.84284,     0.84384,     0.84484,     0.84585,     0.84685,     0.84785,     0.84885,     0.84985,     0.85085,     0.85185,     0.85285,     0.85385,     0.85485,     0.85586,     0.85686,     0.85786,     0.85886,     0.85986,     0.86086,     0.86186,     0.86286,     0.86386,\n",
              "           0.86486,     0.86587,     0.86687,     0.86787,     0.86887,     0.86987,     0.87087,     0.87187,     0.87287,     0.87387,     0.87487,     0.87588,     0.87688,     0.87788,     0.87888,     0.87988,     0.88088,     0.88188,     0.88288,     0.88388,     0.88488,     0.88589,     0.88689,     0.88789,\n",
              "           0.88889,     0.88989,     0.89089,     0.89189,     0.89289,     0.89389,     0.89489,      0.8959,      0.8969,      0.8979,      0.8989,      0.8999,      0.9009,      0.9019,      0.9029,      0.9039,      0.9049,     0.90591,     0.90691,     0.90791,     0.90891,     0.90991,     0.91091,     0.91191,\n",
              "           0.91291,     0.91391,     0.91491,     0.91592,     0.91692,     0.91792,     0.91892,     0.91992,     0.92092,     0.92192,     0.92292,     0.92392,     0.92492,     0.92593,     0.92693,     0.92793,     0.92893,     0.92993,     0.93093,     0.93193,     0.93293,     0.93393,     0.93493,     0.93594,\n",
              "           0.93694,     0.93794,     0.93894,     0.93994,     0.94094,     0.94194,     0.94294,     0.94394,     0.94494,     0.94595,     0.94695,     0.94795,     0.94895,     0.94995,     0.95095,     0.95195,     0.95295,     0.95395,     0.95495,     0.95596,     0.95696,     0.95796,     0.95896,     0.95996,\n",
              "           0.96096,     0.96196,     0.96296,     0.96396,     0.96496,     0.96597,     0.96697,     0.96797,     0.96897,     0.96997,     0.97097,     0.97197,     0.97297,     0.97397,     0.97497,     0.97598,     0.97698,     0.97798,     0.97898,     0.97998,     0.98098,     0.98198,     0.98298,     0.98398,\n",
              "           0.98498,     0.98599,     0.98699,     0.98799,     0.98899,     0.98999,     0.99099,     0.99199,     0.99299,     0.99399,     0.99499,       0.996,       0.997,       0.998,       0.999,           1]), array([[    0.85714,     0.85714,     0.85714, ...,           0,           0,           0],\n",
              "       [    0.99721,     0.99721,     0.99443, ...,           0,           0,           0],\n",
              "       [          1,           1,        0.95, ...,           0,           0,           0]]), 'Confidence', 'Recall']]\n",
              "fitness: np.float64(0.6086810886252959)\n",
              "keys: ['metrics/precision(B)', 'metrics/recall(B)', 'metrics/mAP50(B)', 'metrics/mAP50-95(B)']\n",
              "maps: array([    0.33724,     0.69227,       0.692])\n",
              "names: {0: 'football', 1: 'player', 2: 'referee'}\n",
              "plot: True\n",
              "results_dict: {'metrics/precision(B)': np.float64(0.9604925606612543), 'metrics/recall(B)': np.float64(0.8793660678647903), 'metrics/mAP50(B)': np.float64(0.9222936888635388), 'metrics/mAP50-95(B)': np.float64(0.5738352441543799), 'fitness': np.float64(0.6086810886252959)}\n",
              "save_dir: PosixPath('runs/detect/train5')\n",
              "speed: {'preprocess': 0.15945118183012574, 'inference': 8.968294393939274, 'loss': 0.00021899998528445423, 'postprocess': 0.9362053030296617}\n",
              "task: 'detect'"
            ]
          },
          "execution_count": 22,
          "metadata": {},
          "output_type": "execute_result"
        }
      ],
      "source": [
        "model.train(\n",
        "    data='/content/data.yaml',\n",
        "    epochs=50,\n",
        "    batch=32,\n",
        "    imgsz=720,\n",
        "    lr0=0.001,\n",
        "    augment=True,\n",
        "    auto_augment='randaugment',\n",
        "    mosaic=1.0,\n",
        "    copy_paste=0.5,\n",
        "    cutmix=0.3,\n",
        "    erasing=0.4,\n",
        "    patience=10,\n",
        "    save=True,\n",
        "    optimizer='AdamW'\n",
        ")\n"
      ]
    },
    {
      "cell_type": "code",
      "execution_count": 24,
      "metadata": {
        "colab": {
          "base_uri": "https://localhost:8080/"
        },
        "id": "u1ctDwDo4wzC",
        "outputId": "012fcc6b-1b01-4082-9b00-a0bf1740d7e6"
      },
      "outputs": [
        {
          "name": "stdout",
          "output_type": "stream",
          "text": [
            "\n",
            "image 1/1 /content/istockphoto-647672134-612x612.jpg: 512x736 1 football, 15 players, 1 referee, 19.7ms\n",
            "Speed: 4.7ms preprocess, 19.7ms inference, 3.7ms postprocess per image at shape (1, 3, 512, 736)\n",
            "Results saved to \u001b[1mruns/detect/predict10\u001b[0m\n",
            "ultralytics.engine.results.Boxes object with attributes:\n",
            "\n",
            "cls: tensor([1., 1., 1., 1., 1., 2., 1., 1., 1., 1., 1., 1., 1., 1., 0., 1., 1.], device='cuda:0')\n",
            "conf: tensor([0.8604, 0.7856, 0.7553, 0.7048, 0.6788, 0.6486, 0.5781, 0.5624, 0.5593, 0.5551, 0.5549, 0.4282, 0.4050, 0.4033, 0.3206, 0.3065, 0.2799], device='cuda:0')\n",
            "data: tensor([[1.3665e+02, 7.8925e+01, 1.6836e+02, 1.3546e+02, 8.6037e-01, 1.0000e+00],\n",
            "        [5.3166e+01, 5.5697e+01, 8.0227e+01, 1.1061e+02, 7.8563e-01, 1.0000e+00],\n",
            "        [5.4704e+01, 0.0000e+00, 7.8640e+01, 4.6369e+01, 7.5530e-01, 1.0000e+00],\n",
            "        [4.1736e+02, 5.1199e+01, 4.3915e+02, 8.9054e+01, 7.0475e-01, 1.0000e+00],\n",
            "        [0.0000e+00, 1.2147e+02, 1.2613e+01, 1.8298e+02, 6.7884e-01, 1.0000e+00],\n",
            "        [8.6644e+01, 4.5782e+01, 1.1642e+02, 1.0092e+02, 6.4862e-01, 2.0000e+00],\n",
            "        [2.4687e+02, 4.8564e+01, 2.6932e+02, 1.0352e+02, 5.7813e-01, 1.0000e+00],\n",
            "        [4.4780e+02, 3.6291e+01, 4.7129e+02, 8.9751e+01, 5.6237e-01, 1.0000e+00],\n",
            "        [4.3859e+02, 9.1009e+01, 4.7028e+02, 1.4904e+02, 5.5928e-01, 1.0000e+00],\n",
            "        [3.1187e+02, 3.5817e+01, 3.5202e+02, 8.4441e+01, 5.5514e-01, 1.0000e+00],\n",
            "        [1.6742e+02, 6.3655e+01, 2.0536e+02, 1.1984e+02, 5.5487e-01, 1.0000e+00],\n",
            "        [2.7386e+02, 1.3030e+01, 3.0455e+02, 5.9667e+01, 4.2816e-01, 1.0000e+00],\n",
            "        [3.1020e+02, 2.9287e+02, 3.5441e+02, 3.6263e+02, 4.0501e-01, 1.0000e+00],\n",
            "        [1.9042e+02, 1.4140e+02, 2.3953e+02, 2.2021e+02, 4.0332e-01, 1.0000e+00],\n",
            "        [3.5240e+02, 3.5145e+02, 3.7222e+02, 3.7557e+02, 3.2064e-01, 0.0000e+00],\n",
            "        [4.5152e+02, 9.2393e+01, 4.7336e+02, 1.5129e+02, 3.0652e-01, 1.0000e+00],\n",
            "        [4.3087e+02, 5.3637e+01, 4.5174e+02, 1.0481e+02, 2.7990e-01, 1.0000e+00]], device='cuda:0')\n",
            "id: None\n",
            "is_track: False\n",
            "orig_shape: (408, 612)\n",
            "shape: torch.Size([17, 6])\n",
            "xywh: tensor([[152.5042, 107.1919,  31.7038,  56.5337],\n",
            "        [ 66.6963,  83.1535,  27.0607,  54.9139],\n",
            "        [ 66.6719,  23.1844,  23.9356,  46.3688],\n",
            "        [428.2533,  70.1264,  21.7918,  37.8551],\n",
            "        [  6.3067, 152.2201,  12.6134,  61.5099],\n",
            "        [101.5341,  73.3505,  29.7804,  55.1365],\n",
            "        [258.0923,  76.0431,  22.4517,  54.9584],\n",
            "        [459.5461,  63.0212,  23.4958,  53.4601],\n",
            "        [454.4381, 120.0222,  31.6914,  58.0273],\n",
            "        [331.9489,  60.1286,  40.1489,  48.6239],\n",
            "        [186.3901,  91.7496,  37.9380,  56.1885],\n",
            "        [289.2018,  36.3485,  30.6920,  46.6373],\n",
            "        [332.3067, 327.7499,  44.2051,  69.7659],\n",
            "        [214.9785, 180.8043,  49.1083,  78.8169],\n",
            "        [362.3099, 363.5119,  19.8152,  24.1219],\n",
            "        [462.4375, 121.8394,  21.8402,  58.8932],\n",
            "        [441.3070,  79.2253,  20.8697,  51.1767]], device='cuda:0')\n",
            "xywhn: tensor([[0.2492, 0.2627, 0.0518, 0.1386],\n",
            "        [0.1090, 0.2038, 0.0442, 0.1346],\n",
            "        [0.1089, 0.0568, 0.0391, 0.1136],\n",
            "        [0.6998, 0.1719, 0.0356, 0.0928],\n",
            "        [0.0103, 0.3731, 0.0206, 0.1508],\n",
            "        [0.1659, 0.1798, 0.0487, 0.1351],\n",
            "        [0.4217, 0.1864, 0.0367, 0.1347],\n",
            "        [0.7509, 0.1545, 0.0384, 0.1310],\n",
            "        [0.7425, 0.2942, 0.0518, 0.1422],\n",
            "        [0.5424, 0.1474, 0.0656, 0.1192],\n",
            "        [0.3046, 0.2249, 0.0620, 0.1377],\n",
            "        [0.4726, 0.0891, 0.0502, 0.1143],\n",
            "        [0.5430, 0.8033, 0.0722, 0.1710],\n",
            "        [0.3513, 0.4431, 0.0802, 0.1932],\n",
            "        [0.5920, 0.8910, 0.0324, 0.0591],\n",
            "        [0.7556, 0.2986, 0.0357, 0.1443],\n",
            "        [0.7211, 0.1942, 0.0341, 0.1254]], device='cuda:0')\n",
            "xyxy: tensor([[136.6523,  78.9251, 168.3561, 135.4587],\n",
            "        [ 53.1659,  55.6965,  80.2266, 110.6105],\n",
            "        [ 54.7041,   0.0000,  78.6397,  46.3688],\n",
            "        [417.3574,  51.1989, 439.1492,  89.0540],\n",
            "        [  0.0000, 121.4651,  12.6134, 182.9750],\n",
            "        [ 86.6439,  45.7822, 116.4243, 100.9187],\n",
            "        [246.8664,  48.5639, 269.3181, 103.5223],\n",
            "        [447.7983,  36.2912, 471.2940,  89.7513],\n",
            "        [438.5924,  91.0086, 470.2838, 149.0359],\n",
            "        [311.8744,  35.8167, 352.0233,  84.4406],\n",
            "        [167.4211,  63.6554, 205.3591, 119.8439],\n",
            "        [273.8558,  13.0299, 304.5479,  59.6672],\n",
            "        [310.2041, 292.8669, 354.4093, 362.6328],\n",
            "        [190.4244, 141.3958, 239.5327, 220.2127],\n",
            "        [352.4023, 351.4509, 372.2176, 375.5729],\n",
            "        [451.5174,  92.3928, 473.3576, 151.2860],\n",
            "        [430.8722,  53.6369, 451.7418, 104.8136]], device='cuda:0')\n",
            "xyxyn: tensor([[0.2233, 0.1934, 0.2751, 0.3320],\n",
            "        [0.0869, 0.1365, 0.1311, 0.2711],\n",
            "        [0.0894, 0.0000, 0.1285, 0.1136],\n",
            "        [0.6820, 0.1255, 0.7176, 0.2183],\n",
            "        [0.0000, 0.2977, 0.0206, 0.4485],\n",
            "        [0.1416, 0.1122, 0.1902, 0.2473],\n",
            "        [0.4034, 0.1190, 0.4401, 0.2537],\n",
            "        [0.7317, 0.0889, 0.7701, 0.2200],\n",
            "        [0.7167, 0.2231, 0.7684, 0.3653],\n",
            "        [0.5096, 0.0878, 0.5752, 0.2070],\n",
            "        [0.2736, 0.1560, 0.3356, 0.2937],\n",
            "        [0.4475, 0.0319, 0.4976, 0.1462],\n",
            "        [0.5069, 0.7178, 0.5791, 0.8888],\n",
            "        [0.3112, 0.3466, 0.3914, 0.5397],\n",
            "        [0.5758, 0.8614, 0.6082, 0.9205],\n",
            "        [0.7378, 0.2265, 0.7735, 0.3708],\n",
            "        [0.7040, 0.1315, 0.7381, 0.2569]], device='cuda:0')\n"
          ]
        }
      ],
      "source": [
        "from ultralytics import YOLO\n",
        "# 1️⃣best.pt 모델 로드\n",
        "model = YOLO('runs/detect/train42/weights/best.pt') # 경로를 본인의 best.pt로 수정!\n",
        "# 2️⃣예측할 이미지 경로\n",
        "image_path = '/content/download.jpg' # 예측할 이미지 경로\n",
        "image_path = '/content/istockphoto-647672134-612x612.jpg' # 예측할 이미지 경로\n",
        "# 3️⃣예측 수행\n",
        "results = model.predict(\n",
        " source=image_path, # 이미지 파일 경로 (또는 폴더 경로, 비디오 경로, 0: 웹캠)\n",
        " save=True, # 예측 결과 이미지 저장\n",
        "show=True, # 팝업 창에 결과 출력\n",
        "conf=0.25, # 탐지 신뢰도 threshold\n",
        " device=0 # GPU: 0 / CPU: 'cpu'\n",
        ")\n",
        "# 4️⃣결과 확인\n",
        "for result in results:\n",
        " print(result.boxes) # 감지된 객체의 경계 상자 정보"
      ]
    }
  ],
  "metadata": {
    "accelerator": "GPU",
    "colab": {
      "gpuType": "T4",
      "provenance": []
    },
    "kernelspec": {
      "display_name": "torchpip",
      "language": "python",
      "name": "python3"
    },
    "language_info": {
      "name": "python",
      "version": "3.10.17"
    }
  },
  "nbformat": 4,
  "nbformat_minor": 0
}
